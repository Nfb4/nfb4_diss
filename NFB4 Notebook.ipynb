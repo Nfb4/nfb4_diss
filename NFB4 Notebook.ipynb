{
 "cells": [
  {
   "cell_type": "markdown",
   "id": "56c55e79",
   "metadata": {},
   "source": [
    "# Caltech EV Charging data Energy Demand Predictions"
   ]
  },
  {
   "cell_type": "code",
   "execution_count": 2,
   "id": "035338b0",
   "metadata": {},
   "outputs": [],
   "source": [
    "# import necessary librarires\n",
    "import numpy\n",
    "import pandas as pd\n",
    "import json\n",
    "import datetime\n",
    "import matplotlib as mpl\n",
    "import matplotlib.pyplot as plt\n",
    "import sklearn\n",
    "from sklearn.preprocessing import StandardScaler\n",
    "from pandas import read_csv\n",
    "from keras.models import Sequential\n",
    "from keras.layers import Dense\n",
    "from keras.wrappers.scikit_learn import KerasRegressor\n",
    "from keras.layers import Conv1D, Dropout, MaxPooling1D, Flatten\n",
    "from sklearn.model_selection import cross_val_score\n",
    "from sklearn.model_selection import KFold\n",
    "from sklearn.pipeline import Pipeline\n",
    "from sklearn.model_selection import train_test_split\n",
    "from sklearn import linear_model\n",
    "from sklearn.tree import DecisionTreeRegressor\n",
    "from sklearn.metrics import mean_squared_error, mean_absolute_error\n",
    "from sklearn.ensemble import RandomForestRegressor"
   ]
  },
  {
   "cell_type": "code",
   "execution_count": 3,
   "id": "1bcdd4a2",
   "metadata": {},
   "outputs": [],
   "source": [
    "# load date file\n",
    "file_path = './acndata_sessions.json'\n",
    "\n",
    "with open(file_path, \"r\") as read_file:\n",
    "    data = json.load(read_file)"
   ]
  },
  {
   "cell_type": "code",
   "execution_count": 4,
   "id": "8685b716",
   "metadata": {},
   "outputs": [],
   "source": [
    "# function used to convert fields to numerics in order that the models may be ran\n",
    "# Also handles null values by filling them in as the value 0\n",
    "def singleNumeric(data):\n",
    "    data = data.apply(pd.to_numeric, errors='coerce')\n",
    "    data.fillna(0, inplace=True)\n",
    "    return data"
   ]
  },
  {
   "cell_type": "code",
   "execution_count": 5,
   "id": "52987a5e",
   "metadata": {},
   "outputs": [],
   "source": [
    "# Scalar function used to scale the values in the dataframes\n",
    "# This improves the accuracy of the models by standardising the values\n",
    "scaler=StandardScaler()\n",
    "\n",
    "def scaleData(data):\n",
    "    scaler.fit(data)\n",
    "    return scaler.transform(data)"
   ]
  },
  {
   "cell_type": "code",
   "execution_count": 6,
   "id": "3700cc3e",
   "metadata": {},
   "outputs": [],
   "source": [
    "# Turns the loaded datafile into a pandas dataframe\n",
    "df = pd.DataFrame(data['_items'])"
   ]
  },
  {
   "cell_type": "markdown",
   "id": "72587e60",
   "metadata": {},
   "source": [
    "Convert time related columns to datetime\n",
    "\n",
    "Extract year, month, calendar week, day and day of week from the connectionTime as these individual pieces of time info are valuable."
   ]
  },
  {
   "cell_type": "code",
   "execution_count": 7,
   "id": "f3461dcc",
   "metadata": {},
   "outputs": [
    {
     "data": {
      "text/html": [
       "<div>\n",
       "<style scoped>\n",
       "    .dataframe tbody tr th:only-of-type {\n",
       "        vertical-align: middle;\n",
       "    }\n",
       "\n",
       "    .dataframe tbody tr th {\n",
       "        vertical-align: top;\n",
       "    }\n",
       "\n",
       "    .dataframe thead th {\n",
       "        text-align: right;\n",
       "    }\n",
       "</style>\n",
       "<table border=\"1\" class=\"dataframe\">\n",
       "  <thead>\n",
       "    <tr style=\"text-align: right;\">\n",
       "      <th></th>\n",
       "      <th>_id</th>\n",
       "      <th>clusterID</th>\n",
       "      <th>connectionTime</th>\n",
       "      <th>disconnectTime</th>\n",
       "      <th>doneChargingTime</th>\n",
       "      <th>kWhDelivered</th>\n",
       "      <th>sessionID</th>\n",
       "      <th>siteID</th>\n",
       "      <th>spaceID</th>\n",
       "      <th>stationID</th>\n",
       "      <th>timezone</th>\n",
       "      <th>userID</th>\n",
       "      <th>userInputs</th>\n",
       "    </tr>\n",
       "  </thead>\n",
       "  <tbody>\n",
       "    <tr>\n",
       "      <th>0</th>\n",
       "      <td>5bc90cb9f9af8b0d7fe77cd2</td>\n",
       "      <td>0039</td>\n",
       "      <td>Wed, 25 Apr 2018 11:08:04 GMT</td>\n",
       "      <td>Wed, 25 Apr 2018 13:20:10 GMT</td>\n",
       "      <td>Wed, 25 Apr 2018 13:21:10 GMT</td>\n",
       "      <td>7.932</td>\n",
       "      <td>2_39_78_362_2018-04-25 11:08:04.400812</td>\n",
       "      <td>0002</td>\n",
       "      <td>CA-496</td>\n",
       "      <td>2-39-78-362</td>\n",
       "      <td>America/Los_Angeles</td>\n",
       "      <td>None</td>\n",
       "      <td>None</td>\n",
       "    </tr>\n",
       "    <tr>\n",
       "      <th>1</th>\n",
       "      <td>5bc90cb9f9af8b0d7fe77cd3</td>\n",
       "      <td>0039</td>\n",
       "      <td>Wed, 25 Apr 2018 13:45:10 GMT</td>\n",
       "      <td>Thu, 26 Apr 2018 00:56:16 GMT</td>\n",
       "      <td>Wed, 25 Apr 2018 16:44:15 GMT</td>\n",
       "      <td>10.013</td>\n",
       "      <td>2_39_95_27_2018-04-25 13:45:09.617470</td>\n",
       "      <td>0002</td>\n",
       "      <td>CA-319</td>\n",
       "      <td>2-39-95-27</td>\n",
       "      <td>America/Los_Angeles</td>\n",
       "      <td>None</td>\n",
       "      <td>None</td>\n",
       "    </tr>\n",
       "    <tr>\n",
       "      <th>2</th>\n",
       "      <td>5bc90cb9f9af8b0d7fe77cd4</td>\n",
       "      <td>0039</td>\n",
       "      <td>Wed, 25 Apr 2018 13:45:50 GMT</td>\n",
       "      <td>Wed, 25 Apr 2018 23:04:45 GMT</td>\n",
       "      <td>Wed, 25 Apr 2018 14:51:44 GMT</td>\n",
       "      <td>5.257</td>\n",
       "      <td>2_39_79_380_2018-04-25 13:45:49.962001</td>\n",
       "      <td>0002</td>\n",
       "      <td>CA-489</td>\n",
       "      <td>2-39-79-380</td>\n",
       "      <td>America/Los_Angeles</td>\n",
       "      <td>None</td>\n",
       "      <td>None</td>\n",
       "    </tr>\n",
       "    <tr>\n",
       "      <th>3</th>\n",
       "      <td>5bc90cb9f9af8b0d7fe77cd5</td>\n",
       "      <td>0039</td>\n",
       "      <td>Wed, 25 Apr 2018 14:37:06 GMT</td>\n",
       "      <td>Wed, 25 Apr 2018 23:55:34 GMT</td>\n",
       "      <td>Wed, 25 Apr 2018 16:05:22 GMT</td>\n",
       "      <td>5.177</td>\n",
       "      <td>2_39_79_379_2018-04-25 14:37:06.460772</td>\n",
       "      <td>0002</td>\n",
       "      <td>CA-327</td>\n",
       "      <td>2-39-79-379</td>\n",
       "      <td>America/Los_Angeles</td>\n",
       "      <td>None</td>\n",
       "      <td>None</td>\n",
       "    </tr>\n",
       "    <tr>\n",
       "      <th>4</th>\n",
       "      <td>5bc90cb9f9af8b0d7fe77cd6</td>\n",
       "      <td>0039</td>\n",
       "      <td>Wed, 25 Apr 2018 14:40:34 GMT</td>\n",
       "      <td>Wed, 25 Apr 2018 23:03:12 GMT</td>\n",
       "      <td>Wed, 25 Apr 2018 17:40:30 GMT</td>\n",
       "      <td>10.119</td>\n",
       "      <td>2_39_79_381_2018-04-25 14:40:33.638896</td>\n",
       "      <td>0002</td>\n",
       "      <td>CA-490</td>\n",
       "      <td>2-39-79-381</td>\n",
       "      <td>America/Los_Angeles</td>\n",
       "      <td>None</td>\n",
       "      <td>None</td>\n",
       "    </tr>\n",
       "    <tr>\n",
       "      <th>...</th>\n",
       "      <td>...</td>\n",
       "      <td>...</td>\n",
       "      <td>...</td>\n",
       "      <td>...</td>\n",
       "      <td>...</td>\n",
       "      <td>...</td>\n",
       "      <td>...</td>\n",
       "      <td>...</td>\n",
       "      <td>...</td>\n",
       "      <td>...</td>\n",
       "      <td>...</td>\n",
       "      <td>...</td>\n",
       "      <td>...</td>\n",
       "    </tr>\n",
       "    <tr>\n",
       "      <th>31419</th>\n",
       "      <td>61550519f9af8b76960e169a</td>\n",
       "      <td>0039</td>\n",
       "      <td>Mon, 13 Sep 2021 21:12:53 GMT</td>\n",
       "      <td>Tue, 14 Sep 2021 00:25:36 GMT</td>\n",
       "      <td>Mon, 13 Sep 2021 21:41:31 GMT</td>\n",
       "      <td>2.285</td>\n",
       "      <td>2_39_89_25_2021-09-13 21:12:53.318460</td>\n",
       "      <td>0002</td>\n",
       "      <td>CA-315</td>\n",
       "      <td>2-39-89-25</td>\n",
       "      <td>America/Los_Angeles</td>\n",
       "      <td>000000431</td>\n",
       "      <td>[{'WhPerMile': 286, 'kWhRequested': 28.6, 'mil...</td>\n",
       "    </tr>\n",
       "    <tr>\n",
       "      <th>31420</th>\n",
       "      <td>61550519f9af8b76960e169b</td>\n",
       "      <td>0039</td>\n",
       "      <td>Mon, 13 Sep 2021 21:17:04 GMT</td>\n",
       "      <td>Tue, 14 Sep 2021 01:01:49 GMT</td>\n",
       "      <td>Mon, 13 Sep 2021 23:18:07 GMT</td>\n",
       "      <td>6.715</td>\n",
       "      <td>2_39_123_23_2021-09-13 21:16:44.026068</td>\n",
       "      <td>0002</td>\n",
       "      <td>CA-313</td>\n",
       "      <td>2-39-123-23</td>\n",
       "      <td>America/Los_Angeles</td>\n",
       "      <td>000006481</td>\n",
       "      <td>[{'WhPerMile': 460, 'kWhRequested': 11.5, 'mil...</td>\n",
       "    </tr>\n",
       "    <tr>\n",
       "      <th>31421</th>\n",
       "      <td>61550519f9af8b76960e169c</td>\n",
       "      <td>0039</td>\n",
       "      <td>Mon, 13 Sep 2021 22:33:07 GMT</td>\n",
       "      <td>Mon, 13 Sep 2021 23:06:55 GMT</td>\n",
       "      <td>None</td>\n",
       "      <td>17.720</td>\n",
       "      <td>2_39_81_4550_2021-09-13 22:33:04.543952</td>\n",
       "      <td>0002</td>\n",
       "      <td>11900388</td>\n",
       "      <td>2-39-81-4550</td>\n",
       "      <td>America/Los_Angeles</td>\n",
       "      <td>000003905</td>\n",
       "      <td>[{'WhPerMile': 300, 'kWhRequested': 30.0, 'mil...</td>\n",
       "    </tr>\n",
       "    <tr>\n",
       "      <th>31422</th>\n",
       "      <td>61550519f9af8b76960e169d</td>\n",
       "      <td>0039</td>\n",
       "      <td>Mon, 13 Sep 2021 23:11:12 GMT</td>\n",
       "      <td>Tue, 14 Sep 2021 01:43:11 GMT</td>\n",
       "      <td>Tue, 14 Sep 2021 00:13:35 GMT</td>\n",
       "      <td>2.018</td>\n",
       "      <td>2_39_91_437_2021-09-13 23:10:59.528292</td>\n",
       "      <td>0002</td>\n",
       "      <td>CA-317</td>\n",
       "      <td>2-39-91-437</td>\n",
       "      <td>America/Los_Angeles</td>\n",
       "      <td>000001082</td>\n",
       "      <td>[{'WhPerMile': 290, 'kWhRequested': 5.8, 'mile...</td>\n",
       "    </tr>\n",
       "    <tr>\n",
       "      <th>31423</th>\n",
       "      <td>61550519f9af8b76960e169e</td>\n",
       "      <td>0039</td>\n",
       "      <td>Tue, 14 Sep 2021 01:52:37 GMT</td>\n",
       "      <td>Tue, 14 Sep 2021 03:05:10 GMT</td>\n",
       "      <td>None</td>\n",
       "      <td>45.064</td>\n",
       "      <td>2_39_81_4550_2021-09-14 01:52:31.129163</td>\n",
       "      <td>0002</td>\n",
       "      <td>11900388</td>\n",
       "      <td>2-39-81-4550</td>\n",
       "      <td>America/Los_Angeles</td>\n",
       "      <td>000019055</td>\n",
       "      <td>[{'WhPerMile': 286, 'kWhRequested': 28.6, 'mil...</td>\n",
       "    </tr>\n",
       "  </tbody>\n",
       "</table>\n",
       "<p>31424 rows × 13 columns</p>\n",
       "</div>"
      ],
      "text/plain": [
       "                            _id clusterID                 connectionTime  \\\n",
       "0      5bc90cb9f9af8b0d7fe77cd2      0039  Wed, 25 Apr 2018 11:08:04 GMT   \n",
       "1      5bc90cb9f9af8b0d7fe77cd3      0039  Wed, 25 Apr 2018 13:45:10 GMT   \n",
       "2      5bc90cb9f9af8b0d7fe77cd4      0039  Wed, 25 Apr 2018 13:45:50 GMT   \n",
       "3      5bc90cb9f9af8b0d7fe77cd5      0039  Wed, 25 Apr 2018 14:37:06 GMT   \n",
       "4      5bc90cb9f9af8b0d7fe77cd6      0039  Wed, 25 Apr 2018 14:40:34 GMT   \n",
       "...                         ...       ...                            ...   \n",
       "31419  61550519f9af8b76960e169a      0039  Mon, 13 Sep 2021 21:12:53 GMT   \n",
       "31420  61550519f9af8b76960e169b      0039  Mon, 13 Sep 2021 21:17:04 GMT   \n",
       "31421  61550519f9af8b76960e169c      0039  Mon, 13 Sep 2021 22:33:07 GMT   \n",
       "31422  61550519f9af8b76960e169d      0039  Mon, 13 Sep 2021 23:11:12 GMT   \n",
       "31423  61550519f9af8b76960e169e      0039  Tue, 14 Sep 2021 01:52:37 GMT   \n",
       "\n",
       "                      disconnectTime               doneChargingTime  \\\n",
       "0      Wed, 25 Apr 2018 13:20:10 GMT  Wed, 25 Apr 2018 13:21:10 GMT   \n",
       "1      Thu, 26 Apr 2018 00:56:16 GMT  Wed, 25 Apr 2018 16:44:15 GMT   \n",
       "2      Wed, 25 Apr 2018 23:04:45 GMT  Wed, 25 Apr 2018 14:51:44 GMT   \n",
       "3      Wed, 25 Apr 2018 23:55:34 GMT  Wed, 25 Apr 2018 16:05:22 GMT   \n",
       "4      Wed, 25 Apr 2018 23:03:12 GMT  Wed, 25 Apr 2018 17:40:30 GMT   \n",
       "...                              ...                            ...   \n",
       "31419  Tue, 14 Sep 2021 00:25:36 GMT  Mon, 13 Sep 2021 21:41:31 GMT   \n",
       "31420  Tue, 14 Sep 2021 01:01:49 GMT  Mon, 13 Sep 2021 23:18:07 GMT   \n",
       "31421  Mon, 13 Sep 2021 23:06:55 GMT                           None   \n",
       "31422  Tue, 14 Sep 2021 01:43:11 GMT  Tue, 14 Sep 2021 00:13:35 GMT   \n",
       "31423  Tue, 14 Sep 2021 03:05:10 GMT                           None   \n",
       "\n",
       "       kWhDelivered                                sessionID siteID   spaceID  \\\n",
       "0             7.932   2_39_78_362_2018-04-25 11:08:04.400812   0002    CA-496   \n",
       "1            10.013    2_39_95_27_2018-04-25 13:45:09.617470   0002    CA-319   \n",
       "2             5.257   2_39_79_380_2018-04-25 13:45:49.962001   0002    CA-489   \n",
       "3             5.177   2_39_79_379_2018-04-25 14:37:06.460772   0002    CA-327   \n",
       "4            10.119   2_39_79_381_2018-04-25 14:40:33.638896   0002    CA-490   \n",
       "...             ...                                      ...    ...       ...   \n",
       "31419         2.285    2_39_89_25_2021-09-13 21:12:53.318460   0002    CA-315   \n",
       "31420         6.715   2_39_123_23_2021-09-13 21:16:44.026068   0002    CA-313   \n",
       "31421        17.720  2_39_81_4550_2021-09-13 22:33:04.543952   0002  11900388   \n",
       "31422         2.018   2_39_91_437_2021-09-13 23:10:59.528292   0002    CA-317   \n",
       "31423        45.064  2_39_81_4550_2021-09-14 01:52:31.129163   0002  11900388   \n",
       "\n",
       "          stationID             timezone     userID  \\\n",
       "0       2-39-78-362  America/Los_Angeles       None   \n",
       "1        2-39-95-27  America/Los_Angeles       None   \n",
       "2       2-39-79-380  America/Los_Angeles       None   \n",
       "3       2-39-79-379  America/Los_Angeles       None   \n",
       "4       2-39-79-381  America/Los_Angeles       None   \n",
       "...             ...                  ...        ...   \n",
       "31419    2-39-89-25  America/Los_Angeles  000000431   \n",
       "31420   2-39-123-23  America/Los_Angeles  000006481   \n",
       "31421  2-39-81-4550  America/Los_Angeles  000003905   \n",
       "31422   2-39-91-437  America/Los_Angeles  000001082   \n",
       "31423  2-39-81-4550  America/Los_Angeles  000019055   \n",
       "\n",
       "                                              userInputs  \n",
       "0                                                   None  \n",
       "1                                                   None  \n",
       "2                                                   None  \n",
       "3                                                   None  \n",
       "4                                                   None  \n",
       "...                                                  ...  \n",
       "31419  [{'WhPerMile': 286, 'kWhRequested': 28.6, 'mil...  \n",
       "31420  [{'WhPerMile': 460, 'kWhRequested': 11.5, 'mil...  \n",
       "31421  [{'WhPerMile': 300, 'kWhRequested': 30.0, 'mil...  \n",
       "31422  [{'WhPerMile': 290, 'kWhRequested': 5.8, 'mile...  \n",
       "31423  [{'WhPerMile': 286, 'kWhRequested': 28.6, 'mil...  \n",
       "\n",
       "[31424 rows x 13 columns]"
      ]
     },
     "execution_count": 7,
     "metadata": {},
     "output_type": "execute_result"
    }
   ],
   "source": [
    "df"
   ]
  },
  {
   "cell_type": "code",
   "execution_count": 8,
   "id": "685ccca5",
   "metadata": {},
   "outputs": [],
   "source": [
    "df[\"connectionTime\"] = pd.to_datetime(df[\"connectionTime\"])\n",
    "df[\"disconnectTime\"] = pd.to_datetime(df[\"disconnectTime\"])\n",
    "df[\"doneChargingTime\"] = pd.to_datetime(df[\"doneChargingTime\"])\n",
    "df['connectionTime_year'] = df['connectionTime'].dt.year\n",
    "df['connectionTime_month'] = df['connectionTime'].dt.month\n",
    "df['connectionTime_week'] = df['connectionTime'].dt.isocalendar().week\n",
    "df['connectionTime_day'] = df['connectionTime'].dt.day\n",
    "df['connectionTime_dayofweek'] = df['connectionTime'].dt.dayofweek"
   ]
  },
  {
   "cell_type": "code",
   "execution_count": 9,
   "id": "f71cb145",
   "metadata": {},
   "outputs": [
    {
     "data": {
      "text/html": [
       "<div>\n",
       "<style scoped>\n",
       "    .dataframe tbody tr th:only-of-type {\n",
       "        vertical-align: middle;\n",
       "    }\n",
       "\n",
       "    .dataframe tbody tr th {\n",
       "        vertical-align: top;\n",
       "    }\n",
       "\n",
       "    .dataframe thead th {\n",
       "        text-align: right;\n",
       "    }\n",
       "</style>\n",
       "<table border=\"1\" class=\"dataframe\">\n",
       "  <thead>\n",
       "    <tr style=\"text-align: right;\">\n",
       "      <th></th>\n",
       "      <th>_id</th>\n",
       "      <th>clusterID</th>\n",
       "      <th>connectionTime</th>\n",
       "      <th>disconnectTime</th>\n",
       "      <th>doneChargingTime</th>\n",
       "      <th>kWhDelivered</th>\n",
       "      <th>sessionID</th>\n",
       "      <th>siteID</th>\n",
       "      <th>spaceID</th>\n",
       "      <th>stationID</th>\n",
       "      <th>timezone</th>\n",
       "      <th>userID</th>\n",
       "      <th>userInputs</th>\n",
       "      <th>connectionTime_year</th>\n",
       "      <th>connectionTime_month</th>\n",
       "      <th>connectionTime_week</th>\n",
       "      <th>connectionTime_day</th>\n",
       "      <th>connectionTime_dayofweek</th>\n",
       "    </tr>\n",
       "  </thead>\n",
       "  <tbody>\n",
       "    <tr>\n",
       "      <th>0</th>\n",
       "      <td>5bc90cb9f9af8b0d7fe77cd2</td>\n",
       "      <td>0039</td>\n",
       "      <td>2018-04-25 11:08:04+00:00</td>\n",
       "      <td>2018-04-25 13:20:10+00:00</td>\n",
       "      <td>2018-04-25 13:21:10+00:00</td>\n",
       "      <td>7.932</td>\n",
       "      <td>2_39_78_362_2018-04-25 11:08:04.400812</td>\n",
       "      <td>0002</td>\n",
       "      <td>CA-496</td>\n",
       "      <td>2-39-78-362</td>\n",
       "      <td>America/Los_Angeles</td>\n",
       "      <td>None</td>\n",
       "      <td>None</td>\n",
       "      <td>2018</td>\n",
       "      <td>4</td>\n",
       "      <td>17</td>\n",
       "      <td>25</td>\n",
       "      <td>2</td>\n",
       "    </tr>\n",
       "    <tr>\n",
       "      <th>1</th>\n",
       "      <td>5bc90cb9f9af8b0d7fe77cd3</td>\n",
       "      <td>0039</td>\n",
       "      <td>2018-04-25 13:45:10+00:00</td>\n",
       "      <td>2018-04-26 00:56:16+00:00</td>\n",
       "      <td>2018-04-25 16:44:15+00:00</td>\n",
       "      <td>10.013</td>\n",
       "      <td>2_39_95_27_2018-04-25 13:45:09.617470</td>\n",
       "      <td>0002</td>\n",
       "      <td>CA-319</td>\n",
       "      <td>2-39-95-27</td>\n",
       "      <td>America/Los_Angeles</td>\n",
       "      <td>None</td>\n",
       "      <td>None</td>\n",
       "      <td>2018</td>\n",
       "      <td>4</td>\n",
       "      <td>17</td>\n",
       "      <td>25</td>\n",
       "      <td>2</td>\n",
       "    </tr>\n",
       "    <tr>\n",
       "      <th>2</th>\n",
       "      <td>5bc90cb9f9af8b0d7fe77cd4</td>\n",
       "      <td>0039</td>\n",
       "      <td>2018-04-25 13:45:50+00:00</td>\n",
       "      <td>2018-04-25 23:04:45+00:00</td>\n",
       "      <td>2018-04-25 14:51:44+00:00</td>\n",
       "      <td>5.257</td>\n",
       "      <td>2_39_79_380_2018-04-25 13:45:49.962001</td>\n",
       "      <td>0002</td>\n",
       "      <td>CA-489</td>\n",
       "      <td>2-39-79-380</td>\n",
       "      <td>America/Los_Angeles</td>\n",
       "      <td>None</td>\n",
       "      <td>None</td>\n",
       "      <td>2018</td>\n",
       "      <td>4</td>\n",
       "      <td>17</td>\n",
       "      <td>25</td>\n",
       "      <td>2</td>\n",
       "    </tr>\n",
       "    <tr>\n",
       "      <th>3</th>\n",
       "      <td>5bc90cb9f9af8b0d7fe77cd5</td>\n",
       "      <td>0039</td>\n",
       "      <td>2018-04-25 14:37:06+00:00</td>\n",
       "      <td>2018-04-25 23:55:34+00:00</td>\n",
       "      <td>2018-04-25 16:05:22+00:00</td>\n",
       "      <td>5.177</td>\n",
       "      <td>2_39_79_379_2018-04-25 14:37:06.460772</td>\n",
       "      <td>0002</td>\n",
       "      <td>CA-327</td>\n",
       "      <td>2-39-79-379</td>\n",
       "      <td>America/Los_Angeles</td>\n",
       "      <td>None</td>\n",
       "      <td>None</td>\n",
       "      <td>2018</td>\n",
       "      <td>4</td>\n",
       "      <td>17</td>\n",
       "      <td>25</td>\n",
       "      <td>2</td>\n",
       "    </tr>\n",
       "    <tr>\n",
       "      <th>4</th>\n",
       "      <td>5bc90cb9f9af8b0d7fe77cd6</td>\n",
       "      <td>0039</td>\n",
       "      <td>2018-04-25 14:40:34+00:00</td>\n",
       "      <td>2018-04-25 23:03:12+00:00</td>\n",
       "      <td>2018-04-25 17:40:30+00:00</td>\n",
       "      <td>10.119</td>\n",
       "      <td>2_39_79_381_2018-04-25 14:40:33.638896</td>\n",
       "      <td>0002</td>\n",
       "      <td>CA-490</td>\n",
       "      <td>2-39-79-381</td>\n",
       "      <td>America/Los_Angeles</td>\n",
       "      <td>None</td>\n",
       "      <td>None</td>\n",
       "      <td>2018</td>\n",
       "      <td>4</td>\n",
       "      <td>17</td>\n",
       "      <td>25</td>\n",
       "      <td>2</td>\n",
       "    </tr>\n",
       "    <tr>\n",
       "      <th>...</th>\n",
       "      <td>...</td>\n",
       "      <td>...</td>\n",
       "      <td>...</td>\n",
       "      <td>...</td>\n",
       "      <td>...</td>\n",
       "      <td>...</td>\n",
       "      <td>...</td>\n",
       "      <td>...</td>\n",
       "      <td>...</td>\n",
       "      <td>...</td>\n",
       "      <td>...</td>\n",
       "      <td>...</td>\n",
       "      <td>...</td>\n",
       "      <td>...</td>\n",
       "      <td>...</td>\n",
       "      <td>...</td>\n",
       "      <td>...</td>\n",
       "      <td>...</td>\n",
       "    </tr>\n",
       "    <tr>\n",
       "      <th>31419</th>\n",
       "      <td>61550519f9af8b76960e169a</td>\n",
       "      <td>0039</td>\n",
       "      <td>2021-09-13 21:12:53+00:00</td>\n",
       "      <td>2021-09-14 00:25:36+00:00</td>\n",
       "      <td>2021-09-13 21:41:31+00:00</td>\n",
       "      <td>2.285</td>\n",
       "      <td>2_39_89_25_2021-09-13 21:12:53.318460</td>\n",
       "      <td>0002</td>\n",
       "      <td>CA-315</td>\n",
       "      <td>2-39-89-25</td>\n",
       "      <td>America/Los_Angeles</td>\n",
       "      <td>000000431</td>\n",
       "      <td>[{'WhPerMile': 286, 'kWhRequested': 28.6, 'mil...</td>\n",
       "      <td>2021</td>\n",
       "      <td>9</td>\n",
       "      <td>37</td>\n",
       "      <td>13</td>\n",
       "      <td>0</td>\n",
       "    </tr>\n",
       "    <tr>\n",
       "      <th>31420</th>\n",
       "      <td>61550519f9af8b76960e169b</td>\n",
       "      <td>0039</td>\n",
       "      <td>2021-09-13 21:17:04+00:00</td>\n",
       "      <td>2021-09-14 01:01:49+00:00</td>\n",
       "      <td>2021-09-13 23:18:07+00:00</td>\n",
       "      <td>6.715</td>\n",
       "      <td>2_39_123_23_2021-09-13 21:16:44.026068</td>\n",
       "      <td>0002</td>\n",
       "      <td>CA-313</td>\n",
       "      <td>2-39-123-23</td>\n",
       "      <td>America/Los_Angeles</td>\n",
       "      <td>000006481</td>\n",
       "      <td>[{'WhPerMile': 460, 'kWhRequested': 11.5, 'mil...</td>\n",
       "      <td>2021</td>\n",
       "      <td>9</td>\n",
       "      <td>37</td>\n",
       "      <td>13</td>\n",
       "      <td>0</td>\n",
       "    </tr>\n",
       "    <tr>\n",
       "      <th>31421</th>\n",
       "      <td>61550519f9af8b76960e169c</td>\n",
       "      <td>0039</td>\n",
       "      <td>2021-09-13 22:33:07+00:00</td>\n",
       "      <td>2021-09-13 23:06:55+00:00</td>\n",
       "      <td>NaT</td>\n",
       "      <td>17.720</td>\n",
       "      <td>2_39_81_4550_2021-09-13 22:33:04.543952</td>\n",
       "      <td>0002</td>\n",
       "      <td>11900388</td>\n",
       "      <td>2-39-81-4550</td>\n",
       "      <td>America/Los_Angeles</td>\n",
       "      <td>000003905</td>\n",
       "      <td>[{'WhPerMile': 300, 'kWhRequested': 30.0, 'mil...</td>\n",
       "      <td>2021</td>\n",
       "      <td>9</td>\n",
       "      <td>37</td>\n",
       "      <td>13</td>\n",
       "      <td>0</td>\n",
       "    </tr>\n",
       "    <tr>\n",
       "      <th>31422</th>\n",
       "      <td>61550519f9af8b76960e169d</td>\n",
       "      <td>0039</td>\n",
       "      <td>2021-09-13 23:11:12+00:00</td>\n",
       "      <td>2021-09-14 01:43:11+00:00</td>\n",
       "      <td>2021-09-14 00:13:35+00:00</td>\n",
       "      <td>2.018</td>\n",
       "      <td>2_39_91_437_2021-09-13 23:10:59.528292</td>\n",
       "      <td>0002</td>\n",
       "      <td>CA-317</td>\n",
       "      <td>2-39-91-437</td>\n",
       "      <td>America/Los_Angeles</td>\n",
       "      <td>000001082</td>\n",
       "      <td>[{'WhPerMile': 290, 'kWhRequested': 5.8, 'mile...</td>\n",
       "      <td>2021</td>\n",
       "      <td>9</td>\n",
       "      <td>37</td>\n",
       "      <td>13</td>\n",
       "      <td>0</td>\n",
       "    </tr>\n",
       "    <tr>\n",
       "      <th>31423</th>\n",
       "      <td>61550519f9af8b76960e169e</td>\n",
       "      <td>0039</td>\n",
       "      <td>2021-09-14 01:52:37+00:00</td>\n",
       "      <td>2021-09-14 03:05:10+00:00</td>\n",
       "      <td>NaT</td>\n",
       "      <td>45.064</td>\n",
       "      <td>2_39_81_4550_2021-09-14 01:52:31.129163</td>\n",
       "      <td>0002</td>\n",
       "      <td>11900388</td>\n",
       "      <td>2-39-81-4550</td>\n",
       "      <td>America/Los_Angeles</td>\n",
       "      <td>000019055</td>\n",
       "      <td>[{'WhPerMile': 286, 'kWhRequested': 28.6, 'mil...</td>\n",
       "      <td>2021</td>\n",
       "      <td>9</td>\n",
       "      <td>37</td>\n",
       "      <td>14</td>\n",
       "      <td>1</td>\n",
       "    </tr>\n",
       "  </tbody>\n",
       "</table>\n",
       "<p>31424 rows × 18 columns</p>\n",
       "</div>"
      ],
      "text/plain": [
       "                            _id clusterID            connectionTime  \\\n",
       "0      5bc90cb9f9af8b0d7fe77cd2      0039 2018-04-25 11:08:04+00:00   \n",
       "1      5bc90cb9f9af8b0d7fe77cd3      0039 2018-04-25 13:45:10+00:00   \n",
       "2      5bc90cb9f9af8b0d7fe77cd4      0039 2018-04-25 13:45:50+00:00   \n",
       "3      5bc90cb9f9af8b0d7fe77cd5      0039 2018-04-25 14:37:06+00:00   \n",
       "4      5bc90cb9f9af8b0d7fe77cd6      0039 2018-04-25 14:40:34+00:00   \n",
       "...                         ...       ...                       ...   \n",
       "31419  61550519f9af8b76960e169a      0039 2021-09-13 21:12:53+00:00   \n",
       "31420  61550519f9af8b76960e169b      0039 2021-09-13 21:17:04+00:00   \n",
       "31421  61550519f9af8b76960e169c      0039 2021-09-13 22:33:07+00:00   \n",
       "31422  61550519f9af8b76960e169d      0039 2021-09-13 23:11:12+00:00   \n",
       "31423  61550519f9af8b76960e169e      0039 2021-09-14 01:52:37+00:00   \n",
       "\n",
       "                 disconnectTime          doneChargingTime  kWhDelivered  \\\n",
       "0     2018-04-25 13:20:10+00:00 2018-04-25 13:21:10+00:00         7.932   \n",
       "1     2018-04-26 00:56:16+00:00 2018-04-25 16:44:15+00:00        10.013   \n",
       "2     2018-04-25 23:04:45+00:00 2018-04-25 14:51:44+00:00         5.257   \n",
       "3     2018-04-25 23:55:34+00:00 2018-04-25 16:05:22+00:00         5.177   \n",
       "4     2018-04-25 23:03:12+00:00 2018-04-25 17:40:30+00:00        10.119   \n",
       "...                         ...                       ...           ...   \n",
       "31419 2021-09-14 00:25:36+00:00 2021-09-13 21:41:31+00:00         2.285   \n",
       "31420 2021-09-14 01:01:49+00:00 2021-09-13 23:18:07+00:00         6.715   \n",
       "31421 2021-09-13 23:06:55+00:00                       NaT        17.720   \n",
       "31422 2021-09-14 01:43:11+00:00 2021-09-14 00:13:35+00:00         2.018   \n",
       "31423 2021-09-14 03:05:10+00:00                       NaT        45.064   \n",
       "\n",
       "                                     sessionID siteID   spaceID     stationID  \\\n",
       "0       2_39_78_362_2018-04-25 11:08:04.400812   0002    CA-496   2-39-78-362   \n",
       "1        2_39_95_27_2018-04-25 13:45:09.617470   0002    CA-319    2-39-95-27   \n",
       "2       2_39_79_380_2018-04-25 13:45:49.962001   0002    CA-489   2-39-79-380   \n",
       "3       2_39_79_379_2018-04-25 14:37:06.460772   0002    CA-327   2-39-79-379   \n",
       "4       2_39_79_381_2018-04-25 14:40:33.638896   0002    CA-490   2-39-79-381   \n",
       "...                                        ...    ...       ...           ...   \n",
       "31419    2_39_89_25_2021-09-13 21:12:53.318460   0002    CA-315    2-39-89-25   \n",
       "31420   2_39_123_23_2021-09-13 21:16:44.026068   0002    CA-313   2-39-123-23   \n",
       "31421  2_39_81_4550_2021-09-13 22:33:04.543952   0002  11900388  2-39-81-4550   \n",
       "31422   2_39_91_437_2021-09-13 23:10:59.528292   0002    CA-317   2-39-91-437   \n",
       "31423  2_39_81_4550_2021-09-14 01:52:31.129163   0002  11900388  2-39-81-4550   \n",
       "\n",
       "                  timezone     userID  \\\n",
       "0      America/Los_Angeles       None   \n",
       "1      America/Los_Angeles       None   \n",
       "2      America/Los_Angeles       None   \n",
       "3      America/Los_Angeles       None   \n",
       "4      America/Los_Angeles       None   \n",
       "...                    ...        ...   \n",
       "31419  America/Los_Angeles  000000431   \n",
       "31420  America/Los_Angeles  000006481   \n",
       "31421  America/Los_Angeles  000003905   \n",
       "31422  America/Los_Angeles  000001082   \n",
       "31423  America/Los_Angeles  000019055   \n",
       "\n",
       "                                              userInputs  connectionTime_year  \\\n",
       "0                                                   None                 2018   \n",
       "1                                                   None                 2018   \n",
       "2                                                   None                 2018   \n",
       "3                                                   None                 2018   \n",
       "4                                                   None                 2018   \n",
       "...                                                  ...                  ...   \n",
       "31419  [{'WhPerMile': 286, 'kWhRequested': 28.6, 'mil...                 2021   \n",
       "31420  [{'WhPerMile': 460, 'kWhRequested': 11.5, 'mil...                 2021   \n",
       "31421  [{'WhPerMile': 300, 'kWhRequested': 30.0, 'mil...                 2021   \n",
       "31422  [{'WhPerMile': 290, 'kWhRequested': 5.8, 'mile...                 2021   \n",
       "31423  [{'WhPerMile': 286, 'kWhRequested': 28.6, 'mil...                 2021   \n",
       "\n",
       "       connectionTime_month  connectionTime_week  connectionTime_day  \\\n",
       "0                         4                   17                  25   \n",
       "1                         4                   17                  25   \n",
       "2                         4                   17                  25   \n",
       "3                         4                   17                  25   \n",
       "4                         4                   17                  25   \n",
       "...                     ...                  ...                 ...   \n",
       "31419                     9                   37                  13   \n",
       "31420                     9                   37                  13   \n",
       "31421                     9                   37                  13   \n",
       "31422                     9                   37                  13   \n",
       "31423                     9                   37                  14   \n",
       "\n",
       "       connectionTime_dayofweek  \n",
       "0                             2  \n",
       "1                             2  \n",
       "2                             2  \n",
       "3                             2  \n",
       "4                             2  \n",
       "...                         ...  \n",
       "31419                         0  \n",
       "31420                         0  \n",
       "31421                         0  \n",
       "31422                         0  \n",
       "31423                         1  \n",
       "\n",
       "[31424 rows x 18 columns]"
      ]
     },
     "execution_count": 9,
     "metadata": {},
     "output_type": "execute_result"
    }
   ],
   "source": [
    "df"
   ]
  },
  {
   "cell_type": "markdown",
   "id": "2475036b",
   "metadata": {},
   "source": [
    "Drop columns that aren't useful"
   ]
  },
  {
   "cell_type": "code",
   "execution_count": 8,
   "id": "a24675fe",
   "metadata": {},
   "outputs": [],
   "source": [
    "df = df.drop(\"timezone\", axis=1)\n",
    "df = df.drop(\"stationID\", axis=1)\n",
    "df = df.drop(\"userID\", axis=1)\n",
    "df = df.drop(\"sessionID\", axis=1)\n",
    "df = df.drop(\"clusterID\", axis=1)\n",
    "df = df.drop(\"userInputs\", axis=1)"
   ]
  },
  {
   "cell_type": "code",
   "execution_count": 10,
   "id": "59f1f992",
   "metadata": {},
   "outputs": [
    {
     "data": {
      "text/html": [
       "<div>\n",
       "<style scoped>\n",
       "    .dataframe tbody tr th:only-of-type {\n",
       "        vertical-align: middle;\n",
       "    }\n",
       "\n",
       "    .dataframe tbody tr th {\n",
       "        vertical-align: top;\n",
       "    }\n",
       "\n",
       "    .dataframe thead th {\n",
       "        text-align: right;\n",
       "    }\n",
       "</style>\n",
       "<table border=\"1\" class=\"dataframe\">\n",
       "  <thead>\n",
       "    <tr style=\"text-align: right;\">\n",
       "      <th></th>\n",
       "      <th>_id</th>\n",
       "      <th>clusterID</th>\n",
       "      <th>connectionTime</th>\n",
       "      <th>disconnectTime</th>\n",
       "      <th>doneChargingTime</th>\n",
       "      <th>kWhDelivered</th>\n",
       "      <th>sessionID</th>\n",
       "      <th>siteID</th>\n",
       "      <th>spaceID</th>\n",
       "      <th>stationID</th>\n",
       "      <th>timezone</th>\n",
       "      <th>userID</th>\n",
       "      <th>userInputs</th>\n",
       "      <th>connectionTime_year</th>\n",
       "      <th>connectionTime_month</th>\n",
       "      <th>connectionTime_week</th>\n",
       "      <th>connectionTime_day</th>\n",
       "      <th>connectionTime_dayofweek</th>\n",
       "    </tr>\n",
       "  </thead>\n",
       "  <tbody>\n",
       "    <tr>\n",
       "      <th>0</th>\n",
       "      <td>5bc90cb9f9af8b0d7fe77cd2</td>\n",
       "      <td>0039</td>\n",
       "      <td>2018-04-25 11:08:04+00:00</td>\n",
       "      <td>2018-04-25 13:20:10+00:00</td>\n",
       "      <td>2018-04-25 13:21:10+00:00</td>\n",
       "      <td>7.932</td>\n",
       "      <td>2_39_78_362_2018-04-25 11:08:04.400812</td>\n",
       "      <td>0002</td>\n",
       "      <td>CA-496</td>\n",
       "      <td>2-39-78-362</td>\n",
       "      <td>America/Los_Angeles</td>\n",
       "      <td>None</td>\n",
       "      <td>None</td>\n",
       "      <td>2018</td>\n",
       "      <td>4</td>\n",
       "      <td>17</td>\n",
       "      <td>25</td>\n",
       "      <td>2</td>\n",
       "    </tr>\n",
       "    <tr>\n",
       "      <th>1</th>\n",
       "      <td>5bc90cb9f9af8b0d7fe77cd3</td>\n",
       "      <td>0039</td>\n",
       "      <td>2018-04-25 13:45:10+00:00</td>\n",
       "      <td>2018-04-26 00:56:16+00:00</td>\n",
       "      <td>2018-04-25 16:44:15+00:00</td>\n",
       "      <td>10.013</td>\n",
       "      <td>2_39_95_27_2018-04-25 13:45:09.617470</td>\n",
       "      <td>0002</td>\n",
       "      <td>CA-319</td>\n",
       "      <td>2-39-95-27</td>\n",
       "      <td>America/Los_Angeles</td>\n",
       "      <td>None</td>\n",
       "      <td>None</td>\n",
       "      <td>2018</td>\n",
       "      <td>4</td>\n",
       "      <td>17</td>\n",
       "      <td>25</td>\n",
       "      <td>2</td>\n",
       "    </tr>\n",
       "    <tr>\n",
       "      <th>2</th>\n",
       "      <td>5bc90cb9f9af8b0d7fe77cd4</td>\n",
       "      <td>0039</td>\n",
       "      <td>2018-04-25 13:45:50+00:00</td>\n",
       "      <td>2018-04-25 23:04:45+00:00</td>\n",
       "      <td>2018-04-25 14:51:44+00:00</td>\n",
       "      <td>5.257</td>\n",
       "      <td>2_39_79_380_2018-04-25 13:45:49.962001</td>\n",
       "      <td>0002</td>\n",
       "      <td>CA-489</td>\n",
       "      <td>2-39-79-380</td>\n",
       "      <td>America/Los_Angeles</td>\n",
       "      <td>None</td>\n",
       "      <td>None</td>\n",
       "      <td>2018</td>\n",
       "      <td>4</td>\n",
       "      <td>17</td>\n",
       "      <td>25</td>\n",
       "      <td>2</td>\n",
       "    </tr>\n",
       "    <tr>\n",
       "      <th>3</th>\n",
       "      <td>5bc90cb9f9af8b0d7fe77cd5</td>\n",
       "      <td>0039</td>\n",
       "      <td>2018-04-25 14:37:06+00:00</td>\n",
       "      <td>2018-04-25 23:55:34+00:00</td>\n",
       "      <td>2018-04-25 16:05:22+00:00</td>\n",
       "      <td>5.177</td>\n",
       "      <td>2_39_79_379_2018-04-25 14:37:06.460772</td>\n",
       "      <td>0002</td>\n",
       "      <td>CA-327</td>\n",
       "      <td>2-39-79-379</td>\n",
       "      <td>America/Los_Angeles</td>\n",
       "      <td>None</td>\n",
       "      <td>None</td>\n",
       "      <td>2018</td>\n",
       "      <td>4</td>\n",
       "      <td>17</td>\n",
       "      <td>25</td>\n",
       "      <td>2</td>\n",
       "    </tr>\n",
       "    <tr>\n",
       "      <th>4</th>\n",
       "      <td>5bc90cb9f9af8b0d7fe77cd6</td>\n",
       "      <td>0039</td>\n",
       "      <td>2018-04-25 14:40:34+00:00</td>\n",
       "      <td>2018-04-25 23:03:12+00:00</td>\n",
       "      <td>2018-04-25 17:40:30+00:00</td>\n",
       "      <td>10.119</td>\n",
       "      <td>2_39_79_381_2018-04-25 14:40:33.638896</td>\n",
       "      <td>0002</td>\n",
       "      <td>CA-490</td>\n",
       "      <td>2-39-79-381</td>\n",
       "      <td>America/Los_Angeles</td>\n",
       "      <td>None</td>\n",
       "      <td>None</td>\n",
       "      <td>2018</td>\n",
       "      <td>4</td>\n",
       "      <td>17</td>\n",
       "      <td>25</td>\n",
       "      <td>2</td>\n",
       "    </tr>\n",
       "    <tr>\n",
       "      <th>...</th>\n",
       "      <td>...</td>\n",
       "      <td>...</td>\n",
       "      <td>...</td>\n",
       "      <td>...</td>\n",
       "      <td>...</td>\n",
       "      <td>...</td>\n",
       "      <td>...</td>\n",
       "      <td>...</td>\n",
       "      <td>...</td>\n",
       "      <td>...</td>\n",
       "      <td>...</td>\n",
       "      <td>...</td>\n",
       "      <td>...</td>\n",
       "      <td>...</td>\n",
       "      <td>...</td>\n",
       "      <td>...</td>\n",
       "      <td>...</td>\n",
       "      <td>...</td>\n",
       "    </tr>\n",
       "    <tr>\n",
       "      <th>31419</th>\n",
       "      <td>61550519f9af8b76960e169a</td>\n",
       "      <td>0039</td>\n",
       "      <td>2021-09-13 21:12:53+00:00</td>\n",
       "      <td>2021-09-14 00:25:36+00:00</td>\n",
       "      <td>2021-09-13 21:41:31+00:00</td>\n",
       "      <td>2.285</td>\n",
       "      <td>2_39_89_25_2021-09-13 21:12:53.318460</td>\n",
       "      <td>0002</td>\n",
       "      <td>CA-315</td>\n",
       "      <td>2-39-89-25</td>\n",
       "      <td>America/Los_Angeles</td>\n",
       "      <td>000000431</td>\n",
       "      <td>[{'WhPerMile': 286, 'kWhRequested': 28.6, 'mil...</td>\n",
       "      <td>2021</td>\n",
       "      <td>9</td>\n",
       "      <td>37</td>\n",
       "      <td>13</td>\n",
       "      <td>0</td>\n",
       "    </tr>\n",
       "    <tr>\n",
       "      <th>31420</th>\n",
       "      <td>61550519f9af8b76960e169b</td>\n",
       "      <td>0039</td>\n",
       "      <td>2021-09-13 21:17:04+00:00</td>\n",
       "      <td>2021-09-14 01:01:49+00:00</td>\n",
       "      <td>2021-09-13 23:18:07+00:00</td>\n",
       "      <td>6.715</td>\n",
       "      <td>2_39_123_23_2021-09-13 21:16:44.026068</td>\n",
       "      <td>0002</td>\n",
       "      <td>CA-313</td>\n",
       "      <td>2-39-123-23</td>\n",
       "      <td>America/Los_Angeles</td>\n",
       "      <td>000006481</td>\n",
       "      <td>[{'WhPerMile': 460, 'kWhRequested': 11.5, 'mil...</td>\n",
       "      <td>2021</td>\n",
       "      <td>9</td>\n",
       "      <td>37</td>\n",
       "      <td>13</td>\n",
       "      <td>0</td>\n",
       "    </tr>\n",
       "    <tr>\n",
       "      <th>31421</th>\n",
       "      <td>61550519f9af8b76960e169c</td>\n",
       "      <td>0039</td>\n",
       "      <td>2021-09-13 22:33:07+00:00</td>\n",
       "      <td>2021-09-13 23:06:55+00:00</td>\n",
       "      <td>NaT</td>\n",
       "      <td>17.720</td>\n",
       "      <td>2_39_81_4550_2021-09-13 22:33:04.543952</td>\n",
       "      <td>0002</td>\n",
       "      <td>11900388</td>\n",
       "      <td>2-39-81-4550</td>\n",
       "      <td>America/Los_Angeles</td>\n",
       "      <td>000003905</td>\n",
       "      <td>[{'WhPerMile': 300, 'kWhRequested': 30.0, 'mil...</td>\n",
       "      <td>2021</td>\n",
       "      <td>9</td>\n",
       "      <td>37</td>\n",
       "      <td>13</td>\n",
       "      <td>0</td>\n",
       "    </tr>\n",
       "    <tr>\n",
       "      <th>31422</th>\n",
       "      <td>61550519f9af8b76960e169d</td>\n",
       "      <td>0039</td>\n",
       "      <td>2021-09-13 23:11:12+00:00</td>\n",
       "      <td>2021-09-14 01:43:11+00:00</td>\n",
       "      <td>2021-09-14 00:13:35+00:00</td>\n",
       "      <td>2.018</td>\n",
       "      <td>2_39_91_437_2021-09-13 23:10:59.528292</td>\n",
       "      <td>0002</td>\n",
       "      <td>CA-317</td>\n",
       "      <td>2-39-91-437</td>\n",
       "      <td>America/Los_Angeles</td>\n",
       "      <td>000001082</td>\n",
       "      <td>[{'WhPerMile': 290, 'kWhRequested': 5.8, 'mile...</td>\n",
       "      <td>2021</td>\n",
       "      <td>9</td>\n",
       "      <td>37</td>\n",
       "      <td>13</td>\n",
       "      <td>0</td>\n",
       "    </tr>\n",
       "    <tr>\n",
       "      <th>31423</th>\n",
       "      <td>61550519f9af8b76960e169e</td>\n",
       "      <td>0039</td>\n",
       "      <td>2021-09-14 01:52:37+00:00</td>\n",
       "      <td>2021-09-14 03:05:10+00:00</td>\n",
       "      <td>NaT</td>\n",
       "      <td>45.064</td>\n",
       "      <td>2_39_81_4550_2021-09-14 01:52:31.129163</td>\n",
       "      <td>0002</td>\n",
       "      <td>11900388</td>\n",
       "      <td>2-39-81-4550</td>\n",
       "      <td>America/Los_Angeles</td>\n",
       "      <td>000019055</td>\n",
       "      <td>[{'WhPerMile': 286, 'kWhRequested': 28.6, 'mil...</td>\n",
       "      <td>2021</td>\n",
       "      <td>9</td>\n",
       "      <td>37</td>\n",
       "      <td>14</td>\n",
       "      <td>1</td>\n",
       "    </tr>\n",
       "  </tbody>\n",
       "</table>\n",
       "<p>31424 rows × 18 columns</p>\n",
       "</div>"
      ],
      "text/plain": [
       "                            _id clusterID            connectionTime  \\\n",
       "0      5bc90cb9f9af8b0d7fe77cd2      0039 2018-04-25 11:08:04+00:00   \n",
       "1      5bc90cb9f9af8b0d7fe77cd3      0039 2018-04-25 13:45:10+00:00   \n",
       "2      5bc90cb9f9af8b0d7fe77cd4      0039 2018-04-25 13:45:50+00:00   \n",
       "3      5bc90cb9f9af8b0d7fe77cd5      0039 2018-04-25 14:37:06+00:00   \n",
       "4      5bc90cb9f9af8b0d7fe77cd6      0039 2018-04-25 14:40:34+00:00   \n",
       "...                         ...       ...                       ...   \n",
       "31419  61550519f9af8b76960e169a      0039 2021-09-13 21:12:53+00:00   \n",
       "31420  61550519f9af8b76960e169b      0039 2021-09-13 21:17:04+00:00   \n",
       "31421  61550519f9af8b76960e169c      0039 2021-09-13 22:33:07+00:00   \n",
       "31422  61550519f9af8b76960e169d      0039 2021-09-13 23:11:12+00:00   \n",
       "31423  61550519f9af8b76960e169e      0039 2021-09-14 01:52:37+00:00   \n",
       "\n",
       "                 disconnectTime          doneChargingTime  kWhDelivered  \\\n",
       "0     2018-04-25 13:20:10+00:00 2018-04-25 13:21:10+00:00         7.932   \n",
       "1     2018-04-26 00:56:16+00:00 2018-04-25 16:44:15+00:00        10.013   \n",
       "2     2018-04-25 23:04:45+00:00 2018-04-25 14:51:44+00:00         5.257   \n",
       "3     2018-04-25 23:55:34+00:00 2018-04-25 16:05:22+00:00         5.177   \n",
       "4     2018-04-25 23:03:12+00:00 2018-04-25 17:40:30+00:00        10.119   \n",
       "...                         ...                       ...           ...   \n",
       "31419 2021-09-14 00:25:36+00:00 2021-09-13 21:41:31+00:00         2.285   \n",
       "31420 2021-09-14 01:01:49+00:00 2021-09-13 23:18:07+00:00         6.715   \n",
       "31421 2021-09-13 23:06:55+00:00                       NaT        17.720   \n",
       "31422 2021-09-14 01:43:11+00:00 2021-09-14 00:13:35+00:00         2.018   \n",
       "31423 2021-09-14 03:05:10+00:00                       NaT        45.064   \n",
       "\n",
       "                                     sessionID siteID   spaceID     stationID  \\\n",
       "0       2_39_78_362_2018-04-25 11:08:04.400812   0002    CA-496   2-39-78-362   \n",
       "1        2_39_95_27_2018-04-25 13:45:09.617470   0002    CA-319    2-39-95-27   \n",
       "2       2_39_79_380_2018-04-25 13:45:49.962001   0002    CA-489   2-39-79-380   \n",
       "3       2_39_79_379_2018-04-25 14:37:06.460772   0002    CA-327   2-39-79-379   \n",
       "4       2_39_79_381_2018-04-25 14:40:33.638896   0002    CA-490   2-39-79-381   \n",
       "...                                        ...    ...       ...           ...   \n",
       "31419    2_39_89_25_2021-09-13 21:12:53.318460   0002    CA-315    2-39-89-25   \n",
       "31420   2_39_123_23_2021-09-13 21:16:44.026068   0002    CA-313   2-39-123-23   \n",
       "31421  2_39_81_4550_2021-09-13 22:33:04.543952   0002  11900388  2-39-81-4550   \n",
       "31422   2_39_91_437_2021-09-13 23:10:59.528292   0002    CA-317   2-39-91-437   \n",
       "31423  2_39_81_4550_2021-09-14 01:52:31.129163   0002  11900388  2-39-81-4550   \n",
       "\n",
       "                  timezone     userID  \\\n",
       "0      America/Los_Angeles       None   \n",
       "1      America/Los_Angeles       None   \n",
       "2      America/Los_Angeles       None   \n",
       "3      America/Los_Angeles       None   \n",
       "4      America/Los_Angeles       None   \n",
       "...                    ...        ...   \n",
       "31419  America/Los_Angeles  000000431   \n",
       "31420  America/Los_Angeles  000006481   \n",
       "31421  America/Los_Angeles  000003905   \n",
       "31422  America/Los_Angeles  000001082   \n",
       "31423  America/Los_Angeles  000019055   \n",
       "\n",
       "                                              userInputs  connectionTime_year  \\\n",
       "0                                                   None                 2018   \n",
       "1                                                   None                 2018   \n",
       "2                                                   None                 2018   \n",
       "3                                                   None                 2018   \n",
       "4                                                   None                 2018   \n",
       "...                                                  ...                  ...   \n",
       "31419  [{'WhPerMile': 286, 'kWhRequested': 28.6, 'mil...                 2021   \n",
       "31420  [{'WhPerMile': 460, 'kWhRequested': 11.5, 'mil...                 2021   \n",
       "31421  [{'WhPerMile': 300, 'kWhRequested': 30.0, 'mil...                 2021   \n",
       "31422  [{'WhPerMile': 290, 'kWhRequested': 5.8, 'mile...                 2021   \n",
       "31423  [{'WhPerMile': 286, 'kWhRequested': 28.6, 'mil...                 2021   \n",
       "\n",
       "       connectionTime_month  connectionTime_week  connectionTime_day  \\\n",
       "0                         4                   17                  25   \n",
       "1                         4                   17                  25   \n",
       "2                         4                   17                  25   \n",
       "3                         4                   17                  25   \n",
       "4                         4                   17                  25   \n",
       "...                     ...                  ...                 ...   \n",
       "31419                     9                   37                  13   \n",
       "31420                     9                   37                  13   \n",
       "31421                     9                   37                  13   \n",
       "31422                     9                   37                  13   \n",
       "31423                     9                   37                  14   \n",
       "\n",
       "       connectionTime_dayofweek  \n",
       "0                             2  \n",
       "1                             2  \n",
       "2                             2  \n",
       "3                             2  \n",
       "4                             2  \n",
       "...                         ...  \n",
       "31419                         0  \n",
       "31420                         0  \n",
       "31421                         0  \n",
       "31422                         0  \n",
       "31423                         1  \n",
       "\n",
       "[31424 rows x 18 columns]"
      ]
     },
     "execution_count": 10,
     "metadata": {},
     "output_type": "execute_result"
    }
   ],
   "source": [
    "df"
   ]
  },
  {
   "cell_type": "code",
   "execution_count": 9,
   "id": "dff9d3fd",
   "metadata": {},
   "outputs": [],
   "source": [
    "# Counter values used to track totals to then calculate average results for the models\n",
    "ANN_mse = 0\n",
    "CNN_mse = 0\n",
    "RF_mse = 0\n",
    "DT_mse = 0\n",
    "LR_mse = 0\n",
    "\n",
    "ANN_mae = 0\n",
    "CNN_mae = 0\n",
    "RF_mae = 0\n",
    "DT_mae = 0\n",
    "LR_mae = 0"
   ]
  },
  {
   "cell_type": "code",
   "execution_count": 10,
   "id": "919d62e2",
   "metadata": {},
   "outputs": [],
   "source": [
    "# Counter values used to track totals to then calculate average results for the train and test time frames\n",
    "# Train\n",
    "W2_mse = 0\n",
    "M1_mse = 0\n",
    "M2_mse = 0\n",
    "M3_mse = 0\n",
    "M6_mse = 0\n",
    "Y_mse = 0\n",
    "\n",
    "# Train\n",
    "W2_mae = 0\n",
    "M1_mae = 0\n",
    "M2_mae = 0\n",
    "M3_mae = 0\n",
    "M6_mae = 0\n",
    "Y_mae = 0\n",
    "\n",
    "# Test\n",
    "D_mse = 0\n",
    "D3_mse = 0\n",
    "D5_mse = 0\n",
    "W_mse = 0\n",
    "\n",
    "# Test\n",
    "D_mae = 0\n",
    "D3_mae = 0\n",
    "D5_mae = 0\n",
    "W_mae = 0"
   ]
  },
  {
   "cell_type": "code",
   "execution_count": 11,
   "id": "619940fd",
   "metadata": {},
   "outputs": [],
   "source": [
    "def models(x_train, y_train, x_trainScaled, x_test, y_test, x_testScaled,\n",
    "          ANN_mse, ANN_mae, CNN_mse, CNN_mae, RF_mse, RF_mae, DT_mse, DT_mae, LR_mse, LR_mae\n",
    "          ):\n",
    "    \n",
    "    # Artificial neural network and the way in which results were displayed was based on \n",
    "    # https://github.com/bnsreenu/python_for_microscopists/blob/master/141-regression_housing_example.py\n",
    "    # from Python for Microscopists\n",
    "    \n",
    "    # Define Artificial neural network usingsequential model, two input layers, \n",
    "    # 11 input dimensions as there are 11 columns\n",
    "    model = Sequential()\n",
    "    model.add(Dense(128, input_dim=11, activation='relu'))\n",
    "    model.add(Dense(64, activation='relu'))\n",
    "    #Output layer\n",
    "    model.add(Dense(1, activation='linear'))\n",
    "\n",
    "    # As testing is done with mean square and mean absolute errors, this compulation and summary are used\n",
    "    model.compile(loss='mean_squared_error', optimizer='adam', metrics=['mean_absolute_error'])\n",
    "    model.summary()\n",
    "\n",
    "    # Test the model based on the scaled data with a standard validation split\n",
    "    # The number of epochs used was chosen as 100 as this was found to be the point where\n",
    "    # the model generally saw the best results in effecincy and accuracy\n",
    "    history = model.fit(x_trainScaled, y_train, validation_split=0.2, epochs =100, verbose=0)\n",
    "\n",
    "    #plot the training and validation accuracy and loss at each epoch\n",
    "    loss = history.history['loss']\n",
    "    val_loss = history.history['val_loss']\n",
    "    epochs = range(1, len(loss) + 1)\n",
    "    plt.plot(epochs, loss, 'y', label='Training loss')\n",
    "    plt.plot(epochs, val_loss, 'r', label='Validation loss')\n",
    "    plt.title('Training and validation loss')\n",
    "    plt.xlabel('Epochs')\n",
    "    plt.ylabel('Loss')\n",
    "    plt.legend()\n",
    "    plt.show()\n",
    "\n",
    "    #Predict on test data\n",
    "    predictions = model.predict(x_testScaled[:5])\n",
    "    print(\"\\nPredicted values are: \\n\", predictions)\n",
    "    print(\"\\nReal values are: \\n\", y_test[:5])\n",
    "\n",
    "    #Comparison with other models..\n",
    "    #Neural network - from the current code\n",
    "    mse_neural, mae_neural = model.evaluate(x_testScaled, y_test)\n",
    "    print('\\nMean squared error from neural net: \\n', mse_neural)\n",
    "    print('\\nMean absolute error from neural net: \\n', mae_neural)\n",
    "    ANN_mse = ANN_mse + mse_neural\n",
    "    ANN_mae = ANN_mae + mae_neural\n",
    "\n",
    "    x_testScaled_reshape = x_testScaled.reshape(x_testScaled.shape[0], x_testScaled.shape[1], 1)\n",
    "    x_test_timesteps, x_test_features= x_testScaled_reshape.shape[1], x_testScaled_reshape.shape[2]\n",
    "\n",
    "    n_outputs = y_train.shape[0]\n",
    "    \n",
    "    # Convolutional Neural Net\n",
    "    # Two convolutional layers are used these perform feature extraction\n",
    "    # 1d is used as we are working with numbers and not images\n",
    "    # dropout layer is used to randomly ignore a training layer temporarily.\n",
    "    # creating a spare activation environment\n",
    "    # The pooling layer used merge similar features created by the convolutional layer into one to\n",
    "    # improve the accuracy of the model when making predictions.\n",
    "    # The dense layers connects to every neuron in the previous layer\n",
    "    # to create an output layer for the model\n",
    "    model = Sequential()\n",
    "    model.add(Conv1D(filters=64, kernel_size=3, activation='relu', input_shape=(x_test_timesteps,x_test_features)))\n",
    "    model.add(Conv1D(filters=64, kernel_size=3, activation='relu'))\n",
    "    model.add(Dropout(0.5))\n",
    "    model.add(MaxPooling1D(pool_size=2))\n",
    "    model.add(Flatten())\n",
    "    model.add(Dense(100, activation='relu'))\n",
    "    model.add(Dense(n_outputs, activation='softmax'))\n",
    "\n",
    "    model.compile(loss='mean_squared_error', optimizer='adam', metrics=['mean_absolute_error'])\n",
    "    \n",
    "    #Predict on test data\n",
    "    predictions = model.predict(x_testScaled_reshape[:5])\n",
    "    print(\"\\nPredicted values are:\\n \", predictions)\n",
    "    print(\"\\nReal values are: \\n\", y_test[:5])\n",
    "\n",
    "    #Comparison with other models..\n",
    "    mse_c_neural, mae_c_neural = model.evaluate(x_testScaled_reshape, y_test)\n",
    "    print('\\nMean squared error from Convolutional neural net: ', mse_c_neural)\n",
    "    print('\\nMean absolute error from Convolutional neural net: ', mae_c_neural)\n",
    "    CNN_mse = CNN_mse + mse_c_neural\n",
    "    CNN_mae = CNN_mae + mae_c_neural\n",
    "\n",
    "    # Linear regression\n",
    "    # trained on the scaled data, predicted against the test data and then evaluated \n",
    "    # with the totals stored for finding averages\n",
    "    lr_model = linear_model.LinearRegression()\n",
    "    lr_model.fit(x_trainScaled, y_train)\n",
    "    y_pred_lr = lr_model.predict(x_testScaled)\n",
    "    mse_lr = mean_squared_error(y_test, y_pred_lr)\n",
    "    mae_lr = mean_absolute_error(y_test, y_pred_lr)\n",
    "    print('\\nMean squared error from linear regression: ', mse_lr)\n",
    "    print('\\nMean absolute error from linear regression: ', mae_lr)\n",
    "    LR_mse = LR_mse + mse_lr\n",
    "    LR_mae = LR_mae + mae_lr\n",
    "\n",
    "    # Decision tree regressor\n",
    "    # trained on the scaled data, predicted against the test data and then evaluated \n",
    "    # with the totals stored for finding averages\n",
    "    tree = DecisionTreeRegressor()\n",
    "    tree.fit(x_trainScaled, y_train)\n",
    "    y_pred_tree = tree.predict(x_testScaled)\n",
    "    mse_dt = mean_squared_error(y_test, y_pred_tree)\n",
    "    mae_dt = mean_absolute_error(y_test, y_pred_tree)\n",
    "    print('\\nMean squared error using decision tree: ', mse_dt)\n",
    "    print('\\nMean absolute error using decision tree: ', mae_dt)\n",
    "    DT_mse = DT_mse + mse_dt\n",
    "    DT_mae = DT_mae + mae_dt\n",
    "\n",
    "    #Random forest.\n",
    "    # trained on the scaled data, predicted against the test data and then evaluated \n",
    "    # with the totals stored for finding averages\n",
    "    model = RandomForestRegressor(n_estimators = 100, random_state=0)\n",
    "    model.fit(x_trainScaled, y_train)\n",
    "\n",
    "    y_pred_RF = model.predict(x_testScaled)\n",
    "\n",
    "    mse_RF = mean_squared_error(y_test, y_pred_RF)\n",
    "    mae_RF = mean_absolute_error(y_test, y_pred_RF)\n",
    "    print('\\nMean squared error using Random Forest: ', mse_RF)\n",
    "    print('\\nMean absolute error Using Random Forest: ', mae_RF)\n",
    "    RF_mse = RF_mse + mse_RF\n",
    "    RF_mae = RF_mae + mae_RF\n",
    "\n",
    "    #Feature ranking...\n",
    "    feature_list = list(x_train.columns)\n",
    "    feature_imp = pd.Series(model.feature_importances_, index=feature_list).sort_values(ascending=False)\n",
    "    print(\"\\n The features ranking by importance to the RF Model\")\n",
    "    print(\"\\n\", feature_imp)\n",
    "\n",
    "    Val_mse = mse_c_neural + mse_neural + mse_lr + mse_dt + mse_RF\n",
    "    Val_mae = mae_c_neural + mae_neural + mae_lr + mae_dt + mae_RF\n",
    "    \n",
    "    return ANN_mse, ANN_mae, CNN_mse, CNN_mae, RF_mse, RF_mae, DT_mse, DT_mae, LR_mse, LR_mae, Val_mse, Val_mae\n"
   ]
  },
  {
   "cell_type": "markdown",
   "id": "de19a92a",
   "metadata": {},
   "source": [
    "# Predict 1 Day with 2 Weeks of Data"
   ]
  },
  {
   "cell_type": "code",
   "execution_count": 12,
   "id": "65b383bc",
   "metadata": {},
   "outputs": [],
   "source": [
    "# Train dataset is constructed by selecting a year for the data, \n",
    "# then a selected month and then 2 weeks worth of days in that month\n",
    "train = df.loc[df['connectionTime_year'] == 2021]\n",
    "train = train.loc[train['connectionTime_month'] == 5]\n",
    "train = train.loc[train['connectionTime_day'].isin([7,8,9,10,11,12,13,14,15,16,17,18,19,20,21])]"
   ]
  },
  {
   "cell_type": "code",
   "execution_count": 13,
   "id": "5ff6991f",
   "metadata": {},
   "outputs": [],
   "source": [
    "# Test set is set to the same year and month as the test data \n",
    "test = df.loc[df['connectionTime_year']==2021]\n",
    "test = test.loc[test['connectionTime_month'] == 5]"
   ]
  },
  {
   "cell_type": "code",
   "execution_count": 14,
   "id": "cd6ebf5c",
   "metadata": {},
   "outputs": [],
   "source": [
    "# test set is then set to be just the day following the the train data\n",
    "test = test.loc[test['connectionTime_day'] == 22]"
   ]
  },
  {
   "cell_type": "code",
   "execution_count": 15,
   "id": "71464673",
   "metadata": {},
   "outputs": [],
   "source": [
    "# target data set is set to the feature variable, which is then dropped from training\n",
    "# data is then converted and scaled\n",
    "y_train = train['kWhDelivered']\n",
    "x_train = train.drop('kWhDelivered', axis=1)\n",
    "x_train = singleNumeric(x_train)\n",
    "y_train = singleNumeric(y_train)\n",
    "x_trainScaled = scaleData(x_train)"
   ]
  },
  {
   "cell_type": "code",
   "execution_count": 16,
   "id": "2f38c4f7",
   "metadata": {
    "scrolled": true
   },
   "outputs": [
    {
     "data": {
      "text/html": [
       "<div>\n",
       "<style scoped>\n",
       "    .dataframe tbody tr th:only-of-type {\n",
       "        vertical-align: middle;\n",
       "    }\n",
       "\n",
       "    .dataframe tbody tr th {\n",
       "        vertical-align: top;\n",
       "    }\n",
       "\n",
       "    .dataframe thead th {\n",
       "        text-align: right;\n",
       "    }\n",
       "</style>\n",
       "<table border=\"1\" class=\"dataframe\">\n",
       "  <thead>\n",
       "    <tr style=\"text-align: right;\">\n",
       "      <th></th>\n",
       "      <th>_id</th>\n",
       "      <th>connectionTime</th>\n",
       "      <th>disconnectTime</th>\n",
       "      <th>doneChargingTime</th>\n",
       "      <th>siteID</th>\n",
       "      <th>spaceID</th>\n",
       "      <th>connectionTime_year</th>\n",
       "      <th>connectionTime_month</th>\n",
       "      <th>connectionTime_week</th>\n",
       "      <th>connectionTime_day</th>\n",
       "      <th>connectionTime_dayofweek</th>\n",
       "    </tr>\n",
       "  </thead>\n",
       "  <tbody>\n",
       "    <tr>\n",
       "      <th>29359</th>\n",
       "      <td>0.0</td>\n",
       "      <td>1620350612000000000</td>\n",
       "      <td>1620356333000000000</td>\n",
       "      <td>1620356328000000000</td>\n",
       "      <td>2</td>\n",
       "      <td>0.0</td>\n",
       "      <td>2021</td>\n",
       "      <td>5</td>\n",
       "      <td>18</td>\n",
       "      <td>7</td>\n",
       "      <td>4</td>\n",
       "    </tr>\n",
       "    <tr>\n",
       "      <th>29360</th>\n",
       "      <td>0.0</td>\n",
       "      <td>1620351674000000000</td>\n",
       "      <td>1620353155000000000</td>\n",
       "      <td>-9223372036854775808</td>\n",
       "      <td>2</td>\n",
       "      <td>11900388.0</td>\n",
       "      <td>2021</td>\n",
       "      <td>5</td>\n",
       "      <td>18</td>\n",
       "      <td>7</td>\n",
       "      <td>4</td>\n",
       "    </tr>\n",
       "    <tr>\n",
       "      <th>29361</th>\n",
       "      <td>0.0</td>\n",
       "      <td>1620355707000000000</td>\n",
       "      <td>1620357041000000000</td>\n",
       "      <td>-9223372036854775808</td>\n",
       "      <td>2</td>\n",
       "      <td>11900388.0</td>\n",
       "      <td>2021</td>\n",
       "      <td>5</td>\n",
       "      <td>18</td>\n",
       "      <td>7</td>\n",
       "      <td>4</td>\n",
       "    </tr>\n",
       "    <tr>\n",
       "      <th>29362</th>\n",
       "      <td>0.0</td>\n",
       "      <td>1620362236000000000</td>\n",
       "      <td>1620364215000000000</td>\n",
       "      <td>-9223372036854775808</td>\n",
       "      <td>2</td>\n",
       "      <td>11900388.0</td>\n",
       "      <td>2021</td>\n",
       "      <td>5</td>\n",
       "      <td>18</td>\n",
       "      <td>7</td>\n",
       "      <td>4</td>\n",
       "    </tr>\n",
       "    <tr>\n",
       "      <th>29363</th>\n",
       "      <td>0.0</td>\n",
       "      <td>1620394455000000000</td>\n",
       "      <td>1620397625000000000</td>\n",
       "      <td>-9223372036854775808</td>\n",
       "      <td>2</td>\n",
       "      <td>11900388.0</td>\n",
       "      <td>2021</td>\n",
       "      <td>5</td>\n",
       "      <td>18</td>\n",
       "      <td>7</td>\n",
       "      <td>4</td>\n",
       "    </tr>\n",
       "    <tr>\n",
       "      <th>...</th>\n",
       "      <td>...</td>\n",
       "      <td>...</td>\n",
       "      <td>...</td>\n",
       "      <td>...</td>\n",
       "      <td>...</td>\n",
       "      <td>...</td>\n",
       "      <td>...</td>\n",
       "      <td>...</td>\n",
       "      <td>...</td>\n",
       "      <td>...</td>\n",
       "      <td>...</td>\n",
       "    </tr>\n",
       "    <tr>\n",
       "      <th>29525</th>\n",
       "      <td>0.0</td>\n",
       "      <td>1621630973000000000</td>\n",
       "      <td>1621666395000000000</td>\n",
       "      <td>1621635204000000000</td>\n",
       "      <td>2</td>\n",
       "      <td>0.0</td>\n",
       "      <td>2021</td>\n",
       "      <td>5</td>\n",
       "      <td>20</td>\n",
       "      <td>21</td>\n",
       "      <td>4</td>\n",
       "    </tr>\n",
       "    <tr>\n",
       "      <th>29526</th>\n",
       "      <td>0.0</td>\n",
       "      <td>1621630991000000000</td>\n",
       "      <td>1621631551000000000</td>\n",
       "      <td>-9223372036854775808</td>\n",
       "      <td>2</td>\n",
       "      <td>11900388.0</td>\n",
       "      <td>2021</td>\n",
       "      <td>5</td>\n",
       "      <td>20</td>\n",
       "      <td>21</td>\n",
       "      <td>4</td>\n",
       "    </tr>\n",
       "    <tr>\n",
       "      <th>29527</th>\n",
       "      <td>0.0</td>\n",
       "      <td>1621632294000000000</td>\n",
       "      <td>1621641925000000000</td>\n",
       "      <td>1621639595000000000</td>\n",
       "      <td>2</td>\n",
       "      <td>0.0</td>\n",
       "      <td>2021</td>\n",
       "      <td>5</td>\n",
       "      <td>20</td>\n",
       "      <td>21</td>\n",
       "      <td>4</td>\n",
       "    </tr>\n",
       "    <tr>\n",
       "      <th>29528</th>\n",
       "      <td>0.0</td>\n",
       "      <td>1621636844000000000</td>\n",
       "      <td>1621637698000000000</td>\n",
       "      <td>-9223372036854775808</td>\n",
       "      <td>2</td>\n",
       "      <td>11900388.0</td>\n",
       "      <td>2021</td>\n",
       "      <td>5</td>\n",
       "      <td>20</td>\n",
       "      <td>21</td>\n",
       "      <td>4</td>\n",
       "    </tr>\n",
       "    <tr>\n",
       "      <th>29529</th>\n",
       "      <td>0.0</td>\n",
       "      <td>1621638852000000000</td>\n",
       "      <td>1621641461000000000</td>\n",
       "      <td>-9223372036854775808</td>\n",
       "      <td>2</td>\n",
       "      <td>11900388.0</td>\n",
       "      <td>2021</td>\n",
       "      <td>5</td>\n",
       "      <td>20</td>\n",
       "      <td>21</td>\n",
       "      <td>4</td>\n",
       "    </tr>\n",
       "  </tbody>\n",
       "</table>\n",
       "<p>171 rows × 11 columns</p>\n",
       "</div>"
      ],
      "text/plain": [
       "       _id       connectionTime       disconnectTime     doneChargingTime  \\\n",
       "29359  0.0  1620350612000000000  1620356333000000000  1620356328000000000   \n",
       "29360  0.0  1620351674000000000  1620353155000000000 -9223372036854775808   \n",
       "29361  0.0  1620355707000000000  1620357041000000000 -9223372036854775808   \n",
       "29362  0.0  1620362236000000000  1620364215000000000 -9223372036854775808   \n",
       "29363  0.0  1620394455000000000  1620397625000000000 -9223372036854775808   \n",
       "...    ...                  ...                  ...                  ...   \n",
       "29525  0.0  1621630973000000000  1621666395000000000  1621635204000000000   \n",
       "29526  0.0  1621630991000000000  1621631551000000000 -9223372036854775808   \n",
       "29527  0.0  1621632294000000000  1621641925000000000  1621639595000000000   \n",
       "29528  0.0  1621636844000000000  1621637698000000000 -9223372036854775808   \n",
       "29529  0.0  1621638852000000000  1621641461000000000 -9223372036854775808   \n",
       "\n",
       "       siteID     spaceID  connectionTime_year  connectionTime_month  \\\n",
       "29359       2         0.0                 2021                     5   \n",
       "29360       2  11900388.0                 2021                     5   \n",
       "29361       2  11900388.0                 2021                     5   \n",
       "29362       2  11900388.0                 2021                     5   \n",
       "29363       2  11900388.0                 2021                     5   \n",
       "...       ...         ...                  ...                   ...   \n",
       "29525       2         0.0                 2021                     5   \n",
       "29526       2  11900388.0                 2021                     5   \n",
       "29527       2         0.0                 2021                     5   \n",
       "29528       2  11900388.0                 2021                     5   \n",
       "29529       2  11900388.0                 2021                     5   \n",
       "\n",
       "       connectionTime_week  connectionTime_day  connectionTime_dayofweek  \n",
       "29359                   18                   7                         4  \n",
       "29360                   18                   7                         4  \n",
       "29361                   18                   7                         4  \n",
       "29362                   18                   7                         4  \n",
       "29363                   18                   7                         4  \n",
       "...                    ...                 ...                       ...  \n",
       "29525                   20                  21                         4  \n",
       "29526                   20                  21                         4  \n",
       "29527                   20                  21                         4  \n",
       "29528                   20                  21                         4  \n",
       "29529                   20                  21                         4  \n",
       "\n",
       "[171 rows x 11 columns]"
      ]
     },
     "execution_count": 16,
     "metadata": {},
     "output_type": "execute_result"
    }
   ],
   "source": [
    "x_train"
   ]
  },
  {
   "cell_type": "code",
   "execution_count": 17,
   "id": "9faf9efc",
   "metadata": {},
   "outputs": [],
   "source": [
    "# test data is convereted and scaled just as the train is\n",
    "y_test = test['kWhDelivered']\n",
    "x_test = test.drop('kWhDelivered', axis=1)\n",
    "x_test = singleNumeric(x_test)\n",
    "y_test = singleNumeric(y_test)\n",
    "x_testScaled = scaleData(x_test)"
   ]
  },
  {
   "cell_type": "code",
   "execution_count": 18,
   "id": "51b482c9",
   "metadata": {
    "scrolled": true
   },
   "outputs": [
    {
     "name": "stdout",
     "output_type": "stream",
     "text": [
      "Model: \"sequential\"\n",
      "_________________________________________________________________\n",
      "Layer (type)                 Output Shape              Param #   \n",
      "=================================================================\n",
      "dense (Dense)                (None, 128)               1536      \n",
      "_________________________________________________________________\n",
      "dense_1 (Dense)              (None, 64)                8256      \n",
      "_________________________________________________________________\n",
      "dense_2 (Dense)              (None, 1)                 65        \n",
      "=================================================================\n",
      "Total params: 9,857\n",
      "Trainable params: 9,857\n",
      "Non-trainable params: 0\n",
      "_________________________________________________________________\n"
     ]
    },
    {
     "data": {
      "image/png": "[encoded data removed]",
      "text/plain": [
       "<Figure size 432x288 with 1 Axes>"
      ]
     },
     "metadata": {
      "needs_background": "light"
     },
     "output_type": "display_data"
    },
    {
     "name": "stdout",
     "output_type": "stream",
     "text": [
      "\n",
      "Predicted values are: \n",
      " [[23.150425 ]\n",
      " [23.003769 ]\n",
      " [ 5.71262  ]\n",
      " [ 7.6516304]\n",
      " [22.634619 ]]\n",
      "\n",
      "Real values are: \n",
      " 29530    10.050\n",
      "29531    18.952\n",
      "29532     3.084\n",
      "29533    20.501\n",
      "29534    35.188\n",
      "Name: kWhDelivered, dtype: float64\n",
      "1/1 [==============================] - 0s 14ms/step - loss: 69.0735 - mean_absolute_error: 6.6256\n",
      "\n",
      "Mean squared error from neural net: \n",
      " 69.07351684570312\n",
      "\n",
      "Mean absolute error from neural net: \n",
      " 6.6255645751953125\n"
     ]
    },
    {
     "ename": "ValueError",
     "evalue": "in user code:\n\n    /Applications/anaconda3/lib/python3.8/site-packages/keras/engine/training.py:853 train_function  *\n        return step_function(self, iterator)\n    /Applications/anaconda3/lib/python3.8/site-packages/keras/engine/training.py:842 step_function  **\n        outputs = model.distribute_strategy.run(run_step, args=(data,))\n    /Applications/anaconda3/lib/python3.8/site-packages/tensorflow/python/distribute/distribute_lib.py:1286 run\n        return self._extended.call_for_each_replica(fn, args=args, kwargs=kwargs)\n    /Applications/anaconda3/lib/python3.8/site-packages/tensorflow/python/distribute/distribute_lib.py:2849 call_for_each_replica\n        return self._call_for_each_replica(fn, args, kwargs)\n    /Applications/anaconda3/lib/python3.8/site-packages/tensorflow/python/distribute/distribute_lib.py:3632 _call_for_each_replica\n        return fn(*args, **kwargs)\n    /Applications/anaconda3/lib/python3.8/site-packages/keras/engine/training.py:835 run_step  **\n        outputs = model.train_step(data)\n    /Applications/anaconda3/lib/python3.8/site-packages/keras/engine/training.py:787 train_step\n        y_pred = self(x, training=True)\n    /Applications/anaconda3/lib/python3.8/site-packages/keras/engine/base_layer.py:1020 __call__\n        input_spec.assert_input_compatibility(self.input_spec, inputs, self.name)\n    /Applications/anaconda3/lib/python3.8/site-packages/keras/engine/input_spec.py:229 assert_input_compatibility\n        raise ValueError('Input ' + str(input_index) + ' of layer ' +\n\n    ValueError: Input 0 of layer sequential_1 is incompatible with the layer: : expected min_ndim=3, found ndim=2. Full shape received: (None, 11)\n",
     "output_type": "error",
     "traceback": [
      "\u001b[0;31m---------------------------------------------------------------------------\u001b[0m",
      "\u001b[0;31mValueError\u001b[0m                                Traceback (most recent call last)",
      "\u001b[0;32m<ipython-input-18-05fd68b8fef4>\u001b[0m in \u001b[0;36m<module>\u001b[0;34m\u001b[0m\n\u001b[0;32m----> 1\u001b[0;31m \u001b[0mANN_mse\u001b[0m\u001b[0;34m,\u001b[0m \u001b[0mANN_mae\u001b[0m\u001b[0;34m,\u001b[0m \u001b[0mCNN_mse\u001b[0m\u001b[0;34m,\u001b[0m \u001b[0mCNN_mae\u001b[0m\u001b[0;34m,\u001b[0m \u001b[0mRF_mse\u001b[0m\u001b[0;34m,\u001b[0m \u001b[0mRF_mae\u001b[0m\u001b[0;34m,\u001b[0m \u001b[0mDT_mse\u001b[0m\u001b[0;34m,\u001b[0m \u001b[0mDT_mae\u001b[0m\u001b[0;34m,\u001b[0m \u001b[0mLR_mse\u001b[0m\u001b[0;34m,\u001b[0m \u001b[0mLR_mae\u001b[0m\u001b[0;34m,\u001b[0m \u001b[0mVal_mse\u001b[0m\u001b[0;34m,\u001b[0m \u001b[0mVal_mae\u001b[0m \u001b[0;34m=\u001b[0m \u001b[0mmodels\u001b[0m\u001b[0;34m(\u001b[0m\u001b[0mx_train\u001b[0m\u001b[0;34m,\u001b[0m \u001b[0my_train\u001b[0m\u001b[0;34m,\u001b[0m \u001b[0mx_trainScaled\u001b[0m\u001b[0;34m,\u001b[0m \u001b[0mx_test\u001b[0m\u001b[0;34m,\u001b[0m \u001b[0my_test\u001b[0m\u001b[0;34m,\u001b[0m \u001b[0mx_testScaled\u001b[0m\u001b[0;34m,\u001b[0m \u001b[0mANN_mse\u001b[0m\u001b[0;34m,\u001b[0m \u001b[0mANN_mae\u001b[0m\u001b[0;34m,\u001b[0m \u001b[0mCNN_mse\u001b[0m\u001b[0;34m,\u001b[0m \u001b[0mCNN_mae\u001b[0m\u001b[0;34m,\u001b[0m \u001b[0mRF_mse\u001b[0m\u001b[0;34m,\u001b[0m \u001b[0mRF_mae\u001b[0m\u001b[0;34m,\u001b[0m \u001b[0mDT_mse\u001b[0m\u001b[0;34m,\u001b[0m \u001b[0mDT_mae\u001b[0m\u001b[0;34m,\u001b[0m \u001b[0mLR_mse\u001b[0m\u001b[0;34m,\u001b[0m \u001b[0mLR_mae\u001b[0m\u001b[0;34m)\u001b[0m\u001b[0;34m\u001b[0m\u001b[0;34m\u001b[0m\u001b[0m\n\u001b[0m",
      "\u001b[0;32m<ipython-input-11-dbd983969558>\u001b[0m in \u001b[0;36mmodels\u001b[0;34m(x_train, y_train, x_trainScaled, x_test, y_test, x_testScaled, ANN_mse, ANN_mae, CNN_mse, CNN_mae, RF_mse, RF_mae, DT_mse, DT_mae, LR_mse, LR_mae)\u001b[0m\n\u001b[1;32m     56\u001b[0m \u001b[0;34m\u001b[0m\u001b[0m\n\u001b[1;32m     57\u001b[0m     \u001b[0mmodel\u001b[0m\u001b[0;34m.\u001b[0m\u001b[0mcompile\u001b[0m\u001b[0;34m(\u001b[0m\u001b[0mloss\u001b[0m\u001b[0;34m=\u001b[0m\u001b[0;34m'mean_squared_error'\u001b[0m\u001b[0;34m,\u001b[0m \u001b[0moptimizer\u001b[0m\u001b[0;34m=\u001b[0m\u001b[0;34m'adam'\u001b[0m\u001b[0;34m,\u001b[0m \u001b[0mmetrics\u001b[0m\u001b[0;34m=\u001b[0m\u001b[0;34m[\u001b[0m\u001b[0;34m'mean_absolute_error'\u001b[0m\u001b[0;34m]\u001b[0m\u001b[0;34m)\u001b[0m\u001b[0;34m\u001b[0m\u001b[0;34m\u001b[0m\u001b[0m\n\u001b[0;32m---> 58\u001b[0;31m     \u001b[0mmodel\u001b[0m\u001b[0;34m.\u001b[0m\u001b[0mfit\u001b[0m\u001b[0;34m(\u001b[0m\u001b[0mx_trainScaled\u001b[0m\u001b[0;34m,\u001b[0m \u001b[0my_train\u001b[0m\u001b[0;34m,\u001b[0m \u001b[0mvalidation_split\u001b[0m\u001b[0;34m=\u001b[0m\u001b[0;36m0.2\u001b[0m\u001b[0;34m,\u001b[0m \u001b[0mepochs\u001b[0m \u001b[0;34m=\u001b[0m\u001b[0;36m100\u001b[0m\u001b[0;34m,\u001b[0m \u001b[0mverbose\u001b[0m\u001b[0;34m=\u001b[0m\u001b[0;36m0\u001b[0m\u001b[0;34m)\u001b[0m\u001b[0;34m\u001b[0m\u001b[0;34m\u001b[0m\u001b[0m\n\u001b[0m\u001b[1;32m     59\u001b[0m     \u001b[0;31m#Predict on test data\u001b[0m\u001b[0;34m\u001b[0m\u001b[0;34m\u001b[0m\u001b[0;34m\u001b[0m\u001b[0m\n\u001b[1;32m     60\u001b[0m     \u001b[0mpredictions\u001b[0m \u001b[0;34m=\u001b[0m \u001b[0mmodel\u001b[0m\u001b[0;34m.\u001b[0m\u001b[0mpredict\u001b[0m\u001b[0;34m(\u001b[0m\u001b[0mx_testScaled_reshape\u001b[0m\u001b[0;34m[\u001b[0m\u001b[0;34m:\u001b[0m\u001b[0;36m5\u001b[0m\u001b[0;34m]\u001b[0m\u001b[0;34m)\u001b[0m\u001b[0;34m\u001b[0m\u001b[0;34m\u001b[0m\u001b[0m\n",
      "\u001b[0;32m/Applications/anaconda3/lib/python3.8/site-packages/keras/engine/training.py\u001b[0m in \u001b[0;36mfit\u001b[0;34m(self, x, y, batch_size, epochs, verbose, callbacks, validation_split, validation_data, shuffle, class_weight, sample_weight, initial_epoch, steps_per_epoch, validation_steps, validation_batch_size, validation_freq, max_queue_size, workers, use_multiprocessing)\u001b[0m\n\u001b[1;32m   1182\u001b[0m                 _r=1):\n\u001b[1;32m   1183\u001b[0m               \u001b[0mcallbacks\u001b[0m\u001b[0;34m.\u001b[0m\u001b[0mon_train_batch_begin\u001b[0m\u001b[0;34m(\u001b[0m\u001b[0mstep\u001b[0m\u001b[0;34m)\u001b[0m\u001b[0;34m\u001b[0m\u001b[0;34m\u001b[0m\u001b[0m\n\u001b[0;32m-> 1184\u001b[0;31m               \u001b[0mtmp_logs\u001b[0m \u001b[0;34m=\u001b[0m \u001b[0mself\u001b[0m\u001b[0;34m.\u001b[0m\u001b[0mtrain_function\u001b[0m\u001b[0;34m(\u001b[0m\u001b[0miterator\u001b[0m\u001b[0;34m)\u001b[0m\u001b[0;34m\u001b[0m\u001b[0;34m\u001b[0m\u001b[0m\n\u001b[0m\u001b[1;32m   1185\u001b[0m               \u001b[0;32mif\u001b[0m \u001b[0mdata_handler\u001b[0m\u001b[0;34m.\u001b[0m\u001b[0mshould_sync\u001b[0m\u001b[0;34m:\u001b[0m\u001b[0;34m\u001b[0m\u001b[0;34m\u001b[0m\u001b[0m\n\u001b[1;32m   1186\u001b[0m                 \u001b[0mcontext\u001b[0m\u001b[0;34m.\u001b[0m\u001b[0masync_wait\u001b[0m\u001b[0;34m(\u001b[0m\u001b[0;34m)\u001b[0m\u001b[0;34m\u001b[0m\u001b[0;34m\u001b[0m\u001b[0m\n",
      "\u001b[0;32m/Applications/anaconda3/lib/python3.8/site-packages/tensorflow/python/eager/def_function.py\u001b[0m in \u001b[0;36m__call__\u001b[0;34m(self, *args, **kwds)\u001b[0m\n\u001b[1;32m    883\u001b[0m \u001b[0;34m\u001b[0m\u001b[0m\n\u001b[1;32m    884\u001b[0m       \u001b[0;32mwith\u001b[0m \u001b[0mOptionalXlaContext\u001b[0m\u001b[0;34m(\u001b[0m\u001b[0mself\u001b[0m\u001b[0;34m.\u001b[0m\u001b[0m_jit_compile\u001b[0m\u001b[0;34m)\u001b[0m\u001b[0;34m:\u001b[0m\u001b[0;34m\u001b[0m\u001b[0;34m\u001b[0m\u001b[0m\n\u001b[0;32m--> 885\u001b[0;31m         \u001b[0mresult\u001b[0m \u001b[0;34m=\u001b[0m \u001b[0mself\u001b[0m\u001b[0;34m.\u001b[0m\u001b[0m_call\u001b[0m\u001b[0;34m(\u001b[0m\u001b[0;34m*\u001b[0m\u001b[0margs\u001b[0m\u001b[0;34m,\u001b[0m \u001b[0;34m**\u001b[0m\u001b[0mkwds\u001b[0m\u001b[0;34m)\u001b[0m\u001b[0;34m\u001b[0m\u001b[0;34m\u001b[0m\u001b[0m\n\u001b[0m\u001b[1;32m    886\u001b[0m \u001b[0;34m\u001b[0m\u001b[0m\n\u001b[1;32m    887\u001b[0m       \u001b[0mnew_tracing_count\u001b[0m \u001b[0;34m=\u001b[0m \u001b[0mself\u001b[0m\u001b[0;34m.\u001b[0m\u001b[0mexperimental_get_tracing_count\u001b[0m\u001b[0;34m(\u001b[0m\u001b[0;34m)\u001b[0m\u001b[0;34m\u001b[0m\u001b[0;34m\u001b[0m\u001b[0m\n",
      "\u001b[0;32m/Applications/anaconda3/lib/python3.8/site-packages/tensorflow/python/eager/def_function.py\u001b[0m in \u001b[0;36m_call\u001b[0;34m(self, *args, **kwds)\u001b[0m\n\u001b[1;32m    931\u001b[0m       \u001b[0;31m# This is the first call of __call__, so we have to initialize.\u001b[0m\u001b[0;34m\u001b[0m\u001b[0;34m\u001b[0m\u001b[0;34m\u001b[0m\u001b[0m\n\u001b[1;32m    932\u001b[0m       \u001b[0minitializers\u001b[0m \u001b[0;34m=\u001b[0m \u001b[0;34m[\u001b[0m\u001b[0;34m]\u001b[0m\u001b[0;34m\u001b[0m\u001b[0;34m\u001b[0m\u001b[0m\n\u001b[0;32m--> 933\u001b[0;31m       \u001b[0mself\u001b[0m\u001b[0;34m.\u001b[0m\u001b[0m_initialize\u001b[0m\u001b[0;34m(\u001b[0m\u001b[0margs\u001b[0m\u001b[0;34m,\u001b[0m \u001b[0mkwds\u001b[0m\u001b[0;34m,\u001b[0m \u001b[0madd_initializers_to\u001b[0m\u001b[0;34m=\u001b[0m\u001b[0minitializers\u001b[0m\u001b[0;34m)\u001b[0m\u001b[0;34m\u001b[0m\u001b[0;34m\u001b[0m\u001b[0m\n\u001b[0m\u001b[1;32m    934\u001b[0m     \u001b[0;32mfinally\u001b[0m\u001b[0;34m:\u001b[0m\u001b[0;34m\u001b[0m\u001b[0;34m\u001b[0m\u001b[0m\n\u001b[1;32m    935\u001b[0m       \u001b[0;31m# At this point we know that the initialization is complete (or less\u001b[0m\u001b[0;34m\u001b[0m\u001b[0;34m\u001b[0m\u001b[0;34m\u001b[0m\u001b[0m\n",
      "\u001b[0;32m/Applications/anaconda3/lib/python3.8/site-packages/tensorflow/python/eager/def_function.py\u001b[0m in \u001b[0;36m_initialize\u001b[0;34m(self, args, kwds, add_initializers_to)\u001b[0m\n\u001b[1;32m    757\u001b[0m     \u001b[0mself\u001b[0m\u001b[0;34m.\u001b[0m\u001b[0m_graph_deleter\u001b[0m \u001b[0;34m=\u001b[0m \u001b[0mFunctionDeleter\u001b[0m\u001b[0;34m(\u001b[0m\u001b[0mself\u001b[0m\u001b[0;34m.\u001b[0m\u001b[0m_lifted_initializer_graph\u001b[0m\u001b[0;34m)\u001b[0m\u001b[0;34m\u001b[0m\u001b[0;34m\u001b[0m\u001b[0m\n\u001b[1;32m    758\u001b[0m     self._concrete_stateful_fn = (\n\u001b[0;32m--> 759\u001b[0;31m         self._stateful_fn._get_concrete_function_internal_garbage_collected(  # pylint: disable=protected-access\n\u001b[0m\u001b[1;32m    760\u001b[0m             *args, **kwds))\n\u001b[1;32m    761\u001b[0m \u001b[0;34m\u001b[0m\u001b[0m\n",
      "\u001b[0;32m/Applications/anaconda3/lib/python3.8/site-packages/tensorflow/python/eager/function.py\u001b[0m in \u001b[0;36m_get_concrete_function_internal_garbage_collected\u001b[0;34m(self, *args, **kwargs)\u001b[0m\n\u001b[1;32m   3064\u001b[0m       \u001b[0margs\u001b[0m\u001b[0;34m,\u001b[0m \u001b[0mkwargs\u001b[0m \u001b[0;34m=\u001b[0m \u001b[0;32mNone\u001b[0m\u001b[0;34m,\u001b[0m \u001b[0;32mNone\u001b[0m\u001b[0;34m\u001b[0m\u001b[0;34m\u001b[0m\u001b[0m\n\u001b[1;32m   3065\u001b[0m     \u001b[0;32mwith\u001b[0m \u001b[0mself\u001b[0m\u001b[0;34m.\u001b[0m\u001b[0m_lock\u001b[0m\u001b[0;34m:\u001b[0m\u001b[0;34m\u001b[0m\u001b[0;34m\u001b[0m\u001b[0m\n\u001b[0;32m-> 3066\u001b[0;31m       \u001b[0mgraph_function\u001b[0m\u001b[0;34m,\u001b[0m \u001b[0m_\u001b[0m \u001b[0;34m=\u001b[0m \u001b[0mself\u001b[0m\u001b[0;34m.\u001b[0m\u001b[0m_maybe_define_function\u001b[0m\u001b[0;34m(\u001b[0m\u001b[0margs\u001b[0m\u001b[0;34m,\u001b[0m \u001b[0mkwargs\u001b[0m\u001b[0;34m)\u001b[0m\u001b[0;34m\u001b[0m\u001b[0;34m\u001b[0m\u001b[0m\n\u001b[0m\u001b[1;32m   3067\u001b[0m     \u001b[0;32mreturn\u001b[0m \u001b[0mgraph_function\u001b[0m\u001b[0;34m\u001b[0m\u001b[0;34m\u001b[0m\u001b[0m\n\u001b[1;32m   3068\u001b[0m \u001b[0;34m\u001b[0m\u001b[0m\n",
      "\u001b[0;32m/Applications/anaconda3/lib/python3.8/site-packages/tensorflow/python/eager/function.py\u001b[0m in \u001b[0;36m_maybe_define_function\u001b[0;34m(self, args, kwargs)\u001b[0m\n\u001b[1;32m   3461\u001b[0m \u001b[0;34m\u001b[0m\u001b[0m\n\u001b[1;32m   3462\u001b[0m           \u001b[0mself\u001b[0m\u001b[0;34m.\u001b[0m\u001b[0m_function_cache\u001b[0m\u001b[0;34m.\u001b[0m\u001b[0mmissed\u001b[0m\u001b[0;34m.\u001b[0m\u001b[0madd\u001b[0m\u001b[0;34m(\u001b[0m\u001b[0mcall_context_key\u001b[0m\u001b[0;34m)\u001b[0m\u001b[0;34m\u001b[0m\u001b[0;34m\u001b[0m\u001b[0m\n\u001b[0;32m-> 3463\u001b[0;31m           \u001b[0mgraph_function\u001b[0m \u001b[0;34m=\u001b[0m \u001b[0mself\u001b[0m\u001b[0;34m.\u001b[0m\u001b[0m_create_graph_function\u001b[0m\u001b[0;34m(\u001b[0m\u001b[0margs\u001b[0m\u001b[0;34m,\u001b[0m \u001b[0mkwargs\u001b[0m\u001b[0;34m)\u001b[0m\u001b[0;34m\u001b[0m\u001b[0;34m\u001b[0m\u001b[0m\n\u001b[0m\u001b[1;32m   3464\u001b[0m           \u001b[0mself\u001b[0m\u001b[0;34m.\u001b[0m\u001b[0m_function_cache\u001b[0m\u001b[0;34m.\u001b[0m\u001b[0mprimary\u001b[0m\u001b[0;34m[\u001b[0m\u001b[0mcache_key\u001b[0m\u001b[0;34m]\u001b[0m \u001b[0;34m=\u001b[0m \u001b[0mgraph_function\u001b[0m\u001b[0;34m\u001b[0m\u001b[0;34m\u001b[0m\u001b[0m\n\u001b[1;32m   3465\u001b[0m \u001b[0;34m\u001b[0m\u001b[0m\n",
      "\u001b[0;32m/Applications/anaconda3/lib/python3.8/site-packages/tensorflow/python/eager/function.py\u001b[0m in \u001b[0;36m_create_graph_function\u001b[0;34m(self, args, kwargs, override_flat_arg_shapes)\u001b[0m\n\u001b[1;32m   3296\u001b[0m     \u001b[0marg_names\u001b[0m \u001b[0;34m=\u001b[0m \u001b[0mbase_arg_names\u001b[0m \u001b[0;34m+\u001b[0m \u001b[0mmissing_arg_names\u001b[0m\u001b[0;34m\u001b[0m\u001b[0;34m\u001b[0m\u001b[0m\n\u001b[1;32m   3297\u001b[0m     graph_function = ConcreteFunction(\n\u001b[0;32m-> 3298\u001b[0;31m         func_graph_module.func_graph_from_py_func(\n\u001b[0m\u001b[1;32m   3299\u001b[0m             \u001b[0mself\u001b[0m\u001b[0;34m.\u001b[0m\u001b[0m_name\u001b[0m\u001b[0;34m,\u001b[0m\u001b[0;34m\u001b[0m\u001b[0;34m\u001b[0m\u001b[0m\n\u001b[1;32m   3300\u001b[0m             \u001b[0mself\u001b[0m\u001b[0;34m.\u001b[0m\u001b[0m_python_function\u001b[0m\u001b[0;34m,\u001b[0m\u001b[0;34m\u001b[0m\u001b[0;34m\u001b[0m\u001b[0m\n",
      "\u001b[0;32m/Applications/anaconda3/lib/python3.8/site-packages/tensorflow/python/framework/func_graph.py\u001b[0m in \u001b[0;36mfunc_graph_from_py_func\u001b[0;34m(name, python_func, args, kwargs, signature, func_graph, autograph, autograph_options, add_control_dependencies, arg_names, op_return_value, collections, capture_by_value, override_flat_arg_shapes, acd_record_initial_resource_uses)\u001b[0m\n\u001b[1;32m   1005\u001b[0m         \u001b[0m_\u001b[0m\u001b[0;34m,\u001b[0m \u001b[0moriginal_func\u001b[0m \u001b[0;34m=\u001b[0m \u001b[0mtf_decorator\u001b[0m\u001b[0;34m.\u001b[0m\u001b[0munwrap\u001b[0m\u001b[0;34m(\u001b[0m\u001b[0mpython_func\u001b[0m\u001b[0;34m)\u001b[0m\u001b[0;34m\u001b[0m\u001b[0;34m\u001b[0m\u001b[0m\n\u001b[1;32m   1006\u001b[0m \u001b[0;34m\u001b[0m\u001b[0m\n\u001b[0;32m-> 1007\u001b[0;31m       \u001b[0mfunc_outputs\u001b[0m \u001b[0;34m=\u001b[0m \u001b[0mpython_func\u001b[0m\u001b[0;34m(\u001b[0m\u001b[0;34m*\u001b[0m\u001b[0mfunc_args\u001b[0m\u001b[0;34m,\u001b[0m \u001b[0;34m**\u001b[0m\u001b[0mfunc_kwargs\u001b[0m\u001b[0;34m)\u001b[0m\u001b[0;34m\u001b[0m\u001b[0;34m\u001b[0m\u001b[0m\n\u001b[0m\u001b[1;32m   1008\u001b[0m \u001b[0;34m\u001b[0m\u001b[0m\n\u001b[1;32m   1009\u001b[0m       \u001b[0;31m# invariant: `func_outputs` contains only Tensors, CompositeTensors,\u001b[0m\u001b[0;34m\u001b[0m\u001b[0;34m\u001b[0m\u001b[0;34m\u001b[0m\u001b[0m\n",
      "\u001b[0;32m/Applications/anaconda3/lib/python3.8/site-packages/tensorflow/python/eager/def_function.py\u001b[0m in \u001b[0;36mwrapped_fn\u001b[0;34m(*args, **kwds)\u001b[0m\n\u001b[1;32m    666\u001b[0m         \u001b[0;31m# the function a weak reference to itself to avoid a reference cycle.\u001b[0m\u001b[0;34m\u001b[0m\u001b[0;34m\u001b[0m\u001b[0;34m\u001b[0m\u001b[0m\n\u001b[1;32m    667\u001b[0m         \u001b[0;32mwith\u001b[0m \u001b[0mOptionalXlaContext\u001b[0m\u001b[0;34m(\u001b[0m\u001b[0mcompile_with_xla\u001b[0m\u001b[0;34m)\u001b[0m\u001b[0;34m:\u001b[0m\u001b[0;34m\u001b[0m\u001b[0;34m\u001b[0m\u001b[0m\n\u001b[0;32m--> 668\u001b[0;31m           \u001b[0mout\u001b[0m \u001b[0;34m=\u001b[0m \u001b[0mweak_wrapped_fn\u001b[0m\u001b[0;34m(\u001b[0m\u001b[0;34m)\u001b[0m\u001b[0;34m.\u001b[0m\u001b[0m__wrapped__\u001b[0m\u001b[0;34m(\u001b[0m\u001b[0;34m*\u001b[0m\u001b[0margs\u001b[0m\u001b[0;34m,\u001b[0m \u001b[0;34m**\u001b[0m\u001b[0mkwds\u001b[0m\u001b[0;34m)\u001b[0m\u001b[0;34m\u001b[0m\u001b[0;34m\u001b[0m\u001b[0m\n\u001b[0m\u001b[1;32m    669\u001b[0m         \u001b[0;32mreturn\u001b[0m \u001b[0mout\u001b[0m\u001b[0;34m\u001b[0m\u001b[0;34m\u001b[0m\u001b[0m\n\u001b[1;32m    670\u001b[0m \u001b[0;34m\u001b[0m\u001b[0m\n",
      "\u001b[0;32m/Applications/anaconda3/lib/python3.8/site-packages/tensorflow/python/framework/func_graph.py\u001b[0m in \u001b[0;36mwrapper\u001b[0;34m(*args, **kwargs)\u001b[0m\n\u001b[1;32m    992\u001b[0m           \u001b[0;32mexcept\u001b[0m \u001b[0mException\u001b[0m \u001b[0;32mas\u001b[0m \u001b[0me\u001b[0m\u001b[0;34m:\u001b[0m  \u001b[0;31m# pylint:disable=broad-except\u001b[0m\u001b[0;34m\u001b[0m\u001b[0;34m\u001b[0m\u001b[0m\n\u001b[1;32m    993\u001b[0m             \u001b[0;32mif\u001b[0m \u001b[0mhasattr\u001b[0m\u001b[0;34m(\u001b[0m\u001b[0me\u001b[0m\u001b[0;34m,\u001b[0m \u001b[0;34m\"ag_error_metadata\"\u001b[0m\u001b[0;34m)\u001b[0m\u001b[0;34m:\u001b[0m\u001b[0;34m\u001b[0m\u001b[0;34m\u001b[0m\u001b[0m\n\u001b[0;32m--> 994\u001b[0;31m               \u001b[0;32mraise\u001b[0m \u001b[0me\u001b[0m\u001b[0;34m.\u001b[0m\u001b[0mag_error_metadata\u001b[0m\u001b[0;34m.\u001b[0m\u001b[0mto_exception\u001b[0m\u001b[0;34m(\u001b[0m\u001b[0me\u001b[0m\u001b[0;34m)\u001b[0m\u001b[0;34m\u001b[0m\u001b[0;34m\u001b[0m\u001b[0m\n\u001b[0m\u001b[1;32m    995\u001b[0m             \u001b[0;32melse\u001b[0m\u001b[0;34m:\u001b[0m\u001b[0;34m\u001b[0m\u001b[0;34m\u001b[0m\u001b[0m\n\u001b[1;32m    996\u001b[0m               \u001b[0;32mraise\u001b[0m\u001b[0;34m\u001b[0m\u001b[0;34m\u001b[0m\u001b[0m\n",
      "\u001b[0;31mValueError\u001b[0m: in user code:\n\n    /Applications/anaconda3/lib/python3.8/site-packages/keras/engine/training.py:853 train_function  *\n        return step_function(self, iterator)\n    /Applications/anaconda3/lib/python3.8/site-packages/keras/engine/training.py:842 step_function  **\n        outputs = model.distribute_strategy.run(run_step, args=(data,))\n    /Applications/anaconda3/lib/python3.8/site-packages/tensorflow/python/distribute/distribute_lib.py:1286 run\n        return self._extended.call_for_each_replica(fn, args=args, kwargs=kwargs)\n    /Applications/anaconda3/lib/python3.8/site-packages/tensorflow/python/distribute/distribute_lib.py:2849 call_for_each_replica\n        return self._call_for_each_replica(fn, args, kwargs)\n    /Applications/anaconda3/lib/python3.8/site-packages/tensorflow/python/distribute/distribute_lib.py:3632 _call_for_each_replica\n        return fn(*args, **kwargs)\n    /Applications/anaconda3/lib/python3.8/site-packages/keras/engine/training.py:835 run_step  **\n        outputs = model.train_step(data)\n    /Applications/anaconda3/lib/python3.8/site-packages/keras/engine/training.py:787 train_step\n        y_pred = self(x, training=True)\n    /Applications/anaconda3/lib/python3.8/site-packages/keras/engine/base_layer.py:1020 __call__\n        input_spec.assert_input_compatibility(self.input_spec, inputs, self.name)\n    /Applications/anaconda3/lib/python3.8/site-packages/keras/engine/input_spec.py:229 assert_input_compatibility\n        raise ValueError('Input ' + str(input_index) + ' of layer ' +\n\n    ValueError: Input 0 of layer sequential_1 is incompatible with the layer: : expected min_ndim=3, found ndim=2. Full shape received: (None, 11)\n"
     ]
    }
   ],
   "source": [
    "# the model function is called running each model and returning the total values to find averages\n",
    "ANN_mse, ANN_mae, CNN_mse, CNN_mae, RF_mse, RF_mae, DT_mse, DT_mae, LR_mse, LR_mae, Val_mse, Val_mae = models(x_train, y_train, x_trainScaled, x_test, y_test, x_testScaled, ANN_mse, ANN_mae, CNN_mse, CNN_mae, RF_mse, RF_mae, DT_mse, DT_mae, LR_mse, LR_mae)"
   ]
  },
  {
   "cell_type": "code",
   "execution_count": null,
   "id": "86e54260",
   "metadata": {},
   "outputs": [],
   "source": [
    "# relevant totals are then incremented\n",
    "D_mse = D_mse + Val_mse\n",
    "D_mae = D_mae + Val_mae\n",
    "\n",
    "W2_mse = W2_mse + Val_mse\n",
    "W2_mae = W2_mae + Val_mae"
   ]
  },
  {
   "cell_type": "markdown",
   "id": "e865b289",
   "metadata": {},
   "source": [
    "Mean squared error from neural net: \n",
    " 73.11471557617188\n",
    "\n",
    "Mean absolute error from neural net: \n",
    " 6.979510307312012\n",
    "\n",
    " Mean squared error using Random Forest:  148.65500502650914\n",
    "\n",
    "Mean absolute error Using Random Forest:  10.139829090909092\n"
   ]
  },
  {
   "cell_type": "markdown",
   "id": "4162b52e",
   "metadata": {},
   "source": [
    "# Predict 3 Days with 2 Weeks in May 2021 - All SpaceID"
   ]
  },
  {
   "cell_type": "code",
   "execution_count": 20,
   "id": "edce3b3e",
   "metadata": {
    "scrolled": true
   },
   "outputs": [],
   "source": [
    "train = df.loc[df['connectionTime_year'] == 2021]\n",
    "train = train.loc[train['connectionTime_month'] == 5]\n",
    "train = train.loc[train['connectionTime_day'].isin([7,8,9,10,11,12,13,14,15,16,17,18,19,20,21])]"
   ]
  },
  {
   "cell_type": "code",
   "execution_count": 21,
   "id": "b692810c",
   "metadata": {},
   "outputs": [],
   "source": [
    "test = df.loc[df['connectionTime_year']==2021]\n",
    "test = test.loc[test['connectionTime_month'] == 5]"
   ]
  },
  {
   "cell_type": "code",
   "execution_count": 22,
   "id": "e2432f2e",
   "metadata": {},
   "outputs": [],
   "source": [
    "test = test.loc[test['connectionTime_day'].isin([22,23,24])]"
   ]
  },
  {
   "cell_type": "code",
   "execution_count": 23,
   "id": "f255c5ce",
   "metadata": {},
   "outputs": [],
   "source": [
    "y_train = train['kWhDelivered']\n",
    "x_train = train.drop('kWhDelivered', axis=1)\n",
    "x_train = singleNumeric(x_train)\n",
    "y_train = singleNumeric(y_train)\n",
    "x_trainScaled = scaleData(x_train)"
   ]
  },
  {
   "cell_type": "code",
   "execution_count": 24,
   "id": "57e779ba",
   "metadata": {},
   "outputs": [],
   "source": [
    "y_test = test['kWhDelivered']\n",
    "x_test = test.drop('kWhDelivered', axis=1)\n",
    "x_test = singleNumeric(x_test)\n",
    "y_test = singleNumeric(y_test)\n",
    "x_testScaled = scaleData(x_test)"
   ]
  },
  {
   "cell_type": "code",
   "execution_count": 25,
   "id": "f74d2bd4",
   "metadata": {
    "scrolled": true
   },
   "outputs": [
    {
     "name": "stdout",
     "output_type": "stream",
     "text": [
      "Model: \"sequential_2\"\n",
      "_________________________________________________________________\n",
      "Layer (type)                 Output Shape              Param #   \n",
      "=================================================================\n",
      "dense_5 (Dense)              (None, 128)               1536      \n",
      "_________________________________________________________________\n",
      "dense_6 (Dense)              (None, 64)                8256      \n",
      "_________________________________________________________________\n",
      "dense_7 (Dense)              (None, 1)                 65        \n",
      "=================================================================\n",
      "Total params: 9,857\n",
      "Trainable params: 9,857\n",
      "Non-trainable params: 0\n",
      "_________________________________________________________________\n"
     ]
    },
    {
     "data": {
      "image/png": "[encoded data removed]",
      "text/plain": [
       "<Figure size 432x288 with 1 Axes>"
      ]
     },
     "metadata": {
      "needs_background": "light"
     },
     "output_type": "display_data"
    },
    {
     "name": "stdout",
     "output_type": "stream",
     "text": [
      "\n",
      "Predicted values are: \n",
      " [[27.164646]\n",
      " [27.1068  ]\n",
      " [ 8.445383]\n",
      " [ 8.071072]\n",
      " [26.944702]]\n",
      "\n",
      "Real values are: \n",
      " 29530    10.050\n",
      "29531    18.952\n",
      "29532     3.084\n",
      "29533    20.501\n",
      "29534    35.188\n",
      "Name: kWhDelivered, dtype: float64\n",
      "2/2 [==============================] - 0s 2ms/step - loss: 110.2946 - mean_absolute_error: 8.6454\n",
      "\n",
      "Mean squared error from neural net: \n",
      " 110.29463958740234\n",
      "\n",
      "Mean absolute error from neural net: \n",
      " 8.645392417907715\n",
      "\n",
      "Predicted values are:\n",
      "  [[0.00528858 0.00665519 0.00643391 0.0060521  0.00572007 0.00597677\n",
      "  0.00563063 0.00556474 0.0061792  0.00582845 0.00634057 0.00573524\n",
      "  0.00509832 0.00589275 0.00561546 0.00566721 0.00522507 0.00564499\n",
      "  0.00555583 0.00604364 0.00599525 0.00644574 0.00649164 0.00574561\n",
      "  0.00575577 0.00532281 0.00589453 0.0053635  0.00570451 0.0062667\n",
      "  0.00478437 0.00642815 0.00725346 0.00600967 0.00578095 0.00619896\n",
      "  0.00581924 0.00554369 0.00596502 0.00585692 0.0054586  0.00632776\n",
      "  0.00600012 0.00626497 0.00667003 0.00514579 0.00557586 0.00608157\n",
      "  0.00556978 0.00595008 0.00614271 0.00535789 0.00613769 0.00597399\n",
      "  0.00585311 0.00589843 0.00605829 0.00581778 0.00676812 0.00514774\n",
      "  0.00570003 0.00516336 0.00559843 0.00562166 0.00533015 0.00624355\n",
      "  0.00595635 0.00599129 0.00580784 0.00578751 0.00604877 0.00556125\n",
      "  0.00599503 0.00542299 0.0053871  0.00586073 0.00543111 0.00558752\n",
      "  0.00517211 0.00553959 0.00582616 0.00538292 0.00560218 0.00619754\n",
      "  0.00639574 0.00571135 0.00572787 0.00644626 0.00604972 0.0054361\n",
      "  0.00528428 0.00618538 0.00618539 0.00499359 0.00643671 0.00607381\n",
      "  0.00506567 0.00651572 0.00602248 0.00561266 0.00598321 0.0058605\n",
      "  0.00611012 0.00601649 0.00616034 0.00512557 0.00592716 0.00573562\n",
      "  0.00641566 0.00514787 0.00599925 0.00552958 0.00605478 0.00615353\n",
      "  0.00610576 0.0055875  0.00545596 0.00501068 0.0059568  0.00545689\n",
      "  0.00571444 0.0072334  0.00608008 0.00625599 0.00572246 0.00478624\n",
      "  0.00618304 0.00575672 0.00568326 0.00669387 0.00546505 0.00544035\n",
      "  0.00570083 0.00650419 0.00593865 0.0069508  0.00627868 0.00531006\n",
      "  0.00617572 0.00497306 0.00615926 0.00580856 0.00587252 0.00557862\n",
      "  0.00586556 0.00606113 0.00617847 0.00561965 0.00603468 0.00547456\n",
      "  0.00630208 0.00635725 0.00555574 0.00573845 0.0058383  0.00600334\n",
      "  0.00729719 0.00519972 0.00551618 0.0058317  0.00474919 0.00473845\n",
      "  0.00576347 0.00602305 0.00636737 0.00529887 0.00565703 0.00525656\n",
      "  0.00674975 0.0068698  0.00626002]\n",
      " [0.00528926 0.00665033 0.00642964 0.00605328 0.00572358 0.00597921\n",
      "  0.00563694 0.00557033 0.00618033 0.0058298  0.00634042 0.0057416\n",
      "  0.0051037  0.0058961  0.0056205  0.00566442 0.00523402 0.00564758\n",
      "  0.00556018 0.00603988 0.00599357 0.00644125 0.00648207 0.00574654\n",
      "  0.00576013 0.00532966 0.00589785 0.00536544 0.00570824 0.00626062\n",
      "  0.00479031 0.00642499 0.00724056 0.00600708 0.00578297 0.00619818\n",
      "  0.0058147  0.00554535 0.00596672 0.0058573  0.00545859 0.00632431\n",
      "  0.00600233 0.00626013 0.00665941 0.00515564 0.00557792 0.00608318\n",
      "  0.00556677 0.00595235 0.00613715 0.00536161 0.00613233 0.00597556\n",
      "  0.00585216 0.00589599 0.00606026 0.00582085 0.00675481 0.00515247\n",
      "  0.00569992 0.00516513 0.0055984  0.005629   0.00532943 0.00624269\n",
      "  0.00595815 0.0059913  0.00580688 0.00578846 0.00604214 0.00556392\n",
      "  0.00599556 0.00542392 0.00539279 0.00586093 0.00543127 0.00558551\n",
      "  0.005181   0.00554855 0.00582525 0.00538835 0.00559987 0.00619812\n",
      "  0.00639033 0.00570866 0.00573025 0.0064399  0.00605143 0.00544108\n",
      "  0.00528798 0.00618016 0.00618663 0.00499883 0.00643016 0.00607221\n",
      "  0.00506732 0.00650832 0.00602115 0.00561813 0.00598071 0.00585644\n",
      "  0.00610435 0.00601388 0.00616076 0.00512841 0.00592649 0.005738\n",
      "  0.00640691 0.00515411 0.00600135 0.00552864 0.00605292 0.0061537\n",
      "  0.00610792 0.00558812 0.0054596  0.00501299 0.00595795 0.0054599\n",
      "  0.00571826 0.00721554 0.006077   0.00625388 0.00572172 0.00479549\n",
      "  0.00618752 0.00576004 0.00568334 0.00668311 0.00546773 0.00544581\n",
      "  0.00570196 0.00649727 0.00593536 0.00694266 0.00627554 0.00531226\n",
      "  0.00616737 0.00498018 0.00615327 0.00580528 0.00587277 0.00558304\n",
      "  0.0058676  0.00606338 0.00617025 0.00561949 0.00603326 0.00547957\n",
      "  0.00629803 0.00635435 0.0055621  0.00573936 0.00583968 0.00599958\n",
      "  0.00727558 0.00520701 0.00551921 0.00583486 0.00475661 0.00474554\n",
      "  0.00576237 0.00602285 0.00636083 0.00530658 0.00565987 0.00526291\n",
      "  0.00674133 0.00686319 0.00625746]\n",
      " [0.00500393 0.00615781 0.00626625 0.00587406 0.00558357 0.00590929\n",
      "  0.00526594 0.00531591 0.00572296 0.00579396 0.00591787 0.00573964\n",
      "  0.00510638 0.00584824 0.00565487 0.00565216 0.00505628 0.00573625\n",
      "  0.00606116 0.00568101 0.00532754 0.0064483  0.0065405  0.0054134\n",
      "  0.00570633 0.00509584 0.00575896 0.00488939 0.00560144 0.00609177\n",
      "  0.00508106 0.00659245 0.00694653 0.00638906 0.00597106 0.00636741\n",
      "  0.00618483 0.00583846 0.00585515 0.00574272 0.00576335 0.00614136\n",
      "  0.00636485 0.0063257  0.0068138  0.00555377 0.00562453 0.0062888\n",
      "  0.00537971 0.00611236 0.00598486 0.00524638 0.00581522 0.00585385\n",
      "  0.00564734 0.00597339 0.00603442 0.00645116 0.00645271 0.00516831\n",
      "  0.00561097 0.0055887  0.00582072 0.0061143  0.00510173 0.00613788\n",
      "  0.00615809 0.00598849 0.00563849 0.00629566 0.00619747 0.0054168\n",
      "  0.00619172 0.00554157 0.00564892 0.005933   0.00532297 0.0058405\n",
      "  0.00555839 0.00524825 0.0057929  0.00564833 0.00557852 0.00610187\n",
      "  0.00647117 0.00623107 0.00564558 0.00654647 0.0056701  0.00595911\n",
      "  0.00524298 0.00622359 0.00676338 0.0055821  0.00627735 0.00623011\n",
      "  0.00493309 0.00604378 0.00599727 0.00548689 0.00559875 0.00625539\n",
      "  0.00601497 0.00595088 0.00587065 0.00528622 0.00546404 0.00562745\n",
      "  0.00638436 0.0053542  0.00619736 0.00556445 0.00615195 0.00596569\n",
      "  0.00600763 0.00544477 0.00507345 0.00534539 0.00596135 0.00519508\n",
      "  0.0059235  0.00670377 0.00606548 0.00632151 0.00579527 0.00537326\n",
      "  0.00619602 0.00610447 0.00585475 0.00645007 0.00552582 0.00520303\n",
      "  0.0055818  0.00680858 0.00580793 0.00594556 0.00594488 0.00526167\n",
      "  0.00597674 0.00525947 0.00578042 0.00608963 0.00543445 0.00566056\n",
      "  0.00628266 0.00610878 0.00636988 0.00548241 0.0060404  0.0058761\n",
      "  0.00574091 0.00645489 0.00553614 0.00581228 0.0061871  0.00632904\n",
      "  0.00726408 0.00498506 0.00545263 0.00558746 0.00489421 0.00495329\n",
      "  0.00619692 0.00600482 0.00599775 0.00586793 0.00598632 0.00550978\n",
      "  0.00667929 0.00676063 0.00589063]\n",
      " [0.00503902 0.00607747 0.00616847 0.00583227 0.00554913 0.00586407\n",
      "  0.00531521 0.00545652 0.00570884 0.00582594 0.0060342  0.00585549\n",
      "  0.00528122 0.00575881 0.00567093 0.00560933 0.00518973 0.00579363\n",
      "  0.00603007 0.00561037 0.00542485 0.00630384 0.00642931 0.0053812\n",
      "  0.00575458 0.00518711 0.00576968 0.00501775 0.00568365 0.00595026\n",
      "  0.00519627 0.00640417 0.00679792 0.00638446 0.00595247 0.00617642\n",
      "  0.00595968 0.00590794 0.0059476  0.00568901 0.00568105 0.00617236\n",
      "  0.00625224 0.00623    0.00657583 0.00569683 0.00574167 0.00622002\n",
      "  0.00548578 0.00601389 0.00586844 0.00536064 0.00574302 0.00587519\n",
      "  0.00562999 0.00598838 0.00593837 0.00627634 0.00633124 0.00530455\n",
      "  0.00564551 0.00561009 0.00574171 0.0062356  0.00525834 0.00613153\n",
      "  0.00614148 0.00625249 0.00560488 0.00629601 0.00607885 0.00545554\n",
      "  0.00617249 0.00556967 0.00567195 0.00589689 0.00547943 0.00592097\n",
      "  0.00562949 0.00529927 0.00576343 0.0057539  0.00555438 0.00604658\n",
      "  0.00628888 0.00615848 0.00575714 0.00649063 0.00568191 0.00601811\n",
      "  0.00537107 0.00613237 0.00671219 0.00571346 0.00617984 0.00619995\n",
      "  0.0050368  0.00603522 0.00613513 0.00559278 0.00550304 0.00628958\n",
      "  0.00589484 0.00601073 0.00586275 0.00539248 0.00553218 0.00578987\n",
      "  0.00640321 0.00554876 0.00601515 0.00576208 0.00619256 0.00594786\n",
      "  0.00593485 0.00556022 0.0051344  0.00533722 0.0059895  0.00530786\n",
      "  0.00591114 0.00642516 0.00600081 0.00636959 0.0057932  0.00550704\n",
      "  0.00611365 0.00604764 0.00593334 0.00621038 0.00555347 0.00535432\n",
      "  0.00558011 0.00661768 0.00578938 0.00589028 0.00591835 0.00537868\n",
      "  0.00591174 0.00542063 0.00573983 0.00597591 0.00555074 0.00561887\n",
      "  0.00626614 0.00608041 0.00641222 0.00550637 0.00598787 0.00592217\n",
      "  0.00582405 0.00633013 0.00556158 0.00572734 0.00618073 0.00614544\n",
      "  0.00698552 0.00506866 0.00552869 0.00547878 0.00505213 0.00514695\n",
      "  0.00619756 0.00598311 0.00588759 0.0059407  0.0060261  0.00557988\n",
      "  0.00649343 0.00671658 0.00585955]\n",
      " [0.00528993 0.00663521 0.00641732 0.00605515 0.0057337  0.00598754\n",
      "  0.0056537  0.00558834 0.00618298 0.00583253 0.0063412  0.00576027\n",
      "  0.0051203  0.00590555 0.00563716 0.00565432 0.00526082 0.00565447\n",
      "  0.00557443 0.00602751 0.00598488 0.00642694 0.00645255 0.0057481\n",
      "  0.00577477 0.00535027 0.00590995 0.0053697  0.00572022 0.0062404\n",
      "  0.0048076  0.00641814 0.00720096 0.00599915 0.00579004 0.00619607\n",
      "  0.00580043 0.00555066 0.00596946 0.00585582 0.00545905 0.00631619\n",
      "  0.00600818 0.00624479 0.00662716 0.00518826 0.00558449 0.00608861\n",
      "  0.0055593  0.00595744 0.00612007 0.00537318 0.00611686 0.005982\n",
      "  0.00584916 0.00588812 0.00606806 0.00582768 0.00671552 0.00516482\n",
      "  0.00569872 0.00517096 0.00559838 0.00565451 0.00532769 0.00624159\n",
      "  0.00596371 0.00599532 0.0058017  0.00579293 0.00602121 0.0055737\n",
      "  0.00599829 0.00542544 0.00540891 0.00586114 0.00543288 0.00558045\n",
      "  0.00521019 0.00557353 0.00582094 0.00540379 0.00559134 0.00619948\n",
      "  0.00637329 0.00570102 0.00573753 0.00642132 0.00605313 0.00545394\n",
      "  0.0052977  0.00616325 0.00619202 0.0050155  0.00641059 0.00606951\n",
      "  0.0050711  0.00648698 0.00602083 0.0056367  0.00597086 0.00584594\n",
      "  0.00608542 0.00600968 0.00616112 0.00513755 0.00592499 0.00574593\n",
      "  0.00637917 0.00517411 0.00600474 0.00552483 0.00604916 0.00615128\n",
      "  0.00611463 0.0055905  0.00546768 0.00501913 0.00596126 0.00546801\n",
      "  0.00573157 0.00716061 0.00607036 0.00624747 0.00571946 0.00482421\n",
      "  0.00619964 0.00576925 0.00568751 0.00665182 0.00547744 0.00546188\n",
      "  0.00570213 0.00647592 0.00592382 0.00691754 0.00626286 0.00531977\n",
      "  0.00614191 0.00500168 0.00613376 0.00579455 0.00587492 0.00559669\n",
      "  0.00587281 0.00606942 0.00614782 0.00561718 0.00602949 0.00549527\n",
      "  0.00628582 0.00634556 0.00558394 0.00574303 0.00584542 0.00598765\n",
      "  0.00721071 0.00522643 0.00552998 0.00584546 0.00478091 0.00476717\n",
      "  0.00575976 0.00602274 0.00633736 0.00533168 0.00567025 0.0052804\n",
      "  0.00671924 0.00684473 0.00624836]]\n",
      "\n",
      "Real values are: \n",
      " 29530    10.050\n",
      "29531    18.952\n",
      "29532     3.084\n",
      "29533    20.501\n",
      "29534    35.188\n",
      "Name: kWhDelivered, dtype: float64\n"
     ]
    },
    {
     "name": "stdout",
     "output_type": "stream",
     "text": [
      "2/2 [==============================] - 0s 2ms/step - loss: 209.0930 - mean_absolute_error: 10.2987\n",
      "\n",
      "Mean squared error from Convolutional neural net:  209.0929718017578\n",
      "\n",
      "Mean absolute error from Convolutional neural net:  10.298651695251465\n",
      "\n",
      "Mean squared error from linear regression:  336.49808908576375\n",
      "\n",
      "Mean absolute error from linear regression:  12.149743707123902\n",
      "\n",
      "Mean squared error using decision tree:  224.6200447894737\n",
      "\n",
      "Mean absolute error using decision tree:  9.023894736842108\n",
      "\n",
      "Mean squared error using Random Forest:  118.26499309245271\n",
      "\n",
      "Mean absolute error Using Random Forest:  8.835013684210532\n",
      "\n",
      " The features ranking by importance to the RF Model\n",
      "\n",
      " doneChargingTime            0.272714\n",
      "disconnectTime              0.247277\n",
      "connectionTime              0.240627\n",
      "spaceID                     0.094457\n",
      "connectionTime_dayofweek    0.090159\n",
      "connectionTime_day          0.047802\n",
      "connectionTime_week         0.006964\n",
      "_id                         0.000000\n",
      "siteID                      0.000000\n",
      "connectionTime_year         0.000000\n",
      "connectionTime_month        0.000000\n",
      "dtype: float64\n"
     ]
    }
   ],
   "source": [
    "ANN_mse, ANN_mae, CNN_mse, CNN_mae, RF_mse, RF_mae, DT_mse, DT_mae, LR_mse, LR_mae, Val_mse, Val_mae = models(x_train, y_train, x_trainScaled, x_test, y_test, x_testScaled, ANN_mse, ANN_mae, CNN_mse, CNN_mae, RF_mse, RF_mae, DT_mse, DT_mae, LR_mse, LR_mae)"
   ]
  },
  {
   "cell_type": "code",
   "execution_count": 26,
   "id": "4fccf68b",
   "metadata": {},
   "outputs": [],
   "source": [
    "D3_mse = D3_mse + Val_mse\n",
    "D3_mae = D3_mae + Val_mae\n",
    "\n",
    "W2_mse = W2_mse + Val_mse\n",
    "W2_mae = W2_mae + Val_mae"
   ]
  },
  {
   "cell_type": "markdown",
   "id": "eb448bac",
   "metadata": {},
   "source": [
    "Mean squared error from neural net: \n",
    " 105.27364349365234\n",
    "\n",
    "Mean absolute error from neural net: \n",
    " 8.460984230041504\n",
    "\n",
    "\n",
    "Mean squared error using Random Forest:  118.26499309245271\n",
    "\n",
    "Mean absolute error Using Random Forest:  8.835013684210532"
   ]
  },
  {
   "cell_type": "markdown",
   "id": "252d333d",
   "metadata": {},
   "source": [
    "# Predict 5 Days with 2 Weeks of Data"
   ]
  },
  {
   "cell_type": "code",
   "execution_count": 27,
   "id": "4dac744e",
   "metadata": {
    "scrolled": true
   },
   "outputs": [],
   "source": [
    "train = df.loc[df['connectionTime_year'] == 2021]\n",
    "train = train.loc[train['connectionTime_month'] == 5]\n",
    "train = train.loc[train['connectionTime_day'].isin([7,8,9,10,11,12,13,14,15,16,17,18,19,20,21])]"
   ]
  },
  {
   "cell_type": "code",
   "execution_count": 28,
   "id": "3c00cddf",
   "metadata": {},
   "outputs": [],
   "source": [
    "test = df.loc[df['connectionTime_year']==2021]\n",
    "test = test.loc[test['connectionTime_month'] == 5]"
   ]
  },
  {
   "cell_type": "code",
   "execution_count": 29,
   "id": "a9b0d835",
   "metadata": {},
   "outputs": [],
   "source": [
    "test = test.loc[test['connectionTime_day'].isin([22,23,24,25,26])]"
   ]
  },
  {
   "cell_type": "code",
   "execution_count": 30,
   "id": "c34a5a83",
   "metadata": {},
   "outputs": [],
   "source": [
    "y_train = train['kWhDelivered']\n",
    "x_train = train.drop('kWhDelivered', axis=1)\n",
    "x_train = singleNumeric(x_train)\n",
    "y_train = singleNumeric(y_train)\n",
    "x_trainScaled = scaleData(x_train)"
   ]
  },
  {
   "cell_type": "code",
   "execution_count": 31,
   "id": "934c65f6",
   "metadata": {},
   "outputs": [],
   "source": [
    "y_test = test['kWhDelivered']\n",
    "x_test = test.drop('kWhDelivered', axis=1)\n",
    "x_test = singleNumeric(x_test)\n",
    "y_test = singleNumeric(y_test)\n",
    "x_testScaled = scaleData(x_test)"
   ]
  },
  {
   "cell_type": "code",
   "execution_count": 32,
   "id": "f7d167e4",
   "metadata": {
    "scrolled": true
   },
   "outputs": [
    {
     "name": "stdout",
     "output_type": "stream",
     "text": [
      "Model: \"sequential_4\"\n",
      "_________________________________________________________________\n",
      "Layer (type)                 Output Shape              Param #   \n",
      "=================================================================\n",
      "dense_10 (Dense)             (None, 128)               1536      \n",
      "_________________________________________________________________\n",
      "dense_11 (Dense)             (None, 64)                8256      \n",
      "_________________________________________________________________\n",
      "dense_12 (Dense)             (None, 1)                 65        \n",
      "=================================================================\n",
      "Total params: 9,857\n",
      "Trainable params: 9,857\n",
      "Non-trainable params: 0\n",
      "_________________________________________________________________\n"
     ]
    },
    {
     "data": {
      "image/png": "[encoded data removed]",
      "text/plain": [
       "<Figure size 432x288 with 1 Axes>"
      ]
     },
     "metadata": {
      "needs_background": "light"
     },
     "output_type": "display_data"
    },
    {
     "name": "stdout",
     "output_type": "stream",
     "text": [
      "WARNING:tensorflow:5 out of the last 5 calls to <function Model.make_predict_function.<locals>.predict_function at 0x7fce6fc879d0> triggered tf.function retracing. Tracing is expensive and the excessive number of tracings could be due to (1) creating @tf.function repeatedly in a loop, (2) passing tensors with different shapes, (3) passing Python objects instead of tensors. For (1), please define your @tf.function outside of the loop. For (2), @tf.function has experimental_relax_shapes=True option that relaxes argument shapes that can avoid unnecessary retracing. For (3), please refer to https://www.tensorflow.org/guide/function#controlling_retracing and https://www.tensorflow.org/api_docs/python/tf/function for  more details.\n",
      "\n",
      "Predicted values are: \n",
      " [[24.737204]\n",
      " [24.71277 ]\n",
      " [ 9.406624]\n",
      " [ 9.176279]\n",
      " [24.65068 ]]\n",
      "\n",
      "Real values are: \n",
      " 29530    10.050\n",
      "29531    18.952\n",
      "29532     3.084\n",
      "29533    20.501\n",
      "29534    35.188\n",
      "Name: kWhDelivered, dtype: float64\n",
      "3/3 [==============================] - 0s 1ms/step - loss: 132.6852 - mean_absolute_error: 8.5777\n",
      "\n",
      "Mean squared error from neural net: \n",
      " 132.68515014648438\n",
      "\n",
      "Mean absolute error from neural net: \n",
      " 8.577713966369629\n",
      "WARNING:tensorflow:6 out of the last 6 calls to <function Model.make_predict_function.<locals>.predict_function at 0x7fce70198430> triggered tf.function retracing. Tracing is expensive and the excessive number of tracings could be due to (1) creating @tf.function repeatedly in a loop, (2) passing tensors with different shapes, (3) passing Python objects instead of tensors. For (1), please define your @tf.function outside of the loop. For (2), @tf.function has experimental_relax_shapes=True option that relaxes argument shapes that can avoid unnecessary retracing. For (3), please refer to https://www.tensorflow.org/guide/function#controlling_retracing and https://www.tensorflow.org/api_docs/python/tf/function for  more details.\n",
      "\n",
      "Predicted values are:\n",
      "  [[0.00577154 0.00545727 0.00615765 0.00586223 0.00558583 0.0054897\n",
      "  0.00622796 0.00535806 0.0065288  0.00601372 0.00581486 0.00536348\n",
      "  0.00586779 0.00550164 0.00593278 0.00584717 0.00572041 0.00563405\n",
      "  0.00560471 0.00587953 0.00525487 0.00590424 0.00575451 0.00669125\n",
      "  0.0052205  0.00584641 0.00478615 0.00614636 0.00547634 0.00609579\n",
      "  0.00599963 0.00539326 0.00569047 0.00606858 0.00550932 0.00615563\n",
      "  0.00596908 0.00576979 0.00648619 0.00597866 0.00659543 0.0050596\n",
      "  0.0055859  0.00549349 0.00590451 0.00553173 0.00547291 0.00615176\n",
      "  0.00537079 0.00630856 0.0058598  0.00578723 0.00512991 0.00579588\n",
      "  0.00564454 0.00524217 0.00585864 0.00520157 0.00642342 0.00612821\n",
      "  0.00651269 0.00588329 0.00597245 0.00565562 0.00580672 0.00573464\n",
      "  0.0063446  0.00577561 0.00610125 0.00631303 0.00583592 0.0063772\n",
      "  0.00590124 0.00663087 0.00548678 0.00570067 0.00657249 0.00547471\n",
      "  0.0060615  0.00615358 0.00553843 0.00548622 0.00607302 0.00646317\n",
      "  0.00531868 0.00558771 0.00571472 0.00590443 0.00512825 0.00543635\n",
      "  0.00565564 0.00521286 0.00556282 0.00561149 0.00595077 0.00565511\n",
      "  0.00574114 0.00639515 0.00592866 0.00595244 0.00617376 0.00583057\n",
      "  0.00554098 0.00519918 0.00648602 0.00689261 0.00597499 0.00553514\n",
      "  0.00621476 0.00601728 0.00569156 0.00671804 0.00527838 0.00552366\n",
      "  0.00633998 0.00530546 0.00564606 0.00568279 0.00602737 0.0055446\n",
      "  0.00538924 0.00606589 0.00565535 0.0063713  0.00602848 0.00573269\n",
      "  0.00551827 0.00527269 0.00583007 0.00513704 0.00613792 0.00658624\n",
      "  0.00545464 0.00564419 0.00569412 0.00580358 0.00640451 0.00582036\n",
      "  0.00632896 0.00646331 0.00573323 0.00566321 0.00591304 0.00528015\n",
      "  0.00664083 0.0062692  0.00585394 0.00546793 0.00708958 0.00578854\n",
      "  0.00622282 0.00644433 0.00645395 0.0056517  0.0062493  0.0055014\n",
      "  0.00599884 0.00653149 0.0054447  0.00515052 0.00566323 0.00600011\n",
      "  0.00744477 0.00592879 0.00554224 0.00586248 0.00523216 0.00533502\n",
      "  0.00576139 0.00567912 0.00626579]\n",
      " [0.00576941 0.00545874 0.00615872 0.00586098 0.00558686 0.00549131\n",
      "  0.00622525 0.0053588  0.0065234  0.00601441 0.00580979 0.00536477\n",
      "  0.00586675 0.00550397 0.00592865 0.00584783 0.00572308 0.00563591\n",
      "  0.00560192 0.00588057 0.00525776 0.0059038  0.00575632 0.00668794\n",
      "  0.0052228  0.00584521 0.00479009 0.00614253 0.0054798  0.00609822\n",
      "  0.00600173 0.0053933  0.00569279 0.00606891 0.00551123 0.00615405\n",
      "  0.00596948 0.00577004 0.00648157 0.00597537 0.00658964 0.00506383\n",
      "  0.00558843 0.00549382 0.00590616 0.00553501 0.00547391 0.00615148\n",
      "  0.00537271 0.00630531 0.00586232 0.00578805 0.00513521 0.00579787\n",
      "  0.00564574 0.0052484  0.00586009 0.00520004 0.00642394 0.0061263\n",
      "  0.00650967 0.00588174 0.00596836 0.00565636 0.0058089  0.00573543\n",
      "  0.00634146 0.00577496 0.00609956 0.00631255 0.0058362  0.00637617\n",
      "  0.00590335 0.00662681 0.00548812 0.00569769 0.00656983 0.00547499\n",
      "  0.0060587  0.00615141 0.00554121 0.00548734 0.0060719  0.00646155\n",
      "  0.00531995 0.00558888 0.00571716 0.00590451 0.0051365  0.00543876\n",
      "  0.00565668 0.00521308 0.00556588 0.00561418 0.00594985 0.00565875\n",
      "  0.00573967 0.00639443 0.0059278  0.00595014 0.00617093 0.00583398\n",
      "  0.00553968 0.00520532 0.00648115 0.00688764 0.00597088 0.00553876\n",
      "  0.00621164 0.0060176  0.00569578 0.00671419 0.00528153 0.00552789\n",
      "  0.00633382 0.00530897 0.00564491 0.00568348 0.00602726 0.00554994\n",
      "  0.00539134 0.00606654 0.00565512 0.00636456 0.00602776 0.00573015\n",
      "  0.00552066 0.00527512 0.00582649 0.00513831 0.0061362  0.00658293\n",
      "  0.00545624 0.0056456  0.00569608 0.00580348 0.0064011  0.00582273\n",
      "  0.00632611 0.00646221 0.00573118 0.00566855 0.00591352 0.00528079\n",
      "  0.00663734 0.00626953 0.00585037 0.0054695  0.00708219 0.00578773\n",
      "  0.00622008 0.00644324 0.00645161 0.00565415 0.00624846 0.005504\n",
      "  0.0059988  0.00652814 0.00544906 0.00515201 0.00566255 0.00600386\n",
      "  0.00743713 0.00592858 0.00553867 0.00586328 0.00523941 0.00533739\n",
      "  0.00576134 0.0056799  0.00626082]\n",
      " [0.00544832 0.00513425 0.00645467 0.00561225 0.00515906 0.00527946\n",
      "  0.0061086  0.00539388 0.00635771 0.0059578  0.00635673 0.00567191\n",
      "  0.00560083 0.00558371 0.00547092 0.00566973 0.00575525 0.00566109\n",
      "  0.00567583 0.00578206 0.00563497 0.00573725 0.00570099 0.00680214\n",
      "  0.00534318 0.00594976 0.00492368 0.00581877 0.0056371  0.00569487\n",
      "  0.00610484 0.0058763  0.00548726 0.00619251 0.00535193 0.00625839\n",
      "  0.00595087 0.00577916 0.00627696 0.0058763  0.00631534 0.00528363\n",
      "  0.00591081 0.005812   0.00557655 0.00573596 0.00553792 0.00631588\n",
      "  0.00554214 0.00653747 0.00564154 0.00555174 0.005523   0.00548448\n",
      "  0.00570947 0.0055748  0.00575217 0.00562058 0.00655019 0.00608044\n",
      "  0.00631835 0.0056412  0.00574162 0.00543697 0.00575632 0.00527766\n",
      "  0.00607489 0.00545937 0.00610563 0.00629505 0.00552605 0.00667225\n",
      "  0.00575843 0.0066724  0.00527128 0.00597588 0.00624723 0.00559366\n",
      "  0.00642624 0.00583137 0.00609457 0.00558504 0.00658439 0.00585851\n",
      "  0.00539228 0.00588593 0.00566794 0.00616247 0.00517294 0.00513525\n",
      "  0.00588865 0.00521926 0.00536465 0.00616431 0.0058713  0.00551419\n",
      "  0.00600374 0.00635055 0.00605684 0.00615306 0.00595291 0.00558179\n",
      "  0.0058424  0.00514684 0.00625128 0.00698661 0.00647912 0.00561359\n",
      "  0.00597055 0.00633125 0.00529016 0.00698017 0.00568455 0.00575458\n",
      "  0.00656266 0.00529895 0.0058017  0.00582892 0.00559702 0.00534802\n",
      "  0.00579062 0.00603885 0.00575664 0.00618978 0.0062235  0.00534072\n",
      "  0.00553338 0.00511122 0.00590255 0.00525215 0.00628051 0.00639023\n",
      "  0.00555243 0.00600856 0.00545067 0.00614318 0.00608691 0.00540782\n",
      "  0.00633299 0.00666736 0.00537361 0.00562893 0.00563253 0.00534935\n",
      "  0.00589477 0.00609695 0.00610648 0.00579781 0.00692662 0.00587186\n",
      "  0.00627659 0.0062453  0.00639348 0.00593455 0.00592512 0.00533549\n",
      "  0.0062245  0.00650813 0.00540732 0.00531347 0.00587242 0.00623186\n",
      "  0.00688803 0.00583194 0.00576565 0.00611817 0.00497121 0.00534741\n",
      "  0.00536241 0.00626188 0.00654798]\n",
      " [0.00543151 0.00521348 0.00645412 0.00559554 0.00523586 0.00533858\n",
      "  0.0061018  0.00542134 0.00627235 0.00591275 0.00632561 0.00569137\n",
      "  0.00566813 0.00559943 0.00541491 0.00570315 0.00576436 0.00577783\n",
      "  0.00567732 0.00573257 0.00562814 0.00577892 0.00569059 0.00670739\n",
      "  0.00539183 0.0059012  0.00500043 0.00583297 0.00558982 0.00574628\n",
      "  0.00612795 0.00579761 0.00555344 0.00622248 0.0054464  0.00621714\n",
      "  0.00601999 0.0058395  0.00617038 0.00578497 0.00622775 0.00534354\n",
      "  0.00590626 0.00579423 0.00558695 0.00584182 0.00559036 0.0063307\n",
      "  0.00558801 0.00645135 0.00570584 0.00557377 0.00559224 0.00552063\n",
      "  0.00574833 0.00567282 0.00574428 0.00558204 0.00649754 0.00599836\n",
      "  0.0062822  0.00560682 0.00572779 0.00547439 0.00573938 0.00530983\n",
      "  0.00609825 0.00551429 0.00609573 0.00625275 0.00551874 0.00655789\n",
      "  0.00577478 0.00657909 0.00531806 0.00594669 0.00621419 0.00558903\n",
      "  0.00623295 0.00582425 0.00611288 0.00562687 0.00661201 0.00579714\n",
      "  0.00547086 0.00588667 0.00564072 0.00610228 0.00530759 0.00521166\n",
      "  0.00594429 0.00524173 0.00541292 0.00614968 0.00586706 0.00559132\n",
      "  0.0059647  0.00631883 0.00605672 0.00608387 0.00586303 0.00563969\n",
      "  0.00582845 0.00522559 0.00619893 0.00688943 0.00633716 0.00566857\n",
      "  0.00590275 0.00637962 0.00537562 0.00687882 0.00566898 0.00574887\n",
      "  0.00648621 0.00539741 0.00579837 0.00586035 0.00558749 0.00555189\n",
      "  0.00580824 0.00602597 0.00575789 0.00608859 0.00619088 0.0053208\n",
      "  0.00560033 0.00522398 0.00585481 0.00533999 0.00622321 0.00640559\n",
      "  0.00559405 0.00600717 0.00550007 0.00614092 0.00599543 0.00549019\n",
      "  0.00633388 0.00652651 0.00540121 0.00569527 0.00571211 0.00539428\n",
      "  0.00588296 0.00613199 0.00606757 0.00586148 0.00671827 0.00584677\n",
      "  0.0062285  0.00624178 0.00633839 0.00591207 0.00588377 0.00536386\n",
      "  0.00622813 0.00644499 0.00550961 0.00536351 0.00587188 0.00625459\n",
      "  0.00671132 0.00580399 0.00571887 0.00604547 0.00505128 0.00535989\n",
      "  0.00545147 0.0061848  0.00647112]\n",
      " [0.0057611  0.00546047 0.00616276 0.00585578 0.00558875 0.00549462\n",
      "  0.00621528 0.00536119 0.00650845 0.00601794 0.00579614 0.0053672\n",
      "  0.00586175 0.00551062 0.00591406 0.00584974 0.00573141 0.00564052\n",
      "  0.00559175 0.00588108 0.00526737 0.00590115 0.00576063 0.00668055\n",
      "  0.00522708 0.00584253 0.00480055 0.00612667 0.00548979 0.00610344\n",
      "  0.00601039 0.00539275 0.00570071 0.00607236 0.00551648 0.00614982\n",
      "  0.00597203 0.00577195 0.0064684  0.00596545 0.00657372 0.00507456\n",
      "  0.00559543 0.00549355 0.0059078  0.00554816 0.00547617 0.00615207\n",
      "  0.00537833 0.00629619 0.00587024 0.00578942 0.00515079 0.0058013\n",
      "  0.00564955 0.0052644  0.00586617 0.0051947  0.00642808 0.00611926\n",
      "  0.00649861 0.00587789 0.00595603 0.00565855 0.00581368 0.00573359\n",
      "  0.00633257 0.0057719  0.00609415 0.00630976 0.00583469 0.00637444\n",
      "  0.00590752 0.006614   0.00549405 0.00568911 0.00655914 0.00547726\n",
      "  0.00605196 0.00614332 0.00554988 0.00549211 0.00607158 0.00645334\n",
      "  0.00532277 0.00559393 0.00572478 0.00590478 0.00515958 0.00544445\n",
      "  0.00566122 0.00521235 0.00557408 0.00562477 0.00594611 0.00566613\n",
      "  0.00573628 0.00638998 0.00592321 0.00594158 0.00616077 0.00584453\n",
      "  0.00553555 0.00522228 0.0064649  0.0068776  0.00596266 0.00554918\n",
      "  0.00620256 0.00602223 0.00570549 0.00670509 0.00529194 0.00554082\n",
      "  0.00632035 0.00532159 0.00564264 0.00569016 0.00602434 0.00556567\n",
      "  0.00539984 0.00606768 0.00565457 0.00634389 0.00602866 0.00571989\n",
      "  0.00552878 0.00528142 0.00581603 0.00514081 0.00613111 0.00657133\n",
      "  0.00546185 0.00565424 0.00570071 0.00580133 0.00638906 0.00582984\n",
      "  0.00631966 0.00645763 0.00572172 0.00568451 0.0059143  0.00528225\n",
      "  0.00662393 0.00627298 0.00583868 0.00547826 0.00706373 0.00578689\n",
      "  0.00621314 0.0064431  0.00644564 0.00566148 0.00624588 0.00551077\n",
      "  0.00600219 0.00652134 0.0054632  0.00515653 0.00566409 0.00601691\n",
      "  0.00741303 0.00592519 0.00553053 0.00586571 0.0052594  0.00534721\n",
      "  0.00575954 0.00568458 0.00624898]]\n",
      "\n",
      "Real values are: \n",
      " 29530    10.050\n",
      "29531    18.952\n",
      "29532     3.084\n",
      "29533    20.501\n",
      "29534    35.188\n",
      "Name: kWhDelivered, dtype: float64\n"
     ]
    },
    {
     "name": "stdout",
     "output_type": "stream",
     "text": [
      "3/3 [==============================] - 0s 1ms/step - loss: 267.7458 - mean_absolute_error: 11.6811\n",
      "\n",
      "Mean squared error from Convolutional neural net:  267.7457580566406\n",
      "\n",
      "Mean absolute error from Convolutional neural net:  11.681137084960938\n",
      "\n",
      "Mean squared error from linear regression:  169.91721082097612\n",
      "\n",
      "Mean absolute error from linear regression:  9.59207799610515\n",
      "\n",
      "Mean squared error using decision tree:  238.68213326865674\n",
      "\n",
      "Mean absolute error using decision tree:  11.487626865671643\n",
      "\n",
      "Mean squared error using Random Forest:  158.4821466998239\n",
      "\n",
      "Mean absolute error Using Random Forest:  10.196450149253732\n",
      "\n",
      " The features ranking by importance to the RF Model\n",
      "\n",
      " doneChargingTime            0.272714\n",
      "disconnectTime              0.247277\n",
      "connectionTime              0.240627\n",
      "spaceID                     0.094457\n",
      "connectionTime_dayofweek    0.090159\n",
      "connectionTime_day          0.047802\n",
      "connectionTime_week         0.006964\n",
      "_id                         0.000000\n",
      "siteID                      0.000000\n",
      "connectionTime_year         0.000000\n",
      "connectionTime_month        0.000000\n",
      "dtype: float64\n"
     ]
    }
   ],
   "source": [
    "ANN_mse, ANN_mae, CNN_mse, CNN_mae, RF_mse, RF_mae, DT_mse, DT_mae, LR_mse, LR_mae, Val_mse, Val_mae = models(x_train, y_train, x_trainScaled, x_test, y_test, x_testScaled, ANN_mse, ANN_mae, CNN_mse, CNN_mae, RF_mse, RF_mae, DT_mse, DT_mae, LR_mse, LR_mae)"
   ]
  },
  {
   "cell_type": "code",
   "execution_count": 33,
   "id": "765f6644",
   "metadata": {},
   "outputs": [],
   "source": [
    "D5_mse = D5_mse + Val_mse\n",
    "D5_mae = D5_mae + Val_mae\n",
    "\n",
    "W2_mse = W2_mse + Val_mse\n",
    "W2_mae = W2_mae + Val_mae"
   ]
  },
  {
   "cell_type": "markdown",
   "id": "010f74bc",
   "metadata": {},
   "source": [
    "Mean squared error from neural net: \n",
    " 133.3348846435547\n",
    "\n",
    "Mean absolute error from neural net: \n",
    " 8.514357566833496\n",
    "\n",
    " Mean squared error using Random Forest:  158.4821466998239\n",
    "\n",
    "Mean absolute error Using Random Forest:  10.196450149253732"
   ]
  },
  {
   "cell_type": "markdown",
   "id": "c91c2358",
   "metadata": {},
   "source": [
    "# Predict 1 Week with 2 weeks of data"
   ]
  },
  {
   "cell_type": "code",
   "execution_count": 34,
   "id": "7e331bd1",
   "metadata": {
    "scrolled": true
   },
   "outputs": [],
   "source": [
    "train = df.loc[df['connectionTime_year'] == 2021]\n",
    "train = train.loc[train['connectionTime_month'] == 5]\n",
    "train = train.loc[train['connectionTime_day'].isin([7,8,9,10,11,12,13,14,15,16,17,18,19,20,21])]"
   ]
  },
  {
   "cell_type": "code",
   "execution_count": 35,
   "id": "602d8aca",
   "metadata": {},
   "outputs": [],
   "source": [
    "test = df.loc[df['connectionTime_year']==2021]\n",
    "test = test.loc[test['connectionTime_month'] == 5]"
   ]
  },
  {
   "cell_type": "code",
   "execution_count": 36,
   "id": "19770c8f",
   "metadata": {},
   "outputs": [],
   "source": [
    "test = test.loc[test['connectionTime_day'].isin([22,23,24,25,26,27,28])]"
   ]
  },
  {
   "cell_type": "code",
   "execution_count": 37,
   "id": "a10bb0d7",
   "metadata": {},
   "outputs": [],
   "source": [
    "y_train = train['kWhDelivered']\n",
    "x_train = train.drop('kWhDelivered', axis=1)\n",
    "x_train = singleNumeric(x_train)\n",
    "y_train = singleNumeric(y_train)\n",
    "x_trainScaled = scaleData(x_train)"
   ]
  },
  {
   "cell_type": "code",
   "execution_count": 38,
   "id": "ec933525",
   "metadata": {},
   "outputs": [],
   "source": [
    "y_test = test['kWhDelivered']\n",
    "x_test = test.drop('kWhDelivered', axis=1)\n",
    "x_test = singleNumeric(x_test)\n",
    "y_test = singleNumeric(y_test)\n",
    "x_testScaled = scaleData(x_test)"
   ]
  },
  {
   "cell_type": "code",
   "execution_count": 39,
   "id": "fd985e75",
   "metadata": {
    "scrolled": true
   },
   "outputs": [
    {
     "name": "stdout",
     "output_type": "stream",
     "text": [
      "Model: \"sequential_6\"\n",
      "_________________________________________________________________\n",
      "Layer (type)                 Output Shape              Param #   \n",
      "=================================================================\n",
      "dense_15 (Dense)             (None, 128)               1536      \n",
      "_________________________________________________________________\n",
      "dense_16 (Dense)             (None, 64)                8256      \n",
      "_________________________________________________________________\n",
      "dense_17 (Dense)             (None, 1)                 65        \n",
      "=================================================================\n",
      "Total params: 9,857\n",
      "Trainable params: 9,857\n",
      "Non-trainable params: 0\n",
      "_________________________________________________________________\n"
     ]
    },
    {
     "data": {
      "image/png": "[encoded data removed]",
      "text/plain": [
       "<Figure size 432x288 with 1 Axes>"
      ]
     },
     "metadata": {
      "needs_background": "light"
     },
     "output_type": "display_data"
    },
    {
     "name": "stdout",
     "output_type": "stream",
     "text": [
      "\n",
      "Predicted values are: \n",
      " [[23.147518]\n",
      " [23.12355 ]\n",
      " [ 9.734891]\n",
      " [ 9.329319]\n",
      " [23.057041]]\n",
      "\n",
      "Real values are: \n",
      " 29530    10.050\n",
      "29531    18.952\n",
      "29532     3.084\n",
      "29533    20.501\n",
      "29534    35.188\n",
      "Name: kWhDelivered, dtype: float64\n",
      "3/3 [==============================] - 0s 2ms/step - loss: 141.1441 - mean_absolute_error: 8.9982\n",
      "\n",
      "Mean squared error from neural net: \n",
      " 141.14413452148438\n",
      "\n",
      "Mean absolute error from neural net: \n",
      " 8.998169898986816\n",
      "\n",
      "Predicted values are:\n",
      "  [[0.00547417 0.00618395 0.00604713 0.0060611  0.00603073 0.00595825\n",
      "  0.00524143 0.00547306 0.00658994 0.0061322  0.00630112 0.00500669\n",
      "  0.00563715 0.00677895 0.00626301 0.00683683 0.00628802 0.00531492\n",
      "  0.00606687 0.0063153  0.00583718 0.00593535 0.00578121 0.00540275\n",
      "  0.00660728 0.00578533 0.00594486 0.00583462 0.00647336 0.00655452\n",
      "  0.00629153 0.00608376 0.00580729 0.00618409 0.00558299 0.00566164\n",
      "  0.00610809 0.0069487  0.00583503 0.00620829 0.00493299 0.00620534\n",
      "  0.00555643 0.00551278 0.00499591 0.0063081  0.00579828 0.00601615\n",
      "  0.00635136 0.00542904 0.00535458 0.00502001 0.00645412 0.00590176\n",
      "  0.00664325 0.00621941 0.00567568 0.00569657 0.00498653 0.0063646\n",
      "  0.00602672 0.00573598 0.00505868 0.00582053 0.00620469 0.00544843\n",
      "  0.00546024 0.00632268 0.00595983 0.00650295 0.00559897 0.00546807\n",
      "  0.00502943 0.00601063 0.00581558 0.00565674 0.00592261 0.00658911\n",
      "  0.00493763 0.00454309 0.00564287 0.00567711 0.00557497 0.00573621\n",
      "  0.00593854 0.00531389 0.00544462 0.00555906 0.00610884 0.00589043\n",
      "  0.00612039 0.00637232 0.00591198 0.00509264 0.00545846 0.00578913\n",
      "  0.00595784 0.00588327 0.00568319 0.00561624 0.00507214 0.00588405\n",
      "  0.00537411 0.00636641 0.00503812 0.00539471 0.00633776 0.00622691\n",
      "  0.00639832 0.00566858 0.00625827 0.00624716 0.00638268 0.00636776\n",
      "  0.00594171 0.00520985 0.00629679 0.00592424 0.00658057 0.00681508\n",
      "  0.00641921 0.00578961 0.00585458 0.00617741 0.00527542 0.00582984\n",
      "  0.00577666 0.0062655  0.00564234 0.00511365 0.00608691 0.00629393\n",
      "  0.00537849 0.00568498 0.00506846 0.00610222 0.00611864 0.00619763\n",
      "  0.00560016 0.00541688 0.00557296 0.00550693 0.00689727 0.00613625\n",
      "  0.00540992 0.00585183 0.00632543 0.00598992 0.00538785 0.00573908\n",
      "  0.00553165 0.00502752 0.00524188 0.00604209 0.00490459 0.00579476\n",
      "  0.00552738 0.00522018 0.00587123 0.00645108 0.00651842 0.00516994\n",
      "  0.00529938 0.00552233 0.00656093 0.0054709  0.00679125 0.00589972\n",
      "  0.00519131 0.00610365 0.0059885 ]\n",
      " [0.00547364 0.00618349 0.00604531 0.00605646 0.00603053 0.00596124\n",
      "  0.0052408  0.00547086 0.00659004 0.00612918 0.00629977 0.00500772\n",
      "  0.00563754 0.00677488 0.00626284 0.00683454 0.00628713 0.0053154\n",
      "  0.00606784 0.00631217 0.00583538 0.00593447 0.0057805  0.00540312\n",
      "  0.00660722 0.0057839  0.00594484 0.00583255 0.00647316 0.00655176\n",
      "  0.00628679 0.00608441 0.00580917 0.00618539 0.00558392 0.00566089\n",
      "  0.00610665 0.00694593 0.00583436 0.0062055  0.00493306 0.00620346\n",
      "  0.00555819 0.00550989 0.00499861 0.00630662 0.00579767 0.00601565\n",
      "  0.00635059 0.00542949 0.00535564 0.00502119 0.00645203 0.00590043\n",
      "  0.00664018 0.00622132 0.00567505 0.00569604 0.00498993 0.00636673\n",
      "  0.00602613 0.00573524 0.00506127 0.00582399 0.00620216 0.00544832\n",
      "  0.00546149 0.00632348 0.00595989 0.00650185 0.00560016 0.00546974\n",
      "  0.00503211 0.00600939 0.00581589 0.00565727 0.00592474 0.00658726\n",
      "  0.00493898 0.00454497 0.0056432  0.00567846 0.00557487 0.0057367\n",
      "  0.00593852 0.00531587 0.00544858 0.00556235 0.0061086  0.00589049\n",
      "  0.00612182 0.00637282 0.00591238 0.0050938  0.00546069 0.00578791\n",
      "  0.00595688 0.00588284 0.00568711 0.00561492 0.00507258 0.00588263\n",
      "  0.00537491 0.00636569 0.00504174 0.00539702 0.00633552 0.00622605\n",
      "  0.00639642 0.00567101 0.00625659 0.00624556 0.00638033 0.00636721\n",
      "  0.00594073 0.00521205 0.00629484 0.00592642 0.00657684 0.0068122\n",
      "  0.00641623 0.00578979 0.00585558 0.00617781 0.00527768 0.00582749\n",
      "  0.00577679 0.00626588 0.00564522 0.00511737 0.00608636 0.00629133\n",
      "  0.00538158 0.00568497 0.00507056 0.00610162 0.00612037 0.00619998\n",
      "  0.00560093 0.00541863 0.00557409 0.00550766 0.00689338 0.00613699\n",
      "  0.00541026 0.00585017 0.00632774 0.00598857 0.00538945 0.00573917\n",
      "  0.00553203 0.00502906 0.00524371 0.00604249 0.0049083  0.00579287\n",
      "  0.00552962 0.00522154 0.00587009 0.00645057 0.00651663 0.00517243\n",
      "  0.00530337 0.00552184 0.00656107 0.00547098 0.00679007 0.00589843\n",
      "  0.00519176 0.00610168 0.00598535]\n",
      " [0.00532024 0.00631233 0.00649505 0.00617986 0.00597934 0.00613357\n",
      "  0.00550047 0.00552718 0.00657416 0.00597429 0.00613532 0.00543512\n",
      "  0.00556378 0.00713115 0.00603142 0.00653207 0.00636414 0.00532509\n",
      "  0.00585857 0.00589772 0.00585592 0.00600919 0.00598574 0.0051345\n",
      "  0.00649452 0.00584102 0.00591627 0.0059915  0.00623079 0.00641974\n",
      "  0.00627076 0.00564315 0.0057875  0.00618677 0.0059927  0.00572014\n",
      "  0.00623937 0.00686474 0.00600454 0.00610897 0.00510489 0.00610717\n",
      "  0.00559627 0.00581437 0.00522521 0.00606248 0.00612693 0.00599557\n",
      "  0.00617073 0.00534497 0.00570806 0.0049705  0.00669855 0.00557644\n",
      "  0.00653973 0.0061333  0.00579213 0.00569168 0.00490328 0.00634941\n",
      "  0.0058794  0.0056865  0.0051409  0.00579424 0.00589986 0.00549653\n",
      "  0.0055247  0.00657153 0.00605178 0.0061283  0.0055813  0.00556871\n",
      "  0.00511649 0.00594972 0.00615356 0.00581123 0.00556436 0.00606211\n",
      "  0.00500217 0.00461278 0.00562089 0.00598616 0.0058056  0.00559992\n",
      "  0.00566382 0.0054481  0.00556674 0.00606021 0.00615738 0.00576529\n",
      "  0.00622306 0.00647071 0.00607671 0.00532109 0.00532187 0.00593785\n",
      "  0.00571479 0.00609781 0.00584263 0.00557396 0.00498383 0.00586103\n",
      "  0.00518472 0.00650652 0.00529325 0.00532743 0.00628618 0.00586582\n",
      "  0.00624264 0.00524883 0.00640403 0.00621581 0.00624672 0.00632535\n",
      "  0.00587666 0.00538655 0.00633855 0.00584512 0.00639261 0.00655431\n",
      "  0.00638596 0.00563987 0.00593437 0.00618434 0.00509548 0.00574024\n",
      "  0.0057506  0.00630504 0.00571549 0.0051095  0.00587413 0.00581791\n",
      "  0.00562844 0.00586348 0.00524672 0.00587848 0.00620366 0.00590832\n",
      "  0.00573013 0.00580941 0.00585857 0.00573555 0.00627116 0.00613317\n",
      "  0.00501809 0.00598711 0.00603349 0.00584374 0.00574293 0.00590055\n",
      "  0.00561824 0.00503105 0.00545715 0.00581252 0.00527573 0.005469\n",
      "  0.00572655 0.00526197 0.00608286 0.0062844  0.00635508 0.00547129\n",
      "  0.00537915 0.00554677 0.00640302 0.00570206 0.00648831 0.00590411\n",
      "  0.00552145 0.00602309 0.00572303]\n",
      " [0.00533195 0.00629283 0.00643065 0.00612093 0.00595817 0.00617672\n",
      "  0.00550513 0.0054995  0.00659567 0.00595062 0.00612128 0.00546311\n",
      "  0.00557569 0.0070438  0.00597714 0.00646895 0.00634752 0.00535883\n",
      "  0.00586495 0.00585421 0.00583715 0.00599198 0.00596223 0.00518696\n",
      "  0.00650156 0.00580264 0.00591837 0.00589481 0.00621144 0.00635956\n",
      "  0.00618617 0.00565412 0.00574904 0.00622644 0.00600366 0.00579022\n",
      "  0.00618608 0.00681915 0.00599007 0.00609747 0.00513305 0.0060731\n",
      "  0.00562917 0.00573071 0.0052093  0.0060413  0.00610265 0.00600387\n",
      "  0.00617411 0.0054046  0.00574309 0.00497777 0.00662846 0.00558351\n",
      "  0.0064816  0.0061363  0.00573179 0.00565175 0.00494732 0.00636845\n",
      "  0.00581239 0.00567808 0.00520343 0.00583344 0.00587959 0.00550293\n",
      "  0.00556651 0.00654484 0.00609244 0.00610535 0.00562807 0.00555647\n",
      "  0.00519695 0.00593232 0.00612952 0.00577987 0.00562258 0.00602863\n",
      "  0.00504323 0.00463517 0.00563663 0.00596142 0.00577172 0.0056179\n",
      "  0.00567773 0.00544729 0.0056181  0.00611056 0.00617016 0.00578497\n",
      "  0.00623355 0.00649305 0.00602021 0.00537653 0.00533252 0.00586794\n",
      "  0.00569247 0.00616872 0.00589065 0.00556148 0.00499692 0.0057872\n",
      "  0.00521472 0.00652495 0.0053636  0.00538421 0.00623592 0.00585526\n",
      "  0.00617356 0.00531399 0.00639021 0.00621695 0.00624525 0.00636318\n",
      "  0.00585281 0.0054222  0.00626414 0.0058638  0.00637435 0.00647469\n",
      "  0.00627845 0.00563953 0.00601906 0.00624171 0.0051373  0.00566959\n",
      "  0.00571814 0.00630907 0.00577191 0.00521175 0.00585165 0.00577628\n",
      "  0.00569822 0.00582395 0.00528529 0.00586382 0.00624455 0.00592102\n",
      "  0.00569727 0.0058779  0.00582893 0.00577329 0.00629208 0.00615874\n",
      "  0.00503767 0.00594933 0.00606044 0.00582252 0.00579398 0.00587948\n",
      "  0.00561831 0.00506602 0.00551739 0.00589425 0.00532375 0.00545156\n",
      "  0.00575478 0.00526687 0.00600608 0.00629803 0.00629229 0.00548977\n",
      "  0.00546482 0.00558613 0.00638093 0.00576073 0.00649062 0.00587506\n",
      "  0.00552613 0.00601274 0.00570874]\n",
      " [0.00547135 0.00618263 0.00604088 0.00604248 0.00603014 0.00597011\n",
      "  0.00523871 0.00546392 0.00659086 0.00611952 0.00629617 0.00501054\n",
      "  0.00563786 0.00676293 0.00626182 0.00682736 0.00628447 0.00531746\n",
      "  0.00607115 0.00630301 0.00583007 0.00593163 0.00577864 0.00540489\n",
      "  0.00660721 0.00577936 0.00594585 0.00582584 0.0064721  0.00654344\n",
      "  0.00627227 0.00608567 0.00581443 0.00618929 0.00558694 0.00565858\n",
      "  0.00610264 0.00693758 0.00583211 0.00619641 0.00493302 0.00619836\n",
      "  0.00556346 0.00550128 0.00500654 0.00630286 0.00579588 0.00601365\n",
      "  0.00634833 0.00543143 0.00535915 0.00502416 0.00644487 0.00589586\n",
      "  0.00663056 0.00622635 0.00567263 0.00569396 0.00500019 0.00637358\n",
      "  0.0060239  0.00573265 0.00506886 0.00583366 0.00619368 0.00544842\n",
      "  0.005465   0.00632525 0.00596    0.00649808 0.00560404 0.00547364\n",
      "  0.00504069 0.00600547 0.00581595 0.00565884 0.00593039 0.00658156\n",
      "  0.0049434  0.00455046 0.00564446 0.00568264 0.0055745  0.00573808\n",
      "  0.00593985 0.00532185 0.00546091 0.00557164 0.0061083  0.00588962\n",
      "  0.00612575 0.00637488 0.00591245 0.00509772 0.00546802 0.00578524\n",
      "  0.00595372 0.00588138 0.00569813 0.00561123 0.00507328 0.00587777\n",
      "  0.00537704 0.00636477 0.00505299 0.00540363 0.006329   0.00622376\n",
      "  0.00639088 0.00567851 0.00625148 0.00624146 0.00637215 0.00636496\n",
      "  0.00593769 0.00521858 0.00628993 0.00593269 0.00656562 0.0068036\n",
      "  0.00640674 0.00579063 0.00585941 0.00617883 0.00528416 0.00582044\n",
      "  0.0057774  0.00626702 0.00565463 0.00512842 0.00608514 0.00628358\n",
      "  0.00539135 0.00568457 0.00507682 0.00609982 0.00612602 0.00620729\n",
      "  0.00560248 0.00542399 0.00557778 0.00550955 0.00688164 0.0061394\n",
      "  0.00541168 0.00584573 0.0063342  0.00598444 0.0053943  0.00573883\n",
      "  0.00553308 0.00503376 0.00524944 0.00604485 0.00491989 0.00578734\n",
      "  0.00553652 0.00522601 0.00586672 0.00644972 0.0065108  0.00517987\n",
      "  0.00531555 0.00552097 0.00656153 0.00547214 0.00678635 0.00589487\n",
      "  0.00519282 0.00609661 0.00597617]]\n",
      "\n",
      "Real values are: \n",
      " 29530    10.050\n",
      "29531    18.952\n",
      "29532     3.084\n",
      "29533    20.501\n",
      "29534    35.188\n",
      "Name: kWhDelivered, dtype: float64\n"
     ]
    },
    {
     "name": "stdout",
     "output_type": "stream",
     "text": [
      "3/3 [==============================] - 0s 2ms/step - loss: 315.9516 - mean_absolute_error: 12.8930\n",
      "\n",
      "Mean squared error from Convolutional neural net:  315.95159912109375\n",
      "\n",
      "Mean absolute error from Convolutional neural net:  12.893013000488281\n",
      "\n",
      "Mean squared error from linear regression:  142.27094868893911\n",
      "\n",
      "Mean absolute error from linear regression:  9.24767487246975\n",
      "\n",
      "Mean squared error using decision tree:  367.0232467204301\n",
      "\n",
      "Mean absolute error using decision tree:  13.821817204301077\n",
      "\n",
      "Mean squared error using Random Forest:  187.209413674942\n",
      "\n",
      "Mean absolute error Using Random Forest:  10.53328107526882\n",
      "\n",
      " The features ranking by importance to the RF Model\n",
      "\n",
      " doneChargingTime            0.272714\n",
      "disconnectTime              0.247277\n",
      "connectionTime              0.240627\n",
      "spaceID                     0.094457\n",
      "connectionTime_dayofweek    0.090159\n",
      "connectionTime_day          0.047802\n",
      "connectionTime_week         0.006964\n",
      "_id                         0.000000\n",
      "siteID                      0.000000\n",
      "connectionTime_year         0.000000\n",
      "connectionTime_month        0.000000\n",
      "dtype: float64\n"
     ]
    }
   ],
   "source": [
    "ANN_mse, ANN_mae, CNN_mse, CNN_mae, RF_mse, RF_mae, DT_mse, DT_mae, LR_mse, LR_mae, Val_mse, Val_mae = models(x_train, y_train, x_trainScaled, x_test, y_test, x_testScaled, ANN_mse, ANN_mae, CNN_mse, CNN_mae, RF_mse, RF_mae, DT_mse, DT_mae, LR_mse, LR_mae)"
   ]
  },
  {
   "cell_type": "code",
   "execution_count": 40,
   "id": "26233575",
   "metadata": {},
   "outputs": [],
   "source": [
    "W_mse = W_mse + Val_mse\n",
    "W_mae = W_mae + Val_mae\n",
    "\n",
    "W2_mse = W2_mse + Val_mse\n",
    "W2_mae = W2_mae + Val_mae"
   ]
  },
  {
   "cell_type": "markdown",
   "id": "ae8f84b4",
   "metadata": {},
   "source": [
    "Mean squared error from neural net: \n",
    " 139.96694946289062\n",
    "\n",
    "Mean absolute error from neural net: \n",
    " 8.832489013671875\n",
    "\n",
    "Mean squared error from linear regression:  142.27094868893911\n",
    "\n",
    "Mean absolute error from linear regression:  9.24767487246975\n"
   ]
  },
  {
   "cell_type": "markdown",
   "id": "f448e422",
   "metadata": {},
   "source": [
    "# Predict 1 Day with 1 Month of Data"
   ]
  },
  {
   "cell_type": "code",
   "execution_count": 41,
   "id": "8c32cea5",
   "metadata": {},
   "outputs": [],
   "source": [
    "train = df.loc[df['connectionTime_year'] == 2021]\n",
    "train = train.loc[train['connectionTime_month'] == 3]"
   ]
  },
  {
   "cell_type": "code",
   "execution_count": 42,
   "id": "0be12664",
   "metadata": {},
   "outputs": [],
   "source": [
    "test = df.loc[df['connectionTime_year']==2021]\n",
    "test = test.loc[test['connectionTime_month'] == 4]"
   ]
  },
  {
   "cell_type": "code",
   "execution_count": 43,
   "id": "c460d606",
   "metadata": {},
   "outputs": [],
   "source": [
    "test = test.loc[test['connectionTime_day'].isin([1])]"
   ]
  },
  {
   "cell_type": "code",
   "execution_count": 44,
   "id": "77304674",
   "metadata": {},
   "outputs": [],
   "source": [
    "y_train = train['kWhDelivered']\n",
    "x_train = train.drop('kWhDelivered', axis=1)\n",
    "x_train = singleNumeric(x_train)\n",
    "y_train = singleNumeric(y_train)\n",
    "x_trainScaled = scaleData(x_train)"
   ]
  },
  {
   "cell_type": "code",
   "execution_count": 45,
   "id": "1ec70db0",
   "metadata": {},
   "outputs": [
    {
     "data": {
      "text/plain": [
       "(253, 11)"
      ]
     },
     "execution_count": 45,
     "metadata": {},
     "output_type": "execute_result"
    }
   ],
   "source": [
    "x_trainScaled.shape"
   ]
  },
  {
   "cell_type": "code",
   "execution_count": 46,
   "id": "ac736824",
   "metadata": {},
   "outputs": [],
   "source": [
    "y_test = test['kWhDelivered']\n",
    "x_test = test.drop('kWhDelivered', axis=1)\n",
    "x_test = singleNumeric(x_test)\n",
    "y_test = singleNumeric(y_test)\n",
    "x_testScaled = scaleData(x_test)"
   ]
  },
  {
   "cell_type": "code",
   "execution_count": 47,
   "id": "45dc0d34",
   "metadata": {
    "scrolled": true
   },
   "outputs": [
    {
     "name": "stdout",
     "output_type": "stream",
     "text": [
      "Model: \"sequential_8\"\n",
      "_________________________________________________________________\n",
      "Layer (type)                 Output Shape              Param #   \n",
      "=================================================================\n",
      "dense_20 (Dense)             (None, 128)               1536      \n",
      "_________________________________________________________________\n",
      "dense_21 (Dense)             (None, 64)                8256      \n",
      "_________________________________________________________________\n",
      "dense_22 (Dense)             (None, 1)                 65        \n",
      "=================================================================\n",
      "Total params: 9,857\n",
      "Trainable params: 9,857\n",
      "Non-trainable params: 0\n",
      "_________________________________________________________________\n"
     ]
    },
    {
     "data": {
      "image/png": "[encoded data removed]",
      "text/plain": [
       "<Figure size 432x288 with 1 Axes>"
      ]
     },
     "metadata": {
      "needs_background": "light"
     },
     "output_type": "display_data"
    },
    {
     "name": "stdout",
     "output_type": "stream",
     "text": [
      "\n",
      "Predicted values are: \n",
      " [[16.170624]\n",
      " [16.131296]\n",
      " [ 5.9044  ]\n",
      " [ 7.148415]\n",
      " [17.267939]]\n",
      "\n",
      "Real values are: \n",
      " 29000    11.869\n",
      "29001    16.458\n",
      "29002     3.546\n",
      "29003    13.095\n",
      "29004    54.681\n",
      "Name: kWhDelivered, dtype: float64\n",
      "1/1 [==============================] - 0s 35ms/step - loss: 162.0786 - mean_absolute_error: 7.6533\n",
      "\n",
      "Mean squared error from neural net: \n",
      " 162.0785675048828\n",
      "\n",
      "Mean absolute error from neural net: \n",
      " 7.653307914733887\n",
      "\n",
      "Predicted values are:\n",
      "  [[0.0038503  0.00419098 0.0040021  ... 0.00401657 0.00420704 0.0041537 ]\n",
      " [0.00384897 0.0041806  0.00400705 ... 0.00401704 0.00419886 0.00415843]\n",
      " [0.00400787 0.00406401 0.0040444  ... 0.00386268 0.00397284 0.00405761]\n",
      " [0.00391673 0.00402476 0.00417048 ... 0.00376377 0.00400438 0.00415256]\n",
      " [0.00378341 0.00422914 0.00396992 ... 0.00384983 0.00404061 0.00424441]]\n",
      "\n",
      "Real values are: \n",
      " 29000    11.869\n",
      "29001    16.458\n",
      "29002     3.546\n",
      "29003    13.095\n",
      "29004    54.681\n",
      "Name: kWhDelivered, dtype: float64\n",
      "1/1 [==============================] - 0s 165ms/step - loss: 375.9288 - mean_absolute_error: 12.1568\n",
      "\n",
      "Mean squared error from Convolutional neural net:  375.9288024902344\n",
      "\n",
      "Mean absolute error from Convolutional neural net:  12.15684700012207\n",
      "\n",
      "Mean squared error from linear regression:  3591.9871224055505\n",
      "\n",
      "Mean absolute error from linear regression:  45.08530989438959\n",
      "\n",
      "Mean squared error using decision tree:  577.0893812999999\n",
      "\n",
      "Mean absolute error using decision tree:  15.565100000000001\n",
      "\n",
      "Mean squared error using Random Forest:  328.41650343587\n",
      "\n",
      "Mean absolute error Using Random Forest:  14.507755\n",
      "\n",
      " The features ranking by importance to the RF Model\n",
      "\n",
      " connectionTime              0.252700\n",
      "disconnectTime              0.240026\n",
      "doneChargingTime            0.213354\n",
      "spaceID                     0.128478\n",
      "connectionTime_dayofweek    0.090691\n",
      "connectionTime_day          0.062617\n",
      "connectionTime_week         0.012133\n",
      "_id                         0.000000\n",
      "siteID                      0.000000\n",
      "connectionTime_year         0.000000\n",
      "connectionTime_month        0.000000\n",
      "dtype: float64\n"
     ]
    }
   ],
   "source": [
    "ANN_mse, ANN_mae, CNN_mse, CNN_mae, RF_mse, RF_mae, DT_mse, DT_mae, LR_mse, LR_mae, Val_mse, Val_mae = models(x_train, y_train, x_trainScaled, x_test, y_test, x_testScaled, ANN_mse, ANN_mae, CNN_mse, CNN_mae, RF_mse, RF_mae, DT_mse, DT_mae, LR_mse, LR_mae)"
   ]
  },
  {
   "cell_type": "code",
   "execution_count": 48,
   "id": "c9848e86",
   "metadata": {},
   "outputs": [],
   "source": [
    "D_mse = D_mse + Val_mse\n",
    "D_mae = D_mae + Val_mae\n",
    "\n",
    "M1_mse = M1_mse + Val_mse\n",
    "M1_mae = M1_mae + Val_mae"
   ]
  },
  {
   "cell_type": "markdown",
   "id": "b6812b35",
   "metadata": {},
   "source": [
    "Mean squared error from neural net: \n",
    " 160.7447967529297\n",
    "\n",
    "Mean absolute error from neural net: \n",
    " 7.436678886413574\n",
    "\n",
    " Mean squared error from Convolutional neural net:  375.9288024902344\n",
    "\n",
    "Mean absolute error from Convolutional neural net:  12.156847953796387"
   ]
  },
  {
   "cell_type": "markdown",
   "id": "c03c0508",
   "metadata": {},
   "source": [
    "# Predict 3 Days with 1 month of Data"
   ]
  },
  {
   "cell_type": "code",
   "execution_count": 49,
   "id": "6410d51c",
   "metadata": {},
   "outputs": [],
   "source": [
    "train = df.loc[df['connectionTime_year'] == 2021]\n",
    "train = train.loc[train['connectionTime_month'] == 3]"
   ]
  },
  {
   "cell_type": "code",
   "execution_count": 50,
   "id": "0267f944",
   "metadata": {},
   "outputs": [],
   "source": [
    "test = df.loc[df['connectionTime_year']==2021]\n",
    "test = test.loc[test['connectionTime_month'] == 4]"
   ]
  },
  {
   "cell_type": "code",
   "execution_count": 51,
   "id": "9c5b8922",
   "metadata": {},
   "outputs": [],
   "source": [
    "test = test.loc[test['connectionTime_day'].isin([1,2,3])]"
   ]
  },
  {
   "cell_type": "code",
   "execution_count": 52,
   "id": "626a9a66",
   "metadata": {},
   "outputs": [],
   "source": [
    "y_train = train['kWhDelivered']\n",
    "x_train = train.drop('kWhDelivered', axis=1)\n",
    "x_train = singleNumeric(x_train)\n",
    "y_train = singleNumeric(y_train)\n",
    "x_trainScaled = scaleData(x_train)"
   ]
  },
  {
   "cell_type": "code",
   "execution_count": 53,
   "id": "89ef2b7a",
   "metadata": {},
   "outputs": [
    {
     "data": {
      "text/plain": [
       "(253, 11)"
      ]
     },
     "execution_count": 53,
     "metadata": {},
     "output_type": "execute_result"
    }
   ],
   "source": [
    "x_trainScaled.shape"
   ]
  },
  {
   "cell_type": "code",
   "execution_count": 54,
   "id": "e2fe3547",
   "metadata": {},
   "outputs": [],
   "source": [
    "y_test = test['kWhDelivered']\n",
    "x_test = test.drop('kWhDelivered', axis=1)\n",
    "x_test = singleNumeric(x_test)\n",
    "y_test = singleNumeric(y_test)\n",
    "x_testScaled = scaleData(x_test)"
   ]
  },
  {
   "cell_type": "code",
   "execution_count": 55,
   "id": "24a5c62f",
   "metadata": {
    "scrolled": true
   },
   "outputs": [
    {
     "name": "stdout",
     "output_type": "stream",
     "text": [
      "Model: \"sequential_10\"\n",
      "_________________________________________________________________\n",
      "Layer (type)                 Output Shape              Param #   \n",
      "=================================================================\n",
      "dense_25 (Dense)             (None, 128)               1536      \n",
      "_________________________________________________________________\n",
      "dense_26 (Dense)             (None, 64)                8256      \n",
      "_________________________________________________________________\n",
      "dense_27 (Dense)             (None, 1)                 65        \n",
      "=================================================================\n",
      "Total params: 9,857\n",
      "Trainable params: 9,857\n",
      "Non-trainable params: 0\n",
      "_________________________________________________________________\n"
     ]
    },
    {
     "data": {
      "image/png": "[encoded data removed]",
      "text/plain": [
       "<Figure size 432x288 with 1 Axes>"
      ]
     },
     "metadata": {
      "needs_background": "light"
     },
     "output_type": "display_data"
    },
    {
     "name": "stdout",
     "output_type": "stream",
     "text": [
      "\n",
      "Predicted values are: \n",
      " [[11.992939 ]\n",
      " [11.9548025]\n",
      " [ 6.179864 ]\n",
      " [ 5.955994 ]\n",
      " [11.432129 ]]\n",
      "\n",
      "Real values are: \n",
      " 29000    11.869\n",
      "29001    16.458\n",
      "29002     3.546\n",
      "29003    13.095\n",
      "29004    54.681\n",
      "Name: kWhDelivered, dtype: float64\n",
      "1/1 [==============================] - 0s 14ms/step - loss: 209.1719 - mean_absolute_error: 9.3918\n",
      "\n",
      "Mean squared error from neural net: \n",
      " 209.17190551757812\n",
      "\n",
      "Mean absolute error from neural net: \n",
      " 9.391789436340332\n",
      "\n",
      "Predicted values are:\n",
      "  [[0.00423228 0.00438143 0.00395456 ... 0.00395128 0.00386599 0.00414754]\n",
      " [0.00422869 0.00437545 0.00395301 ... 0.00394964 0.00386996 0.00414432]\n",
      " [0.00430188 0.00417441 0.0042637  ... 0.00384382 0.00354098 0.00377216]\n",
      " [0.00431282 0.00411609 0.00416666 ... 0.00388051 0.00368651 0.00379369]\n",
      " [0.00415216 0.00422601 0.00392405 ... 0.00390059 0.00396    0.00407459]]\n",
      "\n",
      "Real values are: \n",
      " 29000    11.869\n",
      "29001    16.458\n",
      "29002     3.546\n",
      "29003    13.095\n",
      "29004    54.681\n",
      "Name: kWhDelivered, dtype: float64\n",
      "1/1 [==============================] - 0s 164ms/step - loss: 512.0605 - mean_absolute_error: 16.6043\n",
      "\n",
      "Mean squared error from Convolutional neural net:  512.060546875\n",
      "\n",
      "Mean absolute error from Convolutional neural net:  16.604307174682617\n",
      "\n",
      "Mean squared error from linear regression:  724.7799638443004\n",
      "\n",
      "Mean absolute error from linear regression:  20.47146810961834\n",
      "\n",
      "Mean squared error using decision tree:  213.32685767741935\n",
      "\n",
      "Mean absolute error using decision tree:  9.432322580645161\n",
      "\n",
      "Mean squared error using Random Forest:  227.888021216429\n",
      "\n",
      "Mean absolute error Using Random Forest:  11.84066741935484\n",
      "\n",
      " The features ranking by importance to the RF Model\n",
      "\n",
      " connectionTime              0.252700\n",
      "disconnectTime              0.240026\n",
      "doneChargingTime            0.213354\n",
      "spaceID                     0.128478\n",
      "connectionTime_dayofweek    0.090691\n",
      "connectionTime_day          0.062617\n",
      "connectionTime_week         0.012133\n",
      "_id                         0.000000\n",
      "siteID                      0.000000\n",
      "connectionTime_year         0.000000\n",
      "connectionTime_month        0.000000\n",
      "dtype: float64\n"
     ]
    }
   ],
   "source": [
    "ANN_mse, ANN_mae, CNN_mse, CNN_mae, RF_mse, RF_mae, DT_mse, DT_mae, LR_mse, LR_mae, Val_mse, Val_mae = models(x_train, y_train, x_trainScaled, x_test, y_test, x_testScaled, ANN_mse, ANN_mae, CNN_mse, CNN_mae, RF_mse, RF_mae, DT_mse, DT_mae, LR_mse, LR_mae)"
   ]
  },
  {
   "cell_type": "code",
   "execution_count": 56,
   "id": "21faf7cb",
   "metadata": {},
   "outputs": [],
   "source": [
    "D3_mse = D3_mse + Val_mse\n",
    "D3_mae = D3_mae + Val_mae\n",
    "\n",
    "M1_mse = M1_mse + Val_mse\n",
    "M1_mae = M1_mae + Val_mae"
   ]
  },
  {
   "cell_type": "markdown",
   "id": "e9b04110",
   "metadata": {},
   "source": [
    "Mean squared error from neural net: \n",
    " 213.64584350585938\n",
    "\n",
    "Mean absolute error from neural net: \n",
    " 9.39246940612793\n",
    "\n",
    " Mean squared error using decision tree:  186.34709148387097\n",
    "\n",
    "Mean absolute error using decision tree:  8.564\n"
   ]
  },
  {
   "cell_type": "markdown",
   "id": "f682cba2",
   "metadata": {},
   "source": [
    "# Predict 5 Days with 1 Month of Data"
   ]
  },
  {
   "cell_type": "code",
   "execution_count": 57,
   "id": "e9210b29",
   "metadata": {},
   "outputs": [],
   "source": [
    "train = df.loc[df['connectionTime_year'] == 2021]\n",
    "train = train.loc[train['connectionTime_month'] == 3]"
   ]
  },
  {
   "cell_type": "code",
   "execution_count": 58,
   "id": "968db9cb",
   "metadata": {},
   "outputs": [],
   "source": [
    "test = df.loc[df['connectionTime_year']==2021]\n",
    "test = test.loc[test['connectionTime_month'] == 4]"
   ]
  },
  {
   "cell_type": "code",
   "execution_count": 59,
   "id": "5133b47a",
   "metadata": {},
   "outputs": [],
   "source": [
    "test = test.loc[test['connectionTime_day'].isin([1,2,3,4,5])]"
   ]
  },
  {
   "cell_type": "code",
   "execution_count": 60,
   "id": "b79e9eb3",
   "metadata": {},
   "outputs": [],
   "source": [
    "y_train = train['kWhDelivered']\n",
    "x_train = train.drop('kWhDelivered', axis=1)\n",
    "x_train = singleNumeric(x_train)\n",
    "y_train = singleNumeric(y_train)\n",
    "x_trainScaled = scaleData(x_train)"
   ]
  },
  {
   "cell_type": "code",
   "execution_count": 61,
   "id": "393ca531",
   "metadata": {},
   "outputs": [
    {
     "data": {
      "text/plain": [
       "(253, 11)"
      ]
     },
     "execution_count": 61,
     "metadata": {},
     "output_type": "execute_result"
    }
   ],
   "source": [
    "x_trainScaled.shape"
   ]
  },
  {
   "cell_type": "code",
   "execution_count": 62,
   "id": "ed31d0c6",
   "metadata": {},
   "outputs": [],
   "source": [
    "y_test = test['kWhDelivered']\n",
    "x_test = test.drop('kWhDelivered', axis=1)\n",
    "x_test = singleNumeric(x_test)\n",
    "y_test = singleNumeric(y_test)\n",
    "x_testScaled = scaleData(x_test)"
   ]
  },
  {
   "cell_type": "code",
   "execution_count": 63,
   "id": "30f68782",
   "metadata": {
    "scrolled": true
   },
   "outputs": [
    {
     "name": "stdout",
     "output_type": "stream",
     "text": [
      "Model: \"sequential_12\"\n",
      "_________________________________________________________________\n",
      "Layer (type)                 Output Shape              Param #   \n",
      "=================================================================\n",
      "dense_30 (Dense)             (None, 128)               1536      \n",
      "_________________________________________________________________\n",
      "dense_31 (Dense)             (None, 64)                8256      \n",
      "_________________________________________________________________\n",
      "dense_32 (Dense)             (None, 1)                 65        \n",
      "=================================================================\n",
      "Total params: 9,857\n",
      "Trainable params: 9,857\n",
      "Non-trainable params: 0\n",
      "_________________________________________________________________\n"
     ]
    },
    {
     "data": {
      "image/png": "[encoded data removed]",
      "text/plain": [
       "<Figure size 432x288 with 1 Axes>"
      ]
     },
     "metadata": {
      "needs_background": "light"
     },
     "output_type": "display_data"
    },
    {
     "name": "stdout",
     "output_type": "stream",
     "text": [
      "\n",
      "Predicted values are: \n",
      " [[12.931686 ]\n",
      " [12.926541 ]\n",
      " [ 6.6582637]\n",
      " [ 6.635841 ]\n",
      " [12.88312  ]]\n",
      "\n",
      "Real values are: \n",
      " 29000    11.869\n",
      "29001    16.458\n",
      "29002     3.546\n",
      "29003    13.095\n",
      "29004    54.681\n",
      "Name: kWhDelivered, dtype: float64\n",
      "2/2 [==============================] - 0s 5ms/step - loss: 197.8009 - mean_absolute_error: 9.7500\n",
      "\n",
      "Mean squared error from neural net: \n",
      " 197.8009490966797\n",
      "\n",
      "Mean absolute error from neural net: \n",
      " 9.750001907348633\n",
      "\n",
      "Predicted values are:\n",
      "  [[0.00386071 0.00417777 0.00414822 ... 0.00377349 0.00392595 0.00372604]\n",
      " [0.00386106 0.0041745  0.0041476  ... 0.00377506 0.00393011 0.00372676]\n",
      " [0.00375519 0.00411501 0.00403085 ... 0.00367678 0.00385419 0.00371095]\n",
      " [0.00380072 0.00405324 0.00399853 ... 0.00373082 0.00390146 0.00379587]\n",
      " [0.00387338 0.00407091 0.00414039 ... 0.00380472 0.00403841 0.00376449]]\n",
      "\n",
      "Real values are: \n",
      " 29000    11.869\n",
      "29001    16.458\n",
      "29002     3.546\n",
      "29003    13.095\n",
      "29004    54.681\n",
      "Name: kWhDelivered, dtype: float64\n",
      "2/2 [==============================] - 0s 6ms/step - loss: 411.3462 - mean_absolute_error: 14.1781\n",
      "\n",
      "Mean squared error from Convolutional neural net:  411.3462219238281\n",
      "\n",
      "Mean absolute error from Convolutional neural net:  14.178131103515625\n",
      "\n",
      "Mean squared error from linear regression:  327.3240045625636\n",
      "\n",
      "Mean absolute error from linear regression:  13.426246789955984\n",
      "\n",
      "Mean squared error using decision tree:  512.3037853734822\n",
      "\n",
      "Mean absolute error using decision tree:  18.122916753783386\n",
      "\n",
      "Mean squared error using Random Forest:  220.6186052555203\n",
      "\n",
      "Mean absolute error Using Random Forest:  11.660016579549948\n",
      "\n",
      " The features ranking by importance to the RF Model\n",
      "\n",
      " connectionTime              0.252700\n",
      "disconnectTime              0.240026\n",
      "doneChargingTime            0.213354\n",
      "spaceID                     0.128478\n",
      "connectionTime_dayofweek    0.090691\n",
      "connectionTime_day          0.062617\n",
      "connectionTime_week         0.012133\n",
      "_id                         0.000000\n",
      "siteID                      0.000000\n",
      "connectionTime_year         0.000000\n",
      "connectionTime_month        0.000000\n",
      "dtype: float64\n"
     ]
    }
   ],
   "source": [
    "ANN_mse, ANN_mae, CNN_mse, CNN_mae, RF_mse, RF_mae, DT_mse, DT_mae, LR_mse, LR_mae, Val_mse, Val_mae = models(x_train, y_train, x_trainScaled, x_test, y_test, x_testScaled, ANN_mse, ANN_mae, CNN_mse, CNN_mae, RF_mse, RF_mae, DT_mse, DT_mae, LR_mse, LR_mae)"
   ]
  },
  {
   "cell_type": "code",
   "execution_count": 64,
   "id": "994a36be",
   "metadata": {},
   "outputs": [],
   "source": [
    "D5_mse = D5_mse + Val_mse\n",
    "D5_mae = D5_mae + Val_mae\n",
    "\n",
    "M1_mse = M1_mse + Val_mse\n",
    "M1_mae = M1_mae + Val_mae"
   ]
  },
  {
   "cell_type": "markdown",
   "id": "2891433d",
   "metadata": {},
   "source": [
    "Mean squared error from neural net: \n",
    " 198.32432556152344\n",
    "\n",
    "Mean absolute error from neural net: \n",
    " 9.677536964416504\n",
    "\n",
    "\n",
    "Mean squared error using Random Forest:  220.6186052555203\n",
    "\n",
    "Mean absolute error Using Random Forest:  11.660016579549948"
   ]
  },
  {
   "cell_type": "markdown",
   "id": "19449bfb",
   "metadata": {},
   "source": [
    "# Predict 1 Week with 1 Month of Data"
   ]
  },
  {
   "cell_type": "code",
   "execution_count": 65,
   "id": "25ba231c",
   "metadata": {},
   "outputs": [],
   "source": [
    "train = df.loc[df['connectionTime_year'] == 2021]\n",
    "train = train.loc[train['connectionTime_month'] == 3]"
   ]
  },
  {
   "cell_type": "code",
   "execution_count": 66,
   "id": "27f55d19",
   "metadata": {},
   "outputs": [],
   "source": [
    "test = df.loc[df['connectionTime_year']==2021]\n",
    "test = test.loc[test['connectionTime_month'] == 4]"
   ]
  },
  {
   "cell_type": "code",
   "execution_count": 67,
   "id": "6d0f27d9",
   "metadata": {},
   "outputs": [],
   "source": [
    "test = test.loc[test['connectionTime_day'].isin([1,2,3,4,5,6,7])]"
   ]
  },
  {
   "cell_type": "code",
   "execution_count": 68,
   "id": "9c40abed",
   "metadata": {},
   "outputs": [],
   "source": [
    "y_train = train['kWhDelivered']\n",
    "x_train = train.drop('kWhDelivered', axis=1)\n",
    "x_train = singleNumeric(x_train)\n",
    "y_train = singleNumeric(y_train)\n",
    "x_trainScaled = scaleData(x_train)"
   ]
  },
  {
   "cell_type": "code",
   "execution_count": 69,
   "id": "f042e1df",
   "metadata": {},
   "outputs": [
    {
     "data": {
      "text/plain": [
       "(253, 11)"
      ]
     },
     "execution_count": 69,
     "metadata": {},
     "output_type": "execute_result"
    }
   ],
   "source": [
    "x_trainScaled.shape"
   ]
  },
  {
   "cell_type": "code",
   "execution_count": 70,
   "id": "61db3a3f",
   "metadata": {},
   "outputs": [],
   "source": [
    "y_test = test['kWhDelivered']\n",
    "x_test = test.drop('kWhDelivered', axis=1)\n",
    "x_test = singleNumeric(x_test)\n",
    "y_test = singleNumeric(y_test)\n",
    "x_testScaled = scaleData(x_test)"
   ]
  },
  {
   "cell_type": "code",
   "execution_count": 71,
   "id": "7373de5c",
   "metadata": {
    "scrolled": true
   },
   "outputs": [
    {
     "name": "stdout",
     "output_type": "stream",
     "text": [
      "Model: \"sequential_14\"\n",
      "_________________________________________________________________\n",
      "Layer (type)                 Output Shape              Param #   \n",
      "=================================================================\n",
      "dense_35 (Dense)             (None, 128)               1536      \n",
      "_________________________________________________________________\n",
      "dense_36 (Dense)             (None, 64)                8256      \n",
      "_________________________________________________________________\n",
      "dense_37 (Dense)             (None, 1)                 65        \n",
      "=================================================================\n",
      "Total params: 9,857\n",
      "Trainable params: 9,857\n",
      "Non-trainable params: 0\n",
      "_________________________________________________________________\n"
     ]
    },
    {
     "data": {
      "image/png": "[encoded data removed]",
      "text/plain": [
       "<Figure size 432x288 with 1 Axes>"
      ]
     },
     "metadata": {
      "needs_background": "light"
     },
     "output_type": "display_data"
    },
    {
     "name": "stdout",
     "output_type": "stream",
     "text": [
      "\n",
      "Predicted values are: \n",
      " [[17.45765  ]\n",
      " [17.436253 ]\n",
      " [ 7.9334235]\n",
      " [ 7.7170715]\n",
      " [16.99053  ]]\n",
      "\n",
      "Real values are: \n",
      " 29000    11.869\n",
      "29001    16.458\n",
      "29002     3.546\n",
      "29003    13.095\n",
      "29004    54.681\n",
      "Name: kWhDelivered, dtype: float64\n",
      "3/3 [==============================] - 0s 1ms/step - loss: 169.6889 - mean_absolute_error: 9.3051\n",
      "\n",
      "Mean squared error from neural net: \n",
      " 169.68894958496094\n",
      "\n",
      "Mean absolute error from neural net: \n",
      " 9.305074691772461\n",
      "\n",
      "Predicted values are:\n",
      "  [[0.00423242 0.00380917 0.00397182 ... 0.0037691  0.00367836 0.00383302]\n",
      " [0.00423332 0.0038094  0.00397356 ... 0.00376908 0.00367984 0.00383308]\n",
      " [0.00395107 0.00377026 0.00389036 ... 0.00369603 0.00373575 0.00386366]\n",
      " [0.0039915  0.00377916 0.0039133  ... 0.00374285 0.00375842 0.0039014 ]\n",
      " [0.00425963 0.00381537 0.00400323 ... 0.00377118 0.00370908 0.00383399]]\n",
      "\n",
      "Real values are: \n",
      " 29000    11.869\n",
      "29001    16.458\n",
      "29002     3.546\n",
      "29003    13.095\n",
      "29004    54.681\n",
      "Name: kWhDelivered, dtype: float64\n",
      "3/3 [==============================] - 0s 2ms/step - loss: 335.3932 - mean_absolute_error: 11.9949\n",
      "\n",
      "Mean squared error from Convolutional neural net:  335.3931884765625\n",
      "\n",
      "Mean absolute error from Convolutional neural net:  11.994873046875\n",
      "\n",
      "Mean squared error from linear regression:  218.3835207200644\n",
      "\n",
      "Mean absolute error from linear regression:  10.310513898451116\n",
      "\n",
      "Mean squared error using decision tree:  461.67428424480295\n",
      "\n",
      "Mean absolute error using decision tree:  14.791412447729964\n",
      "\n",
      "Mean squared error using Random Forest:  215.37920654994105\n",
      "\n",
      "Mean absolute error Using Random Forest:  12.018637197729973\n",
      "\n",
      " The features ranking by importance to the RF Model\n",
      "\n",
      " connectionTime              0.252700\n",
      "disconnectTime              0.240026\n",
      "doneChargingTime            0.213354\n",
      "spaceID                     0.128478\n",
      "connectionTime_dayofweek    0.090691\n",
      "connectionTime_day          0.062617\n",
      "connectionTime_week         0.012133\n",
      "_id                         0.000000\n",
      "siteID                      0.000000\n",
      "connectionTime_year         0.000000\n",
      "connectionTime_month        0.000000\n",
      "dtype: float64\n"
     ]
    }
   ],
   "source": [
    "ANN_mse, ANN_mae, CNN_mse, CNN_mae, RF_mse, RF_mae, DT_mse, DT_mae, LR_mse, LR_mae, Val_mse, Val_mae = models(x_train, y_train, x_trainScaled, x_test, y_test, x_testScaled, ANN_mse, ANN_mae, CNN_mse, CNN_mae, RF_mse, RF_mae, DT_mse, DT_mae, LR_mse, LR_mae)"
   ]
  },
  {
   "cell_type": "code",
   "execution_count": 72,
   "id": "e96c655b",
   "metadata": {},
   "outputs": [],
   "source": [
    "W_mse = W_mse + Val_mse\n",
    "W_mae = W_mae + Val_mae\n",
    "\n",
    "M1_mse = M1_mse + Val_mse\n",
    "M1_mae = M1_mae + Val_mae"
   ]
  },
  {
   "cell_type": "markdown",
   "id": "7ec79edd",
   "metadata": {},
   "source": [
    "Mean squared error from neural net: \n",
    " 166.5867919921875\n",
    "\n",
    "Mean absolute error from neural net: \n",
    " 9.034040451049805\n",
    "\n",
    " Mean squared error from linear regression:  218.3835207200644\n",
    "\n",
    "Mean absolute error from linear regression:  10.310513898451116"
   ]
  },
  {
   "cell_type": "markdown",
   "id": "f22d6205",
   "metadata": {},
   "source": [
    "# Predict 1 Day with 2 Months of Data"
   ]
  },
  {
   "cell_type": "code",
   "execution_count": 73,
   "id": "ac9d98ce",
   "metadata": {},
   "outputs": [],
   "source": [
    "train = df.loc[df['connectionTime_year'] == 2021]\n",
    "train = train.loc[train['connectionTime_month'].isin([7, 8])]\n",
    "                                                      \n",
    "test = df.loc[df['connectionTime_year']==2021]\n",
    "test = test.loc[test['connectionTime_month'] == 9]\n",
    "test = test.loc[test['connectionTime_day'].isin([1])]"
   ]
  },
  {
   "cell_type": "code",
   "execution_count": 74,
   "id": "17bbc6a6",
   "metadata": {},
   "outputs": [],
   "source": [
    "y_train = train['kWhDelivered']\n",
    "x_train = train.drop('kWhDelivered', axis=1)\n",
    "x_train = singleNumeric(x_train)\n",
    "y_train = singleNumeric(y_train)\n",
    "x_trainScaled = scaleData(x_train)"
   ]
  },
  {
   "cell_type": "code",
   "execution_count": 75,
   "id": "06528b08",
   "metadata": {},
   "outputs": [],
   "source": [
    "y_test = test['kWhDelivered']\n",
    "x_test = test.drop('kWhDelivered', axis=1)\n",
    "x_test = singleNumeric(x_test)\n",
    "y_test = singleNumeric(y_test)\n",
    "x_testScaled = scaleData(x_test)"
   ]
  },
  {
   "cell_type": "code",
   "execution_count": 76,
   "id": "d96c5de9",
   "metadata": {
    "scrolled": true
   },
   "outputs": [
    {
     "name": "stdout",
     "output_type": "stream",
     "text": [
      "Model: \"sequential_16\"\n",
      "_________________________________________________________________\n",
      "Layer (type)                 Output Shape              Param #   \n",
      "=================================================================\n",
      "dense_40 (Dense)             (None, 128)               1536      \n",
      "_________________________________________________________________\n",
      "dense_41 (Dense)             (None, 64)                8256      \n",
      "_________________________________________________________________\n",
      "dense_42 (Dense)             (None, 1)                 65        \n",
      "=================================================================\n",
      "Total params: 9,857\n",
      "Trainable params: 9,857\n",
      "Non-trainable params: 0\n",
      "_________________________________________________________________\n"
     ]
    },
    {
     "data": {
      "image/png": "[encoded data removed]",
      "text/plain": [
       "<Figure size 432x288 with 1 Axes>"
      ]
     },
     "metadata": {
      "needs_background": "light"
     },
     "output_type": "display_data"
    },
    {
     "name": "stdout",
     "output_type": "stream",
     "text": [
      "\n",
      "Predicted values are: \n",
      " [[11.575358 ]\n",
      " [11.40097  ]\n",
      " [10.060037 ]\n",
      " [ 3.019351 ]\n",
      " [ 2.4896116]]\n",
      "\n",
      "Real values are: \n",
      " 31131     0.901\n",
      "31132     2.101\n",
      "31133     3.152\n",
      "31134     5.894\n",
      "31135    31.942\n",
      "Name: kWhDelivered, dtype: float64\n",
      "1/1 [==============================] - 0s 16ms/step - loss: 86.0604 - mean_absolute_error: 6.7876\n",
      "\n",
      "Mean squared error from neural net: \n",
      " 86.06040954589844\n",
      "\n",
      "Mean absolute error from neural net: \n",
      " 6.787608623504639\n",
      "\n",
      "Predicted values are:\n",
      "  [[0.00092032 0.00097947 0.00091625 ... 0.00096494 0.00091493 0.00093752]\n",
      " [0.00091832 0.00098042 0.00091534 ... 0.0009653  0.00091433 0.00093947]\n",
      " [0.00092086 0.00097702 0.00091959 ... 0.00096338 0.0009197  0.00094146]\n",
      " [0.00093535 0.00095446 0.00094105 ... 0.00095616 0.00095307 0.00094687]\n",
      " [0.00093706 0.00095719 0.00093498 ... 0.00095694 0.00095392 0.0009446 ]]\n",
      "\n",
      "Real values are: \n",
      " 31131     0.901\n",
      "31132     2.101\n",
      "31133     3.152\n",
      "31134     5.894\n",
      "31135    31.942\n",
      "Name: kWhDelivered, dtype: float64\n",
      "1/1 [==============================] - 0s 189ms/step - loss: 151.7767 - mean_absolute_error: 8.9236\n",
      "\n",
      "Mean squared error from Convolutional neural net:  151.77667236328125\n",
      "\n",
      "Mean absolute error from Convolutional neural net:  8.923604011535645\n",
      "\n",
      "Mean squared error from linear regression:  27524.968926206453\n",
      "\n",
      "Mean absolute error from linear regression:  140.20510009978403\n",
      "\n",
      "Mean squared error using decision tree:  186.17098776000003\n",
      "\n",
      "Mean absolute error using decision tree:  9.13448\n",
      "\n",
      "Mean squared error using Random Forest:  87.59891941785604\n",
      "\n",
      "Mean absolute error Using Random Forest:  7.123862400000002\n",
      "\n",
      " The features ranking by importance to the RF Model\n",
      "\n",
      " spaceID                     0.322508\n",
      "connectionTime              0.252351\n",
      "disconnectTime              0.211381\n",
      "doneChargingTime            0.118602\n",
      "connectionTime_day          0.049640\n",
      "connectionTime_dayofweek    0.037730\n",
      "connectionTime_week         0.006978\n",
      "connectionTime_month        0.000810\n",
      "_id                         0.000000\n",
      "siteID                      0.000000\n",
      "connectionTime_year         0.000000\n",
      "dtype: float64\n"
     ]
    }
   ],
   "source": [
    "ANN_mse, ANN_mae, CNN_mse, CNN_mae, RF_mse, RF_mae, DT_mse, DT_mae, LR_mse, LR_mae, Val_mse, Val_mae = models(x_train, y_train, x_trainScaled, x_test, y_test, x_testScaled, ANN_mse, ANN_mae, CNN_mse, CNN_mae, RF_mse, RF_mae, DT_mse, DT_mae, LR_mse, LR_mae)"
   ]
  },
  {
   "cell_type": "code",
   "execution_count": 77,
   "id": "1282d690",
   "metadata": {},
   "outputs": [],
   "source": [
    "D_mse = D_mse + Val_mse\n",
    "D_mae = D_mae + Val_mae\n",
    "\n",
    "M2_mse = M2_mse + Val_mse\n",
    "M2_mae = M2_mae + Val_mae"
   ]
  },
  {
   "cell_type": "markdown",
   "id": "0ea68534",
   "metadata": {},
   "source": [
    "Mean squared error from neural net: \n",
    " 83.28107452392578\n",
    "\n",
    "Mean absolute error from neural net: \n",
    " 6.621450424194336\n",
    "\n",
    "Mean squared error using Random Forest:  87.59891941785604\n",
    "\n",
    "Mean absolute error Using Random Forest:  7.123862400000002"
   ]
  },
  {
   "cell_type": "markdown",
   "id": "e8b58b0c",
   "metadata": {},
   "source": [
    "# Predict 3 Days with 2 Months of Data"
   ]
  },
  {
   "cell_type": "code",
   "execution_count": 78,
   "id": "2faa7df1",
   "metadata": {},
   "outputs": [],
   "source": [
    "train = df.loc[df['connectionTime_year'] == 2021]\n",
    "train = train.loc[train['connectionTime_month'].isin([7, 8])]\n",
    "                                                      \n",
    "test = df.loc[df['connectionTime_year']==2021]\n",
    "test = test.loc[test['connectionTime_month'] == 9]\n",
    "test = test.loc[test['connectionTime_day'].isin([1,2,3])]"
   ]
  },
  {
   "cell_type": "code",
   "execution_count": 79,
   "id": "f0a9cb2e",
   "metadata": {},
   "outputs": [],
   "source": [
    "y_train = train['kWhDelivered']\n",
    "x_train = train.drop('kWhDelivered', axis=1)\n",
    "x_train = singleNumeric(x_train)\n",
    "y_train = singleNumeric(y_train)\n",
    "x_trainScaled = scaleData(x_train)"
   ]
  },
  {
   "cell_type": "code",
   "execution_count": 80,
   "id": "e9844c1b",
   "metadata": {},
   "outputs": [],
   "source": [
    "y_test = test['kWhDelivered']\n",
    "x_test = test.drop('kWhDelivered', axis=1)\n",
    "x_test = singleNumeric(x_test)\n",
    "y_test = singleNumeric(y_test)\n",
    "x_testScaled = scaleData(x_test)"
   ]
  },
  {
   "cell_type": "code",
   "execution_count": 81,
   "id": "98c1cc8c",
   "metadata": {
    "scrolled": true
   },
   "outputs": [
    {
     "name": "stdout",
     "output_type": "stream",
     "text": [
      "Model: \"sequential_18\"\n",
      "_________________________________________________________________\n",
      "Layer (type)                 Output Shape              Param #   \n",
      "=================================================================\n",
      "dense_45 (Dense)             (None, 128)               1536      \n",
      "_________________________________________________________________\n",
      "dense_46 (Dense)             (None, 64)                8256      \n",
      "_________________________________________________________________\n",
      "dense_47 (Dense)             (None, 1)                 65        \n",
      "=================================================================\n",
      "Total params: 9,857\n",
      "Trainable params: 9,857\n",
      "Non-trainable params: 0\n",
      "_________________________________________________________________\n"
     ]
    },
    {
     "data": {
      "image/png": "[encoded data removed]",
      "text/plain": [
       "<Figure size 432x288 with 1 Axes>"
      ]
     },
     "metadata": {
      "needs_background": "light"
     },
     "output_type": "display_data"
    },
    {
     "name": "stdout",
     "output_type": "stream",
     "text": [
      "\n",
      "Predicted values are: \n",
      " [[11.700909]\n",
      " [11.693552]\n",
      " [11.406935]\n",
      " [ 9.86792 ]\n",
      " [ 9.385988]]\n",
      "\n",
      "Real values are: \n",
      " 31131     0.901\n",
      "31132     2.101\n",
      "31133     3.152\n",
      "31134     5.894\n",
      "31135    31.942\n",
      "Name: kWhDelivered, dtype: float64\n",
      "3/3 [==============================] - 0s 6ms/step - loss: 108.9072 - mean_absolute_error: 7.6459\n",
      "\n",
      "Mean squared error from neural net: \n",
      " 108.90717315673828\n",
      "\n",
      "Mean absolute error from neural net: \n",
      " 7.6459197998046875\n",
      "\n",
      "Predicted values are:\n",
      "  [[0.00096703 0.0009401  0.00092165 ... 0.00097832 0.00096081 0.00091767]\n",
      " [0.00096731 0.00093988 0.00092158 ... 0.00097838 0.00096046 0.00091791]\n",
      " [0.0009665  0.00094097 0.00092217 ... 0.00097734 0.00096015 0.0009194 ]\n",
      " [0.00096211 0.0009473  0.00092523 ... 0.00097121 0.00095882 0.00092829]\n",
      " [0.00096082 0.00095132 0.00092937 ... 0.00096779 0.00096167 0.00093004]]\n",
      "\n",
      "Real values are: \n",
      " 31131     0.901\n",
      "31132     2.101\n",
      "31133     3.152\n",
      "31134     5.894\n",
      "31135    31.942\n",
      "Name: kWhDelivered, dtype: float64\n",
      "3/3 [==============================] - 0s 17ms/step - loss: 246.3974 - mean_absolute_error: 10.2144\n",
      "\n",
      "Mean squared error from Convolutional neural net:  246.39736938476562\n",
      "\n",
      "Mean absolute error from Convolutional neural net:  10.21442699432373\n",
      "\n",
      "Mean squared error from linear regression:  4877.28744092727\n",
      "\n",
      "Mean absolute error from linear regression:  53.60575496499288\n",
      "\n",
      "Mean squared error using decision tree:  127.55069992647056\n",
      "\n",
      "Mean absolute error using decision tree:  7.745220588235293\n",
      "\n",
      "Mean squared error using Random Forest:  113.78877579587008\n",
      "\n",
      "Mean absolute error Using Random Forest:  7.631643458292483\n",
      "\n",
      " The features ranking by importance to the RF Model\n",
      "\n",
      " spaceID                     0.322508\n",
      "connectionTime              0.252351\n",
      "disconnectTime              0.211381\n",
      "doneChargingTime            0.118602\n",
      "connectionTime_day          0.049640\n",
      "connectionTime_dayofweek    0.037730\n",
      "connectionTime_week         0.006978\n",
      "connectionTime_month        0.000810\n",
      "_id                         0.000000\n",
      "siteID                      0.000000\n",
      "connectionTime_year         0.000000\n",
      "dtype: float64\n"
     ]
    }
   ],
   "source": [
    "ANN_mse, ANN_mae, CNN_mse, CNN_mae, RF_mse, RF_mae, DT_mse, DT_mae, LR_mse, LR_mae, Val_mse, Val_mae = models(x_train, y_train, x_trainScaled, x_test, y_test, x_testScaled, ANN_mse, ANN_mae, CNN_mse, CNN_mae, RF_mse, RF_mae, DT_mse, DT_mae, LR_mse, LR_mae)"
   ]
  },
  {
   "cell_type": "code",
   "execution_count": 82,
   "id": "5353477c",
   "metadata": {},
   "outputs": [],
   "source": [
    "D3_mse = D3_mse + Val_mse\n",
    "D3_mae = D3_mae + Val_mae\n",
    "\n",
    "M2_mse = M2_mse + Val_mse\n",
    "M2_mae = M2_mae + Val_mae"
   ]
  },
  {
   "cell_type": "markdown",
   "id": "46367684",
   "metadata": {},
   "source": [
    "Mean squared error from neural net: \n",
    " 102.65827178955078\n",
    "\n",
    "Mean absolute error from neural net: \n",
    " 7.4129815101623535\n",
    "\n",
    "Mean squared error using Random Forest:  113.78877579587008\n",
    "\n",
    "Mean absolute error Using Random Forest:  7.631643458292483\n"
   ]
  },
  {
   "cell_type": "markdown",
   "id": "8529ffb3",
   "metadata": {},
   "source": [
    "# Predict 5 Days with 2 Months of Data"
   ]
  },
  {
   "cell_type": "code",
   "execution_count": 83,
   "id": "75d3b675",
   "metadata": {},
   "outputs": [],
   "source": [
    "train = df.loc[df['connectionTime_year'] == 2021]\n",
    "train = train.loc[train['connectionTime_month'].isin([7, 8])]\n",
    "                                                      \n",
    "test = df.loc[df['connectionTime_year']==2021]\n",
    "test = test.loc[test['connectionTime_month'] == 9]\n",
    "test = test.loc[test['connectionTime_day'].isin([1,2,3,4,5])]"
   ]
  },
  {
   "cell_type": "code",
   "execution_count": 84,
   "id": "d30f0873",
   "metadata": {},
   "outputs": [],
   "source": [
    "y_train = train['kWhDelivered']\n",
    "x_train = train.drop('kWhDelivered', axis=1)\n",
    "x_train = singleNumeric(x_train)\n",
    "y_train = singleNumeric(y_train)\n",
    "x_trainScaled = scaleData(x_train)"
   ]
  },
  {
   "cell_type": "code",
   "execution_count": 85,
   "id": "7dc2fa76",
   "metadata": {},
   "outputs": [],
   "source": [
    "y_test = test['kWhDelivered']\n",
    "x_test = test.drop('kWhDelivered', axis=1)\n",
    "x_test = singleNumeric(x_test)\n",
    "y_test = singleNumeric(y_test)\n",
    "x_testScaled = scaleData(x_test)"
   ]
  },
  {
   "cell_type": "code",
   "execution_count": 86,
   "id": "28684d96",
   "metadata": {
    "scrolled": true
   },
   "outputs": [
    {
     "name": "stdout",
     "output_type": "stream",
     "text": [
      "Model: \"sequential_20\"\n",
      "_________________________________________________________________\n",
      "Layer (type)                 Output Shape              Param #   \n",
      "=================================================================\n",
      "dense_50 (Dense)             (None, 128)               1536      \n",
      "_________________________________________________________________\n",
      "dense_51 (Dense)             (None, 64)                8256      \n",
      "_________________________________________________________________\n",
      "dense_52 (Dense)             (None, 1)                 65        \n",
      "=================================================================\n",
      "Total params: 9,857\n",
      "Trainable params: 9,857\n",
      "Non-trainable params: 0\n",
      "_________________________________________________________________\n"
     ]
    },
    {
     "data": {
      "image/png": "[encoded data removed]",
      "text/plain": [
       "<Figure size 432x288 with 1 Axes>"
      ]
     },
     "metadata": {
      "needs_background": "light"
     },
     "output_type": "display_data"
    },
    {
     "name": "stdout",
     "output_type": "stream",
     "text": [
      "\n",
      "Predicted values are: \n",
      " [[10.536271 ]\n",
      " [10.519266 ]\n",
      " [10.3760195]\n",
      " [ 9.540914 ]\n",
      " [ 9.333257 ]]\n",
      "\n",
      "Real values are: \n",
      " 31131     0.901\n",
      "31132     2.101\n",
      "31133     3.152\n",
      "31134     5.894\n",
      "31135    31.942\n",
      "Name: kWhDelivered, dtype: float64\n",
      "3/3 [==============================] - 0s 1ms/step - loss: 119.0798 - mean_absolute_error: 7.5162\n",
      "\n",
      "Mean squared error from neural net: \n",
      " 119.07984161376953\n",
      "\n",
      "Mean absolute error from neural net: \n",
      " 7.516154766082764\n",
      "\n",
      "Predicted values are:\n",
      "  [[0.00098055 0.00100267 0.00097536 ... 0.00097255 0.00097354 0.00098129]\n",
      " [0.00098055 0.00100245 0.00097539 ... 0.00097258 0.00097342 0.00098178]\n",
      " [0.00097934 0.00100213 0.00097515 ... 0.00097199 0.00097318 0.00098079]\n",
      " [0.00097117 0.00100002 0.00097417 ... 0.0009692  0.00097277 0.00097654]\n",
      " [0.00096909 0.00100023 0.00097209 ... 0.00096836 0.0009723  0.00097214]]\n",
      "\n",
      "Real values are: \n",
      " 31131     0.901\n",
      "31132     2.101\n",
      "31133     3.152\n",
      "31134     5.894\n",
      "31135    31.942\n",
      "Name: kWhDelivered, dtype: float64\n",
      "3/3 [==============================] - 0s 2ms/step - loss: 320.7631 - mean_absolute_error: 11.8505\n",
      "\n",
      "Mean squared error from Convolutional neural net:  320.7630920410156\n",
      "\n",
      "Mean absolute error from Convolutional neural net:  11.8505220413208\n",
      "\n",
      "Mean squared error from linear regression:  3763.546891101013\n",
      "\n",
      "Mean absolute error from linear regression:  51.393998592895706\n",
      "\n",
      "Mean squared error using decision tree:  186.39211254255315\n",
      "\n",
      "Mean absolute error using decision tree:  9.27605319148936\n",
      "\n",
      "Mean squared error using Random Forest:  100.1006992130904\n",
      "\n",
      "Mean absolute error Using Random Forest:  7.348763723404256\n",
      "\n",
      " The features ranking by importance to the RF Model\n",
      "\n",
      " spaceID                     0.322508\n",
      "connectionTime              0.252351\n",
      "disconnectTime              0.211381\n",
      "doneChargingTime            0.118602\n",
      "connectionTime_day          0.049640\n",
      "connectionTime_dayofweek    0.037730\n",
      "connectionTime_week         0.006978\n",
      "connectionTime_month        0.000810\n",
      "_id                         0.000000\n",
      "siteID                      0.000000\n",
      "connectionTime_year         0.000000\n",
      "dtype: float64\n"
     ]
    }
   ],
   "source": [
    "ANN_mse, ANN_mae, CNN_mse, CNN_mae, RF_mse, RF_mae, DT_mse, DT_mae, LR_mse, LR_mae, Val_mse, Val_mae = models(x_train, y_train, x_trainScaled, x_test, y_test, x_testScaled, ANN_mse, ANN_mae, CNN_mse, CNN_mae, RF_mse, RF_mae, DT_mse, DT_mae, LR_mse, LR_mae)"
   ]
  },
  {
   "cell_type": "code",
   "execution_count": 87,
   "id": "a7374911",
   "metadata": {},
   "outputs": [],
   "source": [
    "D5_mse = D5_mse + Val_mse\n",
    "D5_mae = D5_mae + Val_mae\n",
    "\n",
    "M2_mse = M2_mse + Val_mse\n",
    "M2_mae = M2_mae + Val_mae"
   ]
  },
  {
   "cell_type": "markdown",
   "id": "141aa3bf",
   "metadata": {},
   "source": [
    "Mean squared error from neural net: \n",
    " 117.1256103515625\n",
    "\n",
    "Mean absolute error from neural net: \n",
    " 7.5160722732543945\n",
    "\n",
    "\n",
    "Mean squared error using Random Forest:  100.1006992130904\n",
    "\n",
    "Mean absolute error Using Random Forest:  7.348763723404256"
   ]
  },
  {
   "cell_type": "markdown",
   "id": "7e96dd44",
   "metadata": {},
   "source": [
    "# Predict 1 Week with 2 Months of Data"
   ]
  },
  {
   "cell_type": "code",
   "execution_count": 88,
   "id": "0729c52b",
   "metadata": {},
   "outputs": [],
   "source": [
    "train = df.loc[df['connectionTime_year'] == 2021]\n",
    "train = train.loc[train['connectionTime_month'].isin([7, 8])]\n",
    "                                                      \n",
    "test = df.loc[df['connectionTime_year']==2021]\n",
    "test = test.loc[test['connectionTime_month'] == 9]\n",
    "test = test.loc[test['connectionTime_day'].isin([1,2,3,4,5,6,7])]"
   ]
  },
  {
   "cell_type": "code",
   "execution_count": 89,
   "id": "3cc7e7ed",
   "metadata": {},
   "outputs": [],
   "source": [
    "y_train = train['kWhDelivered']\n",
    "x_train = train.drop('kWhDelivered', axis=1)\n",
    "x_train = singleNumeric(x_train)\n",
    "y_train = singleNumeric(y_train)\n",
    "x_trainScaled = scaleData(x_train)"
   ]
  },
  {
   "cell_type": "code",
   "execution_count": 90,
   "id": "e94f9552",
   "metadata": {},
   "outputs": [],
   "source": [
    "y_test = test['kWhDelivered']\n",
    "x_test = test.drop('kWhDelivered', axis=1)\n",
    "x_test = singleNumeric(x_test)\n",
    "y_test = singleNumeric(y_test)\n",
    "x_testScaled = scaleData(x_test)"
   ]
  },
  {
   "cell_type": "code",
   "execution_count": 91,
   "id": "9d2ff0a9",
   "metadata": {
    "scrolled": true
   },
   "outputs": [
    {
     "name": "stdout",
     "output_type": "stream",
     "text": [
      "Model: \"sequential_22\"\n",
      "_________________________________________________________________\n",
      "Layer (type)                 Output Shape              Param #   \n",
      "=================================================================\n",
      "dense_55 (Dense)             (None, 128)               1536      \n",
      "_________________________________________________________________\n",
      "dense_56 (Dense)             (None, 64)                8256      \n",
      "_________________________________________________________________\n",
      "dense_57 (Dense)             (None, 1)                 65        \n",
      "=================================================================\n",
      "Total params: 9,857\n",
      "Trainable params: 9,857\n",
      "Non-trainable params: 0\n",
      "_________________________________________________________________\n"
     ]
    },
    {
     "data": {
      "image/png": "[encoded data removed]",
      "text/plain": [
       "<Figure size 432x288 with 1 Axes>"
      ]
     },
     "metadata": {
      "needs_background": "light"
     },
     "output_type": "display_data"
    },
    {
     "name": "stdout",
     "output_type": "stream",
     "text": [
      "\n",
      "Predicted values are: \n",
      " [[7.137927 ]\n",
      " [7.1266875]\n",
      " [7.0250893]\n",
      " [6.48035  ]\n",
      " [6.397981 ]]\n",
      "\n",
      "Real values are: \n",
      " 31131     0.901\n",
      "31132     2.101\n",
      "31133     3.152\n",
      "31134     5.894\n",
      "31135    31.942\n",
      "Name: kWhDelivered, dtype: float64\n",
      "5/5 [==============================] - 0s 2ms/step - loss: 102.5145 - mean_absolute_error: 6.8787\n",
      "\n",
      "Mean squared error from neural net: \n",
      " 102.51449584960938\n",
      "\n",
      "Mean absolute error from neural net: \n",
      " 6.878661632537842\n",
      "\n",
      "Predicted values are:\n",
      "  [[0.0009509  0.00094162 0.00097665 ... 0.00091914 0.00089061 0.00092678]\n",
      " [0.00095088 0.00094151 0.00097688 ... 0.00091898 0.00089077 0.00092653]\n",
      " [0.00095166 0.00094195 0.00097604 ... 0.0009195  0.00089189 0.00092763]\n",
      " [0.00095572 0.00094472 0.00097109 ... 0.00092286 0.00089915 0.00093371]\n",
      " [0.00095707 0.0009458  0.00096837 ... 0.00092514 0.00090094 0.00093725]]\n",
      "\n",
      "Real values are: \n",
      " 31131     0.901\n",
      "31132     2.101\n",
      "31133     3.152\n",
      "31134     5.894\n",
      "31135    31.942\n",
      "Name: kWhDelivered, dtype: float64\n",
      "5/5 [==============================] - 0s 2ms/step - loss: 281.7106 - mean_absolute_error: 11.3423\n",
      "\n",
      "Mean squared error from Convolutional neural net:  281.7105712890625\n",
      "\n",
      "Mean absolute error from Convolutional neural net:  11.342314720153809\n",
      "\n",
      "Mean squared error from linear regression:  1429.6542316446103\n",
      "\n",
      "Mean absolute error from linear regression:  31.359407761742357\n",
      "\n",
      "Mean squared error using decision tree:  162.8599236124031\n",
      "\n",
      "Mean absolute error using decision tree:  9.060062015503876\n",
      "\n",
      "Mean squared error using Random Forest:  106.3441792968664\n",
      "\n",
      "Mean absolute error Using Random Forest:  6.811379829758829\n",
      "\n",
      " The features ranking by importance to the RF Model\n",
      "\n",
      " spaceID                     0.322508\n",
      "connectionTime              0.252351\n",
      "disconnectTime              0.211381\n",
      "doneChargingTime            0.118602\n",
      "connectionTime_day          0.049640\n",
      "connectionTime_dayofweek    0.037730\n",
      "connectionTime_week         0.006978\n",
      "connectionTime_month        0.000810\n",
      "_id                         0.000000\n",
      "siteID                      0.000000\n",
      "connectionTime_year         0.000000\n",
      "dtype: float64\n"
     ]
    }
   ],
   "source": [
    "ANN_mse, ANN_mae, CNN_mse, CNN_mae, RF_mse, RF_mae, DT_mse, DT_mae, LR_mse, LR_mae, Val_mse, Val_mae = models(x_train, y_train, x_trainScaled, x_test, y_test, x_testScaled, ANN_mse, ANN_mae, CNN_mse, CNN_mae, RF_mse, RF_mae, DT_mse, DT_mae, LR_mse, LR_mae)"
   ]
  },
  {
   "cell_type": "code",
   "execution_count": 92,
   "id": "4631559b",
   "metadata": {},
   "outputs": [],
   "source": [
    "W_mse = W_mse + Val_mse\n",
    "W_mae = W_mae + Val_mae\n",
    "\n",
    "M2_mse = M2_mse + Val_mse\n",
    "M2_mae = M2_mae + Val_mae"
   ]
  },
  {
   "cell_type": "markdown",
   "id": "c73d646b",
   "metadata": {},
   "source": [
    "Best 2:\n",
    "\n",
    "Mean squared error from neural net: \n",
    " 104.15814971923828\n",
    "\n",
    "Mean absolute error from neural net: \n",
    " 6.946341037750244\n",
    "\n",
    " Mean squared error using Random Forest:  106.3441792968664\n",
    "\n",
    "Mean absolute error Using Random Forest:  6.811379829758829\n",
    "\n"
   ]
  },
  {
   "cell_type": "markdown",
   "id": "0b172fba",
   "metadata": {},
   "source": [
    "# Predict 1 Day with 3 months"
   ]
  },
  {
   "cell_type": "code",
   "execution_count": 93,
   "id": "66a898f3",
   "metadata": {},
   "outputs": [],
   "source": [
    "train = df.loc[df['connectionTime_year'] == 2021]\n",
    "train = train.loc[train['connectionTime_month'].isin([1, 2, 3])]\n",
    "                                                      \n",
    "test = df.loc[df['connectionTime_year']==2021]\n",
    "test = test.loc[test['connectionTime_month'] == 4]\n",
    "test = test.loc[test['connectionTime_day'] == 1]"
   ]
  },
  {
   "cell_type": "code",
   "execution_count": 94,
   "id": "585ba9ae",
   "metadata": {},
   "outputs": [],
   "source": [
    "y_train = train['kWhDelivered']\n",
    "x_train = train.drop('kWhDelivered', axis=1)\n",
    "x_train = singleNumeric(x_train)\n",
    "y_train = singleNumeric(y_train)\n",
    "x_trainScaled = scaleData(x_train)"
   ]
  },
  {
   "cell_type": "code",
   "execution_count": 95,
   "id": "f4005232",
   "metadata": {},
   "outputs": [],
   "source": [
    "y_test = test['kWhDelivered']\n",
    "x_test = test.drop('kWhDelivered', axis=1)\n",
    "x_test = singleNumeric(x_test)\n",
    "y_test = singleNumeric(y_test)\n",
    "x_testScaled = scaleData(x_test)"
   ]
  },
  {
   "cell_type": "code",
   "execution_count": 96,
   "id": "fb7769b5",
   "metadata": {
    "scrolled": true
   },
   "outputs": [
    {
     "name": "stdout",
     "output_type": "stream",
     "text": [
      "Model: \"sequential_24\"\n",
      "_________________________________________________________________\n",
      "Layer (type)                 Output Shape              Param #   \n",
      "=================================================================\n",
      "dense_60 (Dense)             (None, 128)               1536      \n",
      "_________________________________________________________________\n",
      "dense_61 (Dense)             (None, 64)                8256      \n",
      "_________________________________________________________________\n",
      "dense_62 (Dense)             (None, 1)                 65        \n",
      "=================================================================\n",
      "Total params: 9,857\n",
      "Trainable params: 9,857\n",
      "Non-trainable params: 0\n",
      "_________________________________________________________________\n"
     ]
    },
    {
     "data": {
      "image/png": "[encoded data removed]",
      "text/plain": [
       "<Figure size 432x288 with 1 Axes>"
      ]
     },
     "metadata": {
      "needs_background": "light"
     },
     "output_type": "display_data"
    },
    {
     "name": "stdout",
     "output_type": "stream",
     "text": [
      "\n",
      "Predicted values are: \n",
      " [[18.503798 ]\n",
      " [18.602444 ]\n",
      " [ 2.1322122]\n",
      " [ 5.5853505]\n",
      " [20.976671 ]]\n",
      "\n",
      "Real values are: \n",
      " 29000    11.869\n",
      "29001    16.458\n",
      "29002     3.546\n",
      "29003    13.095\n",
      "29004    54.681\n",
      "Name: kWhDelivered, dtype: float64\n",
      "1/1 [==============================] - 0s 13ms/step - loss: 141.2771 - mean_absolute_error: 7.5551\n",
      "\n",
      "Mean squared error from neural net: \n",
      " 141.2771453857422\n",
      "\n",
      "Mean absolute error from neural net: \n",
      " 7.555084228515625\n",
      "\n",
      "Predicted values are:\n",
      "  [[0.00167594 0.00172645 0.00165935 ... 0.00160063 0.0016425  0.00157947]\n",
      " [0.00167959 0.00172701 0.00166264 ... 0.00160095 0.00164525 0.00157649]\n",
      " [0.00166711 0.00161165 0.00162025 ... 0.00159383 0.0016709  0.00154203]\n",
      " [0.00169581 0.00164311 0.00164399 ... 0.00161315 0.00164804 0.00157546]\n",
      " [0.00168937 0.0017096  0.00167918 ... 0.00161488 0.00166729 0.00157222]]\n",
      "\n",
      "Real values are: \n",
      " 29000    11.869\n",
      "29001    16.458\n",
      "29002     3.546\n",
      "29003    13.095\n",
      "29004    54.681\n",
      "Name: kWhDelivered, dtype: float64\n",
      "1/1 [==============================] - 0s 156ms/step - loss: 375.9853 - mean_absolute_error: 12.1592\n",
      "\n",
      "Mean squared error from Convolutional neural net:  375.9853210449219\n",
      "\n",
      "Mean absolute error from Convolutional neural net:  12.159172058105469\n",
      "\n",
      "Mean squared error from linear regression:  35671.34028626818\n",
      "\n",
      "Mean absolute error from linear regression:  140.8299162210022\n",
      "\n",
      "Mean squared error using decision tree:  134.05596959999997\n",
      "\n",
      "Mean absolute error using decision tree:  7.167199999999999\n",
      "\n",
      "Mean squared error using Random Forest:  140.99086394583992\n",
      "\n",
      "Mean absolute error Using Random Forest:  8.275377999999998\n",
      "\n",
      " The features ranking by importance to the RF Model\n",
      "\n",
      " spaceID                     0.382213\n",
      "connectionTime              0.202342\n",
      "disconnectTime              0.199184\n",
      "connectionTime_day          0.081983\n",
      "connectionTime_dayofweek    0.069445\n",
      "doneChargingTime            0.043038\n",
      "connectionTime_week         0.018378\n",
      "connectionTime_month        0.003418\n",
      "_id                         0.000000\n",
      "siteID                      0.000000\n",
      "connectionTime_year         0.000000\n",
      "dtype: float64\n"
     ]
    }
   ],
   "source": [
    "ANN_mse, ANN_mae, CNN_mse, CNN_mae, RF_mse, RF_mae, DT_mse, DT_mae, LR_mse, LR_mae, Val_mse, Val_mae = models(x_train, y_train, x_trainScaled, x_test, y_test, x_testScaled, ANN_mse, ANN_mae, CNN_mse, CNN_mae, RF_mse, RF_mae, DT_mse, DT_mae, LR_mse, LR_mae)"
   ]
  },
  {
   "cell_type": "code",
   "execution_count": 97,
   "id": "12691f42",
   "metadata": {},
   "outputs": [],
   "source": [
    "D_mse = D_mse + Val_mse\n",
    "D_mae = D_mae + Val_mae\n",
    "\n",
    "M3_mse = M3_mse + Val_mse\n",
    "M3_mae = M3_mae + Val_mae"
   ]
  },
  {
   "cell_type": "markdown",
   "id": "306ee663",
   "metadata": {},
   "source": [
    "Best 2:\n",
    "\n",
    "Mean squared error from neural net: \n",
    " 140.70570373535156\n",
    "\n",
    "Mean absolute error from neural net: \n",
    " 7.819906711578369\n",
    "\n",
    "Mean squared error using decision tree:  130.75000129999998\n",
    "\n",
    "Mean absolute error using decision tree:  6.7923"
   ]
  },
  {
   "cell_type": "markdown",
   "id": "5413e371",
   "metadata": {},
   "source": [
    "# Predict 3 Days with 3 months"
   ]
  },
  {
   "cell_type": "code",
   "execution_count": 98,
   "id": "838d67b4",
   "metadata": {},
   "outputs": [],
   "source": [
    "train = df.loc[df['connectionTime_year'] == 2021]\n",
    "train = train.loc[train['connectionTime_month'].isin([1, 2, 3])]\n",
    "                                                      \n",
    "test = df.loc[df['connectionTime_year']==2021]\n",
    "test = test.loc[test['connectionTime_month'] == 4]\n",
    "test = test.loc[test['connectionTime_day'].isin([1,2,3])]"
   ]
  },
  {
   "cell_type": "code",
   "execution_count": 99,
   "id": "59698eb5",
   "metadata": {},
   "outputs": [],
   "source": [
    "y_train = train['kWhDelivered']\n",
    "x_train = train.drop('kWhDelivered', axis=1)\n",
    "x_train = singleNumeric(x_train)\n",
    "y_train = singleNumeric(y_train)\n",
    "x_trainScaled = scaleData(x_train)"
   ]
  },
  {
   "cell_type": "code",
   "execution_count": 100,
   "id": "1280bba5",
   "metadata": {},
   "outputs": [],
   "source": [
    "y_test = test['kWhDelivered']\n",
    "x_test = test.drop('kWhDelivered', axis=1)\n",
    "x_test = singleNumeric(x_test)\n",
    "y_test = singleNumeric(y_test)\n",
    "x_testScaled = scaleData(x_test)"
   ]
  },
  {
   "cell_type": "code",
   "execution_count": 101,
   "id": "f335b29d",
   "metadata": {
    "scrolled": true
   },
   "outputs": [
    {
     "name": "stdout",
     "output_type": "stream",
     "text": [
      "Model: \"sequential_26\"\n",
      "_________________________________________________________________\n",
      "Layer (type)                 Output Shape              Param #   \n",
      "=================================================================\n",
      "dense_65 (Dense)             (None, 128)               1536      \n",
      "_________________________________________________________________\n",
      "dense_66 (Dense)             (None, 64)                8256      \n",
      "_________________________________________________________________\n",
      "dense_67 (Dense)             (None, 1)                 65        \n",
      "=================================================================\n",
      "Total params: 9,857\n",
      "Trainable params: 9,857\n",
      "Non-trainable params: 0\n",
      "_________________________________________________________________\n"
     ]
    },
    {
     "data": {
      "image/png": "[encoded data removed]",
      "text/plain": [
       "<Figure size 432x288 with 1 Axes>"
      ]
     },
     "metadata": {
      "needs_background": "light"
     },
     "output_type": "display_data"
    },
    {
     "name": "stdout",
     "output_type": "stream",
     "text": [
      "\n",
      "Predicted values are: \n",
      " [[18.50459  ]\n",
      " [18.452436 ]\n",
      " [ 3.4214675]\n",
      " [ 3.080504 ]\n",
      " [17.196825 ]]\n",
      "\n",
      "Real values are: \n",
      " 29000    11.869\n",
      "29001    16.458\n",
      "29002     3.546\n",
      "29003    13.095\n",
      "29004    54.681\n",
      "Name: kWhDelivered, dtype: float64\n",
      "1/1 [==============================] - 0s 14ms/step - loss: 189.1021 - mean_absolute_error: 8.7368\n",
      "\n",
      "Mean squared error from neural net: \n",
      " 189.1021270751953\n",
      "\n",
      "Mean absolute error from neural net: \n",
      " 8.736754417419434\n",
      "\n",
      "Predicted values are:\n",
      "  [[0.0017036  0.00171152 0.00164674 ... 0.00155619 0.00167533 0.00156342]\n",
      " [0.00170259 0.00171089 0.00164585 ... 0.00155825 0.00167497 0.00156425]\n",
      " [0.00166    0.0016874  0.00157513 ... 0.00153245 0.00159838 0.00155876]\n",
      " [0.00164703 0.00166004 0.0015638  ... 0.00157883 0.00161796 0.00159211]\n",
      " [0.00168242 0.00169242 0.00162997 ... 0.00160489 0.00166796 0.00158048]]\n",
      "\n",
      "Real values are: \n",
      " 29000    11.869\n",
      "29001    16.458\n",
      "29002     3.546\n",
      "29003    13.095\n",
      "29004    54.681\n",
      "Name: kWhDelivered, dtype: float64\n",
      "1/1 [==============================] - 0s 149ms/step - loss: 512.1378 - mean_absolute_error: 16.6066\n",
      "\n",
      "Mean squared error from Convolutional neural net:  512.1377563476562\n",
      "\n",
      "Mean absolute error from Convolutional neural net:  16.60662841796875\n",
      "\n",
      "Mean squared error from linear regression:  5814.549095457521\n",
      "\n",
      "Mean absolute error from linear regression:  54.87354359493095\n",
      "\n",
      "Mean squared error using decision tree:  259.60725038709677\n",
      "\n",
      "Mean absolute error using decision tree:  10.158645161290323\n",
      "\n",
      "Mean squared error using Random Forest:  183.2863459959755\n",
      "\n",
      "Mean absolute error Using Random Forest:  10.364935468369174\n",
      "\n",
      " The features ranking by importance to the RF Model\n",
      "\n",
      " spaceID                     0.382213\n",
      "connectionTime              0.202342\n",
      "disconnectTime              0.199184\n",
      "connectionTime_day          0.081983\n",
      "connectionTime_dayofweek    0.069445\n",
      "doneChargingTime            0.043038\n",
      "connectionTime_week         0.018378\n",
      "connectionTime_month        0.003418\n",
      "_id                         0.000000\n",
      "siteID                      0.000000\n",
      "connectionTime_year         0.000000\n",
      "dtype: float64\n"
     ]
    }
   ],
   "source": [
    "ANN_mse, ANN_mae, CNN_mse, CNN_mae, RF_mse, RF_mae, DT_mse, DT_mae, LR_mse, LR_mae, Val_mse, Val_mae = models(x_train, y_train, x_trainScaled, x_test, y_test, x_testScaled, ANN_mse, ANN_mae, CNN_mse, CNN_mae, RF_mse, RF_mae, DT_mse, DT_mae, LR_mse, LR_mae)"
   ]
  },
  {
   "cell_type": "code",
   "execution_count": 102,
   "id": "8ce3b2d4",
   "metadata": {},
   "outputs": [],
   "source": [
    "D3_mse = D3_mse + Val_mse\n",
    "D3_mae = D3_mae + Val_mae\n",
    "\n",
    "M3_mse = M3_mse + Val_mse\n",
    "M3_mae = M3_mae + Val_mae"
   ]
  },
  {
   "cell_type": "markdown",
   "id": "6ae3526b",
   "metadata": {},
   "source": [
    "Mean squared error from neural net: \n",
    " 187.8616943359375\n",
    "\n",
    "Mean absolute error from neural net: \n",
    " 8.869044303894043\n",
    "\n",
    " Mean squared error using Random Forest:  183.2863459959755\n",
    "\n",
    "Mean absolute error Using Random Forest:  10.364935468369174"
   ]
  },
  {
   "cell_type": "markdown",
   "id": "b51fd13a",
   "metadata": {},
   "source": [
    "# Predict 5 Days with 3 months"
   ]
  },
  {
   "cell_type": "code",
   "execution_count": 103,
   "id": "e9ee314f",
   "metadata": {},
   "outputs": [],
   "source": [
    "train = df.loc[df['connectionTime_year'] == 2021]\n",
    "train = train.loc[train['connectionTime_month'].isin([1, 2, 3])]\n",
    "                                                      \n",
    "test = df.loc[df['connectionTime_year']==2021]\n",
    "test = test.loc[test['connectionTime_month'] == 4]\n",
    "test = test.loc[test['connectionTime_day'].isin([1,2,3,4,5])]"
   ]
  },
  {
   "cell_type": "code",
   "execution_count": 104,
   "id": "5049f469",
   "metadata": {},
   "outputs": [],
   "source": [
    "y_train = train['kWhDelivered']\n",
    "x_train = train.drop('kWhDelivered', axis=1)\n",
    "x_train = singleNumeric(x_train)\n",
    "y_train = singleNumeric(y_train)\n",
    "x_trainScaled = scaleData(x_train)"
   ]
  },
  {
   "cell_type": "code",
   "execution_count": 105,
   "id": "0c9784be",
   "metadata": {},
   "outputs": [],
   "source": [
    "y_test = test['kWhDelivered']\n",
    "x_test = test.drop('kWhDelivered', axis=1)\n",
    "x_test = singleNumeric(x_test)\n",
    "y_test = singleNumeric(y_test)\n",
    "x_testScaled = scaleData(x_test)"
   ]
  },
  {
   "cell_type": "code",
   "execution_count": 106,
   "id": "3a8effc7",
   "metadata": {
    "scrolled": true
   },
   "outputs": [
    {
     "name": "stdout",
     "output_type": "stream",
     "text": [
      "Model: \"sequential_28\"\n",
      "_________________________________________________________________\n",
      "Layer (type)                 Output Shape              Param #   \n",
      "=================================================================\n",
      "dense_70 (Dense)             (None, 128)               1536      \n",
      "_________________________________________________________________\n",
      "dense_71 (Dense)             (None, 64)                8256      \n",
      "_________________________________________________________________\n",
      "dense_72 (Dense)             (None, 1)                 65        \n",
      "=================================================================\n",
      "Total params: 9,857\n",
      "Trainable params: 9,857\n",
      "Non-trainable params: 0\n",
      "_________________________________________________________________\n"
     ]
    },
    {
     "data": {
      "image/png": "[encoded data removed]",
      "text/plain": [
       "<Figure size 432x288 with 1 Axes>"
      ]
     },
     "metadata": {
      "needs_background": "light"
     },
     "output_type": "display_data"
    },
    {
     "name": "stdout",
     "output_type": "stream",
     "text": [
      "\n",
      "Predicted values are: \n",
      " [[17.10494  ]\n",
      " [17.124746 ]\n",
      " [ 3.0966046]\n",
      " [ 3.7212396]\n",
      " [17.713194 ]]\n",
      "\n",
      "Real values are: \n",
      " 29000    11.869\n",
      "29001    16.458\n",
      "29002     3.546\n",
      "29003    13.095\n",
      "29004    54.681\n",
      "Name: kWhDelivered, dtype: float64\n",
      "2/2 [==============================] - 0s 2ms/step - loss: 158.2703 - mean_absolute_error: 8.0138\n",
      "\n",
      "Mean squared error from neural net: \n",
      " 158.270263671875\n",
      "\n",
      "Mean absolute error from neural net: \n",
      " 8.013827323913574\n",
      "\n",
      "Predicted values are:\n",
      "  [[0.00162046 0.00164601 0.00158054 ... 0.00156773 0.0016037  0.00160228]\n",
      " [0.00162039 0.00164569 0.00158139 ... 0.00156796 0.00160401 0.00160272]\n",
      " [0.00164302 0.00167631 0.00165306 ... 0.00165679 0.00166138 0.00157325]\n",
      " [0.00163617 0.00167269 0.00166002 ... 0.00165954 0.00165938 0.001581  ]\n",
      " [0.0016177  0.00163852 0.00159865 ... 0.00157151 0.00161192 0.00161476]]\n",
      "\n",
      "Real values are: \n",
      " 29000    11.869\n",
      "29001    16.458\n",
      "29002     3.546\n",
      "29003    13.095\n",
      "29004    54.681\n",
      "Name: kWhDelivered, dtype: float64\n",
      "2/2 [==============================] - 0s 2ms/step - loss: 411.4121 - mean_absolute_error: 14.1805\n",
      "\n",
      "Mean squared error from Convolutional neural net:  411.4121398925781\n",
      "\n",
      "Mean absolute error from Convolutional neural net:  14.180455207824707\n",
      "\n",
      "Mean squared error from linear regression:  1954.1493630638006\n",
      "\n",
      "Mean absolute error from linear regression:  33.11960959872613\n",
      "\n",
      "Mean squared error using decision tree:  313.92455337318256\n",
      "\n",
      "Mean absolute error using decision tree:  13.770895746216615\n",
      "\n",
      "Mean squared error using Random Forest:  163.33505718087187\n",
      "\n",
      "Mean absolute error Using Random Forest:  10.224571321158745\n",
      "\n",
      " The features ranking by importance to the RF Model\n",
      "\n",
      " spaceID                     0.382213\n",
      "connectionTime              0.202342\n",
      "disconnectTime              0.199184\n",
      "connectionTime_day          0.081983\n",
      "connectionTime_dayofweek    0.069445\n",
      "doneChargingTime            0.043038\n",
      "connectionTime_week         0.018378\n",
      "connectionTime_month        0.003418\n",
      "_id                         0.000000\n",
      "siteID                      0.000000\n",
      "connectionTime_year         0.000000\n",
      "dtype: float64\n"
     ]
    }
   ],
   "source": [
    "ANN_mse, ANN_mae, CNN_mse, CNN_mae, RF_mse, RF_mae, DT_mse, DT_mae, LR_mse, LR_mae, Val_mse, Val_mae = models(x_train, y_train, x_trainScaled, x_test, y_test, x_testScaled, ANN_mse, ANN_mae, CNN_mse, CNN_mae, RF_mse, RF_mae, DT_mse, DT_mae, LR_mse, LR_mae)"
   ]
  },
  {
   "cell_type": "code",
   "execution_count": 107,
   "id": "e981aa5a",
   "metadata": {},
   "outputs": [],
   "source": [
    "D5_mse = D5_mse + Val_mse\n",
    "D5_mae = D5_mae + Val_mae\n",
    "\n",
    "M3_mse = M3_mse + Val_mse\n",
    "M3_mae = M3_mae + Val_mae"
   ]
  },
  {
   "cell_type": "markdown",
   "id": "aed79dd5",
   "metadata": {},
   "source": [
    "Mean squared error from neural net: \n",
    " 160.44891357421875\n",
    "\n",
    "Mean absolute error from neural net: \n",
    " 8.013179779052734\n",
    "\n",
    "Mean squared error using Random Forest:  163.33505718087187\n",
    "\n",
    "Mean absolute error Using Random Forest:  10.224571321158745"
   ]
  },
  {
   "cell_type": "markdown",
   "id": "324e951b",
   "metadata": {},
   "source": [
    "# Predict 1 Week with 3 months"
   ]
  },
  {
   "cell_type": "code",
   "execution_count": 108,
   "id": "f2cad170",
   "metadata": {},
   "outputs": [],
   "source": [
    "train = df.loc[df['connectionTime_year'] == 2021]\n",
    "train = train.loc[train['connectionTime_month'].isin([1, 2, 3])]\n",
    "                                                      \n",
    "test = df.loc[df['connectionTime_year']==2021]\n",
    "test = test.loc[test['connectionTime_month'] == 4]\n",
    "test = test.loc[test['connectionTime_day'].isin([1,2,3,4,5,6,7])]"
   ]
  },
  {
   "cell_type": "code",
   "execution_count": 109,
   "id": "65bbc1e2",
   "metadata": {},
   "outputs": [],
   "source": [
    "y_train = train['kWhDelivered']\n",
    "x_train = train.drop('kWhDelivered', axis=1)\n",
    "x_train = singleNumeric(x_train)\n",
    "y_train = singleNumeric(y_train)\n",
    "x_trainScaled = scaleData(x_train)"
   ]
  },
  {
   "cell_type": "code",
   "execution_count": 110,
   "id": "19428581",
   "metadata": {},
   "outputs": [],
   "source": [
    "y_test = test['kWhDelivered']\n",
    "x_test = test.drop('kWhDelivered', axis=1)\n",
    "x_test = singleNumeric(x_test)\n",
    "y_test = singleNumeric(y_test)\n",
    "x_testScaled = scaleData(x_test)"
   ]
  },
  {
   "cell_type": "code",
   "execution_count": 111,
   "id": "ebcc93a1",
   "metadata": {
    "scrolled": true
   },
   "outputs": [
    {
     "name": "stdout",
     "output_type": "stream",
     "text": [
      "Model: \"sequential_30\"\n",
      "_________________________________________________________________\n",
      "Layer (type)                 Output Shape              Param #   \n",
      "=================================================================\n",
      "dense_75 (Dense)             (None, 128)               1536      \n",
      "_________________________________________________________________\n",
      "dense_76 (Dense)             (None, 64)                8256      \n",
      "_________________________________________________________________\n",
      "dense_77 (Dense)             (None, 1)                 65        \n",
      "=================================================================\n",
      "Total params: 9,857\n",
      "Trainable params: 9,857\n",
      "Non-trainable params: 0\n",
      "_________________________________________________________________\n"
     ]
    },
    {
     "data": {
      "image/png": "[encoded data removed]",
      "text/plain": [
       "<Figure size 432x288 with 1 Axes>"
      ]
     },
     "metadata": {
      "needs_background": "light"
     },
     "output_type": "display_data"
    },
    {
     "name": "stdout",
     "output_type": "stream",
     "text": [
      "\n",
      "Predicted values are: \n",
      " [[21.128603 ]\n",
      " [21.135159 ]\n",
      " [ 6.1243486]\n",
      " [ 6.2764935]\n",
      " [21.365583 ]]\n",
      "\n",
      "Real values are: \n",
      " 29000    11.869\n",
      "29001    16.458\n",
      "29002     3.546\n",
      "29003    13.095\n",
      "29004    54.681\n",
      "Name: kWhDelivered, dtype: float64\n",
      "3/3 [==============================] - 0s 1ms/step - loss: 142.1442 - mean_absolute_error: 7.7368\n",
      "\n",
      "Mean squared error from neural net: \n",
      " 142.14418029785156\n",
      "\n",
      "Mean absolute error from neural net: \n",
      " 7.7368364334106445\n",
      "\n",
      "Predicted values are:\n",
      "  [[0.00158452 0.0016554  0.00166653 ... 0.00154732 0.00178878 0.00168669]\n",
      " [0.00158445 0.00165545 0.0016662  ... 0.0015476  0.00178799 0.0016865 ]\n",
      " [0.0015739  0.00165168 0.00159683 ... 0.00160004 0.00181158 0.00167908]\n",
      " [0.00158101 0.00165869 0.00159279 ... 0.00160042 0.00178306 0.00167359]\n",
      " [0.00158502 0.00165323 0.00166086 ... 0.00155205 0.00177358 0.00168511]]\n",
      "\n",
      "Real values are: \n",
      " 29000    11.869\n",
      "29001    16.458\n",
      "29002     3.546\n",
      "29003    13.095\n",
      "29004    54.681\n",
      "Name: kWhDelivered, dtype: float64\n",
      "3/3 [==============================] - 0s 3ms/step - loss: 335.4489 - mean_absolute_error: 11.9972\n",
      "\n",
      "Mean squared error from Convolutional neural net:  335.44891357421875\n",
      "\n",
      "Mean absolute error from Convolutional neural net:  11.997196197509766\n",
      "\n",
      "Mean squared error from linear regression:  1350.9637389441423\n",
      "\n",
      "Mean absolute error from linear regression:  26.210747710918575\n",
      "\n",
      "Mean squared error using decision tree:  236.7871639808247\n",
      "\n",
      "Mean absolute error using decision tree:  11.534050052270032\n",
      "\n",
      "Mean squared error using Random Forest:  159.6135360726889\n",
      "\n",
      "Mean absolute error Using Random Forest:  8.76255422973079\n",
      "\n",
      " The features ranking by importance to the RF Model\n",
      "\n",
      " spaceID                     0.382213\n",
      "connectionTime              0.202342\n",
      "disconnectTime              0.199184\n",
      "connectionTime_day          0.081983\n",
      "connectionTime_dayofweek    0.069445\n",
      "doneChargingTime            0.043038\n",
      "connectionTime_week         0.018378\n",
      "connectionTime_month        0.003418\n",
      "_id                         0.000000\n",
      "siteID                      0.000000\n",
      "connectionTime_year         0.000000\n",
      "dtype: float64\n"
     ]
    }
   ],
   "source": [
    "ANN_mse, ANN_mae, CNN_mse, CNN_mae, RF_mse, RF_mae, DT_mse, DT_mae, LR_mse, LR_mae, Val_mse, Val_mae = models(x_train, y_train, x_trainScaled, x_test, y_test, x_testScaled, ANN_mse, ANN_mae, CNN_mse, CNN_mae, RF_mse, RF_mae, DT_mse, DT_mae, LR_mse, LR_mae)"
   ]
  },
  {
   "cell_type": "code",
   "execution_count": 112,
   "id": "30ca8b41",
   "metadata": {},
   "outputs": [],
   "source": [
    "W_mse = W_mse + Val_mse\n",
    "W_mae = W_mae + Val_mae\n",
    "\n",
    "M3_mse = M3_mse + Val_mse\n",
    "M3_mae = M3_mae + Val_mae"
   ]
  },
  {
   "cell_type": "markdown",
   "id": "e711ebae",
   "metadata": {},
   "source": [
    "Mean squared error from neural net: \n",
    " 139.3793182373047\n",
    "\n",
    "Mean absolute error from neural net: \n",
    " 7.571944236755371\n",
    "\n",
    " Mean squared error using Random Forest:  159.6135360726889\n",
    "\n",
    "Mean absolute error Using Random Forest:  8.76255422973079"
   ]
  },
  {
   "cell_type": "markdown",
   "id": "2ff7529a",
   "metadata": {},
   "source": [
    "# Predict 1 Day with 6 months"
   ]
  },
  {
   "cell_type": "code",
   "execution_count": 113,
   "id": "03fefb51",
   "metadata": {},
   "outputs": [],
   "source": [
    "train = df.loc[df['connectionTime_year'] == 2021]\n",
    "train = train.loc[train['connectionTime_month'].isin([1, 2, 3, 4, 5, 6])]\n",
    "                                                      \n",
    "test = df.loc[df['connectionTime_year']==2021]\n",
    "test = test.loc[test['connectionTime_month'] == 4]\n",
    "test = test.loc[test['connectionTime_day'] == 1]"
   ]
  },
  {
   "cell_type": "code",
   "execution_count": 114,
   "id": "f2ea5ed6",
   "metadata": {},
   "outputs": [],
   "source": [
    "y_train = train['kWhDelivered']\n",
    "x_train = train.drop('kWhDelivered', axis=1)\n",
    "x_train = singleNumeric(x_train)\n",
    "y_train = singleNumeric(y_train)\n",
    "x_trainScaled = scaleData(x_train)"
   ]
  },
  {
   "cell_type": "code",
   "execution_count": 115,
   "id": "a34badd1",
   "metadata": {},
   "outputs": [],
   "source": [
    "y_test = test['kWhDelivered']\n",
    "x_test = test.drop('kWhDelivered', axis=1)\n",
    "x_test = singleNumeric(x_test)\n",
    "y_test = singleNumeric(y_test)\n",
    "x_testScaled = scaleData(x_test)"
   ]
  },
  {
   "cell_type": "code",
   "execution_count": 116,
   "id": "5533209d",
   "metadata": {
    "scrolled": true
   },
   "outputs": [
    {
     "name": "stdout",
     "output_type": "stream",
     "text": [
      "Model: \"sequential_32\"\n",
      "_________________________________________________________________\n",
      "Layer (type)                 Output Shape              Param #   \n",
      "=================================================================\n",
      "dense_80 (Dense)             (None, 128)               1536      \n",
      "_________________________________________________________________\n",
      "dense_81 (Dense)             (None, 64)                8256      \n",
      "_________________________________________________________________\n",
      "dense_82 (Dense)             (None, 1)                 65        \n",
      "=================================================================\n",
      "Total params: 9,857\n",
      "Trainable params: 9,857\n",
      "Non-trainable params: 0\n",
      "_________________________________________________________________\n"
     ]
    },
    {
     "data": {
      "image/png": "[encoded data removed]",
      "text/plain": [
       "<Figure size 432x288 with 1 Axes>"
      ]
     },
     "metadata": {
      "needs_background": "light"
     },
     "output_type": "display_data"
    },
    {
     "name": "stdout",
     "output_type": "stream",
     "text": [
      "\n",
      "Predicted values are: \n",
      " [[19.787636 ]\n",
      " [19.904303 ]\n",
      " [ 4.9285994]\n",
      " [ 7.875389 ]\n",
      " [23.180138 ]]\n",
      "\n",
      "Real values are: \n",
      " 29000    11.869\n",
      "29001    16.458\n",
      "29002     3.546\n",
      "29003    13.095\n",
      "29004    54.681\n",
      "Name: kWhDelivered, dtype: float64\n",
      "1/1 [==============================] - 0s 14ms/step - loss: 138.9943 - mean_absolute_error: 8.3447\n",
      "\n",
      "Mean squared error from neural net: \n",
      " 138.99427795410156\n",
      "\n",
      "Mean absolute error from neural net: \n",
      " 8.344724655151367\n",
      "\n",
      "Predicted values are:\n",
      "  [[0.00057417 0.00058855 0.00059197 ... 0.00059787 0.00058562 0.00058513]\n",
      " [0.00057434 0.0005882  0.00059161 ... 0.00059732 0.00058584 0.0005853 ]\n",
      " [0.00057815 0.00058855 0.00059597 ... 0.00059694 0.00058825 0.00058813]\n",
      " [0.00058365 0.0005855  0.00059865 ... 0.0006043  0.00058689 0.00058387]\n",
      " [0.00058435 0.00057425 0.00058567 ... 0.00059029 0.00058749 0.00058591]]\n",
      "\n",
      "Real values are: \n",
      " 29000    11.869\n",
      "29001    16.458\n",
      "29002     3.546\n",
      "29003    13.095\n",
      "29004    54.681\n",
      "Name: kWhDelivered, dtype: float64\n",
      "1/1 [==============================] - 0s 159ms/step - loss: 376.0106 - mean_absolute_error: 12.1602\n",
      "\n",
      "Mean squared error from Convolutional neural net:  376.0105895996094\n",
      "\n",
      "Mean absolute error from Convolutional neural net:  12.160204887390137\n",
      "\n",
      "Mean squared error from linear regression:  171588.32258516838\n",
      "\n",
      "Mean absolute error from linear regression:  322.8156458010792\n",
      "\n",
      "Mean squared error using decision tree:  283.37942519999996\n",
      "\n",
      "Mean absolute error using decision tree:  9.528399999999998\n",
      "\n",
      "Mean squared error using Random Forest:  139.48872427732\n",
      "\n",
      "Mean absolute error Using Random Forest:  8.705460000000002\n",
      "\n",
      " The features ranking by importance to the RF Model\n",
      "\n",
      " spaceID                     0.336956\n",
      "connectionTime              0.235666\n",
      "disconnectTime              0.233189\n",
      "connectionTime_day          0.070928\n",
      "connectionTime_dayofweek    0.053825\n",
      "doneChargingTime            0.050457\n",
      "connectionTime_week         0.014470\n",
      "connectionTime_month        0.004509\n",
      "_id                         0.000000\n",
      "siteID                      0.000000\n",
      "connectionTime_year         0.000000\n",
      "dtype: float64\n"
     ]
    }
   ],
   "source": [
    "ANN_mse, ANN_mae, CNN_mse, CNN_mae, RF_mse, RF_mae, DT_mse, DT_mae, LR_mse, LR_mae, Val_mse, Val_mae = models(x_train, y_train, x_trainScaled, x_test, y_test, x_testScaled, ANN_mse, ANN_mae, CNN_mse, CNN_mae, RF_mse, RF_mae, DT_mse, DT_mae, LR_mse, LR_mae)"
   ]
  },
  {
   "cell_type": "code",
   "execution_count": 117,
   "id": "f119481c",
   "metadata": {},
   "outputs": [],
   "source": [
    "D_mse = D_mse + Val_mse\n",
    "D_mae = D_mae + Val_mae\n",
    "\n",
    "M6_mse = M6_mse + Val_mse\n",
    "M6_mae = M6_mae + Val_mae"
   ]
  },
  {
   "cell_type": "markdown",
   "id": "baedbb8b",
   "metadata": {},
   "source": [
    "Best 2:\n",
    "\n",
    "Mean squared error from neural net: \n",
    " 137.43057250976562\n",
    "\n",
    "Mean absolute error from neural net: \n",
    " 8.427358627319336\n",
    "\n",
    "\n",
    "Mean squared error using Random Forest:  139.48872427732\n",
    "\n",
    "Mean absolute error Using Random Forest:  8.705460000000002"
   ]
  },
  {
   "cell_type": "markdown",
   "id": "f8ab4490",
   "metadata": {},
   "source": [
    "# Predict 3 Days with 6 months"
   ]
  },
  {
   "cell_type": "code",
   "execution_count": 118,
   "id": "5538584a",
   "metadata": {},
   "outputs": [],
   "source": [
    "train = df.loc[df['connectionTime_year'] == 2021]\n",
    "train = train.loc[train['connectionTime_month'].isin([1, 2, 3, 4, 5, 6])]\n",
    "                                                      \n",
    "test = df.loc[df['connectionTime_year']==2021]\n",
    "test = test.loc[test['connectionTime_month'] == 4]\n",
    "test = test.loc[test['connectionTime_day'].isin([1,2,3])]"
   ]
  },
  {
   "cell_type": "code",
   "execution_count": 119,
   "id": "d4c97217",
   "metadata": {},
   "outputs": [],
   "source": [
    "y_train = train['kWhDelivered']\n",
    "x_train = train.drop('kWhDelivered', axis=1)\n",
    "x_train = singleNumeric(x_train)\n",
    "y_train = singleNumeric(y_train)\n",
    "x_trainScaled = scaleData(x_train)"
   ]
  },
  {
   "cell_type": "code",
   "execution_count": 120,
   "id": "ea3b3883",
   "metadata": {},
   "outputs": [],
   "source": [
    "y_test = test['kWhDelivered']\n",
    "x_test = test.drop('kWhDelivered', axis=1)\n",
    "x_test = singleNumeric(x_test)\n",
    "y_test = singleNumeric(y_test)\n",
    "x_testScaled = scaleData(x_test)"
   ]
  },
  {
   "cell_type": "code",
   "execution_count": 121,
   "id": "cbe33d4c",
   "metadata": {
    "scrolled": true
   },
   "outputs": [
    {
     "name": "stdout",
     "output_type": "stream",
     "text": [
      "Model: \"sequential_34\"\n",
      "_________________________________________________________________\n",
      "Layer (type)                 Output Shape              Param #   \n",
      "=================================================================\n",
      "dense_85 (Dense)             (None, 128)               1536      \n",
      "_________________________________________________________________\n",
      "dense_86 (Dense)             (None, 64)                8256      \n",
      "_________________________________________________________________\n",
      "dense_87 (Dense)             (None, 1)                 65        \n",
      "=================================================================\n",
      "Total params: 9,857\n",
      "Trainable params: 9,857\n",
      "Non-trainable params: 0\n",
      "_________________________________________________________________\n"
     ]
    },
    {
     "data": {
      "image/png": "[encoded data removed]",
      "text/plain": [
       "<Figure size 432x288 with 1 Axes>"
      ]
     },
     "metadata": {
      "needs_background": "light"
     },
     "output_type": "display_data"
    },
    {
     "name": "stdout",
     "output_type": "stream",
     "text": [
      "\n",
      "Predicted values are: \n",
      " [[14.403899 ]\n",
      " [14.37635  ]\n",
      " [ 5.784436 ]\n",
      " [ 6.0170627]\n",
      " [13.686073 ]]\n",
      "\n",
      "Real values are: \n",
      " 29000    11.869\n",
      "29001    16.458\n",
      "29002     3.546\n",
      "29003    13.095\n",
      "29004    54.681\n",
      "Name: kWhDelivered, dtype: float64\n",
      "1/1 [==============================] - 0s 14ms/step - loss: 176.2166 - mean_absolute_error: 8.8752\n",
      "\n",
      "Mean squared error from neural net: \n",
      " 176.21658325195312\n",
      "\n",
      "Mean absolute error from neural net: \n",
      " 8.875224113464355\n",
      "\n",
      "Predicted values are:\n",
      "  [[0.00057299 0.00058785 0.00060019 ... 0.00057247 0.00058094 0.00057125]\n",
      " [0.00057306 0.00058791 0.00060009 ... 0.00057268 0.00058105 0.00057159]\n",
      " [0.00058107 0.00061529 0.00059254 ... 0.00057127 0.00057909 0.00055731]\n",
      " [0.00058592 0.00061351 0.00059127 ... 0.00057461 0.00058379 0.00056564]\n",
      " [0.00057481 0.00058979 0.0005955  ... 0.00057566 0.00058217 0.00057635]]\n",
      "\n",
      "Real values are: \n",
      " 29000    11.869\n",
      "29001    16.458\n",
      "29002     3.546\n",
      "29003    13.095\n",
      "29004    54.681\n",
      "Name: kWhDelivered, dtype: float64\n",
      "1/1 [==============================] - 0s 155ms/step - loss: 512.1721 - mean_absolute_error: 16.6077\n",
      "\n",
      "Mean squared error from Convolutional neural net:  512.172119140625\n",
      "\n",
      "Mean absolute error from Convolutional neural net:  16.6076717376709\n",
      "\n",
      "Mean squared error from linear regression:  26712.241517095168\n",
      "\n",
      "Mean absolute error from linear regression:  112.46669707609911\n",
      "\n",
      "Mean squared error using decision tree:  647.7553956129034\n",
      "\n",
      "Mean absolute error using decision tree:  19.133096774193547\n",
      "\n",
      "Mean squared error using Random Forest:  278.053234980616\n",
      "\n",
      "Mean absolute error Using Random Forest:  14.620022903225802\n",
      "\n",
      " The features ranking by importance to the RF Model\n",
      "\n",
      " spaceID                     0.336956\n",
      "connectionTime              0.235666\n",
      "disconnectTime              0.233189\n",
      "connectionTime_day          0.070928\n",
      "connectionTime_dayofweek    0.053825\n",
      "doneChargingTime            0.050457\n",
      "connectionTime_week         0.014470\n",
      "connectionTime_month        0.004509\n",
      "_id                         0.000000\n",
      "siteID                      0.000000\n",
      "connectionTime_year         0.000000\n",
      "dtype: float64\n"
     ]
    }
   ],
   "source": [
    "ANN_mse, ANN_mae, CNN_mse, CNN_mae, RF_mse, RF_mae, DT_mse, DT_mae, LR_mse, LR_mae, Val_mse, Val_mae = models(x_train, y_train, x_trainScaled, x_test, y_test, x_testScaled, ANN_mse, ANN_mae, CNN_mse, CNN_mae, RF_mse, RF_mae, DT_mse, DT_mae, LR_mse, LR_mae)"
   ]
  },
  {
   "cell_type": "code",
   "execution_count": 122,
   "id": "ce073d10",
   "metadata": {},
   "outputs": [],
   "source": [
    "D3_mse = D3_mse + Val_mse\n",
    "D3_mae = D3_mae + Val_mae\n",
    "\n",
    "M6_mse = M6_mse + Val_mse\n",
    "M6_mae = M6_mae + Val_mae"
   ]
  },
  {
   "cell_type": "markdown",
   "id": "92c72172",
   "metadata": {},
   "source": [
    "Best 2:\n",
    "\n",
    "Mean squared error from neural net: \n",
    " 168.54148864746094\n",
    "\n",
    "Mean absolute error from neural net: \n",
    " 8.720255851745605\n",
    "\n",
    " Mean squared error using Random Forest:  278.053234980616\n",
    "\n",
    "Mean absolute error Using Random Forest:  14.620022903225802\n"
   ]
  },
  {
   "cell_type": "markdown",
   "id": "1a72f75e",
   "metadata": {},
   "source": [
    "# Predict 5 Days with 6 months"
   ]
  },
  {
   "cell_type": "code",
   "execution_count": 123,
   "id": "8cf30c24",
   "metadata": {},
   "outputs": [],
   "source": [
    "train = df.loc[df['connectionTime_year'] == 2021]\n",
    "train = train.loc[train['connectionTime_month'].isin([1, 2, 3, 4, 5, 6])]\n",
    "                                                      \n",
    "test = df.loc[df['connectionTime_year']==2021]\n",
    "test = test.loc[test['connectionTime_month'] == 4]\n",
    "test = test.loc[test['connectionTime_day'].isin([1,2,3,4,5])]"
   ]
  },
  {
   "cell_type": "code",
   "execution_count": 124,
   "id": "2f3754b2",
   "metadata": {},
   "outputs": [],
   "source": [
    "y_train = train['kWhDelivered']\n",
    "x_train = train.drop('kWhDelivered', axis=1)\n",
    "x_train = singleNumeric(x_train)\n",
    "y_train = singleNumeric(y_train)\n",
    "x_trainScaled = scaleData(x_train)"
   ]
  },
  {
   "cell_type": "code",
   "execution_count": 125,
   "id": "f3fe197b",
   "metadata": {},
   "outputs": [],
   "source": [
    "y_test = test['kWhDelivered']\n",
    "x_test = test.drop('kWhDelivered', axis=1)\n",
    "x_test = singleNumeric(x_test)\n",
    "y_test = singleNumeric(y_test)\n",
    "x_testScaled = scaleData(x_test)"
   ]
  },
  {
   "cell_type": "code",
   "execution_count": 126,
   "id": "9951d8c8",
   "metadata": {
    "scrolled": true
   },
   "outputs": [
    {
     "name": "stdout",
     "output_type": "stream",
     "text": [
      "Model: \"sequential_36\"\n",
      "_________________________________________________________________\n",
      "Layer (type)                 Output Shape              Param #   \n",
      "=================================================================\n",
      "dense_90 (Dense)             (None, 128)               1536      \n",
      "_________________________________________________________________\n",
      "dense_91 (Dense)             (None, 64)                8256      \n",
      "_________________________________________________________________\n",
      "dense_92 (Dense)             (None, 1)                 65        \n",
      "=================================================================\n",
      "Total params: 9,857\n",
      "Trainable params: 9,857\n",
      "Non-trainable params: 0\n",
      "_________________________________________________________________\n"
     ]
    },
    {
     "data": {
      "image/png": "[encoded data removed]",
      "text/plain": [
       "<Figure size 432x288 with 1 Axes>"
      ]
     },
     "metadata": {
      "needs_background": "light"
     },
     "output_type": "display_data"
    },
    {
     "name": "stderr",
     "output_type": "stream",
     "text": [
      "Exception ignored in: <function WeakKeyDictionary.__init__.<locals>.remove at 0x7fce69add790>\n",
      "Traceback (most recent call last):\n",
      "  File \"/Applications/anaconda3/lib/python3.8/weakref.py\", line 345, in remove\n",
      "    def remove(k, selfref=ref(self)):\n",
      "KeyboardInterrupt: \n"
     ]
    },
    {
     "name": "stdout",
     "output_type": "stream",
     "text": [
      "\n",
      "Predicted values are: \n",
      " [[14.940357 ]\n",
      " [14.939748 ]\n",
      " [ 6.224266 ]\n",
      " [ 6.7047954]\n",
      " [14.946829 ]]\n",
      "\n",
      "Real values are: \n",
      " 29000    11.869\n",
      "29001    16.458\n",
      "29002     3.546\n",
      "29003    13.095\n",
      "29004    54.681\n",
      "Name: kWhDelivered, dtype: float64\n",
      "2/2 [==============================] - 0s 2ms/step - loss: 170.7585 - mean_absolute_error: 8.3962\n",
      "\n",
      "Mean squared error from neural net: \n",
      " 170.7584686279297\n",
      "\n",
      "Mean absolute error from neural net: \n",
      " 8.39620304107666\n",
      "\n",
      "Predicted values are:\n",
      "  [[0.00059287 0.00059352 0.00057787 ... 0.00059604 0.00058702 0.00058066]\n",
      " [0.00059286 0.00059351 0.00057801 ... 0.00059608 0.00058699 0.00058079]\n",
      " [0.00059832 0.0006031  0.00058531 ... 0.00058592 0.00058493 0.00058086]\n",
      " [0.00059915 0.00060291 0.00058659 ... 0.00058996 0.00058878 0.0005865 ]\n",
      " [0.00059341 0.00059282 0.00058094 ... 0.00059649 0.00058641 0.00058409]]\n",
      "\n",
      "Real values are: \n",
      " 29000    11.869\n",
      "29001    16.458\n",
      "29002     3.546\n",
      "29003    13.095\n",
      "29004    54.681\n",
      "Name: kWhDelivered, dtype: float64\n",
      "2/2 [==============================] - 0s 5ms/step - loss: 411.4416 - mean_absolute_error: 14.1815\n",
      "\n",
      "Mean squared error from Convolutional neural net:  411.4416198730469\n",
      "\n",
      "Mean absolute error from Convolutional neural net:  14.181495666503906\n",
      "\n",
      "Mean squared error from linear regression:  8130.422259571268\n",
      "\n",
      "Mean absolute error from linear regression:  65.14176261052785\n",
      "\n",
      "Mean squared error using decision tree:  315.7370665446785\n",
      "\n",
      "Mean absolute error using decision tree:  11.440395746216614\n",
      "\n",
      "Mean squared error using Random Forest:  272.07574671006506\n",
      "\n",
      "Mean absolute error Using Random Forest:  14.128006579549945\n",
      "\n",
      " The features ranking by importance to the RF Model\n",
      "\n",
      " spaceID                     0.336956\n",
      "connectionTime              0.235666\n",
      "disconnectTime              0.233189\n",
      "connectionTime_day          0.070928\n",
      "connectionTime_dayofweek    0.053825\n",
      "doneChargingTime            0.050457\n",
      "connectionTime_week         0.014470\n",
      "connectionTime_month        0.004509\n",
      "_id                         0.000000\n",
      "siteID                      0.000000\n",
      "connectionTime_year         0.000000\n",
      "dtype: float64\n"
     ]
    }
   ],
   "source": [
    "ANN_mse, ANN_mae, CNN_mse, CNN_mae, RF_mse, RF_mae, DT_mse, DT_mae, LR_mse, LR_mae, Val_mse, Val_mae = models(x_train, y_train, x_trainScaled, x_test, y_test, x_testScaled, ANN_mse, ANN_mae, CNN_mse, CNN_mae, RF_mse, RF_mae, DT_mse, DT_mae, LR_mse, LR_mae)"
   ]
  },
  {
   "cell_type": "code",
   "execution_count": 127,
   "id": "617a04bb",
   "metadata": {},
   "outputs": [],
   "source": [
    "D5_mse = D5_mse + Val_mse\n",
    "D5_mae = D5_mae + Val_mae\n",
    "\n",
    "M6_mse = M6_mse + Val_mse\n",
    "M6_mae = M6_mae + Val_mae"
   ]
  },
  {
   "cell_type": "markdown",
   "id": "027f605b",
   "metadata": {},
   "source": [
    "Best 2:\n",
    "\n",
    "Mean squared error from neural net: \n",
    " 165.61785888671875\n",
    "\n",
    "Mean absolute error from neural net: \n",
    " 8.66168212890625\n",
    "\n",
    " Mean squared error using Random Forest:  272.07574671006506\n",
    "\n",
    "Mean absolute error Using Random Forest:  14.128006579549945\n"
   ]
  },
  {
   "cell_type": "markdown",
   "id": "ade783f0",
   "metadata": {},
   "source": [
    "# Predict 1 Week with 6 months"
   ]
  },
  {
   "cell_type": "code",
   "execution_count": 128,
   "id": "db7435ec",
   "metadata": {},
   "outputs": [],
   "source": [
    "train = df.loc[df['connectionTime_year'] == 2021]\n",
    "train = train.loc[train['connectionTime_month'].isin([1, 2, 3, 4, 5, 6])]\n",
    "                                                      \n",
    "test = df.loc[df['connectionTime_year']==2021]\n",
    "test = test.loc[test['connectionTime_month'] == 4]\n",
    "test = test.loc[test['connectionTime_day'].isin([1,2,3,4,5,6,7])]"
   ]
  },
  {
   "cell_type": "code",
   "execution_count": 129,
   "id": "f12ed1bb",
   "metadata": {},
   "outputs": [],
   "source": [
    "y_train = train['kWhDelivered']\n",
    "x_train = train.drop('kWhDelivered', axis=1)\n",
    "x_train = singleNumeric(x_train)\n",
    "y_train = singleNumeric(y_train)\n",
    "x_trainScaled = scaleData(x_train)"
   ]
  },
  {
   "cell_type": "code",
   "execution_count": 130,
   "id": "7f2004a2",
   "metadata": {},
   "outputs": [],
   "source": [
    "y_test = test['kWhDelivered']\n",
    "x_test = test.drop('kWhDelivered', axis=1)\n",
    "x_test = singleNumeric(x_test)\n",
    "y_test = singleNumeric(y_test)\n",
    "x_testScaled = scaleData(x_test)"
   ]
  },
  {
   "cell_type": "code",
   "execution_count": 131,
   "id": "5889a746",
   "metadata": {
    "scrolled": true
   },
   "outputs": [
    {
     "name": "stdout",
     "output_type": "stream",
     "text": [
      "Model: \"sequential_38\"\n",
      "_________________________________________________________________\n",
      "Layer (type)                 Output Shape              Param #   \n",
      "=================================================================\n",
      "dense_95 (Dense)             (None, 128)               1536      \n",
      "_________________________________________________________________\n",
      "dense_96 (Dense)             (None, 64)                8256      \n",
      "_________________________________________________________________\n",
      "dense_97 (Dense)             (None, 1)                 65        \n",
      "=================================================================\n",
      "Total params: 9,857\n",
      "Trainable params: 9,857\n",
      "Non-trainable params: 0\n",
      "_________________________________________________________________\n"
     ]
    },
    {
     "data": {
      "image/png": "[encoded data removed]",
      "text/plain": [
       "<Figure size 432x288 with 1 Axes>"
      ]
     },
     "metadata": {
      "needs_background": "light"
     },
     "output_type": "display_data"
    },
    {
     "name": "stdout",
     "output_type": "stream",
     "text": [
      "\n",
      "Predicted values are: \n",
      " [[18.723295 ]\n",
      " [18.725124 ]\n",
      " [ 6.7129517]\n",
      " [ 6.637285 ]\n",
      " [18.846127 ]]\n",
      "\n",
      "Real values are: \n",
      " 29000    11.869\n",
      "29001    16.458\n",
      "29002     3.546\n",
      "29003    13.095\n",
      "29004    54.681\n",
      "Name: kWhDelivered, dtype: float64\n",
      "3/3 [==============================] - 0s 1ms/step - loss: 148.1317 - mean_absolute_error: 8.4770\n",
      "\n",
      "Mean squared error from neural net: \n",
      " 148.13169860839844\n",
      "\n",
      "Mean absolute error from neural net: \n",
      " 8.477023124694824\n",
      "\n",
      "Predicted values are:\n",
      "  [[0.00058433 0.00062263 0.00056934 ... 0.00060628 0.0006509  0.00056457]\n",
      " [0.00058437 0.00062248 0.00056939 ... 0.0006062  0.00065071 0.00056469]\n",
      " [0.0005773  0.00061532 0.00057806 ... 0.00060084 0.00064728 0.00055865]\n",
      " [0.00057754 0.00061138 0.00058069 ... 0.00059848 0.00064049 0.00056129]\n",
      " [0.00058535 0.00061859 0.00057086 ... 0.00060401 0.00064568 0.00056699]]\n",
      "\n",
      "Real values are: \n",
      " 29000    11.869\n",
      "29001    16.458\n",
      "29002     3.546\n",
      "29003    13.095\n",
      "29004    54.681\n",
      "Name: kWhDelivered, dtype: float64\n",
      "3/3 [==============================] - 0s 2ms/step - loss: 335.4738 - mean_absolute_error: 11.9982\n",
      "\n",
      "Mean squared error from Convolutional neural net:  335.4738464355469\n",
      "\n",
      "Mean absolute error from Convolutional neural net:  11.998235702514648\n",
      "\n",
      "Mean squared error from linear regression:  5596.155315791746\n",
      "\n",
      "Mean absolute error from linear regression:  52.01611401243672\n",
      "\n",
      "Mean squared error using decision tree:  253.4449855631267\n",
      "\n",
      "Mean absolute error using decision tree:  11.778674947729968\n",
      "\n",
      "Mean squared error using Random Forest:  267.29792056790865\n",
      "\n",
      "Mean absolute error Using Random Forest:  14.550505776375797\n",
      "\n",
      " The features ranking by importance to the RF Model\n",
      "\n",
      " spaceID                     0.336956\n",
      "connectionTime              0.235666\n",
      "disconnectTime              0.233189\n",
      "connectionTime_day          0.070928\n",
      "connectionTime_dayofweek    0.053825\n",
      "doneChargingTime            0.050457\n",
      "connectionTime_week         0.014470\n",
      "connectionTime_month        0.004509\n",
      "_id                         0.000000\n",
      "siteID                      0.000000\n",
      "connectionTime_year         0.000000\n",
      "dtype: float64\n"
     ]
    }
   ],
   "source": [
    "ANN_mse, ANN_mae, CNN_mse, CNN_mae, RF_mse, RF_mae, DT_mse, DT_mae, LR_mse, LR_mae, Val_mse, Val_mae = models(x_train, y_train, x_trainScaled, x_test, y_test, x_testScaled, ANN_mse, ANN_mae, CNN_mse, CNN_mae, RF_mse, RF_mae, DT_mse, DT_mae, LR_mse, LR_mae)"
   ]
  },
  {
   "cell_type": "code",
   "execution_count": 132,
   "id": "6646edaa",
   "metadata": {},
   "outputs": [],
   "source": [
    "W_mse = W_mse + Val_mse\n",
    "W_mae = W_mae + Val_mae\n",
    "\n",
    "M6_mse = M6_mse + Val_mse\n",
    "M6_mae = M6_mae + Val_mae"
   ]
  },
  {
   "cell_type": "markdown",
   "id": "cbe5fd7e",
   "metadata": {},
   "source": [
    "Best 2:\n",
    "\n",
    "Mean squared error from neural net: \n",
    " 149.21420288085938\n",
    "\n",
    "Mean absolute error from neural net: \n",
    " 8.736455917358398\n",
    "\n",
    " Mean squared error using Random Forest:  267.29792056790865\n",
    "\n",
    "Mean absolute error Using Random Forest:  14.550505776375797\n"
   ]
  },
  {
   "cell_type": "markdown",
   "id": "6770e136",
   "metadata": {},
   "source": [
    "# Predict one day with 1 year of data"
   ]
  },
  {
   "cell_type": "code",
   "execution_count": 133,
   "id": "3bf91fb0",
   "metadata": {},
   "outputs": [],
   "source": [
    "train = df.loc[df['connectionTime_year'] == 2018]"
   ]
  },
  {
   "cell_type": "code",
   "execution_count": 134,
   "id": "71e633b7",
   "metadata": {},
   "outputs": [],
   "source": [
    "test = df.loc[df['connectionTime_year']==2019]\n",
    "test = test.loc[test['connectionTime_month'] == 1]\n",
    "test = test.loc[test['connectionTime_day'] == 1]"
   ]
  },
  {
   "cell_type": "code",
   "execution_count": 135,
   "id": "4d708644",
   "metadata": {},
   "outputs": [],
   "source": [
    "y_train = train['kWhDelivered']\n",
    "x_train = train.drop('kWhDelivered', axis=1)\n",
    "x_train = singleNumeric(x_train)\n",
    "y_train = singleNumeric(y_train)\n",
    "x_trainScaled = scaleData(x_train)"
   ]
  },
  {
   "cell_type": "code",
   "execution_count": 136,
   "id": "3e00c235",
   "metadata": {},
   "outputs": [],
   "source": [
    "y_test = test['kWhDelivered']\n",
    "x_test = test.drop('kWhDelivered', axis=1)\n",
    "x_test = singleNumeric(x_test)\n",
    "y_test = singleNumeric(y_test)\n",
    "x_testScaled = scaleData(x_test)"
   ]
  },
  {
   "cell_type": "code",
   "execution_count": null,
   "id": "f63f4e56",
   "metadata": {
    "scrolled": true
   },
   "outputs": [
    {
     "name": "stdout",
     "output_type": "stream",
     "text": [
      "Model: \"sequential_40\"\n",
      "_________________________________________________________________\n",
      "Layer (type)                 Output Shape              Param #   \n",
      "=================================================================\n",
      "dense_100 (Dense)            (None, 128)               1536      \n",
      "_________________________________________________________________\n",
      "dense_101 (Dense)            (None, 64)                8256      \n",
      "_________________________________________________________________\n",
      "dense_102 (Dense)            (None, 1)                 65        \n",
      "=================================================================\n",
      "Total params: 9,857\n",
      "Trainable params: 9,857\n",
      "Non-trainable params: 0\n",
      "_________________________________________________________________\n"
     ]
    },
    {
     "data": {
      "image/png": "[encoded data removed]",
      "text/plain": [
       "<Figure size 432x288 with 1 Axes>"
      ]
     },
     "metadata": {
      "needs_background": "light"
     },
     "output_type": "display_data"
    },
    {
     "name": "stdout",
     "output_type": "stream",
     "text": [
      "\n",
      "Predicted values are: \n",
      " [[ 4.604831 ]\n",
      " [ 1.9369769]\n",
      " [ 4.879692 ]\n",
      " [12.949108 ]\n",
      " [ 5.7055254]]\n",
      "\n",
      "Real values are: \n",
      " 15297    43.114\n",
      "15298     3.250\n",
      "15299     0.900\n",
      "15300    12.534\n",
      "15301     0.883\n",
      "Name: kWhDelivered, dtype: float64\n",
      "1/1 [==============================] - 0s 13ms/step - loss: 190.1031 - mean_absolute_error: 8.3655\n",
      "\n",
      "Mean squared error from neural net: \n",
      " 190.10311889648438\n",
      "\n",
      "Mean absolute error from neural net: \n",
      " 8.365504264831543\n",
      "\n",
      "Predicted values are:\n",
      "  [[6.5078049e-05 6.4989341e-05 6.5112428e-05 ... 6.5000531e-05\n",
      "  6.5249995e-05 6.4695443e-05]\n",
      " [6.4876651e-05 6.4596163e-05 6.4639404e-05 ... 6.5068001e-05\n",
      "  6.5408647e-05 6.4051281e-05]\n",
      " [6.5282649e-05 6.5340675e-05 6.5327957e-05 ... 6.5331478e-05\n",
      "  6.5273118e-05 6.5275657e-05]\n",
      " [6.5299668e-05 6.5436623e-05 6.5232292e-05 ... 6.5313441e-05\n",
      "  6.5335451e-05 6.5173881e-05]\n",
      " [6.5295193e-05 6.5356908e-05 6.5339053e-05 ... 6.5327768e-05\n",
      "  6.5290864e-05 6.5320724e-05]]\n",
      "\n",
      "Real values are: \n",
      " 15297    43.114\n",
      "15298     3.250\n",
      "15299     0.900\n",
      "15300    12.534\n",
      "15301     0.883\n",
      "Name: kWhDelivered, dtype: float64\n",
      "1/1 [==============================] - 0s 153ms/step - loss: 247.5521 - mean_absolute_error: 9.5165\n",
      "\n",
      "Mean squared error from Convolutional neural net:  247.55209350585938\n",
      "\n",
      "Mean absolute error from Convolutional neural net:  9.516520500183105\n",
      "\n",
      "Mean squared error from linear regression:  102611.5570049123\n",
      "\n",
      "Mean absolute error from linear regression:  244.187721191929\n",
      "\n",
      "Mean squared error using decision tree:  1248.1535976999999\n",
      "\n",
      "Mean absolute error using decision tree:  29.549299999999995\n"
     ]
    }
   ],
   "source": [
    "ANN_mse, ANN_mae, CNN_mse, CNN_mae, RF_mse, RF_mae, DT_mse, DT_mae, LR_mse, LR_mae, Val_mse, Val_mae = models(x_train, y_train, x_trainScaled, x_test, y_test, x_testScaled, ANN_mse, ANN_mae, CNN_mse, CNN_mae, RF_mse, RF_mae, DT_mse, DT_mae, LR_mse, LR_mae)"
   ]
  },
  {
   "cell_type": "code",
   "execution_count": null,
   "id": "7f18e5a8",
   "metadata": {},
   "outputs": [],
   "source": [
    "D_mse = D_mse + Val_mse\n",
    "D_mae = D_mae + Val_mae\n",
    "\n",
    "Y_mse = Y_mse + Val_mse\n",
    "Y_mae = Y_mae + Val_mae"
   ]
  },
  {
   "cell_type": "markdown",
   "id": "e57e75c4",
   "metadata": {},
   "source": [
    "Mean squared error from neural net: \n",
    " 196.89022827148438\n",
    "\n",
    "Mean absolute error from neural net: \n",
    " 8.821752548217773\n",
    "\n",
    " Mean squared error from Convolutional neural net:  247.55209350585938\n",
    "\n",
    "Mean absolute error from Convolutional neural net:  9.516521453857422"
   ]
  },
  {
   "cell_type": "markdown",
   "id": "b128bc31",
   "metadata": {},
   "source": [
    "# Predict 3 days with 1 year of data"
   ]
  },
  {
   "cell_type": "code",
   "execution_count": null,
   "id": "2847e94d",
   "metadata": {},
   "outputs": [],
   "source": [
    "train = df.loc[df['connectionTime_year'] == 2018]"
   ]
  },
  {
   "cell_type": "code",
   "execution_count": null,
   "id": "1a24bcdf",
   "metadata": {},
   "outputs": [],
   "source": [
    "test = df.loc[df['connectionTime_year']==2019]\n",
    "test = test.loc[test['connectionTime_month'] == 1]\n",
    "test = test.loc[test['connectionTime_day'].isin([1,2,3])]"
   ]
  },
  {
   "cell_type": "code",
   "execution_count": null,
   "id": "1ef9844b",
   "metadata": {},
   "outputs": [],
   "source": [
    "y_train = train['kWhDelivered']\n",
    "x_train = train.drop('kWhDelivered', axis=1)\n",
    "x_train = singleNumeric(x_train)\n",
    "y_train = singleNumeric(y_train)\n",
    "x_trainScaled = scaleData(x_train)"
   ]
  },
  {
   "cell_type": "code",
   "execution_count": null,
   "id": "46986dd9",
   "metadata": {},
   "outputs": [],
   "source": [
    "y_test = test['kWhDelivered']\n",
    "x_test = test.drop('kWhDelivered', axis=1)\n",
    "x_test = singleNumeric(x_test)\n",
    "y_test = singleNumeric(y_test)\n",
    "x_testScaled = scaleData(x_test)"
   ]
  },
  {
   "cell_type": "code",
   "execution_count": null,
   "id": "03ab33fa",
   "metadata": {
    "scrolled": true
   },
   "outputs": [],
   "source": [
    "ANN_mse, ANN_mae, CNN_mse, CNN_mae, RF_mse, RF_mae, DT_mse, DT_mae, LR_mse, LR_mae, Val_mse, Val_mae = models(x_train, y_train, x_trainScaled, x_test, y_test, x_testScaled, ANN_mse, ANN_mae, CNN_mse, CNN_mae, RF_mse, RF_mae, DT_mse, DT_mae, LR_mse, LR_mae)"
   ]
  },
  {
   "cell_type": "code",
   "execution_count": null,
   "id": "8de58c5c",
   "metadata": {},
   "outputs": [],
   "source": [
    "D3_mse = D3_mse + Val_mse\n",
    "D3_mae = D3_mae + Val_mae\n",
    "\n",
    "Y_mse = Y_mse + Val_mse\n",
    "Y_mae = Y_mae + Val_mae"
   ]
  },
  {
   "cell_type": "markdown",
   "id": "259e7837",
   "metadata": {},
   "source": [
    "Mean squared error from neural net: \n",
    " 194.04220581054688\n",
    "\n",
    "Mean absolute error from neural net: \n",
    " 10.17531681060791\n",
    "\n",
    " Mean squared error from Convolutional neural net:  285.1625061035156\n",
    "\n",
    "Mean absolute error from Convolutional neural net:  11.897130966186523"
   ]
  },
  {
   "cell_type": "markdown",
   "id": "4210631f",
   "metadata": {},
   "source": [
    "# Predict 5 days with 1 year of data"
   ]
  },
  {
   "cell_type": "code",
   "execution_count": null,
   "id": "fd63bdca",
   "metadata": {},
   "outputs": [],
   "source": [
    "train = df.loc[df['connectionTime_year'] == 2018]"
   ]
  },
  {
   "cell_type": "code",
   "execution_count": null,
   "id": "528c049a",
   "metadata": {},
   "outputs": [],
   "source": [
    "test = df.loc[df['connectionTime_year']==2019]\n",
    "test = test.loc[test['connectionTime_month'] == 1]\n",
    "test = test.loc[test['connectionTime_day'].isin([1,2,3,4,5])]"
   ]
  },
  {
   "cell_type": "code",
   "execution_count": null,
   "id": "eb26eab5",
   "metadata": {},
   "outputs": [],
   "source": [
    "y_train = train['kWhDelivered']\n",
    "x_train = train.drop('kWhDelivered', axis=1)\n",
    "x_train = singleNumeric(x_train)\n",
    "y_train = singleNumeric(y_train)\n",
    "x_trainScaled = scaleData(x_train)"
   ]
  },
  {
   "cell_type": "code",
   "execution_count": null,
   "id": "439344a0",
   "metadata": {},
   "outputs": [],
   "source": [
    "y_test = test['kWhDelivered']\n",
    "x_test = test.drop('kWhDelivered', axis=1)\n",
    "x_test = singleNumeric(x_test)\n",
    "y_test = singleNumeric(y_test)\n",
    "x_testScaled = scaleData(x_test)"
   ]
  },
  {
   "cell_type": "code",
   "execution_count": null,
   "id": "4c0c583a",
   "metadata": {
    "scrolled": true
   },
   "outputs": [],
   "source": [
    "ANN_mse, ANN_mae, CNN_mse, CNN_mae, RF_mse, RF_mae, DT_mse, DT_mae, LR_mse, LR_mae, Val_mse, Val_mae = models(x_train, y_train, x_trainScaled, x_test, y_test, x_testScaled, ANN_mse, ANN_mae, CNN_mse, CNN_mae, RF_mse, RF_mae, DT_mse, DT_mae, LR_mse, LR_mae)"
   ]
  },
  {
   "cell_type": "code",
   "execution_count": null,
   "id": "998c9d46",
   "metadata": {},
   "outputs": [],
   "source": [
    "D5_mse = D5_mse + Val_mse\n",
    "D5_mae = D5_mae + Val_mae\n",
    "\n",
    "Y_mse = Y_mse + Val_mse\n",
    "Y_mae = Y_mae + Val_mae"
   ]
  },
  {
   "cell_type": "markdown",
   "id": "c09de9e1",
   "metadata": {},
   "source": [
    "Mean squared error from neural net: \n",
    " 204.65234375\n",
    "\n",
    "Mean absolute error from neural net: \n",
    " 10.506291389465332\n",
    "\n",
    "Mean squared error from Convolutional neural net:  243.2482147216797\n",
    "\n",
    "Mean absolute error from Convolutional neural net:  11.08861255645752"
   ]
  },
  {
   "cell_type": "markdown",
   "id": "87f8763b",
   "metadata": {},
   "source": [
    "# Predict 1 week with 1 year of data"
   ]
  },
  {
   "cell_type": "code",
   "execution_count": null,
   "id": "16149109",
   "metadata": {},
   "outputs": [],
   "source": [
    "train = df.loc[df['connectionTime_year'] == 2018]"
   ]
  },
  {
   "cell_type": "code",
   "execution_count": null,
   "id": "609ae950",
   "metadata": {},
   "outputs": [],
   "source": [
    "test = df.loc[df['connectionTime_year']==2019]\n",
    "test = test.loc[test['connectionTime_month'] == 1]\n",
    "test = test.loc[test['connectionTime_day'].isin([1,2,3,4,5,6,7])]"
   ]
  },
  {
   "cell_type": "code",
   "execution_count": null,
   "id": "c327f2b7",
   "metadata": {},
   "outputs": [],
   "source": [
    "y_train = train['kWhDelivered']\n",
    "x_train = train.drop('kWhDelivered', axis=1)\n",
    "x_train = singleNumeric(x_train)\n",
    "y_train = singleNumeric(y_train)\n",
    "x_trainScaled = scaleData(x_train)"
   ]
  },
  {
   "cell_type": "code",
   "execution_count": null,
   "id": "beb21683",
   "metadata": {},
   "outputs": [],
   "source": [
    "y_test = test['kWhDelivered']\n",
    "x_test = test.drop('kWhDelivered', axis=1)\n",
    "x_test = singleNumeric(x_test)\n",
    "y_test = singleNumeric(y_test)\n",
    "x_testScaled = scaleData(x_test)"
   ]
  },
  {
   "cell_type": "code",
   "execution_count": null,
   "id": "a41ad0b1",
   "metadata": {
    "scrolled": true
   },
   "outputs": [],
   "source": [
    "ANN_mse, ANN_mae, CNN_mse, CNN_mae, RF_mse, RF_mae, DT_mse, DT_mae, LR_mse, LR_mae, Val_mse, Val_mae = models(x_train, y_train, x_trainScaled, x_test, y_test, x_testScaled, ANN_mse, ANN_mae, CNN_mse, CNN_mae, RF_mse, RF_mae, DT_mse, DT_mae, LR_mse, LR_mae)"
   ]
  },
  {
   "cell_type": "code",
   "execution_count": null,
   "id": "1c7bb29e",
   "metadata": {},
   "outputs": [],
   "source": [
    "W_mse = W_mse + Val_mse\n",
    "W_mae = W_mae + Val_mae\n",
    "\n",
    "Y_mse = Y_mse + Val_mse\n",
    "Y_mae = Y_mae + Val_mae"
   ]
  },
  {
   "cell_type": "markdown",
   "id": "3df8e8b6",
   "metadata": {},
   "source": [
    "Mean squared error from neural net: \n",
    " 181.9652557373047\n",
    "\n",
    "Mean absolute error from neural net: \n",
    " 9.92181396484375\n",
    "\n",
    "Mean squared error using Random Forest:  265.9261997741879\n",
    "\n",
    "Mean absolute error Using Random Forest:  12.808809250546634\n"
   ]
  },
  {
   "cell_type": "markdown",
   "id": "eb16b340",
   "metadata": {},
   "source": [
    "# Overall All Spaces\n",
    "\n",
    "When ran on the 24 different DataFrames the following models occured:\n",
    "\n",
    "Sequential Neural Network: 24 Times\n",
    "\n",
    "Convolutional Neural Network: 4 Times\n",
    "\n",
    "Linear Regression: 2 Times\n",
    "\n",
    "Decision Tree: 2 Times\n",
    "\n",
    "Random Forest: 16 Times\n",
    "\n",
    "# Best result\n",
    "\n",
    "2 Months 1 Day\n",
    "\n",
    "Mean squared error from neural net: \n",
    " 83.28107452392578\n",
    "\n",
    "Mean absolute error from neural net: \n",
    " 6.621450424194336\n",
    "\n",
    "Mean squared error using Random Forest:  87.59891941785604\n",
    "\n",
    "Mean absolute error Using Random Forest:  7.123862400000002\n",
    "\n",
    "# Best 3 Day result\n",
    "\n",
    "2 Months 3 Days\n",
    "\n",
    "Mean squared error from neural net: \n",
    " 102.65827178955078\n",
    "\n",
    "Mean absolute error from neural net: \n",
    " 7.4129815101623535\n",
    "\n",
    "Mean squared error using Random Forest:  113.78877579587008\n",
    "\n",
    "Mean absolute error Using Random Forest:  7.631643458292483\n",
    "\n",
    "# Best 5 day result\n",
    "\n",
    "2 Months 5 Days\n",
    "\n",
    "Mean squared error from neural net: \n",
    " 117.1256103515625\n",
    "\n",
    "Mean absolute error from neural net: \n",
    " 7.5160722732543945\n",
    "\n",
    "\n",
    "Mean squared error using Random Forest:  100.1006992130904\n",
    "\n",
    "Mean absolute error Using Random Forest:  7.348763723404256\n",
    "\n",
    "# Best 1 Week Result\n",
    "\n",
    "Mean squared error from neural net: \n",
    " 104.15814971923828\n",
    "\n",
    "Mean absolute error from neural net: \n",
    " 6.946341037750244\n",
    "\n",
    " Mean squared error using Random Forest:  106.3441792968664\n",
    "\n",
    "Mean absolute error Using Random Forest:  6.811379829758829\n"
   ]
  },
  {
   "cell_type": "code",
   "execution_count": null,
   "id": "6576875b",
   "metadata": {
    "scrolled": false
   },
   "outputs": [],
   "source": [
    "# return the totals for mean square and absolute error for each of the models examined\n",
    "print(\"Totals \\n\",\n",
    "      \"ANN_mse: \", ANN_mse, \" ANN_mae: \", ANN_mae, \"\\n CNN_mse: \", CNN_mse,\n",
    "      \" CNN_mae: \", CNN_mae, \"\\n RF_mse: \", RF_mse, \" RF_mae: \", RF_mae,\n",
    "      \"\\n DT_mse: \", DT_mse, \"DT_mae, \", DT_mae,\n",
    "      \"\\n LR_mse: \", LR_mse, \"LR_mae: \", LR_mae)\n",
    "\n",
    "# return the means for mean square and absolute error for each of the models examined \n",
    "print(\"\\n\\nAverages \\n\",\n",
    "      \"ANN_mse: \", ANN_mse/20, \" ANN_mae: \", ANN_mae/20, \"\\n CNN_mse: \", \n",
    "      CNN_mse/20, \" CNN_mae: \", CNN_mae/20, \"\\nRF_mse: \", RF_mse/20,\n",
    "      \" RF_mae: \", RF_mae/20, \"\\nDT_mse: \", DT_mse/20,\n",
    "      \"DT_mae, \", DT_mae/20, \"\\n LR_mse: \", LR_mse/20, \"LR_mae: \", LR_mae/20)"
   ]
  },
  {
   "cell_type": "code",
   "execution_count": null,
   "id": "351cc02e",
   "metadata": {
    "scrolled": true
   },
   "outputs": [],
   "source": [
    "# return the means for mean square error for each testing and training time frame\n",
    "print(\"\\n\\nAverages \\n\",\n",
    "      \"Training:\\n\",\n",
    "      \"1 Day mse: \", D_mse/6, \"1 Day mae: \", D_mae/6,\n",
    "     \"\\n3 Days mse: \", D3_mse/6, \"3 Days mae: \", D3_mae/6,\n",
    "      \"\\n5 Days mse: \", D5_mse/6, \"5 Days mae: \", D5_mae/6,\n",
    "      \"\\n1 Week mse: \", W_mse/6, \"1 Week mae: \", W_mae/6,\n",
    "      \n",
    "      \n",
    "     \"\\n\\nTesting\\n\",\n",
    "      \"2 Weeks mse: \", W2_mse/4, \"2 Weeks mae: \", W2_mae/4,\n",
    "      \"\\n1 Month mse: \", M1_mse/4, \"1 Month mae: \", M1_mae/4,\n",
    "      \"\\n2 Months mse: \", M2_mse/4, \"2 Months mae: \", M2_mae/4,\n",
    "      \"\\n3 Months mse: \", M3_mse/4, \"3 Months mae: \", M3_mae/4,\n",
    "      \"\\n6 Months mse: \", M1_mse/4, \"6 Months mae: \", M6_mae/4,\n",
    "      \"\\n1 Year mse: \", Y_mse/4, \"1 Year mae: \", Y_mae/4,\n",
    "     )"
   ]
  },
  {
   "cell_type": "code",
   "execution_count": null,
   "id": "c9e9ea22",
   "metadata": {},
   "outputs": [],
   "source": [
    "ANN_mse = 0\n",
    "CNN_mse = 0\n",
    "RF_mse = 0\n",
    "DT_mse = 0\n",
    "LR_mse = 0\n",
    "\n",
    "ANN_mae = 0\n",
    "CNN_mae = 0\n",
    "RF_mae = 0\n",
    "DT_mae = 0\n",
    "LR_mae = 0"
   ]
  },
  {
   "cell_type": "code",
   "execution_count": null,
   "id": "dc5abd87",
   "metadata": {},
   "outputs": [],
   "source": [
    "# Train\n",
    "M1_mse = 0\n",
    "M6_mse = 0\n",
    "\n",
    "#Test\n",
    "\n",
    "D_mse = 0\n",
    "W_mse = 0\n",
    "\n",
    "# Train\n",
    "M1_mae = 0\n",
    "M6_mae = 0\n",
    "\n",
    "#Test\n",
    "\n",
    "D_mae = 0\n",
    "W_mae = 0\n"
   ]
  },
  {
   "cell_type": "code",
   "execution_count": null,
   "id": "cdcfab35",
   "metadata": {},
   "outputs": [],
   "source": [
    "M1Count = 0\n",
    "M6Count = 0\n",
    "DCount = 0\n",
    "WCount = 0"
   ]
  },
  {
   "cell_type": "markdown",
   "id": "42943ae5",
   "metadata": {},
   "source": [
    "# Individual Spaces "
   ]
  },
  {
   "cell_type": "code",
   "execution_count": null,
   "id": "00993d00",
   "metadata": {},
   "outputs": [],
   "source": [
    "#create unique list of names\n",
    "UniqueNames = df.spaceID.unique()\n",
    "\n",
    "#create a data frame dictionary to store your data frames\n",
    "DataFrameDict = {elem : pd.DataFrame for elem in UniqueNames}\n",
    "\n",
    "for key in DataFrameDict.keys():\n",
    "    DataFrameDict[key] = df[:][df.spaceID == key]"
   ]
  },
  {
   "cell_type": "code",
   "execution_count": null,
   "id": "84e8acdb",
   "metadata": {},
   "outputs": [],
   "source": [
    "UniqueNames"
   ]
  },
  {
   "cell_type": "markdown",
   "id": "894b01df",
   "metadata": {},
   "source": [
    "# Space 324"
   ]
  },
  {
   "cell_type": "markdown",
   "id": "c10d5f14",
   "metadata": {},
   "source": [
    "# 1 month of training data to predict the demand of 1 space for 1 day"
   ]
  },
  {
   "cell_type": "code",
   "execution_count": null,
   "id": "f0653534",
   "metadata": {},
   "outputs": [],
   "source": [
    "train = DataFrameDict['CA-324'].loc[DataFrameDict['CA-324']['connectionTime_year'] == 2019]\n",
    "train = train.loc[train['connectionTime_month'] == 1]"
   ]
  },
  {
   "cell_type": "code",
   "execution_count": null,
   "id": "3b3cafca",
   "metadata": {},
   "outputs": [],
   "source": [
    "test = DataFrameDict['CA-324'].loc[DataFrameDict['CA-324']['connectionTime_year'] == 2019]\n",
    "test = test.loc[test['connectionTime_month'] == 2]\n",
    "test = test.loc[test['connectionTime_day'] == 1]"
   ]
  },
  {
   "cell_type": "code",
   "execution_count": null,
   "id": "0dfc364e",
   "metadata": {},
   "outputs": [],
   "source": [
    "y_train = train['kWhDelivered']\n",
    "x_train = train.drop('kWhDelivered', axis=1)\n",
    "x_train = singleNumeric(x_train)\n",
    "y_train = singleNumeric(y_train)\n",
    "x_trainScaled = scaleData(x_train)"
   ]
  },
  {
   "cell_type": "code",
   "execution_count": null,
   "id": "74cf6cff",
   "metadata": {},
   "outputs": [],
   "source": [
    "y_test = test['kWhDelivered']\n",
    "x_test = test.drop('kWhDelivered', axis=1)\n",
    "x_test = singleNumeric(x_test)\n",
    "y_test = singleNumeric(y_test)\n",
    "x_testScaled = scaleData(x_test)"
   ]
  },
  {
   "cell_type": "code",
   "execution_count": null,
   "id": "85307e27",
   "metadata": {
    "scrolled": true
   },
   "outputs": [],
   "source": [
    "ANN_mse, ANN_mae, CNN_mse, CNN_mae, RF_mse, RF_mae, DT_mse, DT_mae, LR_mse, LR_mae, Val_mse, Val_mae = models(x_train, y_train, x_trainScaled, x_test, y_test, x_testScaled, ANN_mse, ANN_mae, CNN_mse, CNN_mae, RF_mse, RF_mae, DT_mse, DT_mae, LR_mse, LR_mae)"
   ]
  },
  {
   "cell_type": "code",
   "execution_count": null,
   "id": "de72029c",
   "metadata": {},
   "outputs": [],
   "source": [
    "Val_mse"
   ]
  },
  {
   "cell_type": "code",
   "execution_count": null,
   "id": "ac767195",
   "metadata": {},
   "outputs": [],
   "source": [
    "M1_mse = M1_mse + Val_mse\n",
    "M1_mae = M1_mae + Val_mae\n",
    "\n",
    "D_mse = D_mse + Val_mse\n",
    "D_mae = D_mae + Val_mae"
   ]
  },
  {
   "cell_type": "code",
   "execution_count": null,
   "id": "b58f6582",
   "metadata": {
    "scrolled": false
   },
   "outputs": [],
   "source": [
    "M1Count = M1Count + 1\n",
    "DCount = DCount + 1"
   ]
  },
  {
   "cell_type": "markdown",
   "id": "1b3c65fb",
   "metadata": {},
   "source": [
    "Mean squared error from neural net: \n",
    " 18.237812042236328\n",
    "\n",
    "Mean absolute error from neural net: \n",
    " 4.270575046539307\n",
    "\n",
    " Mean squared error from linear regression:  10.540411559717693\n",
    "\n",
    "Mean absolute error from linear regression:  3.2465999999565227"
   ]
  },
  {
   "cell_type": "markdown",
   "id": "d41096cf",
   "metadata": {},
   "source": [
    "# 1 Month to predict 1 week"
   ]
  },
  {
   "cell_type": "code",
   "execution_count": null,
   "id": "6e4cafb0",
   "metadata": {},
   "outputs": [],
   "source": [
    "train = DataFrameDict['CA-324'].loc[DataFrameDict['CA-324']['connectionTime_month'] == 6]\n",
    "train = train.loc[train['connectionTime_year'] == 2018]"
   ]
  },
  {
   "cell_type": "code",
   "execution_count": null,
   "id": "92c5d19b",
   "metadata": {
    "scrolled": true
   },
   "outputs": [],
   "source": [
    "test = DataFrameDict['CA-324'].loc[DataFrameDict['CA-324']['connectionTime_year'] == 2018]\n",
    "test = test.loc[test['connectionTime_month'] == 7]\n",
    "test = test.loc[test['connectionTime_day'].isin([1,2,3,4,5,6,7])]"
   ]
  },
  {
   "cell_type": "code",
   "execution_count": null,
   "id": "52b88904",
   "metadata": {},
   "outputs": [],
   "source": [
    "y_train = train['kWhDelivered']\n",
    "x_train = train.drop('kWhDelivered', axis=1)\n",
    "x_train = singleNumeric(x_train)\n",
    "y_train = singleNumeric(y_train)\n",
    "x_trainScaled = scaleData(x_train)"
   ]
  },
  {
   "cell_type": "code",
   "execution_count": null,
   "id": "5c0c85c4",
   "metadata": {},
   "outputs": [],
   "source": [
    "y_test = test['kWhDelivered']\n",
    "x_test = test.drop('kWhDelivered', axis=1)\n",
    "x_test = singleNumeric(x_test)\n",
    "y_test = singleNumeric(y_test)\n",
    "x_testScaled = scaleData(x_test)"
   ]
  },
  {
   "cell_type": "code",
   "execution_count": null,
   "id": "ac494938",
   "metadata": {
    "scrolled": true
   },
   "outputs": [],
   "source": [
    "ANN_mse, ANN_mae, CNN_mse, CNN_mae, RF_mse, RF_mae, DT_mse, DT_mae, LR_mse, LR_mae, Val_mse, Val_mae = models(x_train, y_train, x_trainScaled, x_test, y_test, x_testScaled, ANN_mse, ANN_mae, CNN_mse, CNN_mae, RF_mse, RF_mae, DT_mse, DT_mae, LR_mse, LR_mae)"
   ]
  },
  {
   "cell_type": "code",
   "execution_count": null,
   "id": "6297cb14",
   "metadata": {},
   "outputs": [],
   "source": [
    "M1_mse = M1_mse + Val_mse\n",
    "M1_mae = M1_mae + Val_mae\n",
    "\n",
    "W_mse = W_mse + Val_mse\n",
    "W_mae = W_mae + Val_mae"
   ]
  },
  {
   "cell_type": "code",
   "execution_count": null,
   "id": "214a8292",
   "metadata": {},
   "outputs": [],
   "source": [
    "M1Count = M1Count + 1\n",
    "WCount = WCount + 1"
   ]
  },
  {
   "cell_type": "markdown",
   "id": "e33e01e9",
   "metadata": {},
   "source": [
    "Mean squared error from neural net: \n",
    " 179.09262084960938\n",
    "\n",
    "Mean absolute error from neural net: \n",
    " 10.296606063842773\n",
    "\n",
    " Mean squared error using Random Forest:  124.18021324321256\n",
    "\n",
    "Mean absolute error Using Random Forest:  7.787178750000004\n"
   ]
  },
  {
   "cell_type": "markdown",
   "id": "d49463c1",
   "metadata": {},
   "source": [
    "# 6 Month training 1 week predicition"
   ]
  },
  {
   "cell_type": "code",
   "execution_count": null,
   "id": "e9df9b63",
   "metadata": {
    "scrolled": true
   },
   "outputs": [],
   "source": [
    "train = DataFrameDict['CA-324'].loc[DataFrameDict['CA-324']['connectionTime_year'] == 2019]\n",
    "\n",
    "train = train.loc[train['connectionTime_month'].isin([1,2,3,4,5,6])]"
   ]
  },
  {
   "cell_type": "code",
   "execution_count": null,
   "id": "cfc3f506",
   "metadata": {},
   "outputs": [],
   "source": [
    "test = DataFrameDict['CA-324'].loc[DataFrameDict['CA-324']['connectionTime_year'] == 2019]\n",
    "test = test.loc[test['connectionTime_month'] == 7]\n",
    "test = test.loc[test['connectionTime_day'].isin([1,2,3,4,5,6,7])]"
   ]
  },
  {
   "cell_type": "code",
   "execution_count": null,
   "id": "405a14ba",
   "metadata": {},
   "outputs": [],
   "source": [
    "y_train = train['kWhDelivered']\n",
    "x_train = train.drop('kWhDelivered', axis=1)\n",
    "x_train = singleNumeric(x_train)\n",
    "y_train = singleNumeric(y_train)\n",
    "x_trainScaled = scaleData(x_train)"
   ]
  },
  {
   "cell_type": "code",
   "execution_count": null,
   "id": "e9d2624f",
   "metadata": {},
   "outputs": [],
   "source": [
    "y_test = test['kWhDelivered']\n",
    "x_test = test.drop('kWhDelivered', axis=1)\n",
    "x_test = singleNumeric(x_test)\n",
    "y_test = singleNumeric(y_test)\n",
    "x_testScaled = scaleData(x_test)"
   ]
  },
  {
   "cell_type": "code",
   "execution_count": null,
   "id": "d4bb08c7",
   "metadata": {
    "scrolled": true
   },
   "outputs": [],
   "source": [
    "ANN_mse, ANN_mae, CNN_mse, CNN_mae, RF_mse, RF_mae, DT_mse, DT_mae, LR_mse, LR_mae, Val_mse, Val_mae = models(x_train, y_train, x_trainScaled, x_test, y_test, x_testScaled, ANN_mse, ANN_mae, CNN_mse, CNN_mae, RF_mse, RF_mae, DT_mse, DT_mae, LR_mse, LR_mae)"
   ]
  },
  {
   "cell_type": "code",
   "execution_count": null,
   "id": "e7a2cb9b",
   "metadata": {},
   "outputs": [],
   "source": [
    "M6_mse = M6_mse + Val_mse\n",
    "M6_mae = M6_mae + Val_mae\n",
    "\n",
    "W_mse = W_mse + Val_mse\n",
    "W_mae = W_mae + Val_mae"
   ]
  },
  {
   "cell_type": "code",
   "execution_count": null,
   "id": "c29737bf",
   "metadata": {},
   "outputs": [],
   "source": [
    "M6Count = M6Count + 1\n",
    "WCount = WCount + 1"
   ]
  },
  {
   "cell_type": "markdown",
   "id": "5b554205",
   "metadata": {},
   "source": [
    "Mean squared error from neural net: \n",
    " 87.76254272460938\n",
    "\n",
    "Mean absolute error from neural net: \n",
    " 9.301206588745117\n",
    "\n",
    " Mean squared error from Convolutional neural net:  7.518273830413818\n",
    "\n",
    "Mean absolute error from Convolutional neural net:  2.692187547683716"
   ]
  },
  {
   "cell_type": "markdown",
   "id": "17710809",
   "metadata": {},
   "source": [
    "# Space 322"
   ]
  },
  {
   "cell_type": "markdown",
   "id": "f82a4c99",
   "metadata": {},
   "source": [
    "# 1 month of training data to predict the demand of 1 space for 1 day"
   ]
  },
  {
   "cell_type": "code",
   "execution_count": null,
   "id": "303f24f5",
   "metadata": {},
   "outputs": [],
   "source": [
    "train = DataFrameDict['CA-322'].loc[DataFrameDict['CA-322']['connectionTime_year'] == 2019]\n",
    "train = train.loc[train['connectionTime_month'] == 1]"
   ]
  },
  {
   "cell_type": "code",
   "execution_count": null,
   "id": "d464519f",
   "metadata": {},
   "outputs": [],
   "source": [
    "test = DataFrameDict['CA-322'].loc[DataFrameDict['CA-322']['connectionTime_year'] == 2019]\n",
    "test = test.loc[test['connectionTime_month'] == 2]\n",
    "test = test.loc[test['connectionTime_day'] == 1]"
   ]
  },
  {
   "cell_type": "code",
   "execution_count": null,
   "id": "409550fd",
   "metadata": {},
   "outputs": [],
   "source": [
    "y_train = train['kWhDelivered']\n",
    "x_train = train.drop('kWhDelivered', axis=1)\n",
    "x_train = singleNumeric(x_train)\n",
    "y_train = singleNumeric(y_train)\n",
    "x_trainScaled = scaleData(x_train)"
   ]
  },
  {
   "cell_type": "code",
   "execution_count": null,
   "id": "d0455f8b",
   "metadata": {},
   "outputs": [],
   "source": [
    "y_test = test['kWhDelivered']\n",
    "x_test = test.drop('kWhDelivered', axis=1)\n",
    "x_test = singleNumeric(x_test)\n",
    "y_test = singleNumeric(y_test)\n",
    "x_testScaled = scaleData(x_test)"
   ]
  },
  {
   "cell_type": "code",
   "execution_count": null,
   "id": "864e21e8",
   "metadata": {
    "scrolled": true
   },
   "outputs": [],
   "source": [
    "ANN_mse, ANN_mae, CNN_mse, CNN_mae, RF_mse, RF_mae, DT_mse, DT_mae, LR_mse, LR_mae, Val_mse, Val_mae = models(x_train, y_train, x_trainScaled, x_test, y_test, x_testScaled, ANN_mse, ANN_mae, CNN_mse, CNN_mae, RF_mse, RF_mae, DT_mse, DT_mae, LR_mse, LR_mae)"
   ]
  },
  {
   "cell_type": "code",
   "execution_count": null,
   "id": "5d433080",
   "metadata": {},
   "outputs": [],
   "source": [
    "M1_mse = M1_mse + Val_mse\n",
    "M1_mae = M1_mae + Val_mae\n",
    "\n",
    "D_mse = D_mse + Val_mse\n",
    "D_mae = D_mae + Val_mae"
   ]
  },
  {
   "cell_type": "code",
   "execution_count": null,
   "id": "fb8c0009",
   "metadata": {
    "scrolled": false
   },
   "outputs": [],
   "source": [
    "M1Count = M1Count + 1\n",
    "DCount = DCount + 1"
   ]
  },
  {
   "cell_type": "markdown",
   "id": "71a7d79f",
   "metadata": {},
   "source": [
    "Mean squared error from linear regression:  23.0043599508838\n",
    "\n",
    "Mean absolute error from linear regression:  4.796286058074914\n",
    "\n",
    "Mean squared error using decision tree:  17.32224399999999\n",
    "\n",
    "Mean absolute error using decision tree:  4.161999999999999"
   ]
  },
  {
   "cell_type": "markdown",
   "id": "ad78dcd2",
   "metadata": {},
   "source": [
    "# 1 Month to predict 1 week"
   ]
  },
  {
   "cell_type": "code",
   "execution_count": null,
   "id": "0914b350",
   "metadata": {},
   "outputs": [],
   "source": [
    "train = DataFrameDict['CA-322'].loc[DataFrameDict['CA-322']['connectionTime_month'] == 6]\n",
    "train = train.loc[train['connectionTime_year'] == 2018]"
   ]
  },
  {
   "cell_type": "code",
   "execution_count": null,
   "id": "178e6ed8",
   "metadata": {
    "scrolled": true
   },
   "outputs": [],
   "source": [
    "test = DataFrameDict['CA-322'].loc[DataFrameDict['CA-322']['connectionTime_year'] == 2018]\n",
    "test = test.loc[test['connectionTime_month'] == 7]\n",
    "test = test.loc[test['connectionTime_day'].isin([1,2,3,4,5,6,7])]"
   ]
  },
  {
   "cell_type": "code",
   "execution_count": null,
   "id": "31c9cf60",
   "metadata": {},
   "outputs": [],
   "source": [
    "y_train = train['kWhDelivered']\n",
    "x_train = train.drop('kWhDelivered', axis=1)\n",
    "x_train = singleNumeric(x_train)\n",
    "y_train = singleNumeric(y_train)\n",
    "x_trainScaled = scaleData(x_train)"
   ]
  },
  {
   "cell_type": "code",
   "execution_count": null,
   "id": "8d2d10b8",
   "metadata": {},
   "outputs": [],
   "source": [
    "y_test = test['kWhDelivered']\n",
    "x_test = test.drop('kWhDelivered', axis=1)\n",
    "x_test = singleNumeric(x_test)\n",
    "y_test = singleNumeric(y_test)\n",
    "x_testScaled = scaleData(x_test)"
   ]
  },
  {
   "cell_type": "code",
   "execution_count": null,
   "id": "bca6190b",
   "metadata": {
    "scrolled": true
   },
   "outputs": [],
   "source": [
    "ANN_mse, ANN_mae, CNN_mse, CNN_mae, RF_mse, RF_mae, DT_mse, DT_mae, LR_mse, LR_mae, Val_mse, Val_mae = models(x_train, y_train, x_trainScaled, x_test, y_test, x_testScaled, ANN_mse, ANN_mae, CNN_mse, CNN_mae, RF_mse, RF_mae, DT_mse, DT_mae, LR_mse, LR_mae)"
   ]
  },
  {
   "cell_type": "code",
   "execution_count": null,
   "id": "c44e8eaf",
   "metadata": {},
   "outputs": [],
   "source": [
    "M1_mse = M1_mse + Val_mse\n",
    "M1_mae = M1_mae + Val_mae\n",
    "\n",
    "W_mse = W_mse + Val_mse\n",
    "W_mae = W_mae + Val_mae"
   ]
  },
  {
   "cell_type": "code",
   "execution_count": null,
   "id": "1f8110e6",
   "metadata": {},
   "outputs": [],
   "source": [
    "M1Count = M1Count + 1\n",
    "WCount = WCount + 1"
   ]
  },
  {
   "cell_type": "markdown",
   "id": "9a0178a6",
   "metadata": {},
   "source": [
    "Mean squared error from neural net: \n",
    " 115.94696044921875\n",
    "\n",
    "Mean absolute error from neural net: \n",
    " 8.477322578430176\n",
    "\n",
    " Mean squared error from Convolutional neural net:  125.59464263916016\n",
    "\n",
    "Mean absolute error from Convolutional neural net:  8.888972282409668\n"
   ]
  },
  {
   "cell_type": "markdown",
   "id": "9e98920e",
   "metadata": {},
   "source": [
    "# 6 Month training 1 week predicition"
   ]
  },
  {
   "cell_type": "code",
   "execution_count": null,
   "id": "9e6bb386",
   "metadata": {
    "scrolled": true
   },
   "outputs": [],
   "source": [
    "train = DataFrameDict['CA-322'].loc[DataFrameDict['CA-322']['connectionTime_year'] == 2019]\n",
    "\n",
    "train = train.loc[train['connectionTime_month'].isin([1,2,3,4,5,6])]"
   ]
  },
  {
   "cell_type": "code",
   "execution_count": null,
   "id": "f3e447fd",
   "metadata": {},
   "outputs": [],
   "source": [
    "test = DataFrameDict['CA-322'].loc[DataFrameDict['CA-322']['connectionTime_year'] == 2019]\n",
    "test = test.loc[test['connectionTime_month'] == 7]\n",
    "test = test.loc[test['connectionTime_day'].isin([1,2,3,4,5,6,7])]"
   ]
  },
  {
   "cell_type": "code",
   "execution_count": null,
   "id": "45183ebc",
   "metadata": {},
   "outputs": [],
   "source": [
    "y_train = train['kWhDelivered']\n",
    "x_train = train.drop('kWhDelivered', axis=1)\n",
    "x_train = singleNumeric(x_train)\n",
    "y_train = singleNumeric(y_train)\n",
    "x_trainScaled = scaleData(x_train)"
   ]
  },
  {
   "cell_type": "code",
   "execution_count": null,
   "id": "dcc4c0ff",
   "metadata": {},
   "outputs": [],
   "source": [
    "y_test = test['kWhDelivered']\n",
    "x_test = test.drop('kWhDelivered', axis=1)\n",
    "x_test = singleNumeric(x_test)\n",
    "y_test = singleNumeric(y_test)\n",
    "x_testScaled = scaleData(x_test)"
   ]
  },
  {
   "cell_type": "code",
   "execution_count": null,
   "id": "e0dd4351",
   "metadata": {
    "scrolled": true
   },
   "outputs": [],
   "source": [
    "ANN_mse, ANN_mae, CNN_mse, CNN_mae, RF_mse, RF_mae, DT_mse, DT_mae, LR_mse, LR_mae, Val_mse, Val_mae = models(x_train, y_train, x_trainScaled, x_test, y_test, x_testScaled, ANN_mse, ANN_mae, CNN_mse, CNN_mae, RF_mse, RF_mae, DT_mse, DT_mae, LR_mse, LR_mae)"
   ]
  },
  {
   "cell_type": "code",
   "execution_count": null,
   "id": "eb2cd912",
   "metadata": {},
   "outputs": [],
   "source": [
    "M6_mse = M6_mse + Val_mse\n",
    "M6_mae = M6_mae + Val_mae\n",
    "\n",
    "W_mse = W_mse + Val_mse\n",
    "W_mae = W_mae + Val_mae"
   ]
  },
  {
   "cell_type": "code",
   "execution_count": null,
   "id": "49ae9fab",
   "metadata": {},
   "outputs": [],
   "source": [
    "M6Count = M6Count + 1\n",
    "WCount = WCount + 1"
   ]
  },
  {
   "cell_type": "markdown",
   "id": "0a38ec6f",
   "metadata": {},
   "source": [
    "Mean squared error from neural net: \n",
    " 67.17460632324219\n",
    "\n",
    "Mean absolute error from neural net: \n",
    " 7.740140438079834\n",
    "\n",
    " Mean squared error from Convolutional neural net:  28.86421775817871\n",
    "\n",
    "Mean absolute error from Convolutional neural net:  3.136587381362915"
   ]
  },
  {
   "cell_type": "markdown",
   "id": "d1154b1d",
   "metadata": {},
   "source": [
    "# Space 497"
   ]
  },
  {
   "cell_type": "markdown",
   "id": "44032748",
   "metadata": {},
   "source": [
    "# 1 month of training data to predict the demand of 1 space for 1 day"
   ]
  },
  {
   "cell_type": "code",
   "execution_count": null,
   "id": "b563907d",
   "metadata": {},
   "outputs": [],
   "source": [
    "train = DataFrameDict['CA-497'].loc[DataFrameDict['CA-497']['connectionTime_year'] == 2019]\n",
    "train = train.loc[train['connectionTime_month'] == 1]"
   ]
  },
  {
   "cell_type": "code",
   "execution_count": null,
   "id": "7da70164",
   "metadata": {},
   "outputs": [],
   "source": [
    "test = DataFrameDict['CA-497'].loc[DataFrameDict['CA-497']['connectionTime_year'] == 2019]\n",
    "test = test.loc[test['connectionTime_month'] == 2]\n",
    "test = test.loc[test['connectionTime_day'] == 1]"
   ]
  },
  {
   "cell_type": "code",
   "execution_count": null,
   "id": "af4d6e23",
   "metadata": {},
   "outputs": [],
   "source": [
    "y_train = train['kWhDelivered']\n",
    "x_train = train.drop('kWhDelivered', axis=1)\n",
    "x_train = singleNumeric(x_train)\n",
    "y_train = singleNumeric(y_train)\n",
    "x_trainScaled = scaleData(x_train)"
   ]
  },
  {
   "cell_type": "code",
   "execution_count": null,
   "id": "15b61472",
   "metadata": {},
   "outputs": [],
   "source": [
    "y_test = test['kWhDelivered']\n",
    "x_test = test.drop('kWhDelivered', axis=1)\n",
    "x_test = singleNumeric(x_test)\n",
    "y_test = singleNumeric(y_test)\n",
    "x_testScaled = scaleData(x_test)"
   ]
  },
  {
   "cell_type": "code",
   "execution_count": null,
   "id": "f284a73d",
   "metadata": {
    "scrolled": true
   },
   "outputs": [],
   "source": [
    "ANN_mse, ANN_mae, CNN_mse, CNN_mae, RF_mse, RF_mae, DT_mse, DT_mae, LR_mse, LR_mae, Val_mse, Val_mae = models(x_train, y_train, x_trainScaled, x_test, y_test, x_testScaled, ANN_mse, ANN_mae, CNN_mse, CNN_mae, RF_mse, RF_mae, DT_mse, DT_mae, LR_mse, LR_mae)"
   ]
  },
  {
   "cell_type": "code",
   "execution_count": null,
   "id": "c82906d3",
   "metadata": {},
   "outputs": [],
   "source": [
    "M1_mse = M1_mse + Val_mse\n",
    "M1_mae = M1_mae + Val_mae\n",
    "\n",
    "D_mse = D_mse + Val_mse\n",
    "D_mae = D_mae + Val_mae"
   ]
  },
  {
   "cell_type": "code",
   "execution_count": null,
   "id": "09e60254",
   "metadata": {
    "scrolled": false
   },
   "outputs": [],
   "source": [
    "M1Count = M1Count + 1\n",
    "DCount = DCount + 1"
   ]
  },
  {
   "cell_type": "markdown",
   "id": "4135eb01",
   "metadata": {},
   "source": [
    "Mean squared error from neural net: \n",
    " 33.54694366455078\n",
    "\n",
    "Mean absolute error from neural net: \n",
    " 5.298711776733398\n",
    "\n",
    "Mean squared error using Random Forest:  8.430320786899973\n",
    "\n",
    "Mean absolute error Using Random Forest:  2.713869999999991"
   ]
  },
  {
   "cell_type": "markdown",
   "id": "bed04aad",
   "metadata": {},
   "source": [
    "# 1 Month to predict 1 week"
   ]
  },
  {
   "cell_type": "code",
   "execution_count": null,
   "id": "c997f84d",
   "metadata": {},
   "outputs": [],
   "source": [
    "train = DataFrameDict['CA-497'].loc[DataFrameDict['CA-497']['connectionTime_month'] == 6]\n",
    "train = train.loc[train['connectionTime_year'] == 2018]"
   ]
  },
  {
   "cell_type": "code",
   "execution_count": null,
   "id": "b1f721f7",
   "metadata": {
    "scrolled": true
   },
   "outputs": [],
   "source": [
    "test = DataFrameDict['CA-497'].loc[DataFrameDict['CA-497']['connectionTime_year'] == 2018]\n",
    "test = test.loc[test['connectionTime_month'] == 7]\n",
    "test = test.loc[test['connectionTime_day'].isin([1,2,3,4,5,6,7])]"
   ]
  },
  {
   "cell_type": "code",
   "execution_count": null,
   "id": "f7680b0e",
   "metadata": {},
   "outputs": [],
   "source": [
    "y_train = train['kWhDelivered']\n",
    "x_train = train.drop('kWhDelivered', axis=1)\n",
    "x_train = singleNumeric(x_train)\n",
    "y_train = singleNumeric(y_train)\n",
    "x_trainScaled = scaleData(x_train)"
   ]
  },
  {
   "cell_type": "code",
   "execution_count": null,
   "id": "0f5764a9",
   "metadata": {},
   "outputs": [],
   "source": [
    "y_test = test['kWhDelivered']\n",
    "x_test = test.drop('kWhDelivered', axis=1)\n",
    "x_test = singleNumeric(x_test)\n",
    "y_test = singleNumeric(y_test)\n",
    "x_testScaled = scaleData(x_test)"
   ]
  },
  {
   "cell_type": "code",
   "execution_count": null,
   "id": "ddc615c4",
   "metadata": {
    "scrolled": true
   },
   "outputs": [],
   "source": [
    "ANN_mse, ANN_mae, CNN_mse, CNN_mae, RF_mse, RF_mae, DT_mse, DT_mae, LR_mse, LR_mae, Val_mse, Val_mae = models(x_train, y_train, x_trainScaled, x_test, y_test, x_testScaled, ANN_mse, ANN_mae, CNN_mse, CNN_mae, RF_mse, RF_mae, DT_mse, DT_mae, LR_mse, LR_mae)"
   ]
  },
  {
   "cell_type": "code",
   "execution_count": null,
   "id": "bea698ef",
   "metadata": {},
   "outputs": [],
   "source": [
    "M1_mse = M1_mse + Val_mse\n",
    "M1_mae = M1_mae + Val_mae\n",
    "\n",
    "W_mse = W_mse + Val_mse\n",
    "W_mae = W_mae + Val_mae"
   ]
  },
  {
   "cell_type": "code",
   "execution_count": null,
   "id": "4ed60e64",
   "metadata": {},
   "outputs": [],
   "source": [
    "M1Count = M1Count + 1\n",
    "WCount = WCount + 1"
   ]
  },
  {
   "cell_type": "markdown",
   "id": "f449adef",
   "metadata": {},
   "source": [
    "Mean squared error from linear regression:  181.30599388416144\n",
    "\n",
    "Mean absolute error from linear regression:  8.823666666480948\n",
    "\n",
    "Mean squared error using Random Forest:  194.13588130859986\n",
    "\n",
    "Mean absolute error Using Random Forest:  10.142719999999999"
   ]
  },
  {
   "cell_type": "markdown",
   "id": "5b3e412d",
   "metadata": {},
   "source": [
    "# 6 Month training 1 week predicition"
   ]
  },
  {
   "cell_type": "code",
   "execution_count": null,
   "id": "a325f9c0",
   "metadata": {
    "scrolled": true
   },
   "outputs": [],
   "source": [
    "train = DataFrameDict['CA-497'].loc[DataFrameDict['CA-497']['connectionTime_year'] == 2019]\n",
    "\n",
    "train = train.loc[train['connectionTime_month'].isin([1,2,3,4,5,6])]"
   ]
  },
  {
   "cell_type": "code",
   "execution_count": null,
   "id": "e1548b9b",
   "metadata": {},
   "outputs": [],
   "source": [
    "test = DataFrameDict['CA-497'].loc[DataFrameDict['CA-497']['connectionTime_year'] == 2019]\n",
    "test = test.loc[test['connectionTime_month'] == 7]\n",
    "test = test.loc[test['connectionTime_day'].isin([1,2,3,4,5,6,7])]"
   ]
  },
  {
   "cell_type": "code",
   "execution_count": null,
   "id": "cf52bd56",
   "metadata": {},
   "outputs": [],
   "source": [
    "y_train = train['kWhDelivered']\n",
    "x_train = train.drop('kWhDelivered', axis=1)\n",
    "x_train = singleNumeric(x_train)\n",
    "y_train = singleNumeric(y_train)\n",
    "x_trainScaled = scaleData(x_train)"
   ]
  },
  {
   "cell_type": "code",
   "execution_count": null,
   "id": "49c1c015",
   "metadata": {},
   "outputs": [],
   "source": [
    "y_test = test['kWhDelivered']\n",
    "x_test = test.drop('kWhDelivered', axis=1)\n",
    "x_test = singleNumeric(x_test)\n",
    "y_test = singleNumeric(y_test)\n",
    "x_testScaled = scaleData(x_test)"
   ]
  },
  {
   "cell_type": "code",
   "execution_count": null,
   "id": "9bed1897",
   "metadata": {
    "scrolled": true
   },
   "outputs": [],
   "source": [
    "ANN_mse, ANN_mae, CNN_mse, CNN_mae, RF_mse, RF_mae, DT_mse, DT_mae, LR_mse, LR_mae, Val_mse, Val_mae = models(x_train, y_train, x_trainScaled, x_test, y_test, x_testScaled, ANN_mse, ANN_mae, CNN_mse, CNN_mae, RF_mse, RF_mae, DT_mse, DT_mae, LR_mse, LR_mae)"
   ]
  },
  {
   "cell_type": "code",
   "execution_count": null,
   "id": "59f61363",
   "metadata": {},
   "outputs": [],
   "source": [
    "M6_mse = M6_mse + Val_mse\n",
    "M6_mae = M6_mae + Val_mae\n",
    "\n",
    "W_mse = W_mse + Val_mse\n",
    "W_mae = W_mae + Val_mae"
   ]
  },
  {
   "cell_type": "code",
   "execution_count": null,
   "id": "e092c191",
   "metadata": {
    "scrolled": false
   },
   "outputs": [],
   "source": [
    "M6Count = M6Count + 1\n",
    "WCount = WCount + 1"
   ]
  },
  {
   "cell_type": "markdown",
   "id": "b321cc4c",
   "metadata": {},
   "source": [
    "Mean squared error using decision tree:  386.35109000000006\n",
    "\n",
    "Mean absolute error using decision tree:  14.173\n",
    "\n",
    "Mean squared error using Random Forest:  318.0916757008996\n",
    "\n",
    "Mean absolute error Using Random Forest:  15.14646999999999\n"
   ]
  },
  {
   "cell_type": "markdown",
   "id": "4ed85ff3",
   "metadata": {},
   "source": [
    "# Space 303"
   ]
  },
  {
   "cell_type": "markdown",
   "id": "d849344c",
   "metadata": {},
   "source": [
    "# 1 month of training data to predict the demand of 1 space for 1 day"
   ]
  },
  {
   "cell_type": "code",
   "execution_count": null,
   "id": "acca3ec5",
   "metadata": {},
   "outputs": [],
   "source": [
    "train = DataFrameDict['CA-303'].loc[DataFrameDict['CA-303']['connectionTime_year'] == 2019]\n",
    "train = train.loc[train['connectionTime_month'] == 1]"
   ]
  },
  {
   "cell_type": "code",
   "execution_count": null,
   "id": "5be2b5f8",
   "metadata": {},
   "outputs": [],
   "source": [
    "test = DataFrameDict['CA-303'].loc[DataFrameDict['CA-303']['connectionTime_year'] == 2019]\n",
    "test = test.loc[test['connectionTime_month'] == 2]\n",
    "test = test.loc[test['connectionTime_day'] == 1]"
   ]
  },
  {
   "cell_type": "code",
   "execution_count": null,
   "id": "70cab106",
   "metadata": {},
   "outputs": [],
   "source": [
    "y_train = train['kWhDelivered']\n",
    "x_train = train.drop('kWhDelivered', axis=1)\n",
    "x_train = singleNumeric(x_train)\n",
    "y_train = singleNumeric(y_train)\n",
    "x_trainScaled = scaleData(x_train)"
   ]
  },
  {
   "cell_type": "code",
   "execution_count": null,
   "id": "8ebfc1f8",
   "metadata": {},
   "outputs": [],
   "source": [
    "y_test = test['kWhDelivered']\n",
    "x_test = test.drop('kWhDelivered', axis=1)\n",
    "x_test = singleNumeric(x_test)\n",
    "y_test = singleNumeric(y_test)\n",
    "x_testScaled = scaleData(x_test)"
   ]
  },
  {
   "cell_type": "code",
   "execution_count": null,
   "id": "565ef11e",
   "metadata": {
    "scrolled": true
   },
   "outputs": [],
   "source": [
    "ANN_mse, ANN_mae, CNN_mse, CNN_mae, RF_mse, RF_mae, DT_mse, DT_mae, LR_mse, LR_mae, Val_mse, Val_mae = models(x_train, y_train, x_trainScaled, x_test, y_test, x_testScaled, ANN_mse, ANN_mae, CNN_mse, CNN_mae, RF_mse, RF_mae, DT_mse, DT_mae, LR_mse, LR_mae)"
   ]
  },
  {
   "cell_type": "code",
   "execution_count": null,
   "id": "c6813566",
   "metadata": {},
   "outputs": [],
   "source": [
    "M1_mse = M1_mse + Val_mse\n",
    "M1_mae = M1_mae + Val_mae\n",
    "\n",
    "D_mse = D_mse + Val_mse\n",
    "D_mae = D_mae + Val_mae"
   ]
  },
  {
   "cell_type": "code",
   "execution_count": null,
   "id": "98aaf9e0",
   "metadata": {
    "scrolled": false
   },
   "outputs": [],
   "source": [
    "M1Count = M1Count + 1\n",
    "DCount = DCount + 1"
   ]
  },
  {
   "cell_type": "markdown",
   "id": "a0638060",
   "metadata": {},
   "source": [
    "Mean squared error from neural net: \n",
    " 46.19374465942383\n",
    "\n",
    "Mean absolute error from neural net: \n",
    " 5.661655902862549\n",
    "\n",
    " Mean squared error using Random Forest:  97.00961524166672\n",
    "\n",
    "Mean absolute error Using Random Forest:  9.839360000000003"
   ]
  },
  {
   "cell_type": "markdown",
   "id": "8947200b",
   "metadata": {},
   "source": [
    "# 1 Month to predict 1 week"
   ]
  },
  {
   "cell_type": "code",
   "execution_count": null,
   "id": "dad03319",
   "metadata": {},
   "outputs": [],
   "source": [
    "train = DataFrameDict['CA-303'].loc[DataFrameDict['CA-303']['connectionTime_month'] == 6]\n",
    "train = train.loc[train['connectionTime_year'] == 2018]"
   ]
  },
  {
   "cell_type": "code",
   "execution_count": null,
   "id": "a4c7b9cf",
   "metadata": {
    "scrolled": true
   },
   "outputs": [],
   "source": [
    "test = DataFrameDict['CA-303'].loc[DataFrameDict['CA-303']['connectionTime_year'] == 2018]\n",
    "test = test.loc[test['connectionTime_month'] == 7]\n",
    "test = test.loc[test['connectionTime_day'].isin([1,2,3,4,5,6,7])]"
   ]
  },
  {
   "cell_type": "code",
   "execution_count": null,
   "id": "1549e68b",
   "metadata": {},
   "outputs": [],
   "source": [
    "y_train = train['kWhDelivered']\n",
    "x_train = train.drop('kWhDelivered', axis=1)\n",
    "x_train = singleNumeric(x_train)\n",
    "y_train = singleNumeric(y_train)\n",
    "x_trainScaled = scaleData(x_train)"
   ]
  },
  {
   "cell_type": "code",
   "execution_count": null,
   "id": "5ef5b93b",
   "metadata": {},
   "outputs": [],
   "source": [
    "y_test = test['kWhDelivered']\n",
    "x_test = test.drop('kWhDelivered', axis=1)\n",
    "x_test = singleNumeric(x_test)\n",
    "y_test = singleNumeric(y_test)\n",
    "x_testScaled = scaleData(x_test)"
   ]
  },
  {
   "cell_type": "code",
   "execution_count": null,
   "id": "07bbb268",
   "metadata": {
    "scrolled": true
   },
   "outputs": [],
   "source": [
    "ANN_mse, ANN_mae, CNN_mse, CNN_mae, RF_mse, RF_mae, DT_mse, DT_mae, LR_mse, LR_mae, Val_mse, Val_mae = models(x_train, y_train, x_trainScaled, x_test, y_test, x_testScaled, ANN_mse, ANN_mae, CNN_mse, CNN_mae, RF_mse, RF_mae, DT_mse, DT_mae, LR_mse, LR_mae)"
   ]
  },
  {
   "cell_type": "code",
   "execution_count": null,
   "id": "525a147f",
   "metadata": {},
   "outputs": [],
   "source": [
    "M1_mse = M1_mse + Val_mse\n",
    "M1_mae = M1_mae + Val_mae\n",
    "\n",
    "W_mse = W_mse + Val_mse\n",
    "W_mae = W_mae + Val_mae"
   ]
  },
  {
   "cell_type": "code",
   "execution_count": null,
   "id": "5aeb348d",
   "metadata": {},
   "outputs": [],
   "source": [
    "M1Count = M1Count + 1\n",
    "WCount = WCount + 1"
   ]
  },
  {
   "cell_type": "markdown",
   "id": "38d865c7",
   "metadata": {},
   "source": [
    "Mean squared error from neural net: \n",
    " 46.877540588378906\n",
    "\n",
    "Mean absolute error from neural net: \n",
    " 5.940613269805908\n",
    "\n",
    " Mean squared error using Random Forest:  77.77993093784437\n",
    "\n",
    "Mean absolute error Using Random Forest:  6.946025555555554"
   ]
  },
  {
   "cell_type": "markdown",
   "id": "cdea6707",
   "metadata": {},
   "source": [
    "# 6 Month training 1 week predicition"
   ]
  },
  {
   "cell_type": "code",
   "execution_count": null,
   "id": "8ab62e11",
   "metadata": {
    "scrolled": true
   },
   "outputs": [],
   "source": [
    "train = DataFrameDict['CA-303'].loc[DataFrameDict['CA-303']['connectionTime_year'] == 2019]\n",
    "\n",
    "train = train.loc[train['connectionTime_month'].isin([1,2,3,4,5,6])]"
   ]
  },
  {
   "cell_type": "code",
   "execution_count": null,
   "id": "b958c19f",
   "metadata": {},
   "outputs": [],
   "source": [
    "test = DataFrameDict['CA-303'].loc[DataFrameDict['CA-303']['connectionTime_year'] == 2019]\n",
    "test = test.loc[test['connectionTime_month'] == 7]\n",
    "test = test.loc[test['connectionTime_day'].isin([1,2,3,4,5,6,7])]"
   ]
  },
  {
   "cell_type": "code",
   "execution_count": null,
   "id": "aba8e395",
   "metadata": {},
   "outputs": [],
   "source": [
    "y_train = train['kWhDelivered']\n",
    "x_train = train.drop('kWhDelivered', axis=1)\n",
    "x_train = singleNumeric(x_train)\n",
    "y_train = singleNumeric(y_train)\n",
    "x_trainScaled = scaleData(x_train)"
   ]
  },
  {
   "cell_type": "code",
   "execution_count": null,
   "id": "e66ec00b",
   "metadata": {},
   "outputs": [],
   "source": [
    "y_test = test['kWhDelivered']\n",
    "x_test = test.drop('kWhDelivered', axis=1)\n",
    "x_test = singleNumeric(x_test)\n",
    "y_test = singleNumeric(y_test)\n",
    "x_testScaled = scaleData(x_test)"
   ]
  },
  {
   "cell_type": "code",
   "execution_count": null,
   "id": "3335b090",
   "metadata": {
    "scrolled": true
   },
   "outputs": [],
   "source": [
    "ANN_mse, ANN_mae, CNN_mse, CNN_mae, RF_mse, RF_mae, DT_mse, DT_mae, LR_mse, LR_mae, Val_mse, Val_mae = models(x_train, y_train, x_trainScaled, x_test, y_test, x_testScaled, ANN_mse, ANN_mae, CNN_mse, CNN_mae, RF_mse, RF_mae, DT_mse, DT_mae, LR_mse, LR_mae)"
   ]
  },
  {
   "cell_type": "code",
   "execution_count": null,
   "id": "59162726",
   "metadata": {},
   "outputs": [],
   "source": [
    "M6_mse = M6_mse + Val_mse\n",
    "M6_mae = M6_mae + Val_mae\n",
    "\n",
    "W_mse = W_mse + Val_mse\n",
    "W_mae = W_mae + Val_mae"
   ]
  },
  {
   "cell_type": "code",
   "execution_count": null,
   "id": "cd6680e3",
   "metadata": {},
   "outputs": [],
   "source": [
    "M6Count = M6Count + 1\n",
    "WCount = WCount + 1"
   ]
  },
  {
   "cell_type": "markdown",
   "id": "c180fb01",
   "metadata": {},
   "source": [
    "Mean squared error from neural net: \n",
    " 56.471195220947266\n",
    "\n",
    "Mean absolute error from neural net: \n",
    " 5.392200469970703\n",
    "\n",
    "Mean squared error using decision tree:  63.436427124999994\n",
    "\n",
    "Mean absolute error using decision tree:  5.284375000000001\n"
   ]
  },
  {
   "cell_type": "markdown",
   "id": "41a758e7",
   "metadata": {},
   "source": [
    "# Space CA-500"
   ]
  },
  {
   "cell_type": "markdown",
   "id": "4486751d",
   "metadata": {},
   "source": [
    "# 1 month of training data to predict the demand of 1 space for 1 day"
   ]
  },
  {
   "cell_type": "code",
   "execution_count": null,
   "id": "c74b7e96",
   "metadata": {},
   "outputs": [],
   "source": [
    "train = DataFrameDict['CA-500'].loc[DataFrameDict['CA-500']['connectionTime_year'] == 2019]\n",
    "train = train.loc[train['connectionTime_month'] == 1]"
   ]
  },
  {
   "cell_type": "code",
   "execution_count": null,
   "id": "27959333",
   "metadata": {},
   "outputs": [],
   "source": [
    "test = DataFrameDict['CA-500'].loc[DataFrameDict['CA-500']['connectionTime_year'] == 2019]\n",
    "test = test.loc[test['connectionTime_month'] == 2]\n",
    "test = test.loc[test['connectionTime_day'] == 1]"
   ]
  },
  {
   "cell_type": "code",
   "execution_count": null,
   "id": "a2779e45",
   "metadata": {},
   "outputs": [],
   "source": [
    "y_train = train['kWhDelivered']\n",
    "x_train = train.drop('kWhDelivered', axis=1)\n",
    "x_train = singleNumeric(x_train)\n",
    "y_train = singleNumeric(y_train)\n",
    "x_trainScaled = scaleData(x_train)"
   ]
  },
  {
   "cell_type": "code",
   "execution_count": null,
   "id": "75385c11",
   "metadata": {},
   "outputs": [],
   "source": [
    "y_test = test['kWhDelivered']\n",
    "x_test = test.drop('kWhDelivered', axis=1)\n",
    "x_test = singleNumeric(x_test)\n",
    "y_test = singleNumeric(y_test)\n",
    "x_testScaled = scaleData(x_test)"
   ]
  },
  {
   "cell_type": "code",
   "execution_count": null,
   "id": "21353e10",
   "metadata": {
    "scrolled": true
   },
   "outputs": [],
   "source": [
    "ANN_mse, ANN_mae, CNN_mse, CNN_mae, RF_mse, RF_mae, DT_mse, DT_mae, LR_mse, LR_mae, Val_mse, Val_mae = models(x_train, y_train, x_trainScaled, x_test, y_test, x_testScaled, ANN_mse, ANN_mae, CNN_mse, CNN_mae, RF_mse, RF_mae, DT_mse, DT_mae, LR_mse, LR_mae)"
   ]
  },
  {
   "cell_type": "code",
   "execution_count": null,
   "id": "0a9713c9",
   "metadata": {},
   "outputs": [],
   "source": [
    "M1_mse = M1_mse + Val_mse\n",
    "M1_mae = M1_mae + Val_mae\n",
    "\n",
    "D_mse = D_mse + Val_mse\n",
    "D_mae = D_mae + Val_mae"
   ]
  },
  {
   "cell_type": "code",
   "execution_count": null,
   "id": "3a856802",
   "metadata": {},
   "outputs": [],
   "source": [
    "M1Count = M1Count + 1\n",
    "DCount = DCount + 1"
   ]
  },
  {
   "cell_type": "markdown",
   "id": "7ffb906f",
   "metadata": {},
   "source": [
    "Mean squared error from linear regression:  14.204201329055056\n",
    "\n",
    "Mean absolute error from linear regression:  3.768846153540239\n",
    "\n",
    "Mean squared error using Random Forest:  16.960477256099956\n",
    "\n",
    "Mean absolute error Using Random Forest:  4.118309999999995\n"
   ]
  },
  {
   "cell_type": "markdown",
   "id": "9f9cdb37",
   "metadata": {},
   "source": [
    "# 1 Month to predict 1 week"
   ]
  },
  {
   "cell_type": "code",
   "execution_count": null,
   "id": "98312c11",
   "metadata": {},
   "outputs": [],
   "source": [
    "train = DataFrameDict['CA-500'].loc[DataFrameDict['CA-500']['connectionTime_month'] == 6]\n",
    "train = train.loc[train['connectionTime_year'] == 2018]"
   ]
  },
  {
   "cell_type": "code",
   "execution_count": null,
   "id": "89f1b80f",
   "metadata": {
    "scrolled": true
   },
   "outputs": [],
   "source": [
    "test = DataFrameDict['CA-500'].loc[DataFrameDict['CA-500']['connectionTime_year'] == 2018]\n",
    "test = test.loc[test['connectionTime_month'] == 7]\n",
    "test = test.loc[test['connectionTime_day'].isin([1,2,3,4,5,6,7])]"
   ]
  },
  {
   "cell_type": "code",
   "execution_count": null,
   "id": "066ab16a",
   "metadata": {},
   "outputs": [],
   "source": [
    "y_train = train['kWhDelivered']\n",
    "x_train = train.drop('kWhDelivered', axis=1)\n",
    "x_train = singleNumeric(x_train)\n",
    "y_train = singleNumeric(y_train)\n",
    "x_trainScaled = scaleData(x_train)"
   ]
  },
  {
   "cell_type": "code",
   "execution_count": null,
   "id": "39cbb053",
   "metadata": {},
   "outputs": [],
   "source": [
    "y_test = test['kWhDelivered']\n",
    "x_test = test.drop('kWhDelivered', axis=1)\n",
    "x_test = singleNumeric(x_test)\n",
    "y_test = singleNumeric(y_test)\n",
    "x_testScaled = scaleData(x_test)"
   ]
  },
  {
   "cell_type": "code",
   "execution_count": null,
   "id": "d66d8aa8",
   "metadata": {
    "scrolled": true
   },
   "outputs": [],
   "source": [
    "ANN_mse, ANN_mae, CNN_mse, CNN_mae, RF_mse, RF_mae, DT_mse, DT_mae, LR_mse, LR_mae, Val_mse, Val_mae = models(x_train, y_train, x_trainScaled, x_test, y_test, x_testScaled, ANN_mse, ANN_mae, CNN_mse, CNN_mae, RF_mse, RF_mae, DT_mse, DT_mae, LR_mse, LR_mae)"
   ]
  },
  {
   "cell_type": "code",
   "execution_count": null,
   "id": "425415ad",
   "metadata": {},
   "outputs": [],
   "source": [
    "M1_mse = M1_mse + Val_mse\n",
    "M1_mae = M1_mae + Val_mae\n",
    "\n",
    "W_mse = W_mse + Val_mse\n",
    "W_mae = W_mae + Val_mae"
   ]
  },
  {
   "cell_type": "code",
   "execution_count": null,
   "id": "f0b49cc8",
   "metadata": {},
   "outputs": [],
   "source": [
    "M1Count = M1Count + 1\n",
    "WCount = WCount + 1"
   ]
  },
  {
   "cell_type": "markdown",
   "id": "14116267",
   "metadata": {},
   "source": [
    "Mean squared error from linear regression:  12.604990430210952\n",
    "\n",
    "Mean absolute error from linear regression:  3.255140440702533\n",
    "\n",
    "Mean squared error using Random Forest:  12.571779641319988\n",
    "\n",
    "Mean absolute error Using Random Forest:  3.0359519999999995\n"
   ]
  },
  {
   "cell_type": "markdown",
   "id": "af771656",
   "metadata": {},
   "source": [
    "# 6 Month training 1 week predicition"
   ]
  },
  {
   "cell_type": "code",
   "execution_count": null,
   "id": "73bebb41",
   "metadata": {
    "scrolled": true
   },
   "outputs": [],
   "source": [
    "train = DataFrameDict['CA-500'].loc[DataFrameDict['CA-500']['connectionTime_year'] == 2019]\n",
    "\n",
    "train = train.loc[train['connectionTime_month'].isin([1,2,3,4,5,6])]"
   ]
  },
  {
   "cell_type": "code",
   "execution_count": null,
   "id": "88e5496c",
   "metadata": {},
   "outputs": [],
   "source": [
    "test = DataFrameDict['CA-500'].loc[DataFrameDict['CA-500']['connectionTime_year'] == 2019]\n",
    "test = test.loc[test['connectionTime_month'] == 7]\n",
    "test = test.loc[test['connectionTime_day'].isin([1,2,3,4,5,6,7])]"
   ]
  },
  {
   "cell_type": "code",
   "execution_count": null,
   "id": "27c710c2",
   "metadata": {},
   "outputs": [],
   "source": [
    "y_train = train['kWhDelivered']\n",
    "x_train = train.drop('kWhDelivered', axis=1)\n",
    "x_train = singleNumeric(x_train)\n",
    "y_train = singleNumeric(y_train)\n",
    "x_trainScaled = scaleData(x_train)"
   ]
  },
  {
   "cell_type": "code",
   "execution_count": null,
   "id": "c9dce8f0",
   "metadata": {},
   "outputs": [],
   "source": [
    "y_test = test['kWhDelivered']\n",
    "x_test = test.drop('kWhDelivered', axis=1)\n",
    "x_test = singleNumeric(x_test)\n",
    "y_test = singleNumeric(y_test)\n",
    "x_testScaled = scaleData(x_test)"
   ]
  },
  {
   "cell_type": "code",
   "execution_count": null,
   "id": "26d73061",
   "metadata": {
    "scrolled": true
   },
   "outputs": [],
   "source": [
    "ANN_mse, ANN_mae, CNN_mse, CNN_mae, RF_mse, RF_mae, DT_mse, DT_mae, LR_mse, LR_mae, Val_mse, Val_mae = models(x_train, y_train, x_trainScaled, x_test, y_test, x_testScaled, ANN_mse, ANN_mae, CNN_mse, CNN_mae, RF_mse, RF_mae, DT_mse, DT_mae, LR_mse, LR_mae)"
   ]
  },
  {
   "cell_type": "code",
   "execution_count": null,
   "id": "a9d742ea",
   "metadata": {},
   "outputs": [],
   "source": [
    "M6_mse = M6_mse + Val_mse\n",
    "M6_mae = M6_mae + Val_mae\n",
    "\n",
    "W_mse = W_mse + Val_mse\n",
    "W_mae = W_mae + Val_mae"
   ]
  },
  {
   "cell_type": "code",
   "execution_count": null,
   "id": "b3dce0ca",
   "metadata": {},
   "outputs": [],
   "source": [
    "M6Count = M6Count + 1\n",
    "WCount = WCount + 1"
   ]
  },
  {
   "cell_type": "markdown",
   "id": "a3744584",
   "metadata": {},
   "source": [
    "Mean squared error from neural net: \n",
    " 0.032105010002851486\n",
    "\n",
    "Mean absolute error from neural net: \n",
    " 0.17917871475219727\n",
    "\n",
    " Mean squared error using Random Forest:  5.182679902499998\n",
    "\n",
    "Mean absolute error Using Random Forest:  2.2765499999999994"
   ]
  },
  {
   "cell_type": "markdown",
   "id": "e16b7f16",
   "metadata": {},
   "source": [
    "# Space CA-506"
   ]
  },
  {
   "cell_type": "markdown",
   "id": "bf84fe3d",
   "metadata": {},
   "source": [
    "# 1 month of training data to predict the demand of 1 space for 1 day"
   ]
  },
  {
   "cell_type": "code",
   "execution_count": null,
   "id": "de3145ee",
   "metadata": {},
   "outputs": [],
   "source": [
    "train = DataFrameDict['CA-506'].loc[DataFrameDict['CA-506']['connectionTime_year'] == 2019]\n",
    "train = train.loc[train['connectionTime_month'] == 1]"
   ]
  },
  {
   "cell_type": "code",
   "execution_count": null,
   "id": "44f1b758",
   "metadata": {},
   "outputs": [],
   "source": [
    "test = DataFrameDict['CA-506'].loc[DataFrameDict['CA-506']['connectionTime_year'] == 2019]\n",
    "test = test.loc[test['connectionTime_month'] == 2]\n",
    "test = test.loc[test['connectionTime_day'] == 1]"
   ]
  },
  {
   "cell_type": "code",
   "execution_count": null,
   "id": "f9ea3dbc",
   "metadata": {},
   "outputs": [],
   "source": [
    "y_train = train['kWhDelivered']\n",
    "x_train = train.drop('kWhDelivered', axis=1)\n",
    "x_train = singleNumeric(x_train)\n",
    "y_train = singleNumeric(y_train)\n",
    "x_trainScaled = scaleData(x_train)"
   ]
  },
  {
   "cell_type": "code",
   "execution_count": null,
   "id": "b9ae692c",
   "metadata": {},
   "outputs": [],
   "source": [
    "y_test = test['kWhDelivered']\n",
    "x_test = test.drop('kWhDelivered', axis=1)\n",
    "x_test = singleNumeric(x_test)\n",
    "y_test = singleNumeric(y_test)\n",
    "x_testScaled = scaleData(x_test)"
   ]
  },
  {
   "cell_type": "code",
   "execution_count": null,
   "id": "115b3b48",
   "metadata": {
    "scrolled": true
   },
   "outputs": [],
   "source": [
    "ANN_mse, ANN_mae, CNN_mse, CNN_mae, RF_mse, RF_mae, DT_mse, DT_mae, LR_mse, LR_mae, Val_mse, Val_mae = models(x_train, y_train, x_trainScaled, x_test, y_test, x_testScaled, ANN_mse, ANN_mae, CNN_mse, CNN_mae, RF_mse, RF_mae, DT_mse, DT_mae, LR_mse, LR_mae)"
   ]
  },
  {
   "cell_type": "code",
   "execution_count": null,
   "id": "6e20c91f",
   "metadata": {},
   "outputs": [],
   "source": [
    "M1_mse = M1_mse + Val_mse\n",
    "M1_mae = M1_mae + Val_mae\n",
    "\n",
    "D_mse = D_mse + Val_mse\n",
    "D_mae = D_mae + Val_mae"
   ]
  },
  {
   "cell_type": "code",
   "execution_count": null,
   "id": "e13e2c10",
   "metadata": {
    "scrolled": false
   },
   "outputs": [],
   "source": [
    "M1Count = M1Count + 1\n",
    "DCount = DCount + 1"
   ]
  },
  {
   "cell_type": "markdown",
   "id": "9f353410",
   "metadata": {},
   "source": [
    "Mean squared error from linear regression:  1.1427609999996637\n",
    "\n",
    "Mean absolute error from linear regression:  1.0689999999998427\n",
    "\n",
    "Mean squared error using decision tree:  0.3528360000000014\n",
    "\n",
    "Mean absolute error using decision tree:  0.5940000000000012\n",
    "\n",
    "Mean squared error using Random Forest:  0.4361281600000201\n",
    "\n",
    "Mean absolute error Using Random Forest:  0.6604000000000152"
   ]
  },
  {
   "cell_type": "markdown",
   "id": "41c50bd8",
   "metadata": {},
   "source": [
    "# 1 Month to predict 1 week"
   ]
  },
  {
   "cell_type": "code",
   "execution_count": null,
   "id": "47e7da8e",
   "metadata": {},
   "outputs": [],
   "source": [
    "train = DataFrameDict['CA-506'].loc[DataFrameDict['CA-506']['connectionTime_year'] == 2018]\n",
    "train = train.loc[train['connectionTime_month'] == 5]"
   ]
  },
  {
   "cell_type": "code",
   "execution_count": null,
   "id": "c527d62a",
   "metadata": {
    "scrolled": true
   },
   "outputs": [],
   "source": [
    "test = DataFrameDict['CA-506'].loc[DataFrameDict['CA-506']['connectionTime_year'] == 2018]\n",
    "test = test.loc[test['connectionTime_month'] == 6]\n",
    "test = test.loc[test['connectionTime_day'].isin([1,2,3,4,5,6,7])]"
   ]
  },
  {
   "cell_type": "code",
   "execution_count": null,
   "id": "5fd69d3b",
   "metadata": {},
   "outputs": [],
   "source": [
    "y_train = train['kWhDelivered']\n",
    "x_train = train.drop('kWhDelivered', axis=1)\n",
    "x_train = singleNumeric(x_train)\n",
    "y_train = singleNumeric(y_train)\n",
    "x_trainScaled = scaleData(x_train)"
   ]
  },
  {
   "cell_type": "code",
   "execution_count": null,
   "id": "febd9975",
   "metadata": {},
   "outputs": [],
   "source": [
    "y_test = test['kWhDelivered']\n",
    "x_test = test.drop('kWhDelivered', axis=1)\n",
    "x_test = singleNumeric(x_test)\n",
    "y_test = singleNumeric(y_test)\n",
    "x_testScaled = scaleData(x_test)"
   ]
  },
  {
   "cell_type": "code",
   "execution_count": null,
   "id": "b8dc8336",
   "metadata": {
    "scrolled": true
   },
   "outputs": [],
   "source": [
    "ANN_mse, ANN_mae, CNN_mse, CNN_mae, RF_mse, RF_mae, DT_mse, DT_mae, LR_mse, LR_mae, Val_mse, Val_mae = models(x_train, y_train, x_trainScaled, x_test, y_test, x_testScaled, ANN_mse, ANN_mae, CNN_mse, CNN_mae, RF_mse, RF_mae, DT_mse, DT_mae, LR_mse, LR_mae)"
   ]
  },
  {
   "cell_type": "code",
   "execution_count": null,
   "id": "720f278d",
   "metadata": {},
   "outputs": [],
   "source": [
    "M1_mse = M1_mse + Val_mse\n",
    "M1_mae = M1_mae + Val_mae\n",
    "\n",
    "W_mse = W_mse + Val_mse\n",
    "W_mae = W_mae + Val_mae"
   ]
  },
  {
   "cell_type": "code",
   "execution_count": null,
   "id": "af6cab5c",
   "metadata": {},
   "outputs": [],
   "source": [
    "M1Count = M1Count + 1\n",
    "WCount = WCount + 1"
   ]
  },
  {
   "cell_type": "markdown",
   "id": "8d05d7f1",
   "metadata": {},
   "source": [
    "Mean squared error using decision tree:  35.37149025\n",
    "\n",
    "Mean absolute error using decision tree:  5.46175\n",
    "\n",
    "Mean squared error using Random Forest:  19.23394901477499\n",
    "\n",
    "Mean absolute error Using Random Forest:  3.589812499999998"
   ]
  },
  {
   "cell_type": "markdown",
   "id": "f03bd574",
   "metadata": {},
   "source": [
    "# 6 Month training 1 week predicition"
   ]
  },
  {
   "cell_type": "code",
   "execution_count": null,
   "id": "ffd94323",
   "metadata": {
    "scrolled": true
   },
   "outputs": [],
   "source": [
    "train = DataFrameDict['CA-506'].loc[DataFrameDict['CA-506']['connectionTime_year'] == 2019]\n",
    "\n",
    "train = train.loc[train['connectionTime_month'].isin([5,6,7,8,9,10])]"
   ]
  },
  {
   "cell_type": "code",
   "execution_count": null,
   "id": "40cd6e63",
   "metadata": {},
   "outputs": [],
   "source": [
    "test = DataFrameDict['CA-506'].loc[DataFrameDict['CA-506']['connectionTime_year'] == 2019]\n",
    "test = test.loc[test['connectionTime_month'] == 12]\n",
    "test = test.loc[test['connectionTime_day'].isin([1,2,3,4,5,6,7])]"
   ]
  },
  {
   "cell_type": "code",
   "execution_count": null,
   "id": "3e52ac73",
   "metadata": {},
   "outputs": [],
   "source": [
    "y_train = train['kWhDelivered']\n",
    "x_train = train.drop('kWhDelivered', axis=1)\n",
    "x_train = singleNumeric(x_train)\n",
    "y_train = singleNumeric(y_train)\n",
    "x_trainScaled = scaleData(x_train)"
   ]
  },
  {
   "cell_type": "code",
   "execution_count": null,
   "id": "1c795bae",
   "metadata": {},
   "outputs": [],
   "source": [
    "y_test = test['kWhDelivered']\n",
    "x_test = test.drop('kWhDelivered', axis=1)\n",
    "x_test = singleNumeric(x_test)\n",
    "y_test = singleNumeric(y_test)\n",
    "x_testScaled = scaleData(x_test)"
   ]
  },
  {
   "cell_type": "code",
   "execution_count": null,
   "id": "e3580775",
   "metadata": {
    "scrolled": true
   },
   "outputs": [],
   "source": [
    "ANN_mse, ANN_mae, CNN_mse, CNN_mae, RF_mse, RF_mae, DT_mse, DT_mae, LR_mse, LR_mae, Val_mse, Val_mae = models(x_train, y_train, x_trainScaled, x_test, y_test, x_testScaled, ANN_mse, ANN_mae, CNN_mse, CNN_mae, RF_mse, RF_mae, DT_mse, DT_mae, LR_mse, LR_mae)"
   ]
  },
  {
   "cell_type": "code",
   "execution_count": null,
   "id": "a39657a5",
   "metadata": {},
   "outputs": [],
   "source": [
    "M6_mse = M6_mse + Val_mse\n",
    "M6_mae = M6_mae + Val_mae\n",
    "W_mse = W_mse + Val_mse\n",
    "W_mae = W_mae + Val_mae"
   ]
  },
  {
   "cell_type": "code",
   "execution_count": null,
   "id": "c101c5e1",
   "metadata": {},
   "outputs": [],
   "source": [
    "M6Count = M6Count + 1\n",
    "WCount = WCount + 1"
   ]
  },
  {
   "cell_type": "markdown",
   "id": "1a81d143",
   "metadata": {},
   "source": [
    "Mean squared error from linear regression:  0.6408002499528751\n",
    "\n",
    "Mean absolute error from linear regression:  0.8004999999705653\n",
    "\n",
    "Mean squared error using decision tree:  1.8577690000000011\n",
    "\n",
    "Mean absolute error using decision tree:  1.3630000000000004\n",
    "\n",
    "Mean squared error using Random Forest:  2.1081007249000074\n",
    "\n",
    "Mean absolute error Using Random Forest:  1.4519300000000026"
   ]
  },
  {
   "cell_type": "markdown",
   "id": "f792bb7d",
   "metadata": {},
   "source": [
    "# Space 513"
   ]
  },
  {
   "cell_type": "markdown",
   "id": "a19ece7a",
   "metadata": {},
   "source": [
    "# 1 month of training data to predict the demand of 1 space for 1 day"
   ]
  },
  {
   "cell_type": "code",
   "execution_count": null,
   "id": "48f5885b",
   "metadata": {},
   "outputs": [],
   "source": [
    "train = DataFrameDict['CA-513'].loc[DataFrameDict['CA-513']['connectionTime_year'] == 2018]\n",
    "train = train.loc[train['connectionTime_month'] == 9]"
   ]
  },
  {
   "cell_type": "code",
   "execution_count": null,
   "id": "967a9d6e",
   "metadata": {},
   "outputs": [],
   "source": [
    "test = DataFrameDict['CA-513'].loc[DataFrameDict['CA-513']['connectionTime_year'] == 2018]\n",
    "test = test.loc[test['connectionTime_month'] == 10]\n",
    "test = test.loc[test['connectionTime_day'] == 1]"
   ]
  },
  {
   "cell_type": "code",
   "execution_count": null,
   "id": "f7beffab",
   "metadata": {},
   "outputs": [],
   "source": [
    "y_train = train['kWhDelivered']\n",
    "x_train = train.drop('kWhDelivered', axis=1)\n",
    "x_train = singleNumeric(x_train)\n",
    "y_train = singleNumeric(y_train)\n",
    "x_trainScaled = scaleData(x_train)"
   ]
  },
  {
   "cell_type": "code",
   "execution_count": null,
   "id": "1c0753a1",
   "metadata": {},
   "outputs": [],
   "source": [
    "y_test = test['kWhDelivered']\n",
    "x_test = test.drop('kWhDelivered', axis=1)\n",
    "x_test = singleNumeric(x_test)\n",
    "y_test = singleNumeric(y_test)\n",
    "x_testScaled = scaleData(x_test)"
   ]
  },
  {
   "cell_type": "code",
   "execution_count": null,
   "id": "87f9923b",
   "metadata": {
    "scrolled": true
   },
   "outputs": [],
   "source": [
    "ANN_mse, ANN_mae, CNN_mse, CNN_mae, RF_mse, RF_mae, DT_mse, DT_mae, LR_mse, LR_mae, Val_mse, Val_mae = models(x_train, y_train, x_trainScaled, x_test, y_test, x_testScaled, ANN_mse, ANN_mae, CNN_mse, CNN_mae, RF_mse, RF_mae, DT_mse, DT_mae, LR_mse, LR_mae)"
   ]
  },
  {
   "cell_type": "code",
   "execution_count": null,
   "id": "999f6428",
   "metadata": {},
   "outputs": [],
   "source": [
    "M1_mse = M1_mse + Val_mse\n",
    "M1_mae = M1_mae + Val_mae\n",
    "\n",
    "D_mse = D_mse + Val_mse\n",
    "D_mae = D_mae + Val_mae"
   ]
  },
  {
   "cell_type": "code",
   "execution_count": null,
   "id": "a3fb8188",
   "metadata": {
    "scrolled": false
   },
   "outputs": [],
   "source": [
    "M1Count = M1Count + 1\n",
    "DCount = DCount + 1"
   ]
  },
  {
   "cell_type": "markdown",
   "id": "91673f3a",
   "metadata": {},
   "source": [
    "Mean squared error from neural net: \n",
    " 3.1444361209869385\n",
    "\n",
    "Mean absolute error from neural net: \n",
    " 1.7732558250427246\n",
    "\n",
    " Mean squared error from linear regression:  7.335069444498013\n",
    "\n",
    "Mean absolute error from linear regression:  2.708333333343223"
   ]
  },
  {
   "cell_type": "markdown",
   "id": "78f044e3",
   "metadata": {},
   "source": [
    "# 1 Month to predict 1 week"
   ]
  },
  {
   "cell_type": "code",
   "execution_count": null,
   "id": "e847d3d1",
   "metadata": {},
   "outputs": [],
   "source": [
    "train = DataFrameDict['CA-513'].loc[DataFrameDict['CA-513']['connectionTime_month'] == 5]\n",
    "train = train.loc[train['connectionTime_year'] == 2018]"
   ]
  },
  {
   "cell_type": "code",
   "execution_count": null,
   "id": "a753ac57",
   "metadata": {
    "scrolled": true
   },
   "outputs": [],
   "source": [
    "test = DataFrameDict['CA-513'].loc[DataFrameDict['CA-513']['connectionTime_year'] == 2018]\n",
    "test = test.loc[test['connectionTime_month'] == 6]\n",
    "test = test.loc[test['connectionTime_day'].isin([1,2,3,4,5,6,7])]"
   ]
  },
  {
   "cell_type": "code",
   "execution_count": null,
   "id": "9c7423f4",
   "metadata": {},
   "outputs": [],
   "source": [
    "y_train = train['kWhDelivered']\n",
    "x_train = train.drop('kWhDelivered', axis=1)\n",
    "x_train = singleNumeric(x_train)\n",
    "y_train = singleNumeric(y_train)\n",
    "x_trainScaled = scaleData(x_train)"
   ]
  },
  {
   "cell_type": "code",
   "execution_count": null,
   "id": "468de0a6",
   "metadata": {},
   "outputs": [],
   "source": [
    "y_test = test['kWhDelivered']\n",
    "x_test = test.drop('kWhDelivered', axis=1)\n",
    "x_test = singleNumeric(x_test)\n",
    "y_test = singleNumeric(y_test)\n",
    "x_testScaled = scaleData(x_test)"
   ]
  },
  {
   "cell_type": "code",
   "execution_count": null,
   "id": "194c1e4b",
   "metadata": {
    "scrolled": true
   },
   "outputs": [],
   "source": [
    "ANN_mse, ANN_mae, CNN_mse, CNN_mae, RF_mse, RF_mae, DT_mse, DT_mae, LR_mse, LR_mae, Val_mse, Val_mae = models(x_train, y_train, x_trainScaled, x_test, y_test, x_testScaled, ANN_mse, ANN_mae, CNN_mse, CNN_mae, RF_mse, RF_mae, DT_mse, DT_mae, LR_mse, LR_mae)"
   ]
  },
  {
   "cell_type": "code",
   "execution_count": null,
   "id": "087253b7",
   "metadata": {},
   "outputs": [],
   "source": [
    "M1_mse = M1_mse + Val_mse\n",
    "M1_mae = M1_mae + Val_mae\n",
    "\n",
    "W_mse = W_mse + Val_mse\n",
    "W_mae = W_mae + Val_mae"
   ]
  },
  {
   "cell_type": "code",
   "execution_count": null,
   "id": "f93e184d",
   "metadata": {},
   "outputs": [],
   "source": [
    "M1Count = M1Count + 1\n",
    "WCount = WCount + 1"
   ]
  },
  {
   "cell_type": "markdown",
   "id": "f70453d4",
   "metadata": {},
   "source": [
    "Mean squared error using decision tree:  24.543271833333336\n",
    "\n",
    "Mean absolute error using decision tree:  3.8541666666666665\n",
    "\n",
    "Mean squared error using Random Forest:  15.096384583916661\n",
    "\n",
    "Mean absolute error Using Random Forest:  3.297375000000001\n"
   ]
  },
  {
   "cell_type": "markdown",
   "id": "1bda9929",
   "metadata": {},
   "source": [
    "# 6 Month training 1 week predicition"
   ]
  },
  {
   "cell_type": "code",
   "execution_count": null,
   "id": "99c3072e",
   "metadata": {
    "scrolled": true
   },
   "outputs": [],
   "source": [
    "train = DataFrameDict['CA-513'].loc[DataFrameDict['CA-513']['connectionTime_year'] == 2018]\n",
    "\n",
    "train = train.loc[train['connectionTime_month'].isin([4,5,6,7,8,9])]"
   ]
  },
  {
   "cell_type": "code",
   "execution_count": null,
   "id": "8a5c021f",
   "metadata": {},
   "outputs": [],
   "source": [
    "test = DataFrameDict['CA-513'].loc[DataFrameDict['CA-513']['connectionTime_year'] == 2018]\n",
    "test = test.loc[test['connectionTime_month'] == 10]\n",
    "test = test.loc[test['connectionTime_day'].isin([1,2,3,4,5,6,7])]"
   ]
  },
  {
   "cell_type": "code",
   "execution_count": null,
   "id": "c9cb2a6c",
   "metadata": {},
   "outputs": [],
   "source": [
    "y_train = train['kWhDelivered']\n",
    "x_train = train.drop('kWhDelivered', axis=1)\n",
    "x_train = singleNumeric(x_train)\n",
    "y_train = singleNumeric(y_train)\n",
    "x_trainScaled = scaleData(x_train)"
   ]
  },
  {
   "cell_type": "code",
   "execution_count": null,
   "id": "e3be17e7",
   "metadata": {},
   "outputs": [],
   "source": [
    "y_test = test['kWhDelivered']\n",
    "x_test = test.drop('kWhDelivered', axis=1)\n",
    "x_test = singleNumeric(x_test)\n",
    "y_test = singleNumeric(y_test)\n",
    "x_testScaled = scaleData(x_test)"
   ]
  },
  {
   "cell_type": "code",
   "execution_count": null,
   "id": "c6817fe3",
   "metadata": {
    "scrolled": true
   },
   "outputs": [],
   "source": [
    "ANN_mse, ANN_mae, CNN_mse, CNN_mae, RF_mse, RF_mae, DT_mse, DT_mae, LR_mse, LR_mae, Val_mse, Val_mae = models(x_train, y_train, x_trainScaled, x_test, y_test, x_testScaled, ANN_mse, ANN_mae, CNN_mse, CNN_mae, RF_mse, RF_mae, DT_mse, DT_mae, LR_mse, LR_mae)"
   ]
  },
  {
   "cell_type": "code",
   "execution_count": null,
   "id": "067add73",
   "metadata": {},
   "outputs": [],
   "source": [
    "M6_mse = M6_mse + Val_mse\n",
    "M6_mae = M6_mae + Val_mae\n",
    "\n",
    "W_mse = W_mse + Val_mse\n",
    "W_mae = W_mae + Val_mae"
   ]
  },
  {
   "cell_type": "code",
   "execution_count": null,
   "id": "b387d4c6",
   "metadata": {},
   "outputs": [],
   "source": [
    "M6Count = M6Count + 1\n",
    "WCount = WCount + 1"
   ]
  },
  {
   "cell_type": "markdown",
   "id": "c52af29a",
   "metadata": {},
   "source": [
    "Mean squared error from neural net: \n",
    " 12.183110237121582\n",
    "\n",
    "Mean absolute error from neural net: \n",
    " 2.9759104251861572\n",
    "\n",
    " Mean squared error using Random Forest:  6.5244852854166595\n",
    "\n",
    "Mean absolute error Using Random Forest:  2.207621666666666"
   ]
  },
  {
   "cell_type": "markdown",
   "id": "b39ac79d",
   "metadata": {},
   "source": [
    "# Space CA-212"
   ]
  },
  {
   "cell_type": "markdown",
   "id": "aa876d77",
   "metadata": {},
   "source": [
    "# 1 month of training data to predict the demand of 1 space for 1 day"
   ]
  },
  {
   "cell_type": "code",
   "execution_count": null,
   "id": "cac8df85",
   "metadata": {},
   "outputs": [],
   "source": [
    "train = DataFrameDict['CA-212'].loc[DataFrameDict['CA-212']['connectionTime_year'] == 2020]\n",
    "train = train.loc[train['connectionTime_month'] == 1]"
   ]
  },
  {
   "cell_type": "code",
   "execution_count": null,
   "id": "d4dbcf2e",
   "metadata": {},
   "outputs": [],
   "source": [
    "test = DataFrameDict['CA-212'].loc[DataFrameDict['CA-212']['connectionTime_year'] == 2020]\n",
    "test = test.loc[test['connectionTime_month'] == 2]\n",
    "test = test.loc[test['connectionTime_day'] == 1]"
   ]
  },
  {
   "cell_type": "code",
   "execution_count": null,
   "id": "705c7c78",
   "metadata": {},
   "outputs": [],
   "source": [
    "y_train = train['kWhDelivered']\n",
    "x_train = train.drop('kWhDelivered', axis=1)\n",
    "x_train = singleNumeric(x_train)\n",
    "y_train = singleNumeric(y_train)\n",
    "x_trainScaled = scaleData(x_train)"
   ]
  },
  {
   "cell_type": "code",
   "execution_count": null,
   "id": "4044365c",
   "metadata": {},
   "outputs": [],
   "source": [
    "y_test = test['kWhDelivered']\n",
    "x_test = test.drop('kWhDelivered', axis=1)\n",
    "x_test = singleNumeric(x_test)\n",
    "y_test = singleNumeric(y_test)\n",
    "x_testScaled = scaleData(x_test)"
   ]
  },
  {
   "cell_type": "code",
   "execution_count": null,
   "id": "95a2fcfe",
   "metadata": {
    "scrolled": true
   },
   "outputs": [],
   "source": [
    "ANN_mse, ANN_mae, CNN_mse, CNN_mae, RF_mse, RF_mae, DT_mse, DT_mae, LR_mse, LR_mae, Val_mse, Val_mae = models(x_train, y_train, x_trainScaled, x_test, y_test, x_testScaled, ANN_mse, ANN_mae, CNN_mse, CNN_mae, RF_mse, RF_mae, DT_mse, DT_mae, LR_mse, LR_mae)"
   ]
  },
  {
   "cell_type": "code",
   "execution_count": null,
   "id": "b91c7a21",
   "metadata": {},
   "outputs": [],
   "source": [
    "M1_mse = M1_mse + Val_mse\n",
    "M1_mae = M1_mae + Val_mae\n",
    "\n",
    "D_mse = D_mse + Val_mse\n",
    "D_mae = D_mae + Val_mae"
   ]
  },
  {
   "cell_type": "code",
   "execution_count": null,
   "id": "ed7bd653",
   "metadata": {
    "scrolled": false
   },
   "outputs": [],
   "source": [
    "M1Count = M1Count + 1\n",
    "DCount = DCount + 1"
   ]
  },
  {
   "cell_type": "markdown",
   "id": "8bbb64ed",
   "metadata": {},
   "source": [
    "Mean squared error from Convolutional neural net:  0.024963997304439545\n",
    "\n",
    "Mean absolute error from Convolutional neural net:  0.15799999237060547\n",
    "\n",
    "Mean squared error using decision tree:  0.027224999999999975\n",
    "\n",
    "Mean absolute error using decision tree:  0.16499999999999992"
   ]
  },
  {
   "cell_type": "markdown",
   "id": "1326185c",
   "metadata": {},
   "source": [
    "# 1 Month to predict 1 week"
   ]
  },
  {
   "cell_type": "code",
   "execution_count": null,
   "id": "09b77385",
   "metadata": {},
   "outputs": [],
   "source": [
    "train = DataFrameDict['CA-212'].loc[DataFrameDict['CA-212']['connectionTime_month'] == 9]\n",
    "train = train.loc[train['connectionTime_year'] == 2018]"
   ]
  },
  {
   "cell_type": "code",
   "execution_count": null,
   "id": "6e5c2f0e",
   "metadata": {
    "scrolled": true
   },
   "outputs": [],
   "source": [
    "test = DataFrameDict['CA-212'].loc[DataFrameDict['CA-212']['connectionTime_year'] == 2018]\n",
    "test = test.loc[test['connectionTime_month'] == 10]\n",
    "test = test.loc[test['connectionTime_day'].isin([1,2,3,4,5,6,7])]"
   ]
  },
  {
   "cell_type": "code",
   "execution_count": null,
   "id": "4a0a7589",
   "metadata": {},
   "outputs": [],
   "source": [
    "y_train = train['kWhDelivered']\n",
    "x_train = train.drop('kWhDelivered', axis=1)\n",
    "x_train = singleNumeric(x_train)\n",
    "y_train = singleNumeric(y_train)\n",
    "x_trainScaled = scaleData(x_train)"
   ]
  },
  {
   "cell_type": "code",
   "execution_count": null,
   "id": "3538438f",
   "metadata": {},
   "outputs": [],
   "source": [
    "y_test = test['kWhDelivered']\n",
    "x_test = test.drop('kWhDelivered', axis=1)\n",
    "x_test = singleNumeric(x_test)\n",
    "y_test = singleNumeric(y_test)\n",
    "x_testScaled = scaleData(x_test)"
   ]
  },
  {
   "cell_type": "code",
   "execution_count": null,
   "id": "9df124b1",
   "metadata": {
    "scrolled": true
   },
   "outputs": [],
   "source": [
    "ANN_mse, ANN_mae, CNN_mse, CNN_mae, RF_mse, RF_mae, DT_mse, DT_mae, LR_mse, LR_mae, Val_mse, Val_mae = models(x_train, y_train, x_trainScaled, x_test, y_test, x_testScaled, ANN_mse, ANN_mae, CNN_mse, CNN_mae, RF_mse, RF_mae, DT_mse, DT_mae, LR_mse, LR_mae)"
   ]
  },
  {
   "cell_type": "code",
   "execution_count": null,
   "id": "6a1fd6de",
   "metadata": {},
   "outputs": [],
   "source": [
    "M1_mse = M1_mse + Val_mse\n",
    "M1_mae = M1_mae + Val_mae\n",
    "\n",
    "W_mse = W_mse + Val_mse\n",
    "W_mae = W_mae + Val_mae"
   ]
  },
  {
   "cell_type": "code",
   "execution_count": null,
   "id": "8b700103",
   "metadata": {},
   "outputs": [],
   "source": [
    "M1Count = M1Count + 1\n",
    "WCount = WCount + 1"
   ]
  },
  {
   "cell_type": "markdown",
   "id": "b9f5c472",
   "metadata": {},
   "source": [
    "Mean squared error using decision tree:  44.092632864562965\n",
    "\n",
    "Mean absolute error using decision tree:  5.49582888888889\n",
    "\n",
    "Mean squared error using Random Forest:  28.01973215874843\n",
    "\n",
    "Mean absolute error Using Random Forest:  4.55962271111111"
   ]
  },
  {
   "cell_type": "markdown",
   "id": "bc40440e",
   "metadata": {},
   "source": [
    "# 6 Month training 1 week predicition"
   ]
  },
  {
   "cell_type": "code",
   "execution_count": null,
   "id": "65345568",
   "metadata": {
    "scrolled": true
   },
   "outputs": [],
   "source": [
    "train = DataFrameDict['CA-212'].loc[DataFrameDict['CA-212']['connectionTime_year'] == 2019]\n",
    "\n",
    "train = train.loc[train['connectionTime_month'].isin([1,2,3,4,5,6])]"
   ]
  },
  {
   "cell_type": "code",
   "execution_count": null,
   "id": "26dcb3d6",
   "metadata": {},
   "outputs": [],
   "source": [
    "test = DataFrameDict['CA-212'].loc[DataFrameDict['CA-212']['connectionTime_year'] == 2019]\n",
    "test = test.loc[test['connectionTime_month'] == 7]\n",
    "test = test.loc[test['connectionTime_day'].isin([1,2,3,4,5,6,7])]"
   ]
  },
  {
   "cell_type": "code",
   "execution_count": null,
   "id": "5a8f9251",
   "metadata": {},
   "outputs": [],
   "source": [
    "y_train = train['kWhDelivered']\n",
    "x_train = train.drop('kWhDelivered', axis=1)\n",
    "x_train = singleNumeric(x_train)\n",
    "y_train = singleNumeric(y_train)\n",
    "x_trainScaled = scaleData(x_train)"
   ]
  },
  {
   "cell_type": "code",
   "execution_count": null,
   "id": "2fcd4481",
   "metadata": {},
   "outputs": [],
   "source": [
    "y_test = test['kWhDelivered']\n",
    "x_test = test.drop('kWhDelivered', axis=1)\n",
    "x_test = singleNumeric(x_test)\n",
    "y_test = singleNumeric(y_test)\n",
    "x_testScaled = scaleData(x_test)"
   ]
  },
  {
   "cell_type": "code",
   "execution_count": null,
   "id": "c22faef2",
   "metadata": {
    "scrolled": true
   },
   "outputs": [],
   "source": [
    "ANN_mse, ANN_mae, CNN_mse, CNN_mae, RF_mse, RF_mae, DT_mse, DT_mae, LR_mse, LR_mae, Val_mse, Val_mae = models(x_train, y_train, x_trainScaled, x_test, y_test, x_testScaled, ANN_mse, ANN_mae, CNN_mse, CNN_mae, RF_mse, RF_mae, DT_mse, DT_mae, LR_mse, LR_mae)"
   ]
  },
  {
   "cell_type": "code",
   "execution_count": null,
   "id": "d0a4bca5",
   "metadata": {},
   "outputs": [],
   "source": [
    "M6_mse = M6_mse + Val_mse\n",
    "M6_mae = M6_mae + Val_mae\n",
    "\n",
    "W_mse = W_mse + Val_mse\n",
    "W_mae = W_mae + Val_mae"
   ]
  },
  {
   "cell_type": "code",
   "execution_count": null,
   "id": "fd35f8d9",
   "metadata": {},
   "outputs": [],
   "source": [
    "M6Count = M6Count + 1\n",
    "WCount = WCount + 1"
   ]
  },
  {
   "cell_type": "markdown",
   "id": "2a81fc60",
   "metadata": {},
   "source": [
    "Mean squared error from neural net: \n",
    " 14.158452033996582\n",
    "\n",
    "Mean absolute error from neural net: \n",
    " 3.7627718448638916\n",
    "\n",
    "Mean squared error from Convolutional neural net:  1.0274161100387573\n",
    "\n",
    "Mean absolute error from Convolutional neural net:  1.013615369796753\n",
    "\n",
    "Mean squared error using decision tree:  0.01742399999999997\n",
    "\n",
    "Mean absolute error using decision tree:  0.1319999999999999\n"
   ]
  },
  {
   "cell_type": "markdown",
   "id": "13e02caa",
   "metadata": {},
   "source": [
    "# Space CA-310"
   ]
  },
  {
   "cell_type": "markdown",
   "id": "4ee6504a",
   "metadata": {},
   "source": [
    "# 1 month of training data to predict the demand of 1 space for 1 day"
   ]
  },
  {
   "cell_type": "code",
   "execution_count": null,
   "id": "56fbf51c",
   "metadata": {},
   "outputs": [],
   "source": [
    "train = DataFrameDict['CA-310'].loc[DataFrameDict['CA-310']['connectionTime_year'] == 2019]\n",
    "train = train.loc[train['connectionTime_month'] == 1]"
   ]
  },
  {
   "cell_type": "code",
   "execution_count": null,
   "id": "8d6a106b",
   "metadata": {},
   "outputs": [],
   "source": [
    "test = DataFrameDict['CA-310'].loc[DataFrameDict['CA-310']['connectionTime_year'] == 2019]\n",
    "test = test.loc[test['connectionTime_month'] == 2]\n",
    "test = test.loc[test['connectionTime_day'] == 1]"
   ]
  },
  {
   "cell_type": "code",
   "execution_count": null,
   "id": "72ee60c5",
   "metadata": {},
   "outputs": [],
   "source": [
    "y_train = train['kWhDelivered']\n",
    "x_train = train.drop('kWhDelivered', axis=1)\n",
    "x_train = singleNumeric(x_train)\n",
    "y_train = singleNumeric(y_train)\n",
    "x_trainScaled = scaleData(x_train)"
   ]
  },
  {
   "cell_type": "code",
   "execution_count": null,
   "id": "7834ab94",
   "metadata": {},
   "outputs": [],
   "source": [
    "y_test = test['kWhDelivered']\n",
    "x_test = test.drop('kWhDelivered', axis=1)\n",
    "x_test = singleNumeric(x_test)\n",
    "y_test = singleNumeric(y_test)\n",
    "x_testScaled = scaleData(x_test)"
   ]
  },
  {
   "cell_type": "code",
   "execution_count": null,
   "id": "bf94b590",
   "metadata": {
    "scrolled": true
   },
   "outputs": [],
   "source": [
    "ANN_mse, ANN_mae, CNN_mse, CNN_mae, RF_mse, RF_mae, DT_mse, DT_mae, LR_mse, LR_mae, Val_mse, Val_mae = models(x_train, y_train, x_trainScaled, x_test, y_test, x_testScaled, ANN_mse, ANN_mae, CNN_mse, CNN_mae, RF_mse, RF_mae, DT_mse, DT_mae, LR_mse, LR_mae)"
   ]
  },
  {
   "cell_type": "code",
   "execution_count": null,
   "id": "e7045495",
   "metadata": {},
   "outputs": [],
   "source": [
    "M1_mse = M1_mse + Val_mse\n",
    "M1_mae = M1_mae + Val_mae\n",
    "\n",
    "D_mse = D_mse + Val_mse\n",
    "D_mae = D_mae + Val_mae"
   ]
  },
  {
   "cell_type": "code",
   "execution_count": null,
   "id": "9b9488bd",
   "metadata": {
    "scrolled": false
   },
   "outputs": [],
   "source": [
    "M1Count = M1Count + 1\n",
    "DCount = DCount + 1"
   ]
  },
  {
   "cell_type": "markdown",
   "id": "84833b40",
   "metadata": {},
   "source": [
    "Mean squared error from neural net: \n",
    " 1.3893907070159912\n",
    "\n",
    "Mean absolute error from neural net: \n",
    " 1.1787241697311401\n",
    "\n",
    "Mean squared error from Convolutional neural net:  2.128356695175171\n",
    "\n",
    "Mean absolute error from Convolutional neural net:  1.4588888883590698\n"
   ]
  },
  {
   "cell_type": "markdown",
   "id": "c68c1c66",
   "metadata": {},
   "source": [
    "# 1 Month to predict 1 week"
   ]
  },
  {
   "cell_type": "code",
   "execution_count": null,
   "id": "eec8499d",
   "metadata": {},
   "outputs": [],
   "source": [
    "train = DataFrameDict['CA-310'].loc[DataFrameDict['CA-310']['connectionTime_month'] == 6]\n",
    "train = train.loc[train['connectionTime_year'] == 2018]"
   ]
  },
  {
   "cell_type": "code",
   "execution_count": null,
   "id": "31b05260",
   "metadata": {
    "scrolled": true
   },
   "outputs": [],
   "source": [
    "test = DataFrameDict['CA-310'].loc[DataFrameDict['CA-310']['connectionTime_year'] == 2018]\n",
    "test = test.loc[test['connectionTime_month'] == 7]\n",
    "test = test.loc[test['connectionTime_day'].isin([1,2,3,4,5,6,7])]"
   ]
  },
  {
   "cell_type": "code",
   "execution_count": null,
   "id": "8a9c78ae",
   "metadata": {},
   "outputs": [],
   "source": [
    "y_train = train['kWhDelivered']\n",
    "x_train = train.drop('kWhDelivered', axis=1)\n",
    "x_train = singleNumeric(x_train)\n",
    "y_train = singleNumeric(y_train)\n",
    "x_trainScaled = scaleData(x_train)"
   ]
  },
  {
   "cell_type": "code",
   "execution_count": null,
   "id": "8d5fc139",
   "metadata": {},
   "outputs": [],
   "source": [
    "y_test = test['kWhDelivered']\n",
    "x_test = test.drop('kWhDelivered', axis=1)\n",
    "x_test = singleNumeric(x_test)\n",
    "y_test = singleNumeric(y_test)\n",
    "x_testScaled = scaleData(x_test)"
   ]
  },
  {
   "cell_type": "code",
   "execution_count": null,
   "id": "d4b20ec0",
   "metadata": {
    "scrolled": true
   },
   "outputs": [],
   "source": [
    "ANN_mse, ANN_mae, CNN_mse, CNN_mae, RF_mse, RF_mae, DT_mse, DT_mae, LR_mse, LR_mae, Val_mse, Val_mae = models(x_train, y_train, x_trainScaled, x_test, y_test, x_testScaled, ANN_mse, ANN_mae, CNN_mse, CNN_mae, RF_mse, RF_mae, DT_mse, DT_mae, LR_mse, LR_mae)"
   ]
  },
  {
   "cell_type": "code",
   "execution_count": null,
   "id": "67b5ee43",
   "metadata": {},
   "outputs": [],
   "source": [
    "M1_mse = M1_mse + Val_mse\n",
    "M1_mae = M1_mae + Val_mae\n",
    "\n",
    "W_mse = W_mse + Val_mse\n",
    "W_mae = W_mae + Val_mae"
   ]
  },
  {
   "cell_type": "code",
   "execution_count": null,
   "id": "5be95989",
   "metadata": {},
   "outputs": [],
   "source": [
    "M1Count = M1Count + 1\n",
    "WCount = WCount + 1"
   ]
  },
  {
   "cell_type": "markdown",
   "id": "4f94c178",
   "metadata": {},
   "source": [
    "Mean squared error from neural net: \n",
    " 19.804462432861328\n",
    "\n",
    "Mean absolute error from neural net: \n",
    " 3.8296382427215576\n",
    "\n",
    " Mean squared error using Random Forest:  24.197209009119984\n",
    "\n",
    "Mean absolute error Using Random Forest:  4.2202699999999975"
   ]
  },
  {
   "cell_type": "markdown",
   "id": "d8a35c03",
   "metadata": {},
   "source": [
    "# 6 Month training 1 week predicition"
   ]
  },
  {
   "cell_type": "code",
   "execution_count": null,
   "id": "48bc7e84",
   "metadata": {
    "scrolled": true
   },
   "outputs": [],
   "source": [
    "train = DataFrameDict['CA-310'].loc[DataFrameDict['CA-310']['connectionTime_year'] == 2019]\n",
    "\n",
    "train = train.loc[train['connectionTime_month'].isin([1,2,3,4,5,6])]"
   ]
  },
  {
   "cell_type": "code",
   "execution_count": null,
   "id": "594bdb8d",
   "metadata": {},
   "outputs": [],
   "source": [
    "test = DataFrameDict['CA-310'].loc[DataFrameDict['CA-310']['connectionTime_year'] == 2019]\n",
    "test = test.loc[test['connectionTime_month'] == 7]\n",
    "test = test.loc[test['connectionTime_day'].isin([1,2,3,4,5,6,7])]"
   ]
  },
  {
   "cell_type": "code",
   "execution_count": null,
   "id": "8d901c03",
   "metadata": {},
   "outputs": [],
   "source": [
    "y_train = train['kWhDelivered']\n",
    "x_train = train.drop('kWhDelivered', axis=1)\n",
    "x_train = singleNumeric(x_train)\n",
    "y_train = singleNumeric(y_train)\n",
    "x_trainScaled = scaleData(x_train)"
   ]
  },
  {
   "cell_type": "code",
   "execution_count": null,
   "id": "f6271d49",
   "metadata": {},
   "outputs": [],
   "source": [
    "y_test = test['kWhDelivered']\n",
    "x_test = test.drop('kWhDelivered', axis=1)\n",
    "x_test = singleNumeric(x_test)\n",
    "y_test = singleNumeric(y_test)\n",
    "x_testScaled = scaleData(x_test)"
   ]
  },
  {
   "cell_type": "code",
   "execution_count": null,
   "id": "985da529",
   "metadata": {
    "scrolled": true
   },
   "outputs": [],
   "source": [
    "ANN_mse, ANN_mae, CNN_mse, CNN_mae, RF_mse, RF_mae, DT_mse, DT_mae, LR_mse, LR_mae, Val_mse, Val_mae = models(x_train, y_train, x_trainScaled, x_test, y_test, x_testScaled, ANN_mse, ANN_mae, CNN_mse, CNN_mae, RF_mse, RF_mae, DT_mse, DT_mae, LR_mse, LR_mae)"
   ]
  },
  {
   "cell_type": "code",
   "execution_count": null,
   "id": "07cf121c",
   "metadata": {},
   "outputs": [],
   "source": [
    "M6_mse = M6_mse + Val_mse\n",
    "M6_mae = M6_mae + Val_mae\n",
    "\n",
    "W_mse = W_mse + Val_mse\n",
    "W_mae = W_mae + Val_mae"
   ]
  },
  {
   "cell_type": "code",
   "execution_count": null,
   "id": "ba53252e",
   "metadata": {},
   "outputs": [],
   "source": [
    "M6Count = M6Count + 1\n",
    "WCount = WCount + 1"
   ]
  },
  {
   "cell_type": "markdown",
   "id": "17256e52",
   "metadata": {},
   "source": [
    "Mean squared error from linear regression:  42.89464035915136\n",
    "\n",
    "Mean absolute error from linear regression:  6.549399999935212\n",
    "\n",
    "Mean squared error using decision tree:  2.402500000000002\n",
    "\n",
    "Mean absolute error using decision tree:  1.5500000000000007"
   ]
  },
  {
   "cell_type": "markdown",
   "id": "41a41c59",
   "metadata": {},
   "source": [
    "# Space CA-149"
   ]
  },
  {
   "cell_type": "markdown",
   "id": "071d9bcf",
   "metadata": {},
   "source": [
    "# 1 month of training data to predict the demand of 1 space for 1 day"
   ]
  },
  {
   "cell_type": "code",
   "execution_count": null,
   "id": "830a5621",
   "metadata": {},
   "outputs": [],
   "source": [
    "train = DataFrameDict['CA-149'].loc[DataFrameDict['CA-149']['connectionTime_year'] == 2018]\n",
    "train = train.loc[train['connectionTime_month'] == 10]"
   ]
  },
  {
   "cell_type": "code",
   "execution_count": null,
   "id": "20661aa9",
   "metadata": {},
   "outputs": [],
   "source": [
    "test = DataFrameDict['CA-149'].loc[DataFrameDict['CA-149']['connectionTime_year'] == 2018]\n",
    "test = test.loc[test['connectionTime_month'] == 11]\n",
    "test = test.loc[test['connectionTime_day'] == 1]"
   ]
  },
  {
   "cell_type": "code",
   "execution_count": null,
   "id": "a1442cd0",
   "metadata": {},
   "outputs": [],
   "source": [
    "y_train = train['kWhDelivered']\n",
    "x_train = train.drop('kWhDelivered', axis=1)\n",
    "x_train = singleNumeric(x_train)\n",
    "y_train = singleNumeric(y_train)\n",
    "x_trainScaled = scaleData(x_train)"
   ]
  },
  {
   "cell_type": "code",
   "execution_count": null,
   "id": "d3f9bb7c",
   "metadata": {},
   "outputs": [],
   "source": [
    "y_test = test['kWhDelivered']\n",
    "x_test = test.drop('kWhDelivered', axis=1)\n",
    "x_test = singleNumeric(x_test)\n",
    "y_test = singleNumeric(y_test)\n",
    "x_testScaled = scaleData(x_test)"
   ]
  },
  {
   "cell_type": "code",
   "execution_count": null,
   "id": "df4ed1ea",
   "metadata": {
    "scrolled": true
   },
   "outputs": [],
   "source": [
    "ANN_mse, ANN_mae, CNN_mse, CNN_mae, RF_mse, RF_mae, DT_mse, DT_mae, LR_mse, LR_mae, Val_mse, Val_mae = models(x_train, y_train, x_trainScaled, x_test, y_test, x_testScaled, ANN_mse, ANN_mae, CNN_mse, CNN_mae, RF_mse, RF_mae, DT_mse, DT_mae, LR_mse, LR_mae)"
   ]
  },
  {
   "cell_type": "code",
   "execution_count": null,
   "id": "5a3cfa60",
   "metadata": {},
   "outputs": [],
   "source": [
    "M1_mse = M1_mse + Val_mse\n",
    "M1_mae = M1_mae + Val_mae\n",
    "\n",
    "D_mse = D_mse + Val_mse\n",
    "D_mae = D_mae + Val_mae"
   ]
  },
  {
   "cell_type": "code",
   "execution_count": null,
   "id": "1b76f5bb",
   "metadata": {
    "scrolled": false
   },
   "outputs": [],
   "source": [
    "M1Count = M1Count + 1\n",
    "DCount = DCount + 1"
   ]
  },
  {
   "cell_type": "markdown",
   "id": "bdc416f0",
   "metadata": {},
   "source": [
    "Mean squared error from neural net: \n",
    " 0.05114017054438591\n",
    "\n",
    "Mean absolute error from neural net: \n",
    " 0.22614192962646484\n",
    "\n",
    " Mean squared error using Random Forest:  6.310344961599997\n",
    "\n",
    "Mean absolute error Using Random Forest:  2.5120399999999994"
   ]
  },
  {
   "cell_type": "markdown",
   "id": "8e72c417",
   "metadata": {},
   "source": [
    "# 1 Month to predict 1 week"
   ]
  },
  {
   "cell_type": "code",
   "execution_count": null,
   "id": "64d084eb",
   "metadata": {},
   "outputs": [],
   "source": [
    "train = DataFrameDict['CA-149'].loc[DataFrameDict['CA-149']['connectionTime_month'] == 6]\n",
    "train = train.loc[train['connectionTime_year'] == 2018]"
   ]
  },
  {
   "cell_type": "code",
   "execution_count": null,
   "id": "f2500f4c",
   "metadata": {
    "scrolled": true
   },
   "outputs": [],
   "source": [
    "test = DataFrameDict['CA-149'].loc[DataFrameDict['CA-149']['connectionTime_year'] == 2018]\n",
    "test = test.loc[test['connectionTime_month'] == 7]\n",
    "test = test.loc[test['connectionTime_day'].isin([1,2,3,4,5,6,7])]"
   ]
  },
  {
   "cell_type": "code",
   "execution_count": null,
   "id": "3ae0b357",
   "metadata": {},
   "outputs": [],
   "source": [
    "y_train = train['kWhDelivered']\n",
    "x_train = train.drop('kWhDelivered', axis=1)\n",
    "x_train = singleNumeric(x_train)\n",
    "y_train = singleNumeric(y_train)\n",
    "x_trainScaled = scaleData(x_train)"
   ]
  },
  {
   "cell_type": "code",
   "execution_count": null,
   "id": "73a0ed0f",
   "metadata": {},
   "outputs": [],
   "source": [
    "y_test = test['kWhDelivered']\n",
    "x_test = test.drop('kWhDelivered', axis=1)\n",
    "x_test = singleNumeric(x_test)\n",
    "y_test = singleNumeric(y_test)\n",
    "x_testScaled = scaleData(x_test)"
   ]
  },
  {
   "cell_type": "code",
   "execution_count": null,
   "id": "eca4e1fc",
   "metadata": {
    "scrolled": true
   },
   "outputs": [],
   "source": [
    "ANN_mse, ANN_mae, CNN_mse, CNN_mae, RF_mse, RF_mae, DT_mse, DT_mae, LR_mse, LR_mae, Val_mse, Val_mae = models(x_train, y_train, x_trainScaled, x_test, y_test, x_testScaled, ANN_mse, ANN_mae, CNN_mse, CNN_mae, RF_mse, RF_mae, DT_mse, DT_mae, LR_mse, LR_mae)"
   ]
  },
  {
   "cell_type": "code",
   "execution_count": null,
   "id": "5a2b4c0f",
   "metadata": {},
   "outputs": [],
   "source": [
    "M1_mse = M1_mse + Val_mse\n",
    "M1_mae = M1_mae + Val_mae\n",
    "\n",
    "W_mse = W_mse + Val_mse\n",
    "W_mae = W_mae + Val_mae"
   ]
  },
  {
   "cell_type": "code",
   "execution_count": null,
   "id": "041fddaf",
   "metadata": {},
   "outputs": [],
   "source": [
    "M1Count = M1Count + 1\n",
    "WCount = WCount + 1"
   ]
  },
  {
   "cell_type": "markdown",
   "id": "608ab10c",
   "metadata": {},
   "source": [
    "Mean squared error from neural net: \n",
    " 341.9559631347656\n",
    "\n",
    "Mean absolute error from neural net: \n",
    " 11.07658863067627\n",
    "\n",
    " \n",
    "Mean squared error using Random Forest:  332.3196518386749\n",
    "\n",
    "Mean absolute error Using Random Forest:  12.410937499999996\n"
   ]
  },
  {
   "cell_type": "markdown",
   "id": "34f9a8e6",
   "metadata": {},
   "source": [
    "# 6 Month training 1 week predicition"
   ]
  },
  {
   "cell_type": "code",
   "execution_count": null,
   "id": "2bd89851",
   "metadata": {
    "scrolled": true
   },
   "outputs": [],
   "source": [
    "train = DataFrameDict['CA-149'].loc[DataFrameDict['CA-149']['connectionTime_year'] == 2018]\n",
    "\n",
    "train = train.loc[train['connectionTime_month'].isin([1,2,3,4,5,6])]"
   ]
  },
  {
   "cell_type": "code",
   "execution_count": null,
   "id": "5c6ee93f",
   "metadata": {},
   "outputs": [],
   "source": [
    "test = DataFrameDict['CA-149'].loc[DataFrameDict['CA-149']['connectionTime_year'] == 2018]\n",
    "test = test.loc[test['connectionTime_month'] == 7]\n",
    "test = test.loc[test['connectionTime_day'].isin([1,2,3,4,5,6,7])]"
   ]
  },
  {
   "cell_type": "code",
   "execution_count": null,
   "id": "264ac791",
   "metadata": {},
   "outputs": [],
   "source": [
    "y_train = train['kWhDelivered']\n",
    "x_train = train.drop('kWhDelivered', axis=1)\n",
    "x_train = singleNumeric(x_train)\n",
    "y_train = singleNumeric(y_train)\n",
    "x_trainScaled = scaleData(x_train)"
   ]
  },
  {
   "cell_type": "code",
   "execution_count": null,
   "id": "e44e7d08",
   "metadata": {},
   "outputs": [],
   "source": [
    "y_test = test['kWhDelivered']\n",
    "x_test = test.drop('kWhDelivered', axis=1)\n",
    "x_test = singleNumeric(x_test)\n",
    "y_test = singleNumeric(y_test)\n",
    "x_testScaled = scaleData(x_test)"
   ]
  },
  {
   "cell_type": "code",
   "execution_count": null,
   "id": "cd835b76",
   "metadata": {
    "scrolled": true
   },
   "outputs": [],
   "source": [
    "ANN_mse, ANN_mae, CNN_mse, CNN_mae, RF_mse, RF_mae, DT_mse, DT_mae, LR_mse, LR_mae, Val_mse, Val_mae = models(x_train, y_train, x_trainScaled, x_test, y_test, x_testScaled, ANN_mse, ANN_mae, CNN_mse, CNN_mae, RF_mse, RF_mae, DT_mse, DT_mae, LR_mse, LR_mae)"
   ]
  },
  {
   "cell_type": "code",
   "execution_count": null,
   "id": "038284b8",
   "metadata": {},
   "outputs": [],
   "source": [
    "M6_mse = M6_mse + Val_mse\n",
    "M6_mae = M6_mae + Val_mae\n",
    "\n",
    "W_mse = W_mse + Val_mse\n",
    "W_mae = W_mae + Val_mae"
   ]
  },
  {
   "cell_type": "code",
   "execution_count": null,
   "id": "45daa6d2",
   "metadata": {},
   "outputs": [],
   "source": [
    "M6Count = M6Count + 1\n",
    "WCount = WCount + 1"
   ]
  },
  {
   "cell_type": "markdown",
   "id": "110bb1f8",
   "metadata": {},
   "source": [
    "Mean squared error from neural net: \n",
    " 332.8988342285156\n",
    "\n",
    "Mean absolute error from neural net: \n",
    " 10.70800495147705\n",
    "\n",
    "Mean squared error using decision tree:  284.55755099999993\n",
    "\n",
    "Mean absolute error using decision tree:  13.3385"
   ]
  },
  {
   "cell_type": "markdown",
   "id": "3cb7df3a",
   "metadata": {},
   "source": [
    "# Space CA-511"
   ]
  },
  {
   "cell_type": "markdown",
   "id": "4393d84d",
   "metadata": {},
   "source": [
    "# 1 month of training data to predict the demand of 1 space for 1 day"
   ]
  },
  {
   "cell_type": "code",
   "execution_count": null,
   "id": "b2249830",
   "metadata": {},
   "outputs": [],
   "source": [
    "train = DataFrameDict['CA-511'].loc[DataFrameDict['CA-511']['connectionTime_year'] == 2018]\n",
    "train = train.loc[train['connectionTime_month'] == 9]"
   ]
  },
  {
   "cell_type": "code",
   "execution_count": null,
   "id": "eed376fd",
   "metadata": {},
   "outputs": [],
   "source": [
    "test = DataFrameDict['CA-511'].loc[DataFrameDict['CA-511']['connectionTime_year'] == 2018]\n",
    "test = test.loc[test['connectionTime_month'] == 10]\n",
    "test = test.loc[test['connectionTime_day'] == 1]"
   ]
  },
  {
   "cell_type": "code",
   "execution_count": null,
   "id": "076eca81",
   "metadata": {},
   "outputs": [],
   "source": [
    "y_train = train['kWhDelivered']\n",
    "x_train = train.drop('kWhDelivered', axis=1)\n",
    "x_train = singleNumeric(x_train)\n",
    "y_train = singleNumeric(y_train)\n",
    "x_trainScaled = scaleData(x_train)"
   ]
  },
  {
   "cell_type": "code",
   "execution_count": null,
   "id": "9f7c5f01",
   "metadata": {},
   "outputs": [],
   "source": [
    "y_test = test['kWhDelivered']\n",
    "x_test = test.drop('kWhDelivered', axis=1)\n",
    "x_test = singleNumeric(x_test)\n",
    "y_test = singleNumeric(y_test)\n",
    "x_testScaled = scaleData(x_test)"
   ]
  },
  {
   "cell_type": "code",
   "execution_count": null,
   "id": "2b7301dc",
   "metadata": {
    "scrolled": true
   },
   "outputs": [],
   "source": [
    "ANN_mse, ANN_mae, CNN_mse, CNN_mae, RF_mse, RF_mae, DT_mse, DT_mae, LR_mse, LR_mae, Val_mse, Val_mae = models(x_train, y_train, x_trainScaled, x_test, y_test, x_testScaled, ANN_mse, ANN_mae, CNN_mse, CNN_mae, RF_mse, RF_mae, DT_mse, DT_mae, LR_mse, LR_mae)"
   ]
  },
  {
   "cell_type": "code",
   "execution_count": null,
   "id": "228ce653",
   "metadata": {},
   "outputs": [],
   "source": [
    "M1_mse = M1_mse + Val_mse\n",
    "M1_mae = M1_mae + Val_mae\n",
    "\n",
    "D_mse = D_mse + Val_mse\n",
    "D_mae = D_mae + Val_mae"
   ]
  },
  {
   "cell_type": "code",
   "execution_count": null,
   "id": "b28051f9",
   "metadata": {
    "scrolled": false
   },
   "outputs": [],
   "source": [
    "M1Count = M1Count + 1\n",
    "DCount = DCount + 1"
   ]
  },
  {
   "cell_type": "markdown",
   "id": "2409757d",
   "metadata": {},
   "source": [
    "Mean squared error from neural net: \n",
    " 22.274343490600586\n",
    "\n",
    "Mean absolute error from neural net: \n",
    " 4.468023300170898\n",
    "\n",
    " Mean squared error using decision tree:  27.891446999999996\n",
    "\n",
    "Mean absolute error using decision tree:  4.433666666666666"
   ]
  },
  {
   "cell_type": "markdown",
   "id": "56fb1c08",
   "metadata": {},
   "source": [
    "# 1 Month to predict 1 week"
   ]
  },
  {
   "cell_type": "code",
   "execution_count": null,
   "id": "c30ce2d2",
   "metadata": {},
   "outputs": [],
   "source": [
    "train = DataFrameDict['CA-511'].loc[DataFrameDict['CA-511']['connectionTime_year'] == 2018]\n",
    "train = train.loc[train['connectionTime_month'] == 9]"
   ]
  },
  {
   "cell_type": "code",
   "execution_count": null,
   "id": "f1875cdc",
   "metadata": {
    "scrolled": true
   },
   "outputs": [],
   "source": [
    "test = DataFrameDict['CA-511'].loc[DataFrameDict['CA-511']['connectionTime_year'] == 2018]\n",
    "test = test.loc[test['connectionTime_month'] == 10]\n",
    "test = test.loc[test['connectionTime_day'].isin([1,2,3,4,5,6,7])]"
   ]
  },
  {
   "cell_type": "code",
   "execution_count": null,
   "id": "1d70fb36",
   "metadata": {},
   "outputs": [],
   "source": [
    "y_train = train['kWhDelivered']\n",
    "x_train = train.drop('kWhDelivered', axis=1)\n",
    "x_train = singleNumeric(x_train)\n",
    "y_train = singleNumeric(y_train)\n",
    "x_trainScaled = scaleData(x_train)"
   ]
  },
  {
   "cell_type": "code",
   "execution_count": null,
   "id": "bda1c53e",
   "metadata": {},
   "outputs": [],
   "source": [
    "y_test = test['kWhDelivered']\n",
    "x_test = test.drop('kWhDelivered', axis=1)\n",
    "x_test = singleNumeric(x_test)\n",
    "y_test = singleNumeric(y_test)\n",
    "x_testScaled = scaleData(x_test)"
   ]
  },
  {
   "cell_type": "code",
   "execution_count": null,
   "id": "ca158538",
   "metadata": {
    "scrolled": true
   },
   "outputs": [],
   "source": [
    "ANN_mse, ANN_mae, CNN_mse, CNN_mae, RF_mse, RF_mae, DT_mse, DT_mae, LR_mse, LR_mae, Val_mse, Val_mae = models(x_train, y_train, x_trainScaled, x_test, y_test, x_testScaled, ANN_mse, ANN_mae, CNN_mse, CNN_mae, RF_mse, RF_mae, DT_mse, DT_mae, LR_mse, LR_mae)"
   ]
  },
  {
   "cell_type": "code",
   "execution_count": null,
   "id": "69b2702c",
   "metadata": {},
   "outputs": [],
   "source": [
    "M1_mse = M1_mse + Val_mse\n",
    "M1_mae = M1_mae + Val_mae\n",
    "\n",
    "W_mse = W_mse + Val_mse\n",
    "W_mae = W_mae + Val_mae"
   ]
  },
  {
   "cell_type": "code",
   "execution_count": null,
   "id": "07bc0598",
   "metadata": {},
   "outputs": [],
   "source": [
    "M1Count = M1Count + 1\n",
    "WCount = WCount + 1"
   ]
  },
  {
   "cell_type": "markdown",
   "id": "30fadcfd",
   "metadata": {},
   "source": [
    "Mean squared error from neural net: \n",
    " 16.70981216430664\n",
    "\n",
    "Mean absolute error from neural net: \n",
    " 3.279749631881714\n",
    "\n",
    " \n",
    "Mean squared error from linear regression:  33.69077866010826\n",
    "\n",
    "Mean absolute error from linear regression:  4.493740802610845"
   ]
  },
  {
   "cell_type": "markdown",
   "id": "3a270638",
   "metadata": {},
   "source": [
    "# 6 Month training 1 week predicition"
   ]
  },
  {
   "cell_type": "code",
   "execution_count": null,
   "id": "71aa6989",
   "metadata": {
    "scrolled": true
   },
   "outputs": [],
   "source": [
    "train = DataFrameDict['CA-511'].loc[DataFrameDict['CA-511']['connectionTime_year'] == 2018]\n",
    "\n",
    "train = train.loc[train['connectionTime_month'].isin([4,5,6,7,8,9])]"
   ]
  },
  {
   "cell_type": "code",
   "execution_count": null,
   "id": "420bfd3c",
   "metadata": {},
   "outputs": [],
   "source": [
    "test = DataFrameDict['CA-511'].loc[DataFrameDict['CA-511']['connectionTime_year'] == 2018]\n",
    "test = test.loc[test['connectionTime_month'] == 10]\n",
    "test = test.loc[test['connectionTime_day'].isin([1,2,3,4,5,6,7])]"
   ]
  },
  {
   "cell_type": "code",
   "execution_count": null,
   "id": "1032aeee",
   "metadata": {},
   "outputs": [],
   "source": [
    "y_train = train['kWhDelivered']\n",
    "x_train = train.drop('kWhDelivered', axis=1)\n",
    "x_train = singleNumeric(x_train)\n",
    "y_train = singleNumeric(y_train)\n",
    "x_trainScaled = scaleData(x_train)"
   ]
  },
  {
   "cell_type": "code",
   "execution_count": null,
   "id": "d084542c",
   "metadata": {},
   "outputs": [],
   "source": [
    "y_test = test['kWhDelivered']\n",
    "x_test = test.drop('kWhDelivered', axis=1)\n",
    "x_test = singleNumeric(x_test)\n",
    "y_test = singleNumeric(y_test)\n",
    "x_testScaled = scaleData(x_test)"
   ]
  },
  {
   "cell_type": "code",
   "execution_count": null,
   "id": "18cec66c",
   "metadata": {
    "scrolled": true
   },
   "outputs": [],
   "source": [
    "ANN_mse, ANN_mae, CNN_mse, CNN_mae, RF_mse, RF_mae, DT_mse, DT_mae, LR_mse, LR_mae, Val_mse, Val_mae = models(x_train, y_train, x_trainScaled, x_test, y_test, x_testScaled, ANN_mse, ANN_mae, CNN_mse, CNN_mae, RF_mse, RF_mae, DT_mse, DT_mae, LR_mse, LR_mae)"
   ]
  },
  {
   "cell_type": "code",
   "execution_count": null,
   "id": "dadd9b76",
   "metadata": {},
   "outputs": [],
   "source": [
    "M6_mse = M6_mse + Val_mse\n",
    "M6_mae = M6_mae + Val_mae\n",
    "\n",
    "W_mse = W_mse + Val_mse\n",
    "W_mae = W_mae + Val_mae"
   ]
  },
  {
   "cell_type": "code",
   "execution_count": null,
   "id": "2d85c639",
   "metadata": {},
   "outputs": [],
   "source": [
    "M6Count = M6Count + 1\n",
    "WCount = WCount + 1"
   ]
  },
  {
   "cell_type": "markdown",
   "id": "9382ea2e",
   "metadata": {},
   "source": [
    "Mean squared error from neural net: \n",
    " 13.738385200500488\n",
    "\n",
    "Mean absolute error from neural net: \n",
    " 3.272716522216797\n",
    "\n",
    " \n",
    "Mean squared error using Random Forest:  42.1449649392832\n",
    "\n",
    "Mean absolute error Using Random Forest:  4.5062983333333255"
   ]
  },
  {
   "cell_type": "markdown",
   "id": "cab08898",
   "metadata": {},
   "source": [
    "# Overall for Individual Spaces\n",
    "\n",
    "When ran on the 33 different DataFrames the following models occured:\n",
    "\n",
    "Sequential Neural Network: 20 Times\n",
    "\n",
    "Convolutional Neural Network: 6 Times\n",
    "\n",
    "Linear Regression: 9 Times\n",
    "\n",
    "Decision Tree: 13 Times\n",
    "\n",
    "Random Forest: 18 Times\n",
    "\n",
    "# General\n",
    "\n",
    "Some scores are extremely low such as:\n",
    "\n",
    "Space 506\n",
    "\n",
    "1 Month 1 Day\n",
    "\n",
    "Mean squared error using decision tree:  0.3528360000000014\n",
    "\n",
    "Mean absolute error using decision tree:  0.5940000000000012\n",
    "\n",
    "Mean squared error using Random Forest:  0.4361281600000201\n",
    "\n",
    "Mean absolute error Using Random Forest:  0.6604000000000152\n",
    "\n",
    "I think this is a sign of underfitting and there not being enough data for some spaces to accurately create a model. However some scores are more reasonable and still more accurate than for all the spaces, I believe in some cases indivual space predicitions are possible and can have value due to their improved accuracy."
   ]
  },
  {
   "cell_type": "code",
   "execution_count": null,
   "id": "4290a4d4",
   "metadata": {
    "scrolled": false
   },
   "outputs": [],
   "source": [
    "# return the totals for mean square and absolute error for each of the models examined\n",
    "\n",
    "print(\"Totals \\n\",\n",
    "      \"ANN_mse: \", ANN_mse, \" ANN_mae: \", ANN_mae, \"\\n CNN_mse: \", CNN_mse,\n",
    "      \" CNN_mae: \", CNN_mae, \"\\n RF_mse: \", RF_mse, \" RF_mae: \", RF_mae,\n",
    "      \"\\n DT_mse: \", DT_mse, \"DT_mae, \", DT_mae,\n",
    "      \"\\n LR_mse: \", LR_mse, \"LR_mae: \", LR_mae)\n",
    "\n",
    "# return the mean for mean square and absolute error for each of the models examined\n",
    "print(\"\\n\\nAverages \\n\",\n",
    "      \"ANN_mse: \", ANN_mse/33, \" ANN_mae: \", ANN_mae/33, \"\\n CNN_mse: \", \n",
    "      CNN_mse/33, \" CNN_mae: \", CNN_mae/33, \"\\nRF_mse: \", RF_mse/33,\n",
    "      \" RF_mae: \", RF_mae/33, \"\\nDT_mse: \", DT_mse/33,\n",
    "      \"DT_mae, \", DT_mae/33, \"\\n LR_mse: \", LR_mse/33, \"LR_mae: \", LR_mae/33)"
   ]
  },
  {
   "cell_type": "code",
   "execution_count": null,
   "id": "1c99891e",
   "metadata": {
    "scrolled": true
   },
   "outputs": [],
   "source": [
    "# return the mean for mean square and absolute error for each testing and training time frame examined\n",
    "\n",
    "print(\"\\n\\nAverages \\n\",\n",
    "      \"Training:\\n\",\n",
    "      \"1 Month mse: \", M1_mse/M1Count, \"1 Month mae: \", M1_mae/M1Count,\n",
    "      \"\\n 6 Month mse: \", M6_mse/M6Count, \"6 Month mae: \", M6_mae/M6Count,\n",
    "      \n",
    "      \"\\n\\nTesting\\n\",\n",
    "      \"1 Day mse: \", D_mse/DCount, \"1 Day mae: \", D_mae/DCount,\n",
    "      \"\\n1 Week mse: \", W_mse/WCount, \"1 Week mae: \", W_mae/WCOUNT,\n",
    "     )"
   ]
  },
  {
   "cell_type": "markdown",
   "id": "95dceb19",
   "metadata": {},
   "source": [
    "# Overall"
   ]
  },
  {
   "cell_type": "markdown",
   "id": "b29b1069",
   "metadata": {},
   "source": [
    "The sequential Neural Network was most often the most effective at creating predicitons.\n",
    "\n",
    "The models were more effective when data was reduced to predict on a single spaces demand"
   ]
  }
 ],
 "metadata": {
  "kernelspec": {
   "display_name": "Python 3",
   "language": "python",
   "name": "python3"
  },
  "language_info": {
   "codemirror_mode": {
    "name": "ipython",
    "version": 3
   },
   "file_extension": ".py",
   "mimetype": "text/x-python",
   "name": "python",
   "nbconvert_exporter": "python",
   "pygments_lexer": "ipython3",
   "version": "3.8.8"
  }
 },
 "nbformat": 4,
 "nbformat_minor": 5
}
